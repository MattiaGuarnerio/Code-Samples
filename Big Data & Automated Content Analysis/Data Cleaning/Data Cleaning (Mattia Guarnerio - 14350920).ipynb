{
 "cells": [
  {
   "cell_type": "markdown",
   "id": "785bbf21",
   "metadata": {},
   "source": [
    "# White Noise: Data Cleaning\n",
    "\n",
    "## 1. Explaining the Problem\n",
    "\n",
    "To start, I visually inspect the `bill_summaries_house.jsonl` and `bill_summaries_senate.jsonl` files. They respectively contain 13956, and 7846, lines of `text`, one for each document - i.e., bill - written down in a .JSON-like - i.e., dictionary-like - structure. Each row contains identifiers for the bill itself - i.e., `bill_number` - the bill's Congress number - i.e., `congress`, the Congress mandate in which the bill was proposed - and the bill's type - i.e., `bill_type`, which indicates whether the bill was originally introduced in the House of Representatives, or in the Senate. The bill summaries were probably scraped by the `api.congress.gov` developers, so they are still dirty with HTML boilerplates - i.e., tags, and character escapes.\n",
    "\n",
    "The prospective steps for this data cleaning procedure are quite straightforward. First, I must re-structure the `.jsonl` data into a cleaning-friendly format - i.e., a `pandas` `DataFrame`. Second, I must join the data for the House and the Senate in a single data set. Third, I must pre-process the summaries contained in the `text` column to remove HTML tags and boilerplates. I decide to pre-process the data before the Supervised Machine Learning procedure because I want to get a clearer view of the texts when manually labelling them. Lastly, I must re-shuffle and save the `DataFrame` into three separate `.csv` files: one with the documents I will manually label - i.e., `summary_labelled.csv` - one with the documents on which I will make predictions with my best trained classifier - `summary_unlabelled.csv` - and one with all documents, to keep a unique backup in case something happens."
   ]
  },
  {
   "cell_type": "code",
   "execution_count": 1,
   "id": "afd8df3d",
   "metadata": {},
   "outputs": [],
   "source": [
    "# Packages for handling .jsonl and .csv files\n",
    "import jsonlines\n",
    "import csv\n",
    "\n",
    "# Package for data cleaning\n",
    "import pandas as pd"
   ]
  },
  {
   "cell_type": "markdown",
   "id": "6918a3fc",
   "metadata": {},
   "source": [
    "## 2. Unpacking Pandora's Box\n",
    "\n",
    "I start by re-structuring the data regarding House bills into a `DataFrame` object."
   ]
  },
  {
   "cell_type": "code",
   "execution_count": 2,
   "id": "189abac4",
   "metadata": {},
   "outputs": [],
   "source": [
    "# I first create an empty list to store all lines from the \"bill_summaries_house.jsonl\" file\n",
    "house_summaries = []\n",
    "\n",
    "# I open the .jsonl file, and read it with the following helper function\n",
    "with jsonlines.open(\"bill_summaries_house.jsonl\") as r:\n",
    "    \n",
    "    # I loop over each line...\n",
    "    for line in r:\n",
    "        \n",
    "        # ...and I append it to the originally empty list!\n",
    "        house_summaries.append(line)\n",
    "\n",
    "# I now turn the list of lines - i.e., dictionaries - into a pandas DataFrame object\n",
    "d_house = pd.DataFrame(house_summaries)"
   ]
  },
  {
   "cell_type": "code",
   "execution_count": 3,
   "id": "572682ee",
   "metadata": {
    "scrolled": true
   },
   "outputs": [
    {
     "data": {
      "text/html": [
       "<div>\n",
       "<style scoped>\n",
       "    .dataframe tbody tr th:only-of-type {\n",
       "        vertical-align: middle;\n",
       "    }\n",
       "\n",
       "    .dataframe tbody tr th {\n",
       "        vertical-align: top;\n",
       "    }\n",
       "\n",
       "    .dataframe thead th {\n",
       "        text-align: right;\n",
       "    }\n",
       "</style>\n",
       "<table border=\"1\" class=\"dataframe\">\n",
       "  <thead>\n",
       "    <tr style=\"text-align: right;\">\n",
       "      <th></th>\n",
       "      <th>congress</th>\n",
       "      <th>bill_number</th>\n",
       "      <th>bill_type</th>\n",
       "      <th>text</th>\n",
       "    </tr>\n",
       "  </thead>\n",
       "  <tbody>\n",
       "    <tr>\n",
       "      <th>0</th>\n",
       "      <td>111</td>\n",
       "      <td>6523</td>\n",
       "      <td>hr</td>\n",
       "      <td>&lt;p&gt;Ike Skelton National Defense Authorization...</td>\n",
       "    </tr>\n",
       "    <tr>\n",
       "      <th>1</th>\n",
       "      <td>111</td>\n",
       "      <td>6561</td>\n",
       "      <td>hr</td>\n",
       "      <td>&lt;p&gt;History Is Learned from the Living Act - E...</td>\n",
       "    </tr>\n",
       "    <tr>\n",
       "      <th>2</th>\n",
       "      <td>111</td>\n",
       "      <td>81</td>\n",
       "      <td>hr</td>\n",
       "      <td>&lt;p&gt;&lt;/p&gt; &lt;p&gt;Shark Conservation Act of 2009 - A...</td>\n",
       "    </tr>\n",
       "    <tr>\n",
       "      <th>3</th>\n",
       "      <td>111</td>\n",
       "      <td>6533</td>\n",
       "      <td>hr</td>\n",
       "      <td>&lt;p&gt;Local Community Radio Act of 2010 - Amends...</td>\n",
       "    </tr>\n",
       "    <tr>\n",
       "      <th>4</th>\n",
       "      <td>111</td>\n",
       "      <td>6510</td>\n",
       "      <td>hr</td>\n",
       "      <td>&lt;p&gt;Directs the Administrator of General Servi...</td>\n",
       "    </tr>\n",
       "  </tbody>\n",
       "</table>\n",
       "</div>"
      ],
      "text/plain": [
       "  congress bill_number bill_type  \\\n",
       "0      111        6523        hr   \n",
       "1      111        6561        hr   \n",
       "2      111          81        hr   \n",
       "3      111        6533        hr   \n",
       "4      111        6510        hr   \n",
       "\n",
       "                                                text  \n",
       "0   <p>Ike Skelton National Defense Authorization...  \n",
       "1   <p>History Is Learned from the Living Act - E...  \n",
       "2   <p></p> <p>Shark Conservation Act of 2009 - A...  \n",
       "3   <p>Local Community Radio Act of 2010 - Amends...  \n",
       "4   <p>Directs the Administrator of General Servi...  "
      ]
     },
     "execution_count": 3,
     "metadata": {},
     "output_type": "execute_result"
    }
   ],
   "source": [
    "# I check the first few lines of the dataset to assess if this cleaning step went smoothly\n",
    "\n",
    "d_house.head()"
   ]
  },
  {
   "cell_type": "code",
   "execution_count": 4,
   "id": "4b6d060f",
   "metadata": {},
   "outputs": [
    {
     "data": {
      "text/html": [
       "<div>\n",
       "<style scoped>\n",
       "    .dataframe tbody tr th:only-of-type {\n",
       "        vertical-align: middle;\n",
       "    }\n",
       "\n",
       "    .dataframe tbody tr th {\n",
       "        vertical-align: top;\n",
       "    }\n",
       "\n",
       "    .dataframe thead th {\n",
       "        text-align: right;\n",
       "    }\n",
       "</style>\n",
       "<table border=\"1\" class=\"dataframe\">\n",
       "  <thead>\n",
       "    <tr style=\"text-align: right;\">\n",
       "      <th></th>\n",
       "      <th>congress</th>\n",
       "      <th>bill_number</th>\n",
       "      <th>bill_type</th>\n",
       "      <th>text</th>\n",
       "    </tr>\n",
       "  </thead>\n",
       "  <tbody>\n",
       "    <tr>\n",
       "      <th>13951</th>\n",
       "      <td>115</td>\n",
       "      <td>123</td>\n",
       "      <td>hr</td>\n",
       "      <td>&lt;p&gt;&lt;b&gt;FHA Alternative Credit Pilot Program Re...</td>\n",
       "    </tr>\n",
       "    <tr>\n",
       "      <th>13952</th>\n",
       "      <td>115</td>\n",
       "      <td>152</td>\n",
       "      <td>hr</td>\n",
       "      <td>&lt;p&gt;&lt;b&gt;Prince Hall Freemasonry Stamp Act&lt;/b&gt;&lt;/...</td>\n",
       "    </tr>\n",
       "    <tr>\n",
       "      <th>13953</th>\n",
       "      <td>115</td>\n",
       "      <td>149</td>\n",
       "      <td>hr</td>\n",
       "      <td>&lt;p&gt;&lt;b&gt;Veterans, Women, Families with Children...</td>\n",
       "    </tr>\n",
       "    <tr>\n",
       "      <th>13954</th>\n",
       "      <td>115</td>\n",
       "      <td>125</td>\n",
       "      <td>hr</td>\n",
       "      <td>&lt;p&gt;&lt;b&gt;FHA In-Person Servicing Improvement Act...</td>\n",
       "    </tr>\n",
       "    <tr>\n",
       "      <th>13955</th>\n",
       "      <td>115</td>\n",
       "      <td>122</td>\n",
       "      <td>hr</td>\n",
       "      <td>&lt;p&gt;&lt;b&gt;Original Living Wage Act of 2017&lt;/b&gt;&lt;/p...</td>\n",
       "    </tr>\n",
       "  </tbody>\n",
       "</table>\n",
       "</div>"
      ],
      "text/plain": [
       "      congress bill_number bill_type  \\\n",
       "13951      115         123        hr   \n",
       "13952      115         152        hr   \n",
       "13953      115         149        hr   \n",
       "13954      115         125        hr   \n",
       "13955      115         122        hr   \n",
       "\n",
       "                                                    text  \n",
       "13951   <p><b>FHA Alternative Credit Pilot Program Re...  \n",
       "13952   <p><b>Prince Hall Freemasonry Stamp Act</b></...  \n",
       "13953   <p><b>Veterans, Women, Families with Children...  \n",
       "13954   <p><b>FHA In-Person Servicing Improvement Act...  \n",
       "13955   <p><b>Original Living Wage Act of 2017</b></p...  "
      ]
     },
     "execution_count": 4,
     "metadata": {},
     "output_type": "execute_result"
    }
   ],
   "source": [
    "# I check the last few lines of the dataset to assess if this cleaning step went smoothly\n",
    "\n",
    "d_house.tail()"
   ]
  },
  {
   "cell_type": "code",
   "execution_count": 5,
   "id": "41c8eb88",
   "metadata": {},
   "outputs": [
    {
     "data": {
      "text/plain": [
       "(13956, 4)"
      ]
     },
     "execution_count": 5,
     "metadata": {},
     "output_type": "execute_result"
    }
   ],
   "source": [
    "# I check the DataFrame object's shape to assess if this cleaning step went smoothly\n",
    "\n",
    "d_house.shape"
   ]
  },
  {
   "cell_type": "markdown",
   "id": "7d36ad9d",
   "metadata": {},
   "source": [
    "I have 13956 rows - i.e., House bills - and four columns - i.e., identifiers, and texts - into the `DataFrame` object. It appears everything went perfectly! Now, I turn to the data concerning Senate bills."
   ]
  },
  {
   "cell_type": "code",
   "execution_count": 6,
   "id": "9fd5f7d9",
   "metadata": {},
   "outputs": [],
   "source": [
    "# I first create an empty list to store all lines from the \"bill_summaries_senate.jsonl\" file\n",
    "senate_summaries = []\n",
    "\n",
    "# I open the .jsonl file, and read it with the following helper function\n",
    "with jsonlines.open(\"bill_summaries_senate.jsonl\") as r:\n",
    "    \n",
    "    # I loop over each line...\n",
    "    for line in r:\n",
    "        \n",
    "        # ...and I append it to the originally empty list!\n",
    "        senate_summaries.append(line)\n",
    "\n",
    "# I now turn the list of lines - i.e., dictionaries - into a pandas DataFrame object\n",
    "d_senate = pd.DataFrame(senate_summaries)"
   ]
  },
  {
   "cell_type": "code",
   "execution_count": 7,
   "id": "1a187be6",
   "metadata": {},
   "outputs": [
    {
     "data": {
      "text/html": [
       "<div>\n",
       "<style scoped>\n",
       "    .dataframe tbody tr th:only-of-type {\n",
       "        vertical-align: middle;\n",
       "    }\n",
       "\n",
       "    .dataframe tbody tr th {\n",
       "        vertical-align: top;\n",
       "    }\n",
       "\n",
       "    .dataframe thead th {\n",
       "        text-align: right;\n",
       "    }\n",
       "</style>\n",
       "<table border=\"1\" class=\"dataframe\">\n",
       "  <thead>\n",
       "    <tr style=\"text-align: right;\">\n",
       "      <th></th>\n",
       "      <th>congress</th>\n",
       "      <th>bill_number</th>\n",
       "      <th>bill_type</th>\n",
       "      <th>text</th>\n",
       "    </tr>\n",
       "  </thead>\n",
       "  <tbody>\n",
       "    <tr>\n",
       "      <th>0</th>\n",
       "      <td>111</td>\n",
       "      <td>841</td>\n",
       "      <td>s</td>\n",
       "      <td>&lt;p&gt;Pedestrian Safety Enhancement Act of 2009 ...</td>\n",
       "    </tr>\n",
       "    <tr>\n",
       "      <th>1</th>\n",
       "      <td>111</td>\n",
       "      <td>4036</td>\n",
       "      <td>s</td>\n",
       "      <td>&lt;p&gt;Amends the Federal Credit Union Act regard...</td>\n",
       "    </tr>\n",
       "    <tr>\n",
       "      <th>2</th>\n",
       "      <td>111</td>\n",
       "      <td>3903</td>\n",
       "      <td>s</td>\n",
       "      <td>&lt;p&gt;Permits land held in trust for the Ohkay O...</td>\n",
       "    </tr>\n",
       "    <tr>\n",
       "      <th>3</th>\n",
       "      <td>111</td>\n",
       "      <td>3874</td>\n",
       "      <td>s</td>\n",
       "      <td>&lt;p&gt;Reduction of Lead in Drinking Water Act- A...</td>\n",
       "    </tr>\n",
       "    <tr>\n",
       "      <th>4</th>\n",
       "      <td>111</td>\n",
       "      <td>3592</td>\n",
       "      <td>s</td>\n",
       "      <td>Designates the facility of the United States P...</td>\n",
       "    </tr>\n",
       "  </tbody>\n",
       "</table>\n",
       "</div>"
      ],
      "text/plain": [
       "  congress bill_number bill_type  \\\n",
       "0      111         841         s   \n",
       "1      111        4036         s   \n",
       "2      111        3903         s   \n",
       "3      111        3874         s   \n",
       "4      111        3592         s   \n",
       "\n",
       "                                                text  \n",
       "0   <p>Pedestrian Safety Enhancement Act of 2009 ...  \n",
       "1   <p>Amends the Federal Credit Union Act regard...  \n",
       "2   <p>Permits land held in trust for the Ohkay O...  \n",
       "3   <p>Reduction of Lead in Drinking Water Act- A...  \n",
       "4  Designates the facility of the United States P...  "
      ]
     },
     "execution_count": 7,
     "metadata": {},
     "output_type": "execute_result"
    }
   ],
   "source": [
    "# I check the first few lines of the dataset to assess if this cleaning step went smoothly\n",
    "\n",
    "d_senate.head()"
   ]
  },
  {
   "cell_type": "code",
   "execution_count": 8,
   "id": "3b632b78",
   "metadata": {},
   "outputs": [
    {
     "data": {
      "text/html": [
       "<div>\n",
       "<style scoped>\n",
       "    .dataframe tbody tr th:only-of-type {\n",
       "        vertical-align: middle;\n",
       "    }\n",
       "\n",
       "    .dataframe tbody tr th {\n",
       "        vertical-align: top;\n",
       "    }\n",
       "\n",
       "    .dataframe thead th {\n",
       "        text-align: right;\n",
       "    }\n",
       "</style>\n",
       "<table border=\"1\" class=\"dataframe\">\n",
       "  <thead>\n",
       "    <tr style=\"text-align: right;\">\n",
       "      <th></th>\n",
       "      <th>congress</th>\n",
       "      <th>bill_number</th>\n",
       "      <th>bill_type</th>\n",
       "      <th>text</th>\n",
       "    </tr>\n",
       "  </thead>\n",
       "  <tbody>\n",
       "    <tr>\n",
       "      <th>7859</th>\n",
       "      <td>115</td>\n",
       "      <td>15</td>\n",
       "      <td>s</td>\n",
       "      <td>&lt;p&gt;&lt;strong&gt;Iran Ballistic Missile Sanctions A...</td>\n",
       "    </tr>\n",
       "    <tr>\n",
       "      <th>7860</th>\n",
       "      <td>115</td>\n",
       "      <td>16</td>\n",
       "      <td>s</td>\n",
       "      <td>&lt;p&gt;&lt;b&gt;Federal Reserve Transparency Act of 201...</td>\n",
       "    </tr>\n",
       "    <tr>\n",
       "      <th>7861</th>\n",
       "      <td>115</td>\n",
       "      <td>14</td>\n",
       "      <td>s</td>\n",
       "      <td>&lt;p&gt;&lt;b&gt;No Budget, No Pay Act&lt;/b&gt;&lt;/p&gt; &lt;p&gt;This b...</td>\n",
       "    </tr>\n",
       "    <tr>\n",
       "      <th>7862</th>\n",
       "      <td>115</td>\n",
       "      <td>13</td>\n",
       "      <td>s</td>\n",
       "      <td>&lt;p&gt;&lt;b&gt;No Windfalls for Government Service Act...</td>\n",
       "    </tr>\n",
       "    <tr>\n",
       "      <th>7863</th>\n",
       "      <td>115</td>\n",
       "      <td>11</td>\n",
       "      <td>s</td>\n",
       "      <td>&lt;p&gt;&lt;strong&gt;Jerusalem Embassy and Recognition ...</td>\n",
       "    </tr>\n",
       "  </tbody>\n",
       "</table>\n",
       "</div>"
      ],
      "text/plain": [
       "     congress bill_number bill_type  \\\n",
       "7859      115          15         s   \n",
       "7860      115          16         s   \n",
       "7861      115          14         s   \n",
       "7862      115          13         s   \n",
       "7863      115          11         s   \n",
       "\n",
       "                                                   text  \n",
       "7859   <p><strong>Iran Ballistic Missile Sanctions A...  \n",
       "7860   <p><b>Federal Reserve Transparency Act of 201...  \n",
       "7861   <p><b>No Budget, No Pay Act</b></p> <p>This b...  \n",
       "7862   <p><b>No Windfalls for Government Service Act...  \n",
       "7863   <p><strong>Jerusalem Embassy and Recognition ...  "
      ]
     },
     "execution_count": 8,
     "metadata": {},
     "output_type": "execute_result"
    }
   ],
   "source": [
    "# I check the last few lines of the dataset to assess if this cleaning step went smoothly\n",
    "\n",
    "d_senate.tail()"
   ]
  },
  {
   "cell_type": "code",
   "execution_count": 9,
   "id": "f5f041a6",
   "metadata": {},
   "outputs": [
    {
     "data": {
      "text/plain": [
       "(7864, 4)"
      ]
     },
     "execution_count": 9,
     "metadata": {},
     "output_type": "execute_result"
    }
   ],
   "source": [
    "# I check the DataFrame object's shape to assess if this cleaning step went smoothly\n",
    "\n",
    "d_senate.shape"
   ]
  },
  {
   "cell_type": "markdown",
   "id": "9c63e42f",
   "metadata": {},
   "source": [
    "I have 7864 rows - i.e., Senate bills - and four columns - i.e., identifiers, and texts - into the `DataFrame` object. It appears everything went perfectly! Now, I must join the data for the House and the Senate in a single data set.\n",
    "\n",
    "## 3. Joining the Summary Data"
   ]
  },
  {
   "cell_type": "code",
   "execution_count": 10,
   "id": "d32500df",
   "metadata": {},
   "outputs": [],
   "source": [
    "# I concatenate the two DataFrame objects vertically, ignoring their respective indexes because they do not provide any\n",
    "# useful information, by setting \"ignore_index\" argument to \"True\"\n",
    "\n",
    "d_final = pd.concat([d_house, d_senate], ignore_index = True)"
   ]
  },
  {
   "cell_type": "code",
   "execution_count": 11,
   "id": "63f6bff1",
   "metadata": {},
   "outputs": [
    {
     "data": {
      "text/html": [
       "<div>\n",
       "<style scoped>\n",
       "    .dataframe tbody tr th:only-of-type {\n",
       "        vertical-align: middle;\n",
       "    }\n",
       "\n",
       "    .dataframe tbody tr th {\n",
       "        vertical-align: top;\n",
       "    }\n",
       "\n",
       "    .dataframe thead th {\n",
       "        text-align: right;\n",
       "    }\n",
       "</style>\n",
       "<table border=\"1\" class=\"dataframe\">\n",
       "  <thead>\n",
       "    <tr style=\"text-align: right;\">\n",
       "      <th></th>\n",
       "      <th>congress</th>\n",
       "      <th>bill_number</th>\n",
       "      <th>bill_type</th>\n",
       "      <th>text</th>\n",
       "    </tr>\n",
       "  </thead>\n",
       "  <tbody>\n",
       "    <tr>\n",
       "      <th>0</th>\n",
       "      <td>111</td>\n",
       "      <td>6523</td>\n",
       "      <td>hr</td>\n",
       "      <td>&lt;p&gt;Ike Skelton National Defense Authorization...</td>\n",
       "    </tr>\n",
       "    <tr>\n",
       "      <th>1</th>\n",
       "      <td>111</td>\n",
       "      <td>6561</td>\n",
       "      <td>hr</td>\n",
       "      <td>&lt;p&gt;History Is Learned from the Living Act - E...</td>\n",
       "    </tr>\n",
       "    <tr>\n",
       "      <th>2</th>\n",
       "      <td>111</td>\n",
       "      <td>81</td>\n",
       "      <td>hr</td>\n",
       "      <td>&lt;p&gt;&lt;/p&gt; &lt;p&gt;Shark Conservation Act of 2009 - A...</td>\n",
       "    </tr>\n",
       "    <tr>\n",
       "      <th>3</th>\n",
       "      <td>111</td>\n",
       "      <td>6533</td>\n",
       "      <td>hr</td>\n",
       "      <td>&lt;p&gt;Local Community Radio Act of 2010 - Amends...</td>\n",
       "    </tr>\n",
       "    <tr>\n",
       "      <th>4</th>\n",
       "      <td>111</td>\n",
       "      <td>6510</td>\n",
       "      <td>hr</td>\n",
       "      <td>&lt;p&gt;Directs the Administrator of General Servi...</td>\n",
       "    </tr>\n",
       "  </tbody>\n",
       "</table>\n",
       "</div>"
      ],
      "text/plain": [
       "  congress bill_number bill_type  \\\n",
       "0      111        6523        hr   \n",
       "1      111        6561        hr   \n",
       "2      111          81        hr   \n",
       "3      111        6533        hr   \n",
       "4      111        6510        hr   \n",
       "\n",
       "                                                text  \n",
       "0   <p>Ike Skelton National Defense Authorization...  \n",
       "1   <p>History Is Learned from the Living Act - E...  \n",
       "2   <p></p> <p>Shark Conservation Act of 2009 - A...  \n",
       "3   <p>Local Community Radio Act of 2010 - Amends...  \n",
       "4   <p>Directs the Administrator of General Servi...  "
      ]
     },
     "execution_count": 11,
     "metadata": {},
     "output_type": "execute_result"
    }
   ],
   "source": [
    "# I check the first few lines of the dataset to assess if this cleaning step went smoothly\n",
    "\n",
    "d_final.head()"
   ]
  },
  {
   "cell_type": "code",
   "execution_count": 12,
   "id": "89308684",
   "metadata": {},
   "outputs": [
    {
     "data": {
      "text/html": [
       "<div>\n",
       "<style scoped>\n",
       "    .dataframe tbody tr th:only-of-type {\n",
       "        vertical-align: middle;\n",
       "    }\n",
       "\n",
       "    .dataframe tbody tr th {\n",
       "        vertical-align: top;\n",
       "    }\n",
       "\n",
       "    .dataframe thead th {\n",
       "        text-align: right;\n",
       "    }\n",
       "</style>\n",
       "<table border=\"1\" class=\"dataframe\">\n",
       "  <thead>\n",
       "    <tr style=\"text-align: right;\">\n",
       "      <th></th>\n",
       "      <th>congress</th>\n",
       "      <th>bill_number</th>\n",
       "      <th>bill_type</th>\n",
       "      <th>text</th>\n",
       "    </tr>\n",
       "  </thead>\n",
       "  <tbody>\n",
       "    <tr>\n",
       "      <th>21815</th>\n",
       "      <td>115</td>\n",
       "      <td>15</td>\n",
       "      <td>s</td>\n",
       "      <td>&lt;p&gt;&lt;strong&gt;Iran Ballistic Missile Sanctions A...</td>\n",
       "    </tr>\n",
       "    <tr>\n",
       "      <th>21816</th>\n",
       "      <td>115</td>\n",
       "      <td>16</td>\n",
       "      <td>s</td>\n",
       "      <td>&lt;p&gt;&lt;b&gt;Federal Reserve Transparency Act of 201...</td>\n",
       "    </tr>\n",
       "    <tr>\n",
       "      <th>21817</th>\n",
       "      <td>115</td>\n",
       "      <td>14</td>\n",
       "      <td>s</td>\n",
       "      <td>&lt;p&gt;&lt;b&gt;No Budget, No Pay Act&lt;/b&gt;&lt;/p&gt; &lt;p&gt;This b...</td>\n",
       "    </tr>\n",
       "    <tr>\n",
       "      <th>21818</th>\n",
       "      <td>115</td>\n",
       "      <td>13</td>\n",
       "      <td>s</td>\n",
       "      <td>&lt;p&gt;&lt;b&gt;No Windfalls for Government Service Act...</td>\n",
       "    </tr>\n",
       "    <tr>\n",
       "      <th>21819</th>\n",
       "      <td>115</td>\n",
       "      <td>11</td>\n",
       "      <td>s</td>\n",
       "      <td>&lt;p&gt;&lt;strong&gt;Jerusalem Embassy and Recognition ...</td>\n",
       "    </tr>\n",
       "  </tbody>\n",
       "</table>\n",
       "</div>"
      ],
      "text/plain": [
       "      congress bill_number bill_type  \\\n",
       "21815      115          15         s   \n",
       "21816      115          16         s   \n",
       "21817      115          14         s   \n",
       "21818      115          13         s   \n",
       "21819      115          11         s   \n",
       "\n",
       "                                                    text  \n",
       "21815   <p><strong>Iran Ballistic Missile Sanctions A...  \n",
       "21816   <p><b>Federal Reserve Transparency Act of 201...  \n",
       "21817   <p><b>No Budget, No Pay Act</b></p> <p>This b...  \n",
       "21818   <p><b>No Windfalls for Government Service Act...  \n",
       "21819   <p><strong>Jerusalem Embassy and Recognition ...  "
      ]
     },
     "execution_count": 12,
     "metadata": {},
     "output_type": "execute_result"
    }
   ],
   "source": [
    "# I check the last few lines of the dataset to assess if this cleaning step went smoothly\n",
    "\n",
    "d_final.tail()"
   ]
  },
  {
   "cell_type": "code",
   "execution_count": 13,
   "id": "64e08fd2",
   "metadata": {},
   "outputs": [
    {
     "data": {
      "text/plain": [
       "(21820, 4)"
      ]
     },
     "execution_count": 13,
     "metadata": {},
     "output_type": "execute_result"
    }
   ],
   "source": [
    "# I check the DataFrame object's shape to assess if this cleaning step went smoothly\n",
    "\n",
    "d_final.shape"
   ]
  },
  {
   "cell_type": "markdown",
   "id": "0079e61e",
   "metadata": {},
   "source": [
    "I have 21820 rows - i.e., bills - and four columns - i.e., identifiers, and texts - into the `DataFrame` object. It appears everything went perfectly! Now, I must appropriately pre-process the texts to remove the HTML tags and character escapes.\n",
    "\n",
    "## 4. Text Pre-Processing\n",
    "\n",
    "I must greatly thank Wouter van Atteveldt, Damian Trilling, and Carlos Arcila for their regex suggestions to clean up HTML tags and character escapes. The regular expressions I employed were provided in *Chapter 9* of their book (2022), in *Table 9.3: Regular expression syntax in Python and R*, available at the following link: https://cssbook.net/content/chapter09.html#tbl-regexample."
   ]
  },
  {
   "cell_type": "code",
   "execution_count": 14,
   "id": "b964a665",
   "metadata": {},
   "outputs": [],
   "source": [
    "# I remove HTML tags by applying the pandas \".str.replace\" method on the pandas Dataframe's \"text\" column.\n",
    "# More specifically, I effectively replace all HTML tags with a whitespace, to avoid that words get attached and\n",
    "# do not subsequently get recognised during SML training.\n",
    "\n",
    "d_final[\"text\"] = d_final[\"text\"].str.replace(\"</?\\w[^>]*>\", \" \", regex = True)"
   ]
  },
  {
   "cell_type": "code",
   "execution_count": 15,
   "id": "2af802c4",
   "metadata": {},
   "outputs": [],
   "source": [
    "# I remove HTML character escapes by applying the pandas \".str.replace\" method on the pandas Dataframe's \"text\" column.\n",
    "# More specifically, I effectively replace all HTML character escapes with a whitespace, to avoid that words get attached and\n",
    "# do not subsequently get recognised during SML training.\n",
    "\n",
    "d_final[\"text\"] = d_final[\"text\"].str.replace(\"&[^;]+;\", \" \", regex = True)"
   ]
  },
  {
   "cell_type": "code",
   "execution_count": 16,
   "id": "a114eea3",
   "metadata": {},
   "outputs": [
    {
     "data": {
      "text/html": [
       "<div>\n",
       "<style scoped>\n",
       "    .dataframe tbody tr th:only-of-type {\n",
       "        vertical-align: middle;\n",
       "    }\n",
       "\n",
       "    .dataframe tbody tr th {\n",
       "        vertical-align: top;\n",
       "    }\n",
       "\n",
       "    .dataframe thead th {\n",
       "        text-align: right;\n",
       "    }\n",
       "</style>\n",
       "<table border=\"1\" class=\"dataframe\">\n",
       "  <thead>\n",
       "    <tr style=\"text-align: right;\">\n",
       "      <th></th>\n",
       "      <th>congress</th>\n",
       "      <th>bill_number</th>\n",
       "      <th>bill_type</th>\n",
       "      <th>text</th>\n",
       "    </tr>\n",
       "  </thead>\n",
       "  <tbody>\n",
       "    <tr>\n",
       "      <th>0</th>\n",
       "      <td>111</td>\n",
       "      <td>6523</td>\n",
       "      <td>hr</td>\n",
       "      <td>Ike Skelton National Defense Authorization A...</td>\n",
       "    </tr>\n",
       "    <tr>\n",
       "      <th>1</th>\n",
       "      <td>111</td>\n",
       "      <td>6561</td>\n",
       "      <td>hr</td>\n",
       "      <td>History Is Learned from the Living Act - Est...</td>\n",
       "    </tr>\n",
       "    <tr>\n",
       "      <th>2</th>\n",
       "      <td>111</td>\n",
       "      <td>81</td>\n",
       "      <td>hr</td>\n",
       "      <td>Shark Conservation Act of 2009 - Amends t...</td>\n",
       "    </tr>\n",
       "    <tr>\n",
       "      <th>3</th>\n",
       "      <td>111</td>\n",
       "      <td>6533</td>\n",
       "      <td>hr</td>\n",
       "      <td>Local Community Radio Act of 2010 - Amends t...</td>\n",
       "    </tr>\n",
       "    <tr>\n",
       "      <th>4</th>\n",
       "      <td>111</td>\n",
       "      <td>6510</td>\n",
       "      <td>hr</td>\n",
       "      <td>Directs the Administrator of General Service...</td>\n",
       "    </tr>\n",
       "  </tbody>\n",
       "</table>\n",
       "</div>"
      ],
      "text/plain": [
       "  congress bill_number bill_type  \\\n",
       "0      111        6523        hr   \n",
       "1      111        6561        hr   \n",
       "2      111          81        hr   \n",
       "3      111        6533        hr   \n",
       "4      111        6510        hr   \n",
       "\n",
       "                                                text  \n",
       "0    Ike Skelton National Defense Authorization A...  \n",
       "1    History Is Learned from the Living Act - Est...  \n",
       "2       Shark Conservation Act of 2009 - Amends t...  \n",
       "3    Local Community Radio Act of 2010 - Amends t...  \n",
       "4    Directs the Administrator of General Service...  "
      ]
     },
     "execution_count": 16,
     "metadata": {},
     "output_type": "execute_result"
    }
   ],
   "source": [
    "# I check the first few lines of the dataset to assess if this cleaning step went smoothly\n",
    "\n",
    "d_final.head()"
   ]
  },
  {
   "cell_type": "markdown",
   "id": "736e88d6",
   "metadata": {},
   "source": [
    "It seems that the HTML tags were removed, although I am not sure about the HTML character escapes. I will carry out a visual inspection on the final data sets with Notepad++ to make sure this cleaning step went smoothly. On a final note, I do not remove punctuation and apply lowercasing to the summaries, since even the most basic tokenizer can do this automatically.\n",
    "\n",
    "# 5. Shuffling and Saving the Data Set"
   ]
  },
  {
   "cell_type": "code",
   "execution_count": 17,
   "id": "86b3ddd0",
   "metadata": {},
   "outputs": [],
   "source": [
    "# I shuffle the DataFrame object by applying the pandas .sample method and feeding the integer \"1\" to the \"frac\" argument.\n",
    "# \"frac\" stands for \"fraction\", so I effectively instruct the computer to sample the whole data set and shuffle it.\n",
    "# 27 is the \"random_state\" value I often employ in my projects. It's the date of my birthday, for the sake of clarity.\n",
    "\n",
    "d_final = d_final.sample(frac = 1, random_state = 27)"
   ]
  },
  {
   "cell_type": "code",
   "execution_count": 18,
   "id": "8fca0917",
   "metadata": {},
   "outputs": [
    {
     "data": {
      "text/html": [
       "<div>\n",
       "<style scoped>\n",
       "    .dataframe tbody tr th:only-of-type {\n",
       "        vertical-align: middle;\n",
       "    }\n",
       "\n",
       "    .dataframe tbody tr th {\n",
       "        vertical-align: top;\n",
       "    }\n",
       "\n",
       "    .dataframe thead th {\n",
       "        text-align: right;\n",
       "    }\n",
       "</style>\n",
       "<table border=\"1\" class=\"dataframe\">\n",
       "  <thead>\n",
       "    <tr style=\"text-align: right;\">\n",
       "      <th></th>\n",
       "      <th>congress</th>\n",
       "      <th>bill_number</th>\n",
       "      <th>bill_type</th>\n",
       "      <th>text</th>\n",
       "    </tr>\n",
       "  </thead>\n",
       "  <tbody>\n",
       "    <tr>\n",
       "      <th>12905</th>\n",
       "      <td>115</td>\n",
       "      <td>1308</td>\n",
       "      <td>hr</td>\n",
       "      <td>Frank and Jeanne Moore Wild Steelhead Speci...</td>\n",
       "    </tr>\n",
       "    <tr>\n",
       "      <th>10480</th>\n",
       "      <td>115</td>\n",
       "      <td>4105</td>\n",
       "      <td>hr</td>\n",
       "      <td>This bill extends funding through FY2022 for...</td>\n",
       "    </tr>\n",
       "    <tr>\n",
       "      <th>18266</th>\n",
       "      <td>115</td>\n",
       "      <td>3691</td>\n",
       "      <td>s</td>\n",
       "      <td>Expanding Transparency of Information and S...</td>\n",
       "    </tr>\n",
       "    <tr>\n",
       "      <th>5127</th>\n",
       "      <td>111</td>\n",
       "      <td>1994</td>\n",
       "      <td>hr</td>\n",
       "      <td>Citizen Soldier Equality Act of 2009 - Requi...</td>\n",
       "    </tr>\n",
       "    <tr>\n",
       "      <th>6103</th>\n",
       "      <td>111</td>\n",
       "      <td>883</td>\n",
       "      <td>hr</td>\n",
       "      <td>Amends the Internal Revenue Code to repeal, e...</td>\n",
       "    </tr>\n",
       "  </tbody>\n",
       "</table>\n",
       "</div>"
      ],
      "text/plain": [
       "      congress bill_number bill_type  \\\n",
       "12905      115        1308        hr   \n",
       "10480      115        4105        hr   \n",
       "18266      115        3691         s   \n",
       "5127       111        1994        hr   \n",
       "6103       111         883        hr   \n",
       "\n",
       "                                                    text  \n",
       "12905     Frank and Jeanne Moore Wild Steelhead Speci...  \n",
       "10480    This bill extends funding through FY2022 for...  \n",
       "18266     Expanding Transparency of Information and S...  \n",
       "5127     Citizen Soldier Equality Act of 2009 - Requi...  \n",
       "6103    Amends the Internal Revenue Code to repeal, e...  "
      ]
     },
     "execution_count": 18,
     "metadata": {},
     "output_type": "execute_result"
    }
   ],
   "source": [
    "# I check the first few lines of the dataset to assess if this cleaning step went smoothly\n",
    "\n",
    "d_final.head()"
   ]
  },
  {
   "cell_type": "markdown",
   "id": "a659e19d",
   "metadata": {},
   "source": [
    "It seems that the data set was correctly shuffled, as indicated by the inconsistent index numbers and the presence of both House and Senate bills - i.e., `bill_type` - in the first few rows of the `DataFrame` object. As a final step, I slice the `DataFrame` object into two `.csv` files: `summary_labelled.csv`, and `summary_unlabelled.csv`. I will manually label all summaries contained in the former, taking 2200 documents as my training, validating, and testing sample, which constitutes approximatively 10% of all bills. There is not a lot of variation among these summaries, since they appear to be written and structured quite uniformly, so I deem this sub-sample to be sufficient for Supervised Machine Learning. I keep an additional data set with all documents as a backup."
   ]
  },
  {
   "cell_type": "code",
   "execution_count": 19,
   "id": "07cdaff1",
   "metadata": {},
   "outputs": [],
   "source": [
    "# I save a backup of the whole data set as \"summary_data.csv\". I employ \"|\" as a separator to prevent the pd methods from\n",
    "# confusing colons or semi-colons within the texts with the actual separators. I set the \"index\" argument to false, because\n",
    "# the indexes are completely meaningless and do not need to be saved.\n",
    "\n",
    "d_final.to_csv(\"summary_data.csv\", sep = \"|\", index = False)"
   ]
  },
  {
   "cell_type": "code",
   "execution_count": 20,
   "id": "c762578f",
   "metadata": {},
   "outputs": [],
   "source": [
    "# I slice the first 2200 documents into a temporary DataFrame object to construct the \"summary_labelled.csv\" data set\n",
    "\n",
    "d_labelled = d_final[:2200]"
   ]
  },
  {
   "cell_type": "markdown",
   "id": "3df387c1",
   "metadata": {},
   "source": [
    "The code for the following cell was inspired by the `.insert` method in the `pandas` library documentation, which can be found at https://pandas.pydata.org/docs/reference/api/pandas.DataFrame.insert.html."
   ]
  },
  {
   "cell_type": "code",
   "execution_count": 21,
   "id": "717bf8be",
   "metadata": {},
   "outputs": [],
   "source": [
    "# I add two empty columns to make the manual labelling process easier, saving time on typing the \"|\" character\n",
    "# I must add the first column to position 4's right - i.e., to the right of \"text\", hence the \"loc\" argument is equal to 4\n",
    "# The same logic applies to the following column. Both get an empty string as an input, signalled by the \"value\" argument.\n",
    "\n",
    "d_labelled.insert(loc = 4, column = \"economic\", value = \"\")\n",
    "d_labelled.insert(loc = 5, column = \"socio_cultural\", value = \"\")"
   ]
  },
  {
   "cell_type": "code",
   "execution_count": 22,
   "id": "0dd22c31",
   "metadata": {},
   "outputs": [
    {
     "data": {
      "text/html": [
       "<div>\n",
       "<style scoped>\n",
       "    .dataframe tbody tr th:only-of-type {\n",
       "        vertical-align: middle;\n",
       "    }\n",
       "\n",
       "    .dataframe tbody tr th {\n",
       "        vertical-align: top;\n",
       "    }\n",
       "\n",
       "    .dataframe thead th {\n",
       "        text-align: right;\n",
       "    }\n",
       "</style>\n",
       "<table border=\"1\" class=\"dataframe\">\n",
       "  <thead>\n",
       "    <tr style=\"text-align: right;\">\n",
       "      <th></th>\n",
       "      <th>congress</th>\n",
       "      <th>bill_number</th>\n",
       "      <th>bill_type</th>\n",
       "      <th>text</th>\n",
       "      <th>economic</th>\n",
       "      <th>socio_cultural</th>\n",
       "    </tr>\n",
       "  </thead>\n",
       "  <tbody>\n",
       "    <tr>\n",
       "      <th>12905</th>\n",
       "      <td>115</td>\n",
       "      <td>1308</td>\n",
       "      <td>hr</td>\n",
       "      <td>Frank and Jeanne Moore Wild Steelhead Speci...</td>\n",
       "      <td></td>\n",
       "      <td></td>\n",
       "    </tr>\n",
       "    <tr>\n",
       "      <th>10480</th>\n",
       "      <td>115</td>\n",
       "      <td>4105</td>\n",
       "      <td>hr</td>\n",
       "      <td>This bill extends funding through FY2022 for...</td>\n",
       "      <td></td>\n",
       "      <td></td>\n",
       "    </tr>\n",
       "    <tr>\n",
       "      <th>18266</th>\n",
       "      <td>115</td>\n",
       "      <td>3691</td>\n",
       "      <td>s</td>\n",
       "      <td>Expanding Transparency of Information and S...</td>\n",
       "      <td></td>\n",
       "      <td></td>\n",
       "    </tr>\n",
       "    <tr>\n",
       "      <th>5127</th>\n",
       "      <td>111</td>\n",
       "      <td>1994</td>\n",
       "      <td>hr</td>\n",
       "      <td>Citizen Soldier Equality Act of 2009 - Requi...</td>\n",
       "      <td></td>\n",
       "      <td></td>\n",
       "    </tr>\n",
       "    <tr>\n",
       "      <th>6103</th>\n",
       "      <td>111</td>\n",
       "      <td>883</td>\n",
       "      <td>hr</td>\n",
       "      <td>Amends the Internal Revenue Code to repeal, e...</td>\n",
       "      <td></td>\n",
       "      <td></td>\n",
       "    </tr>\n",
       "  </tbody>\n",
       "</table>\n",
       "</div>"
      ],
      "text/plain": [
       "      congress bill_number bill_type  \\\n",
       "12905      115        1308        hr   \n",
       "10480      115        4105        hr   \n",
       "18266      115        3691         s   \n",
       "5127       111        1994        hr   \n",
       "6103       111         883        hr   \n",
       "\n",
       "                                                    text economic  \\\n",
       "12905     Frank and Jeanne Moore Wild Steelhead Speci...            \n",
       "10480    This bill extends funding through FY2022 for...            \n",
       "18266     Expanding Transparency of Information and S...            \n",
       "5127     Citizen Soldier Equality Act of 2009 - Requi...            \n",
       "6103    Amends the Internal Revenue Code to repeal, e...            \n",
       "\n",
       "      socio_cultural  \n",
       "12905                 \n",
       "10480                 \n",
       "18266                 \n",
       "5127                  \n",
       "6103                  "
      ]
     },
     "execution_count": 22,
     "metadata": {},
     "output_type": "execute_result"
    }
   ],
   "source": [
    "d_labelled.head()"
   ]
  },
  {
   "cell_type": "code",
   "execution_count": 23,
   "id": "3ff871f1",
   "metadata": {},
   "outputs": [
    {
     "data": {
      "text/plain": [
       "(2200, 6)"
      ]
     },
     "execution_count": 23,
     "metadata": {},
     "output_type": "execute_result"
    }
   ],
   "source": [
    "# I check the temporary DataFrame object's shape to assess if this cleaning step went smoothly\n",
    "\n",
    "d_labelled.shape"
   ]
  },
  {
   "cell_type": "code",
   "execution_count": 24,
   "id": "e6a85fcd",
   "metadata": {},
   "outputs": [],
   "source": [
    "# I save the sliced DataFrame as \"summary_unlabelled.csv\". I employ \"|\" as a separator to prevent the pd methods from confusing\n",
    "# colons or semi-colons within the texts with the actual separators. I set the \"index\" argument to false, because the indexes\n",
    "# are completely meaningless and do not need to be saved. This also prevents me from mistyping separators on the .csv file and\n",
    "# ruining the document's structure.\n",
    "\n",
    "d_labelled.to_csv(\"summary_labelled.csv\", sep = \"|\", index = False)"
   ]
  },
  {
   "cell_type": "code",
   "execution_count": 25,
   "id": "8f0386a0",
   "metadata": {},
   "outputs": [],
   "source": [
    "# I slice the rest of the documents into a temporary DataFrame object to construct the \"summary_unlabelled.csv\" data set\n",
    "\n",
    "d_unlabelled = d_final[2200:]"
   ]
  },
  {
   "cell_type": "code",
   "execution_count": 26,
   "id": "6b169141",
   "metadata": {},
   "outputs": [
    {
     "data": {
      "text/plain": [
       "(19620, 4)"
      ]
     },
     "execution_count": 26,
     "metadata": {},
     "output_type": "execute_result"
    }
   ],
   "source": [
    "# I check the temporary DataFrame object's shape to assess if this cleaning step went smoothly\n",
    "\n",
    "d_unlabelled.shape"
   ]
  },
  {
   "cell_type": "code",
   "execution_count": 27,
   "id": "2e42f7f3",
   "metadata": {},
   "outputs": [],
   "source": [
    "# I save the sliced DataFrame as \"summary_unlabelled.csv\". I employ \"|\" as a separator to prevent the pd methods from confusing\n",
    "# colons or semi-colons within the texts with the actual separators. I set the \"index\" argument to false, because the indexes\n",
    "# are completely meaningless and do not need to be saved.\n",
    "\n",
    "d_unlabelled.to_csv(\"summary_unlabelled.csv\", sep = \"|\", index = False)"
   ]
  },
  {
   "cell_type": "markdown",
   "id": "be446833",
   "metadata": {},
   "source": [
    "## 6. Wrapping Up\n",
    "\n",
    "Since the bill metadata is still being collected at the moment, I will analogously unpack it and clean it in a separate notebook, joining it with the completely labelled dataset when the Supervised Machine Learning procedures are over. On a visual inspection of the `summary_data.csv`, it appears that the summary texts were correctly pre-processed, as I cannot see any HTML boilerplates or character escapes."
   ]
  }
 ],
 "metadata": {
  "kernelspec": {
   "display_name": "Python 3 (ipykernel)",
   "language": "python",
   "name": "python3"
  },
  "language_info": {
   "codemirror_mode": {
    "name": "ipython",
    "version": 3
   },
   "file_extension": ".py",
   "mimetype": "text/x-python",
   "name": "python",
   "nbconvert_exporter": "python",
   "pygments_lexer": "ipython3",
   "version": "3.9.13"
  }
 },
 "nbformat": 4,
 "nbformat_minor": 5
}
