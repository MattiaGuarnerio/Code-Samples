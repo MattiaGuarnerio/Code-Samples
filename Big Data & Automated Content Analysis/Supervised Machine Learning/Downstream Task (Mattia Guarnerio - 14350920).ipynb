{
 "cells": [
  {
   "cell_type": "markdown",
   "id": "96929777",
   "metadata": {},
   "source": [
    "# White Noise: Downstream Task\n",
    "\n",
    "## 1. Explaining the Problem\n",
    "\n",
    "Now that I fine-tuned by BERT transformers, it is time to employ them to predict the labels of interest on the unlabelled bill summaries. However, this is not as straightforward as it seem. I must encode the unlabelled data and appropriately provide it to the fine-tuned models within the Torch framework, and save the predicted labels in a humanly understandable format within a new `unlabelled.csv` dataset. The latter will then be joined with the `labelled.csv` dataset and the metadata, to form my final version of the US bill summaries dataset.\n",
    "\n",
    "This notebook is heavily inspired by Anne Kroon's [version](https://github.com/uvacw/teaching-bdaca/blob/main/modules/machinelearning-text-exercises/transformers_bert_classification.ipynb) of the [the BERT for Humanists Fine-Tuning for a Classification task tutorial](https://colab.research.google.com/drive/19jDqa5D5XfxPU6NQef17BC07xQdRnaKU?usp=sharing), designed by Maria Antoniak, Melanie Walsh, and the [BERT for Humanists](https://melaniewalsh.github.io/BERT-for-Humanists/) Team.\n",
    "\n",
    "These are the steps involved in using BERT for making predictions:\n",
    "\n",
    "    1. Convert the textual data into a format that BERT can process.\n",
    "    2. Create a custom Torch dataset object to store the tokenized data.\n",
    "    3. Load the pre-trained BERT models.\n",
    "    4. Wrap the dataset objects and feed them to the models to predict the labels.\n",
    "    5. Convert the predictions into character labels.\n",
    "    6. Associate the character labels to their respective bill summaries and save them into a new .csv file."
   ]
  },
  {
   "cell_type": "code",
   "execution_count": 1,
   "id": "870233a0",
   "metadata": {
    "colab": {
     "base_uri": "https://localhost:8080/"
    },
    "id": "870233a0",
    "outputId": "fe0a641c-ba36-4766-b260-5ab5ba830a60"
   },
   "outputs": [
    {
     "name": "stdout",
     "output_type": "stream",
     "text": [
      "Looking in indexes: https://pypi.org/simple, https://us-python.pkg.dev/colab-wheels/public/simple/\n",
      "Collecting transformers==4.28.0\n",
      "  Downloading transformers-4.28.0-py3-none-any.whl (7.0 MB)\n",
      "\u001b[2K     \u001b[90m━━━━━━━━━━━━━━━━━━━━━━━━━━━━━━━━━━━━━━━━\u001b[0m \u001b[32m7.0/7.0 MB\u001b[0m \u001b[31m80.5 MB/s\u001b[0m eta \u001b[36m0:00:00\u001b[0m\n",
      "\u001b[?25hRequirement already satisfied: filelock in /usr/local/lib/python3.10/dist-packages (from transformers==4.28.0) (3.12.0)\n",
      "Collecting huggingface-hub<1.0,>=0.11.0 (from transformers==4.28.0)\n",
      "  Downloading huggingface_hub-0.14.1-py3-none-any.whl (224 kB)\n",
      "\u001b[2K     \u001b[90m━━━━━━━━━━━━━━━━━━━━━━━━━━━━━━━━━━━━━━\u001b[0m \u001b[32m224.5/224.5 kB\u001b[0m \u001b[31m29.8 MB/s\u001b[0m eta \u001b[36m0:00:00\u001b[0m\n",
      "\u001b[?25hRequirement already satisfied: numpy>=1.17 in /usr/local/lib/python3.10/dist-packages (from transformers==4.28.0) (1.22.4)\n",
      "Requirement already satisfied: packaging>=20.0 in /usr/local/lib/python3.10/dist-packages (from transformers==4.28.0) (23.1)\n",
      "Requirement already satisfied: pyyaml>=5.1 in /usr/local/lib/python3.10/dist-packages (from transformers==4.28.0) (6.0)\n",
      "Requirement already satisfied: regex!=2019.12.17 in /usr/local/lib/python3.10/dist-packages (from transformers==4.28.0) (2022.10.31)\n",
      "Requirement already satisfied: requests in /usr/local/lib/python3.10/dist-packages (from transformers==4.28.0) (2.27.1)\n",
      "Collecting tokenizers!=0.11.3,<0.14,>=0.11.1 (from transformers==4.28.0)\n",
      "  Downloading tokenizers-0.13.3-cp310-cp310-manylinux_2_17_x86_64.manylinux2014_x86_64.whl (7.8 MB)\n",
      "\u001b[2K     \u001b[90m━━━━━━━━━━━━━━━━━━━━━━━━━━━━━━━━━━━━━━━━\u001b[0m \u001b[32m7.8/7.8 MB\u001b[0m \u001b[31m83.2 MB/s\u001b[0m eta \u001b[36m0:00:00\u001b[0m\n",
      "\u001b[?25hRequirement already satisfied: tqdm>=4.27 in /usr/local/lib/python3.10/dist-packages (from transformers==4.28.0) (4.65.0)\n",
      "Requirement already satisfied: fsspec in /usr/local/lib/python3.10/dist-packages (from huggingface-hub<1.0,>=0.11.0->transformers==4.28.0) (2023.4.0)\n",
      "Requirement already satisfied: typing-extensions>=3.7.4.3 in /usr/local/lib/python3.10/dist-packages (from huggingface-hub<1.0,>=0.11.0->transformers==4.28.0) (4.5.0)\n",
      "Requirement already satisfied: urllib3<1.27,>=1.21.1 in /usr/local/lib/python3.10/dist-packages (from requests->transformers==4.28.0) (1.26.15)\n",
      "Requirement already satisfied: certifi>=2017.4.17 in /usr/local/lib/python3.10/dist-packages (from requests->transformers==4.28.0) (2022.12.7)\n",
      "Requirement already satisfied: charset-normalizer~=2.0.0 in /usr/local/lib/python3.10/dist-packages (from requests->transformers==4.28.0) (2.0.12)\n",
      "Requirement already satisfied: idna<4,>=2.5 in /usr/local/lib/python3.10/dist-packages (from requests->transformers==4.28.0) (3.4)\n",
      "Installing collected packages: tokenizers, huggingface-hub, transformers\n",
      "Successfully installed huggingface-hub-0.14.1 tokenizers-0.13.3 transformers-4.28.0\n"
     ]
    }
   ],
   "source": [
    "# Installing the \"transformers\" package, in an older version (4.28.0)\n",
    "!pip3 install transformers==4.28.0"
   ]
  },
  {
   "cell_type": "markdown",
   "id": "f1667099",
   "metadata": {
    "id": "f1667099"
   },
   "source": [
    "I employ an older version of the `transformers` package because in the recent `4.29.0` release the function or method `PartialState` is not defined, leading to a `NameError` when trying to initialise the training parameters within the `Trainer` object. I must greatly thank the user `amyeroberts` who suggested to downgrade the `transformers` package within the following thread: https://github.com/huggingface/transformers/issues/22816."
   ]
  },
  {
   "cell_type": "code",
   "execution_count": 2,
   "id": "ddc61947",
   "metadata": {
    "id": "ddc61947"
   },
   "outputs": [],
   "source": [
    "# General packages\n",
    "import gzip\n",
    "import json\n",
    "import pickle\n",
    "import random\n",
    "import sys\n",
    "import csv\n",
    "from collections import defaultdict\n",
    "\n",
    "# Packages for data handling and cleaning\n",
    "import numpy as np\n",
    "import pandas as pd\n",
    "\n",
    "# Packages for handling BERT transformers and making predictions\n",
    "import torch\n",
    "from torch.utils.data import DataLoader\n",
    "from transformers import AutoTokenizer, AutoModelForSequenceClassification"
   ]
  },
  {
   "cell_type": "code",
   "execution_count": 3,
   "id": "C1wOfGbNTTyx",
   "metadata": {
    "colab": {
     "base_uri": "https://localhost:8080/"
    },
    "id": "C1wOfGbNTTyx",
    "outputId": "802258b0-9eef-435f-eb6e-5e5cbc22527e"
   },
   "outputs": [
    {
     "name": "stdout",
     "output_type": "stream",
     "text": [
      "Mounted at /content/drive\n"
     ]
    }
   ],
   "source": [
    "# Packages for mounting Drive and setting the working directory\n",
    "import os\n",
    "from google.colab import drive\n",
    "\n",
    "# Mounting my Drive on Google Colab\n",
    "drive.mount('/content/drive')\n",
    "\n",
    "# Setting the working directory\n",
    "os.chdir(r\"/content/drive/My Drive/Colab Notebooks/\")"
   ]
  },
  {
   "cell_type": "markdown",
   "id": "cfba1b3b",
   "metadata": {
    "id": "cfba1b3b"
   },
   "source": [
    "## **2. Unpacking the Unlabelled Data**"
   ]
  },
  {
   "cell_type": "code",
   "execution_count": 4,
   "id": "92862c94",
   "metadata": {
    "id": "92862c94"
   },
   "outputs": [],
   "source": [
    "# I start by importing the \"summary_unlabelled.csv\" data set as a DataFrame object within the CoLab environment.\n",
    "# I crucially specify the \"|\" separator, because employing colons or semi-colons causes conflicts with the summaries' contents.\n",
    "\n",
    "d = pd.read_csv(\"summary_unlabelled.csv\", sep = \"|\")"
   ]
  },
  {
   "cell_type": "code",
   "execution_count": 5,
   "id": "5d37a7a5",
   "metadata": {
    "colab": {
     "base_uri": "https://localhost:8080/",
     "height": 206
    },
    "id": "5d37a7a5",
    "outputId": "8d75d094-5607-4ca0-868e-78a355a162f2"
   },
   "outputs": [
    {
     "data": {
      "text/html": [
       "\n",
       "  <div id=\"df-0e211874-e44e-4a3f-846d-589e8048c892\">\n",
       "    <div class=\"colab-df-container\">\n",
       "      <div>\n",
       "<style scoped>\n",
       "    .dataframe tbody tr th:only-of-type {\n",
       "        vertical-align: middle;\n",
       "    }\n",
       "\n",
       "    .dataframe tbody tr th {\n",
       "        vertical-align: top;\n",
       "    }\n",
       "\n",
       "    .dataframe thead th {\n",
       "        text-align: right;\n",
       "    }\n",
       "</style>\n",
       "<table border=\"1\" class=\"dataframe\">\n",
       "  <thead>\n",
       "    <tr style=\"text-align: right;\">\n",
       "      <th></th>\n",
       "      <th>congress</th>\n",
       "      <th>bill_number</th>\n",
       "      <th>bill_type</th>\n",
       "      <th>text</th>\n",
       "    </tr>\n",
       "  </thead>\n",
       "  <tbody>\n",
       "    <tr>\n",
       "      <th>0</th>\n",
       "      <td>115</td>\n",
       "      <td>5405</td>\n",
       "      <td>hr</td>\n",
       "      <td>This bill amends the Agricultural Act of 201...</td>\n",
       "    </tr>\n",
       "    <tr>\n",
       "      <th>1</th>\n",
       "      <td>115</td>\n",
       "      <td>1980</td>\n",
       "      <td>s</td>\n",
       "      <td>Renewable Chemicals Act of 2017    This bil...</td>\n",
       "    </tr>\n",
       "    <tr>\n",
       "      <th>2</th>\n",
       "      <td>115</td>\n",
       "      <td>4769</td>\n",
       "      <td>hr</td>\n",
       "      <td>Helping Americans Seek Treatment Act of 201...</td>\n",
       "    </tr>\n",
       "    <tr>\n",
       "      <th>3</th>\n",
       "      <td>111</td>\n",
       "      <td>1558</td>\n",
       "      <td>s</td>\n",
       "      <td>Travel Reimbursement for Inactive Duty Trai...</td>\n",
       "    </tr>\n",
       "    <tr>\n",
       "      <th>4</th>\n",
       "      <td>115</td>\n",
       "      <td>3932</td>\n",
       "      <td>hr</td>\n",
       "      <td>Healthcare Expenditures for Low-income Popu...</td>\n",
       "    </tr>\n",
       "  </tbody>\n",
       "</table>\n",
       "</div>\n",
       "      <button class=\"colab-df-convert\" onclick=\"convertToInteractive('df-0e211874-e44e-4a3f-846d-589e8048c892')\"\n",
       "              title=\"Convert this dataframe to an interactive table.\"\n",
       "              style=\"display:none;\">\n",
       "        \n",
       "  <svg xmlns=\"http://www.w3.org/2000/svg\" height=\"24px\"viewBox=\"0 0 24 24\"\n",
       "       width=\"24px\">\n",
       "    <path d=\"M0 0h24v24H0V0z\" fill=\"none\"/>\n",
       "    <path d=\"M18.56 5.44l.94 2.06.94-2.06 2.06-.94-2.06-.94-.94-2.06-.94 2.06-2.06.94zm-11 1L8.5 8.5l.94-2.06 2.06-.94-2.06-.94L8.5 2.5l-.94 2.06-2.06.94zm10 10l.94 2.06.94-2.06 2.06-.94-2.06-.94-.94-2.06-.94 2.06-2.06.94z\"/><path d=\"M17.41 7.96l-1.37-1.37c-.4-.4-.92-.59-1.43-.59-.52 0-1.04.2-1.43.59L10.3 9.45l-7.72 7.72c-.78.78-.78 2.05 0 2.83L4 21.41c.39.39.9.59 1.41.59.51 0 1.02-.2 1.41-.59l7.78-7.78 2.81-2.81c.8-.78.8-2.07 0-2.86zM5.41 20L4 18.59l7.72-7.72 1.47 1.35L5.41 20z\"/>\n",
       "  </svg>\n",
       "      </button>\n",
       "      \n",
       "  <style>\n",
       "    .colab-df-container {\n",
       "      display:flex;\n",
       "      flex-wrap:wrap;\n",
       "      gap: 12px;\n",
       "    }\n",
       "\n",
       "    .colab-df-convert {\n",
       "      background-color: #E8F0FE;\n",
       "      border: none;\n",
       "      border-radius: 50%;\n",
       "      cursor: pointer;\n",
       "      display: none;\n",
       "      fill: #1967D2;\n",
       "      height: 32px;\n",
       "      padding: 0 0 0 0;\n",
       "      width: 32px;\n",
       "    }\n",
       "\n",
       "    .colab-df-convert:hover {\n",
       "      background-color: #E2EBFA;\n",
       "      box-shadow: 0px 1px 2px rgba(60, 64, 67, 0.3), 0px 1px 3px 1px rgba(60, 64, 67, 0.15);\n",
       "      fill: #174EA6;\n",
       "    }\n",
       "\n",
       "    [theme=dark] .colab-df-convert {\n",
       "      background-color: #3B4455;\n",
       "      fill: #D2E3FC;\n",
       "    }\n",
       "\n",
       "    [theme=dark] .colab-df-convert:hover {\n",
       "      background-color: #434B5C;\n",
       "      box-shadow: 0px 1px 3px 1px rgba(0, 0, 0, 0.15);\n",
       "      filter: drop-shadow(0px 1px 2px rgba(0, 0, 0, 0.3));\n",
       "      fill: #FFFFFF;\n",
       "    }\n",
       "  </style>\n",
       "\n",
       "      <script>\n",
       "        const buttonEl =\n",
       "          document.querySelector('#df-0e211874-e44e-4a3f-846d-589e8048c892 button.colab-df-convert');\n",
       "        buttonEl.style.display =\n",
       "          google.colab.kernel.accessAllowed ? 'block' : 'none';\n",
       "\n",
       "        async function convertToInteractive(key) {\n",
       "          const element = document.querySelector('#df-0e211874-e44e-4a3f-846d-589e8048c892');\n",
       "          const dataTable =\n",
       "            await google.colab.kernel.invokeFunction('convertToInteractive',\n",
       "                                                     [key], {});\n",
       "          if (!dataTable) return;\n",
       "\n",
       "          const docLinkHtml = 'Like what you see? Visit the ' +\n",
       "            '<a target=\"_blank\" href=https://colab.research.google.com/notebooks/data_table.ipynb>data table notebook</a>'\n",
       "            + ' to learn more about interactive tables.';\n",
       "          element.innerHTML = '';\n",
       "          dataTable['output_type'] = 'display_data';\n",
       "          await google.colab.output.renderOutput(dataTable, element);\n",
       "          const docLink = document.createElement('div');\n",
       "          docLink.innerHTML = docLinkHtml;\n",
       "          element.appendChild(docLink);\n",
       "        }\n",
       "      </script>\n",
       "    </div>\n",
       "  </div>\n",
       "  "
      ],
      "text/plain": [
       "   congress  bill_number bill_type  \\\n",
       "0       115         5405        hr   \n",
       "1       115         1980         s   \n",
       "2       115         4769        hr   \n",
       "3       111         1558         s   \n",
       "4       115         3932        hr   \n",
       "\n",
       "                                                text  \n",
       "0    This bill amends the Agricultural Act of 201...  \n",
       "1     Renewable Chemicals Act of 2017    This bil...  \n",
       "2     Helping Americans Seek Treatment Act of 201...  \n",
       "3     Travel Reimbursement for Inactive Duty Trai...  \n",
       "4     Healthcare Expenditures for Low-income Popu...  "
      ]
     },
     "execution_count": 5,
     "metadata": {},
     "output_type": "execute_result"
    }
   ],
   "source": [
    "# I check the first few lines of the DataFrame object to assess if the \"read_csv\" command worked smoothly\n",
    "\n",
    "d.head()"
   ]
  },
  {
   "cell_type": "code",
   "execution_count": 6,
   "id": "ae99bb79",
   "metadata": {
    "colab": {
     "base_uri": "https://localhost:8080/"
    },
    "id": "ae99bb79",
    "outputId": "6400bcbf-74ea-4e1c-ea06-1828ca936d55"
   },
   "outputs": [
    {
     "data": {
      "text/plain": [
       "(19620, 4)"
      ]
     },
     "execution_count": 6,
     "metadata": {},
     "output_type": "execute_result"
    }
   ],
   "source": [
    "# I check the shape of the DataFrame object to assess if the \"read_csv\" command worked smoothly\n",
    "\n",
    "d.shape"
   ]
  },
  {
   "cell_type": "markdown",
   "id": "fe330dce",
   "metadata": {
    "id": "fe330dce"
   },
   "source": [
    "19620 classified documents, the original four columns I retrieved from `api.congress.gov`. Everything seems perfect! I can now transform the columns where I respectively stored the textual data - i.e. `text` - the economic labels - i.e., `economic` - and the socio-cultural labels - i.e., `socio_cultural` - in three separate lists, which I subsequently split into suitable sets for training, validation, and testing.\n",
    "\n",
    "The following cell's code is inspired by the official documentation for the `tolist()` `pandas` method, available at https://pandas.pydata.org/docs/reference/api/pandas.Series.tolist.html."
   ]
  },
  {
   "cell_type": "code",
   "execution_count": 7,
   "id": "c37277ab",
   "metadata": {
    "id": "c37277ab"
   },
   "outputs": [],
   "source": [
    "# I unpack the US bill summaries into a list format object\n",
    "\n",
    "text = d[\"text\"].tolist()"
   ]
  },
  {
   "cell_type": "code",
   "execution_count": 8,
   "id": "96fd82b8",
   "metadata": {
    "colab": {
     "base_uri": "https://localhost:8080/"
    },
    "id": "96fd82b8",
    "outputId": "1eac312c-86fc-416c-b765-c3e9d4912f3f"
   },
   "outputs": [
    {
     "data": {
      "text/plain": [
       "['  This bill amends the Agricultural Act of 2014 to provide an exception to the rule that prohibits the Department of Agriculture from providing price loss coverage payments or agriculture risk coverage payments to a producer on a farm if the sum of the base acres on the farm is 10 acres or less. The exception applies if the sum of the base acres on the farm, when combined with the base acres of other farms in which the producer has an interest, is more than 10 acres. ',\n",
       " '   Renewable Chemicals Act of 2017    This bill amends the Internal Revenue Code to allow: (1) a business-related tax credit for the production of renewable chemicals, and (2) a tax credit for investment in renewable chemical production facilities.   The bill defines \"renewable chemical\" as any chemical that: (1) is produced in the United States from renewable biomass; (2) is sold or used for the production of chemical products, polymers, plastics, or formulated products or as chemicals, polymers, plastics, or formulated products; (3) has a biobased content of not less than 95%; (4) is the product of, or reliant upon, biological or thermal conversion of renewable biomass; (5) is not sold or used for the production of any food, feed, or fuel; and (6) is not a chemical for which either of the tax credits established by this bill have been claimed by the taxpayer in any taxable year.    The bill requires the Department of the Treasury to establish a program to allocate renewable chemical tax credit amounts to eligible taxpayers and imposes an aggregate limit on the amount of credits that may be allocated to not more than $500 million during the 5-year period after enactment of this bill. The amount of the credits that may be allocated to any taxpayer for any taxable year may not exceed $25 million.  ',\n",
       " \"   Helping Americans Seek Treatment Act of 2018    This bill amends the Public Health Service Act to require the Substance Abuse and Mental Health Services Administration (SAMHSA) to conduct a national public awareness campaign regarding its substance abuse treatment referral routing programs. SAMHSA must incorporate into its programs and services information about pre-arrest referral programs, which allow an individual with a substance use disorder to seek assistance from a law enforcement agency without being subject to criminal penalties related to the individual's possession and use of controlled substances. \",\n",
       " '   Travel Reimbursement for Inactive Duty Training Personnel (TRIP) Act of 2009 - Authorizes the Secretary of the military department concerned to reimburse a member of the reserves for transportation expenses incurred in connection with: (1) round-trip travel in excess of 100 miles to an inactive duty training location, regardless of the method of transportation; and (2) round-trip travel of any distance to an inactive duty training location, if such travel requires a commercial method of transportation other than ground transportation. Requires the Secretary, in determining the amount of the allowance or reimbursement, to use the reimbursement rate for the use of privately-owned vehicles by government employees on official business.  ',\n",
       " '   Healthcare Expenditures for Low-income Populations in Puerto Rico Act or the HELP Puerto Rico Act                        This bill increases Medicaid funding for Puerto Rico through FY2019. Such funding shall be further increased through 2019 if Puerto Rico takes specified actions to improve its Medicaid program.      ']"
      ]
     },
     "execution_count": 8,
     "metadata": {},
     "output_type": "execute_result"
    }
   ],
   "source": [
    "# I check the list's first 5 elements and overall length to assess whether this data wrangling step went smoothly.\n",
    "\n",
    "text[:5]"
   ]
  },
  {
   "cell_type": "code",
   "execution_count": 9,
   "id": "12b45c10",
   "metadata": {
    "colab": {
     "base_uri": "https://localhost:8080/"
    },
    "id": "12b45c10",
    "outputId": "fc3a96d3-74da-499c-b7dd-b41a4550b712"
   },
   "outputs": [
    {
     "name": "stdout",
     "output_type": "stream",
     "text": [
      "The unlabelled data list's total length is 19620.\n"
     ]
    }
   ],
   "source": [
    "print(f\"The unlabelled data list's total length is {len(text)}.\")"
   ]
  },
  {
   "cell_type": "markdown",
   "id": "b8a71ab6",
   "metadata": {
    "id": "b8a71ab6"
   },
   "source": [
    "All the unlabelled data was correctly dumped into the `text` list. I now set some variables that will help me to avoid hard-coding some key values, such as the directories where my fine-tuned BERT models are stored."
   ]
  },
  {
   "cell_type": "code",
   "execution_count": 10,
   "id": "8d5a8313",
   "metadata": {
    "id": "8d5a8313"
   },
   "outputs": [],
   "source": [
    "# I set the maximum number of tokens in each document to be 512, which is the maximum length for BERT models.\n",
    "max_length = 512\n",
    "\n",
    "# I will rune my code on NVIDIA GPUs using Google CoLab's program management system.\n",
    "device_name = \"cuda\"\n",
    "\n",
    "# I define the directory where I saved my fine-tuned LEGAL-BERT model for the Economic / Non-Economic classification task.\n",
    "save_directory_econ = \"legal_bert_econ\"\n",
    "\n",
    "# I define the directory where I saved my fine-tuned base BERT for the Socio-Cultural / Non-Socio-Cultural classification task.\n",
    "save_directory_sc = \"base_bert_sc\"\n",
    "\n",
    "# To import LEGAL-BERT's AutoTokenizer, I refer to the \"nlpaueb/legal-bert-base-uncased\" HuggingFace transformer.\n",
    "model_name_econ = \"nlpaueb/legal-bert-base-uncased\"\n",
    "\n",
    "# To import base BERT's AutoTokenizer, I refer to the \"bert-base-uncased\" HuggingFace transformer.\n",
    "model_name_sc = \"bert-base-uncased\""
   ]
  },
  {
   "cell_type": "markdown",
   "id": "8757bb14",
   "metadata": {
    "id": "8757bb14"
   },
   "source": [
    "## **3. Encoding Data for BERT**\n",
    "\n",
    "To prepare my bill summaries data for drawing predictions with the fine-tuned BERT models, I need to encode the texts in a way that the models can understand. Here are the steps I must follow:\n",
    "\n",
    "1. Convert the labels from strings to integers.\n",
    "2. Tokenize the texts, which involves breaking them up into individual words, and then convert the words into \"word pieces\" that can be matched with their corresponding embedding vectors.\n",
    "3. Truncate texts that are longer than 512 tokens, or pad texts that are shorter than 512 tokens with a special padding token.\n",
    "4. Add special tokens to the beginning and end of each document, including a start token, a separator between sentences, and a padding token as necessary."
   ]
  },
  {
   "cell_type": "code",
   "execution_count": 11,
   "id": "262dd8aa",
   "metadata": {
    "colab": {
     "base_uri": "https://localhost:8080/",
     "height": 273,
     "referenced_widgets": [
      "a3eed9fd8f764e8fa7f235d97557444e",
      "a7eccda897fb4ee8a7f03ea163b417a0",
      "7b032fea66794ed39afb1736f154cf3b",
      "fbb3840876264e2e93b4084a43c5bbf3",
      "2dc6e052676e4ebc980c8b70510742bb",
      "1c0ffd90c151445aa4b7acdff9f41ba4",
      "d508dd3894f64d008c04eae1bdba6cd9",
      "f7fbc3e0fd194d74907854cb10b5226b",
      "ed56c4ed2e3f45fcb29f3c5bacbc142f",
      "633f93f4f1ec4e578d412551a48815c2",
      "9e7a8ed1fd454ea09063ac85a41b29ea",
      "36612be661cc4c2ab0e59b9e7efd091a",
      "ac4f7df790a84bb689e30779bb531928",
      "8defffe4e4ab45e3b34d8c6b1efd7515",
      "1cadb7cd857842a192701c7030e317b4",
      "f86d4d7f0c5d45ed830dca10dac41c31",
      "0313182ff7354dba8d764752dc58fb99",
      "185e202743f74559997461127fb83ed2",
      "c53cb4f0f2da425d9fbaf964d8e2a88d",
      "f7b2d085ea374972adb8a9cf1211632f",
      "f84d172142c94d4390b95757c3f8752a",
      "ac871905ff2048e0a0005f74c0986e04",
      "51abab0df77b4339bef7efc63b321184",
      "5777ea6b68774032af25a85498b5f13c",
      "07577657c1bf465d8d392687dc584cd7",
      "d40305a8f6884811b00a262866939f05",
      "a9a8d253642c4bc3a24c8a3b3219cc3c",
      "4112821e9a8e48c1bedd07befa1cbea4",
      "1654e53b4c4d4ffc8198cd0bbb7d7b4d",
      "8c6e82b3d7734381bf4123919a82af84",
      "9e533ea056ff47bfac86d004fa49cbc3",
      "fb2f017f418f4c5b9f5b6e7d178721fe",
      "d2b1f27a806b498997832659930eaccf",
      "06c4f836af054c3a81854eb5979c5876",
      "74d2464ca472487fa4d49200f24f418c",
      "3ad1bd7c2f4f43f9b38601e62577abf9",
      "c04fbfa1dcfa4e3392aeed94b5cba1e9",
      "2d73e2e053d5401da0f9e9b1ccd80489",
      "c166106f049e49dd84a60fc97a88b2fd",
      "9ff5fcd0a0ed4d7bb2281076a0742533",
      "998ebd34d73a4f3c840f7f2e06c2b438",
      "5c883247fb1749da8422ff51439bb965",
      "a933e0b58c0b441b8f0eeb41aade071c",
      "1b01cb4274f94ddea529aee3504ceb8b",
      "eef09d4f7fe84c4d8223d932d36c93a1",
      "21a99e7a211c43aea7a9a9dff9dd3521",
      "38a196baafa847a290e6fb23c4ee7f0b",
      "520cd7be78f14eab800beffc65b02241",
      "9578ec5bc6574b3e84dbc81bc24f29e2",
      "fd83704c8960452495aaf258442e2784",
      "5c1e1dd9546142c6b1c83c4abf5a8a51",
      "a6eaa257027444188ecc09b8114bbc03",
      "82ba845f9bc648639e4e25f3675dc7e9",
      "d56d39a21ceb45eab39707bf38e74bdf",
      "68140af6ac1f45adbe8bf1a0f7baef94",
      "f2755ee64b264c5389979ab69f0a20ba",
      "1ae3b8bd44474b98af2aa5700373f745",
      "cdf1d89b0d724a44a14d4c323e8ce8d7",
      "f0d433b1d9884456a8b997f0b5f22697",
      "572d29b62fe546c1b4b4403bfdf10ed3",
      "f2431a2d61054aa5a15a1b2ee62f8aaa",
      "6fb8c79450df4101bf7b2cc6bf92c477",
      "6f43efb45d134727a24c75fd96b50a80",
      "05e7bac060f54896a0bfdee7cf2cf88a",
      "d2bda1fac8a54aeba8cea4be477b1de3",
      "4aaf2d28927f41e098601357c12e3bfb",
      "01cbfa8ab81d48f6a042490e1d367822",
      "140c8c9007184f4486f87620f85e32dd",
      "18a9be576c7741b4b2adfbb10216220f",
      "4fbe92f2036546fca01b8ed5f58d8b1f",
      "2ca8e236b4674e9298359c8e2822f1ff",
      "9d894d51ccfb400e8aebe723640ff98d",
      "5d01ece8770148de8ae687510d2170f4",
      "58687549e2264ea8848130e2c23075a6",
      "c165a4d1b2cd429a994bcd7b5c7087d6",
      "01f8d2fd819c4361abea2bfe7a272089",
      "81f792498bd34f888c45760215a75e6d",
      "df2b32d01fa7438f8fc94fad27291920",
      "8e6762a7eaa34bdc9ec70ed26bf70eaf",
      "ce282ecf2a3e4726ae71224c7f5a9c37",
      "c0b99278042c4a40b5fa1bfa8a425f72",
      "ead59df7dcf14a87a83a18856852ab88",
      "f2bb35b7a44a43d28c216887e14aba9d",
      "287660c211e1482988580e07eb0f3f9a",
      "cc60d04485d94ef7ac743b7718d732f7",
      "0885e4b581e644ebaf295e0ec75657d2",
      "38bb75812d984e109005da56ea893cde",
      "99b86566430840e0a98f0588fc970a60"
     ]
    },
    "id": "262dd8aa",
    "outputId": "059b7591-a0aa-4b44-cf79-7e7ef6f21d9b"
   },
   "outputs": [
    {
     "data": {
      "application/vnd.jupyter.widget-view+json": {
       "model_id": "a3eed9fd8f764e8fa7f235d97557444e",
       "version_major": 2,
       "version_minor": 0
      },
      "text/plain": [
       "Downloading (…)okenizer_config.json:   0%|          | 0.00/48.0 [00:00<?, ?B/s]"
      ]
     },
     "metadata": {},
     "output_type": "display_data"
    },
    {
     "data": {
      "application/vnd.jupyter.widget-view+json": {
       "model_id": "36612be661cc4c2ab0e59b9e7efd091a",
       "version_major": 2,
       "version_minor": 0
      },
      "text/plain": [
       "Downloading (…)lve/main/config.json:   0%|          | 0.00/1.02k [00:00<?, ?B/s]"
      ]
     },
     "metadata": {},
     "output_type": "display_data"
    },
    {
     "data": {
      "application/vnd.jupyter.widget-view+json": {
       "model_id": "51abab0df77b4339bef7efc63b321184",
       "version_major": 2,
       "version_minor": 0
      },
      "text/plain": [
       "Downloading (…)solve/main/vocab.txt:   0%|          | 0.00/222k [00:00<?, ?B/s]"
      ]
     },
     "metadata": {},
     "output_type": "display_data"
    },
    {
     "data": {
      "application/vnd.jupyter.widget-view+json": {
       "model_id": "06c4f836af054c3a81854eb5979c5876",
       "version_major": 2,
       "version_minor": 0
      },
      "text/plain": [
       "Downloading (…)cial_tokens_map.json:   0%|          | 0.00/112 [00:00<?, ?B/s]"
      ]
     },
     "metadata": {},
     "output_type": "display_data"
    },
    {
     "data": {
      "application/vnd.jupyter.widget-view+json": {
       "model_id": "eef09d4f7fe84c4d8223d932d36c93a1",
       "version_major": 2,
       "version_minor": 0
      },
      "text/plain": [
       "Downloading (…)okenizer_config.json:   0%|          | 0.00/28.0 [00:00<?, ?B/s]"
      ]
     },
     "metadata": {},
     "output_type": "display_data"
    },
    {
     "data": {
      "application/vnd.jupyter.widget-view+json": {
       "model_id": "f2755ee64b264c5389979ab69f0a20ba",
       "version_major": 2,
       "version_minor": 0
      },
      "text/plain": [
       "Downloading (…)lve/main/config.json:   0%|          | 0.00/570 [00:00<?, ?B/s]"
      ]
     },
     "metadata": {},
     "output_type": "display_data"
    },
    {
     "data": {
      "application/vnd.jupyter.widget-view+json": {
       "model_id": "01cbfa8ab81d48f6a042490e1d367822",
       "version_major": 2,
       "version_minor": 0
      },
      "text/plain": [
       "Downloading (…)solve/main/vocab.txt:   0%|          | 0.00/232k [00:00<?, ?B/s]"
      ]
     },
     "metadata": {},
     "output_type": "display_data"
    },
    {
     "data": {
      "application/vnd.jupyter.widget-view+json": {
       "model_id": "df2b32d01fa7438f8fc94fad27291920",
       "version_major": 2,
       "version_minor": 0
      },
      "text/plain": [
       "Downloading (…)/main/tokenizer.json:   0%|          | 0.00/466k [00:00<?, ?B/s]"
      ]
     },
     "metadata": {},
     "output_type": "display_data"
    }
   ],
   "source": [
    "# I import my automatic BERT tokenizers from the respective pre-trained model's directories within HuggingFace\n",
    "tokenizer_econ = AutoTokenizer.from_pretrained(model_name_econ) # LEGAL-BERT\n",
    "tokenizer_sc = AutoTokenizer.from_pretrained(model_name_sc) # Base BERT"
   ]
  },
  {
   "cell_type": "markdown",
   "id": "2169be27",
   "metadata": {
    "id": "2169be27"
   },
   "source": [
    "I now generate a mapping of integer keys to my Economic / Non-Economic, and Socio-Cultural / Non-Socio-Cultural labels, to be able to quickly convert the numeric predictions drawn from the fine-tuned BERT models to meaningful character labels. "
   ]
  },
  {
   "cell_type": "code",
   "execution_count": 12,
   "id": "bf1b0652",
   "metadata": {
    "id": "bf1b0652"
   },
   "outputs": [],
   "source": [
    "# a. Economic / Non-Economic\n",
    "\n",
    "id2label_econ = {\n",
    "    0: \"Non-Economic\",\n",
    "    1: \"Economic\"\n",
    "}\n",
    "\n",
    "# b. Socio-Cultural / Non-Socio-Cultural\n",
    "\n",
    "id2label_sc = {\n",
    "    0: \"Non-Socio-Cultural\",\n",
    "    1: \"Socio-Cultural\"\n",
    "}"
   ]
  },
  {
   "cell_type": "code",
   "execution_count": 13,
   "id": "1613877b",
   "metadata": {
    "colab": {
     "base_uri": "https://localhost:8080/"
    },
    "id": "1613877b",
    "outputId": "995c27f1-c8cc-4025-f43a-5b0c77217354"
   },
   "outputs": [
    {
     "data": {
      "text/plain": [
       "dict_items([(0, 'Non-Economic'), (1, 'Economic')])"
      ]
     },
     "execution_count": 13,
     "metadata": {},
     "output_type": "execute_result"
    }
   ],
   "source": [
    "id2label_econ.items() # I check the items of the \"label2id_econ\" dictionary..."
   ]
  },
  {
   "cell_type": "code",
   "execution_count": 14,
   "id": "253e4e56",
   "metadata": {
    "colab": {
     "base_uri": "https://localhost:8080/"
    },
    "id": "253e4e56",
    "outputId": "9202cde4-2c43-4e86-c706-5a124217959b"
   },
   "outputs": [
    {
     "data": {
      "text/plain": [
       "dict_items([(0, 'Non-Socio-Cultural'), (1, 'Socio-Cultural')])"
      ]
     },
     "execution_count": 14,
     "metadata": {},
     "output_type": "execute_result"
    }
   ],
   "source": [
    "id2label_sc.items() # ...and the \"id2label_econ\" dictionary."
   ]
  },
  {
   "cell_type": "markdown",
   "id": "059fc2f5",
   "metadata": {
    "id": "059fc2f5"
   },
   "source": [
    "Next, I tokenize all the US bill summaries with their correspondent model's `AutoTokenizer`."
   ]
  },
  {
   "cell_type": "code",
   "execution_count": 15,
   "id": "f9ab5875",
   "metadata": {
    "id": "f9ab5875"
   },
   "outputs": [],
   "source": [
    "# I encode the unlabelled bill summaries with the pre-trained AutoTokenizers from the HuggingFace\n",
    "# library. The truncation, padding, and \"max_length\" parameters are set to ensure that all the tokenized\n",
    "# sequences are of the same length.\n",
    "\n",
    "# 1. The truncation parameter ensures that any sequences longer than \"max_length\" (512)\n",
    "# are truncated to the specified maximum length.\n",
    "\n",
    "# 2. The padding parameter ensures that any sequences shorter than \"max_length\" (512)\n",
    "# are padded with special tokens to the specified maximum length.\n",
    "\n",
    "# 3. The \"max_length\" parameter specifies the maximum length of the tokenized sequences - i.e., 512.\n",
    "\n",
    "econ_encodings = tokenizer_econ(text, truncation = True, padding = True, max_length = max_length) # Economic\n",
    "sc_encodings = tokenizer_sc(text, truncation = True, padding = True, max_length = max_length) # Socio-Cultural"
   ]
  },
  {
   "cell_type": "markdown",
   "id": "48479ab6",
   "metadata": {
    "id": "48479ab6"
   },
   "source": [
    "After the encoding procedure, I examine the newly created sets to check whether there are any issues. This is a bill summary in the `econ_encodings` set:"
   ]
  },
  {
   "cell_type": "code",
   "execution_count": 16,
   "id": "d9da2d71",
   "metadata": {
    "colab": {
     "base_uri": "https://localhost:8080/",
     "height": 88
    },
    "id": "d9da2d71",
    "outputId": "85efa19f-8c80-466a-e05e-96efd7b0d3fe"
   },
   "outputs": [
    {
     "data": {
      "application/vnd.google.colaboratory.intrinsic+json": {
       "type": "string"
      },
      "text/plain": [
       "'[CLS] this bill amends the agricultural act of 2014 to provide an exception to the rule that prohibits the department of agricultur ##e from providing price loss coverage payments or agricultur ##e risk coverage payments to a producer on a farm if the sum of the base acres on the farm is 10 acres or less . the exception applies if the sum of the base acres on the farm , when combined with the base acres of other farm ##s in which the producer has an interest , is more than 10 acres . [SEP] [PAD] [PAD] [PAD] [PAD]'"
      ]
     },
     "execution_count": 16,
     "metadata": {},
     "output_type": "execute_result"
    }
   ],
   "source": [
    "# I take the first document in the \"econ_encodings\" set, and I join its first 100 tokens by a whitespace to get a sneak peek.\n",
    "\n",
    "\" \".join(econ_encodings[0].tokens[0:100])"
   ]
  },
  {
   "cell_type": "markdown",
   "id": "96e5a780",
   "metadata": {
    "id": "96e5a780"
   },
   "source": [
    "This is the same bill summary in the `sc_encodings` set:"
   ]
  },
  {
   "cell_type": "code",
   "execution_count": 17,
   "id": "a6fcaa12",
   "metadata": {
    "colab": {
     "base_uri": "https://localhost:8080/",
     "height": 88
    },
    "id": "a6fcaa12",
    "outputId": "449b0414-dfab-4e57-e05b-67ed10da1531"
   },
   "outputs": [
    {
     "data": {
      "application/vnd.google.colaboratory.intrinsic+json": {
       "type": "string"
      },
      "text/plain": [
       "'[CLS] this bill amend ##s the agricultural act of 2014 to provide an exception to the rule that prohibits the department of agriculture from providing price loss coverage payments or agriculture risk coverage payments to a producer on a farm if the sum of the base acres on the farm is 10 acres or less . the exception applies if the sum of the base acres on the farm , when combined with the base acres of other farms in which the producer has an interest , is more than 10 acres . [SEP] [PAD] [PAD] [PAD] [PAD] [PAD] [PAD]'"
      ]
     },
     "execution_count": 17,
     "metadata": {},
     "output_type": "execute_result"
    }
   ],
   "source": [
    "# I take the same document in the \"sc_encodings\" set, and I join its first 100 tokens by a whitespace to get a sneak peek.\n",
    "\n",
    "\" \".join(sc_encodings[0].tokens[0:100])"
   ]
  },
  {
   "cell_type": "markdown",
   "id": "4283bfe0",
   "metadata": {
    "id": "4283bfe0"
   },
   "source": [
    "## **4. Preparing the Input Data**\n",
    "\n",
    "I now save the tokenized data into two separate custom Torch datasets. I use the custom Torch `MyDataSet` class to make two `dataset` objects, analogously to what I did in the training scripts."
   ]
  },
  {
   "cell_type": "code",
   "execution_count": 18,
   "id": "a2647ffb",
   "metadata": {
    "id": "a2647ffb"
   },
   "outputs": [],
   "source": [
    "# The MyDataset custom class uses PyTorch's Dataset class as its parent class. \n",
    "# It takes in tokenized text data and returns these data points in a format suitable for use in PyTorch models.\n",
    "\n",
    "class MyDataset(torch.utils.data.Dataset):\n",
    "\n",
    "  # I define the __init__ method, which initializes the MyDataset object with one attribute: \"encodings\".\n",
    "\n",
    "    def __init__(self, encodings):\n",
    "        self.encodings = encodings # \"encodings\" is a dictionary containing the tokenized text data.\n",
    "\n",
    "  # I create the __getitem__ method, which defines how each data point is returned\n",
    "  # from the dataset. The \"idx\" parameter is used to index into the dataset to\n",
    "  # retrieve a specific data point.\n",
    "\n",
    "    def __getitem__(self, idx):\n",
    "        # The method generates a dictionary item that contains the tokenized text data for the corresponding idx index.\n",
    "\n",
    "        item = {key: torch.tensor(val[idx]) for key, val in self.encodings.items()}\n",
    "        # The torch.tensor() function is used to convert the dictionary values to PyTorch tensors.\n",
    "        # The \"key\" variable contains the keys in the encodings dictionary, and \"val\"\n",
    "        # contains the corresponding values for the current idx index.\n",
    "    \n",
    "        # I return the item as the method's output.\n",
    "        return item\n",
    "    \n",
    "    # At last, I generate the \"__len__\" method, which returns the dataset's length as its output.\n",
    "    # The latter is equal to any one of the lists of values contained within the \"encodings\" dictionary.\n",
    "    def __len__(self):\n",
    "        return len(self.encodings[\"input_ids\"])"
   ]
  },
  {
   "cell_type": "code",
   "execution_count": 19,
   "id": "13ac9f41",
   "metadata": {
    "id": "13ac9f41"
   },
   "outputs": [],
   "source": [
    "# I now apply the MyDataset custom class to the tokenized unlabelled texts.\n",
    "\n",
    "econ_dataset = MyDataset(econ_encodings) # Economic / Non-Economic\n",
    "sc_dataset = MyDataset(sc_encodings) # Socio-Cultural / Non-Socio-Cultural"
   ]
  },
  {
   "cell_type": "markdown",
   "id": "a8bad332",
   "metadata": {
    "id": "a8bad332"
   },
   "source": [
    "I inspect the newly created custom Torch datasets to check whether there are any issues. This is a bill summary in the Torch `econ_dataset`:"
   ]
  },
  {
   "cell_type": "code",
   "execution_count": 20,
   "id": "1481c5f3",
   "metadata": {
    "colab": {
     "base_uri": "https://localhost:8080/",
     "height": 88
    },
    "id": "1481c5f3",
    "outputId": "47b53777-a384-498f-d9b7-fb612f29a7d5"
   },
   "outputs": [
    {
     "data": {
      "application/vnd.google.colaboratory.intrinsic+json": {
       "type": "string"
      },
      "text/plain": [
       "'[CLS] this bill amends the agricultural act of 2014 to provide an exception to the rule that prohibits the department of agricultur ##e from providing price loss coverage payments or agricultur ##e risk coverage payments to a producer on a farm if the sum of the base acres on the farm is 10 acres or less . the exception applies if the sum of the base acres on the farm , when combined with the base acres of other farm ##s in which the producer has an interest , is more than 10 acres . [SEP] [PAD] [PAD] [PAD] [PAD]'"
      ]
     },
     "execution_count": 20,
     "metadata": {},
     "output_type": "execute_result"
    }
   ],
   "source": [
    "# I take the first document in \"econ_dataset\" dataset, and I join its first 100 tokens by a whitespace to get a sneak peek.\n",
    "\n",
    "\" \".join(econ_dataset.encodings[0].tokens[0:100])"
   ]
  },
  {
   "cell_type": "markdown",
   "id": "d2d5aa8d",
   "metadata": {
    "id": "d2d5aa8d"
   },
   "source": [
    "This is the same bill summary in the Torch `sc_dataset`:"
   ]
  },
  {
   "cell_type": "code",
   "execution_count": 21,
   "id": "e3b2cc98",
   "metadata": {
    "colab": {
     "base_uri": "https://localhost:8080/",
     "height": 88
    },
    "id": "e3b2cc98",
    "outputId": "c30b265c-1b4f-4371-af45-c9b106d4822d"
   },
   "outputs": [
    {
     "data": {
      "application/vnd.google.colaboratory.intrinsic+json": {
       "type": "string"
      },
      "text/plain": [
       "'[CLS] this bill amend ##s the agricultural act of 2014 to provide an exception to the rule that prohibits the department of agriculture from providing price loss coverage payments or agriculture risk coverage payments to a producer on a farm if the sum of the base acres on the farm is 10 acres or less . the exception applies if the sum of the base acres on the farm , when combined with the base acres of other farms in which the producer has an interest , is more than 10 acres . [SEP] [PAD] [PAD] [PAD] [PAD] [PAD] [PAD]'"
      ]
     },
     "execution_count": 21,
     "metadata": {},
     "output_type": "execute_result"
    }
   ],
   "source": [
    "# I take the same document in \"sc_dataset\" dataset, and I join its first 100 tokens by a whitespace to get a sneak peek.\n",
    "\n",
    "\" \".join(sc_dataset.encodings[0].tokens[0:100])"
   ]
  },
  {
   "cell_type": "markdown",
   "id": "fe709091",
   "metadata": {
    "id": "fe709091"
   },
   "source": [
    "The custom Torch datasets are appropriately set up. It is time to initialise the pre-trained BERT models and make my predictions.\n",
    "\n",
    "## **5. Initialising the Fine-Tuned BERT Models**\n",
    "I am now ready to import the existing fine-tuned BERT models and transfer them to the Compute Unified Device Architecture (CUDA) for efficient GPU computation. I repeat the process for each classification task and custom Torch dataset. Remember that I am employing the fine-tuned `LEGAL-BERT` for the Economic / Non-Economic classification, and the fine-tuned base BERT for the Socio-Cultural / Non-Socio-Cultural classification."
   ]
  },
  {
   "cell_type": "code",
   "execution_count": 22,
   "id": "2124ea33",
   "metadata": {
    "id": "2124ea33"
   },
   "outputs": [],
   "source": [
    "model_econ = AutoModelForSequenceClassification.from_pretrained(save_directory_econ, num_labels = len(id2label_econ)).to(device_name)\n",
    "model_sc = AutoModelForSequenceClassification.from_pretrained(save_directory_sc, num_labels = len(id2label_sc)).to(device_name)"
   ]
  },
  {
   "cell_type": "markdown",
   "id": "827c2119",
   "metadata": {
    "id": "827c2119"
   },
   "source": [
    "I now wrap an iterable around the two custom Torch datasets to enable easy access to the samples and the employment of batches with the efficient `DataLoader` tool. This solution was inspired by the PyTorch Team's tutorial for beginners on Datasets and Dataloaders, which is available [here](https://pytorch.org/tutorials/beginner/basics/data_tutorial.html#preparing-your-data-for-training-with-dataloaders). It is thanks to the `DataLoader` tool that I can load batches of 180 documents at a time on Google CoLab's GPU for the most efficient performance. This means that I will only need 109 iterations per classification task when predicting the labels. "
   ]
  },
  {
   "cell_type": "code",
   "execution_count": 23,
   "id": "d53cb522",
   "metadata": {
    "id": "d53cb522"
   },
   "outputs": [],
   "source": [
    "# Wrapping an iterable around my Torch datasets with the \"DataLoader\" tool\n",
    "dl_econ = DataLoader(econ_dataset, batch_size = 180)\n",
    "dl_sc = DataLoader(sc_dataset, batch_size = 180)\n",
    "\n",
    "# I calculate the number of total batches for each classification task to update the user on the loop's completion\n",
    "total_batches_econ = len(dl_econ)\n",
    "total_batches_sc = len(dl_sc)"
   ]
  },
  {
   "cell_type": "markdown",
   "id": "2df0f157",
   "metadata": {
    "id": "2df0f157"
   },
   "source": [
    "## **6. Making My Predictions**\n",
    "\n",
    "I am now ready to make my predictions. I start with the Economic / Non-Economic classification task. The prediction loop is quite complex to explain without grounding one's interpretation on the script, so I illustrate it directly in the following cells' comments.\n",
    "\n",
    "The solution is partially inspired by the user `Rohan Shetty`'s response to [this](https://datascience.stackexchange.com/questions/32651/what-is-the-use-of-torch-no-grad-in-pytorch) StackExchange thread. I must greatly thank this user for informing me that, when one does not want to perform training - i.e., validation, testing, or any downstream task - the `torch.no_grad` method will reduce the memory usage and speed up computations.\n",
    "\n",
    "Another inspiration is [this](https://curiousily.com/posts/sentiment-analysis-with-bert-and-hugging-face-using-pytorch-and-python/) tutorial by Venelin Valkov, which helped me to correctly retrieve the input tensors from each batch. I must greatly thank the user `CLopez138` on StackOverflow for having led me to this tutorial, through [this](https://stackoverflow.com/questions/69820318/predicting-sentiment-of-raw-text-using-trained-bert-model-hugging-face) thread. Without it, I would have never tentatively understood how to appropriately feed data to the model to get the logit predictions."
   ]
  },
  {
   "cell_type": "code",
   "execution_count": 24,
   "id": "cc12ab48",
   "metadata": {
    "colab": {
     "base_uri": "https://localhost:8080/"
    },
    "id": "cc12ab48",
    "outputId": "1bce6ecc-5764-4e2b-a30d-b99a8c822316"
   },
   "outputs": [
    {
     "name": "stdout",
     "output_type": "stream",
     "text": [
      "Predicting batch number 1 out of 109...\n",
      "Predicting batch number 2 out of 109...\n",
      "Predicting batch number 3 out of 109...\n",
      "Predicting batch number 4 out of 109...\n",
      "Predicting batch number 5 out of 109...\n",
      "Predicting batch number 6 out of 109...\n",
      "Predicting batch number 7 out of 109...\n",
      "Predicting batch number 8 out of 109...\n",
      "Predicting batch number 9 out of 109...\n",
      "Predicting batch number 10 out of 109...\n",
      "Predicting batch number 11 out of 109...\n",
      "Predicting batch number 12 out of 109...\n",
      "Predicting batch number 13 out of 109...\n",
      "Predicting batch number 14 out of 109...\n",
      "Predicting batch number 15 out of 109...\n",
      "Predicting batch number 16 out of 109...\n",
      "Predicting batch number 17 out of 109...\n",
      "Predicting batch number 18 out of 109...\n",
      "Predicting batch number 19 out of 109...\n",
      "Predicting batch number 20 out of 109...\n",
      "Predicting batch number 21 out of 109...\n",
      "Predicting batch number 22 out of 109...\n",
      "Predicting batch number 23 out of 109...\n",
      "Predicting batch number 24 out of 109...\n",
      "Predicting batch number 25 out of 109...\n",
      "Predicting batch number 26 out of 109...\n",
      "Predicting batch number 27 out of 109...\n",
      "Predicting batch number 28 out of 109...\n",
      "Predicting batch number 29 out of 109...\n",
      "Predicting batch number 30 out of 109...\n",
      "Predicting batch number 31 out of 109...\n",
      "Predicting batch number 32 out of 109...\n",
      "Predicting batch number 33 out of 109...\n",
      "Predicting batch number 34 out of 109...\n",
      "Predicting batch number 35 out of 109...\n",
      "Predicting batch number 36 out of 109...\n",
      "Predicting batch number 37 out of 109...\n",
      "Predicting batch number 38 out of 109...\n",
      "Predicting batch number 39 out of 109...\n",
      "Predicting batch number 40 out of 109...\n",
      "Predicting batch number 41 out of 109...\n",
      "Predicting batch number 42 out of 109...\n",
      "Predicting batch number 43 out of 109...\n",
      "Predicting batch number 44 out of 109...\n",
      "Predicting batch number 45 out of 109...\n",
      "Predicting batch number 46 out of 109...\n",
      "Predicting batch number 47 out of 109...\n",
      "Predicting batch number 48 out of 109...\n",
      "Predicting batch number 49 out of 109...\n",
      "Predicting batch number 50 out of 109...\n",
      "Predicting batch number 51 out of 109...\n",
      "Predicting batch number 52 out of 109...\n",
      "Predicting batch number 53 out of 109...\n",
      "Predicting batch number 54 out of 109...\n",
      "Predicting batch number 55 out of 109...\n",
      "Predicting batch number 56 out of 109...\n",
      "Predicting batch number 57 out of 109...\n",
      "Predicting batch number 58 out of 109...\n",
      "Predicting batch number 59 out of 109...\n",
      "Predicting batch number 60 out of 109...\n",
      "Predicting batch number 61 out of 109...\n",
      "Predicting batch number 62 out of 109...\n",
      "Predicting batch number 63 out of 109...\n",
      "Predicting batch number 64 out of 109...\n",
      "Predicting batch number 65 out of 109...\n",
      "Predicting batch number 66 out of 109...\n",
      "Predicting batch number 67 out of 109...\n",
      "Predicting batch number 68 out of 109...\n",
      "Predicting batch number 69 out of 109...\n",
      "Predicting batch number 70 out of 109...\n",
      "Predicting batch number 71 out of 109...\n",
      "Predicting batch number 72 out of 109...\n",
      "Predicting batch number 73 out of 109...\n",
      "Predicting batch number 74 out of 109...\n",
      "Predicting batch number 75 out of 109...\n",
      "Predicting batch number 76 out of 109...\n",
      "Predicting batch number 77 out of 109...\n",
      "Predicting batch number 78 out of 109...\n",
      "Predicting batch number 79 out of 109...\n",
      "Predicting batch number 80 out of 109...\n",
      "Predicting batch number 81 out of 109...\n",
      "Predicting batch number 82 out of 109...\n",
      "Predicting batch number 83 out of 109...\n",
      "Predicting batch number 84 out of 109...\n",
      "Predicting batch number 85 out of 109...\n",
      "Predicting batch number 86 out of 109...\n",
      "Predicting batch number 87 out of 109...\n",
      "Predicting batch number 88 out of 109...\n",
      "Predicting batch number 89 out of 109...\n",
      "Predicting batch number 90 out of 109...\n",
      "Predicting batch number 91 out of 109...\n",
      "Predicting batch number 92 out of 109...\n",
      "Predicting batch number 93 out of 109...\n",
      "Predicting batch number 94 out of 109...\n",
      "Predicting batch number 95 out of 109...\n",
      "Predicting batch number 96 out of 109...\n",
      "Predicting batch number 97 out of 109...\n",
      "Predicting batch number 98 out of 109...\n",
      "Predicting batch number 99 out of 109...\n",
      "Predicting batch number 100 out of 109...\n",
      "Predicting batch number 101 out of 109...\n",
      "Predicting batch number 102 out of 109...\n",
      "Predicting batch number 103 out of 109...\n",
      "Predicting batch number 104 out of 109...\n",
      "Predicting batch number 105 out of 109...\n",
      "Predicting batch number 106 out of 109...\n",
      "Predicting batch number 107 out of 109...\n",
      "Predicting batch number 108 out of 109...\n",
      "Predicting batch number 109 out of 109...\n",
      "\n",
      "All predictions are drawn.\n"
     ]
    }
   ],
   "source": [
    "# a. Economic / Non-Economic\n",
    "\n",
    "counter = 0 # I create a counter to keep the user updated during the loop\n",
    "predictions_econ = [] # I create an empty list where I store the batches of predictions\n",
    "\n",
    "# I do not want to train the model - i.e., update the model's parameters - therefore\n",
    "# I call Torch's \"no_grad()\" method, which allows me to disable gradient calculation\n",
    "# to reduce the memory usage and speed up computations.\n",
    "\n",
    "with torch.no_grad():\n",
    "    # I loop over every batch in the \"dl_econ\" DataLoader object\n",
    "    for batch in dl_econ:\n",
    "\n",
    "        # I retrieve the required input tensors from the given batch and I send them to the GPU\n",
    "        input_ids = batch[\"input_ids\"].to(device_name)\n",
    "        attention_mask = batch[\"attention_mask\"].to(device_name)\n",
    "        token_type_ids = batch[\"token_type_ids\"].to(device_name)\n",
    "\n",
    "        counter += 1 # I update the counter to update the user on the loop's completion\n",
    "\n",
    "        # I print a message that serves to inform the user on the loop's completion\n",
    "        print(f\"Predicting batch number {counter} out of {total_batches_econ}...\")\n",
    "\n",
    "        # I get the predictions from the model by feeding it the required input tensors\n",
    "        # I select the first element from the output, which is the logit that I need\n",
    "        logits_econ = model_econ(input_ids, attention_mask = attention_mask, token_type_ids = token_type_ids)[0]\n",
    "\n",
    "        # I convert the logits into a one-dimensional integer (0 or 1) that signals the predicted class\n",
    "        predictions_econ_num = torch.argmax(logits_econ, dim = 1)\n",
    "\n",
    "        # I convert the predicted labels to the actual labels by using the label mapping I set up beforehand\n",
    "        # I use a list comprehension by looping over the \"predictions_econ_num\" object while converting it into a list\n",
    "        # For each label in the list, I apply the dictionary for re-mapping\n",
    "        predictions_econ_lab = [id2label_econ[lab] for lab in predictions_econ_num.tolist()]\n",
    "\n",
    "        # I append the predictions in the character format to the originally empty \"predictions_econ\" list\n",
    "        predictions_econ.append(predictions_econ_lab)\n",
    "\n",
    "print(\"\\nAll predictions are drawn.\")"
   ]
  },
  {
   "cell_type": "markdown",
   "id": "tP-qAiCEzelZ",
   "metadata": {
    "id": "tP-qAiCEzelZ"
   },
   "source": [
    "Shots fired! I now check whether the loop functioned correctly."
   ]
  },
  {
   "cell_type": "code",
   "execution_count": 25,
   "id": "c8eQaJ6UScfF",
   "metadata": {
    "colab": {
     "base_uri": "https://localhost:8080/"
    },
    "id": "c8eQaJ6UScfF",
    "outputId": "b2d9a373-10df-4e2d-fee5-d3f058dbfdf3"
   },
   "outputs": [
    {
     "name": "stdout",
     "output_type": "stream",
     "text": [
      "109\n"
     ]
    }
   ],
   "source": [
    "# I check whether the \"predictions_econ\" list of list's length is 109, equal to the total number of batches\n",
    "print(len(predictions_econ))"
   ]
  },
  {
   "cell_type": "markdown",
   "id": "rnf3Ta1Ezvri",
   "metadata": {
    "id": "rnf3Ta1Ezvri"
   },
   "source": [
    "I must now flatten the list of lists, unpacking the sublists, to get the predictions for the 19620 unlabelled documents into a format that can be easily and orderly saved within a `DataFrame` object."
   ]
  },
  {
   "cell_type": "code",
   "execution_count": 26,
   "id": "133b0820",
   "metadata": {
    "id": "133b0820"
   },
   "outputs": [],
   "source": [
    "# I design a list comprehension to loop over all the sublists, and the values within the sublists.\n",
    "# This list comprehension helps me flatten the original lists of lists!\n",
    "\n",
    "predictions_econ_flat = [val for sublist in predictions_econ for val in sublist]"
   ]
  },
  {
   "cell_type": "code",
   "execution_count": 27,
   "id": "ctCiTaseeGqQ",
   "metadata": {
    "colab": {
     "base_uri": "https://localhost:8080/"
    },
    "id": "ctCiTaseeGqQ",
    "outputId": "60ca2b4c-0839-454d-eb0f-0a7558c3dc7d"
   },
   "outputs": [
    {
     "name": "stdout",
     "output_type": "stream",
     "text": [
      "19620\n"
     ]
    }
   ],
   "source": [
    "# I check whether the \"predictions_econ_flat\" list's length is 19620, equal to the total number of unlabelled documents\n",
    "print(len(predictions_econ_flat))"
   ]
  },
  {
   "cell_type": "code",
   "execution_count": 28,
   "id": "8A2x35RzeXOE",
   "metadata": {
    "colab": {
     "base_uri": "https://localhost:8080/"
    },
    "id": "8A2x35RzeXOE",
    "outputId": "fe2bfb34-da74-4e2f-dc9b-60d5f1e6b98e"
   },
   "outputs": [
    {
     "name": "stdout",
     "output_type": "stream",
     "text": [
      "['Economic', 'Economic', 'Non-Economic', 'Economic', 'Economic']\n"
     ]
    }
   ],
   "source": [
    "# I check whether the \"predictions_econ_flat\" list contains \"Economic\" and \"Non-Economic\" labels.\n",
    "print(predictions_econ_flat[:5])"
   ]
  },
  {
   "cell_type": "markdown",
   "id": "SLeR6vJC0uZh",
   "metadata": {
    "id": "SLeR6vJC0uZh"
   },
   "source": [
    "Everything seems to have gone smoothly! Before moving on to the Socio-Cultural / Non-Socio-Cultural classification task, I want to get the total number of documents that were classified as either Economic, or Non-Economic. I do this by implementing the efficient `Counter` function. This solution was inspired by `Vidul`'s response to [this](https://stackoverflow.com/questions/69820318/predicting-sentiment-of-raw-text-using-trained-bert-model-hugging-face) StackOverflow thread. I must greatly thank this user for introducing me to this very useful tool."
   ]
  },
  {
   "cell_type": "code",
   "execution_count": 29,
   "id": "TWEOEaT7e00W",
   "metadata": {
    "colab": {
     "base_uri": "https://localhost:8080/"
    },
    "id": "TWEOEaT7e00W",
    "outputId": "8fcb8207-838c-43c1-c8cc-cb4bef6251c7"
   },
   "outputs": [
    {
     "name": "stdout",
     "output_type": "stream",
     "text": [
      "Economic: 11013\n",
      "Non-Economic: 8607\n"
     ]
    }
   ],
   "source": [
    "# Package for counting unique values within a list\n",
    "from collections import Counter\n",
    "\n",
    "# I count the occurrences of each label in the list with the \"Counter\" function...\n",
    "counterattack_econ = Counter(predictions_econ_flat)\n",
    "\n",
    "# ...and I print them by looping over the \"counterattack_econ\" dictionary\n",
    "for label, count in counterattack_econ.items():\n",
    "    print(f\"{label}: {count}\")"
   ]
  },
  {
   "cell_type": "markdown",
   "id": "XUd5YE5r15pj",
   "metadata": {
    "id": "XUd5YE5r15pj"
   },
   "source": [
    "The relative numbers of Economic / Non-Economic classifications are quite believable. A notable majority of documents in the `labelled.csv` dataset were coded as \"Economic\", even though the model is probably slightly inflating their number. However, I expected this to happen, as all the tested models had somewhat of a problem with artificially inflating positive labels. I now turn to the Socio-Cultural / Non-Socio-Cultural classification task."
   ]
  },
  {
   "cell_type": "code",
   "execution_count": 30,
   "id": "c228282f",
   "metadata": {
    "colab": {
     "base_uri": "https://localhost:8080/"
    },
    "id": "c228282f",
    "outputId": "c64c729f-904d-4dee-80ed-aa22a41401ba"
   },
   "outputs": [
    {
     "name": "stdout",
     "output_type": "stream",
     "text": [
      "Predicting batch number 1 out of 109...\n",
      "Predicting batch number 2 out of 109...\n",
      "Predicting batch number 3 out of 109...\n",
      "Predicting batch number 4 out of 109...\n",
      "Predicting batch number 5 out of 109...\n",
      "Predicting batch number 6 out of 109...\n",
      "Predicting batch number 7 out of 109...\n",
      "Predicting batch number 8 out of 109...\n",
      "Predicting batch number 9 out of 109...\n",
      "Predicting batch number 10 out of 109...\n",
      "Predicting batch number 11 out of 109...\n",
      "Predicting batch number 12 out of 109...\n",
      "Predicting batch number 13 out of 109...\n",
      "Predicting batch number 14 out of 109...\n",
      "Predicting batch number 15 out of 109...\n",
      "Predicting batch number 16 out of 109...\n",
      "Predicting batch number 17 out of 109...\n",
      "Predicting batch number 18 out of 109...\n",
      "Predicting batch number 19 out of 109...\n",
      "Predicting batch number 20 out of 109...\n",
      "Predicting batch number 21 out of 109...\n",
      "Predicting batch number 22 out of 109...\n",
      "Predicting batch number 23 out of 109...\n",
      "Predicting batch number 24 out of 109...\n",
      "Predicting batch number 25 out of 109...\n",
      "Predicting batch number 26 out of 109...\n",
      "Predicting batch number 27 out of 109...\n",
      "Predicting batch number 28 out of 109...\n",
      "Predicting batch number 29 out of 109...\n",
      "Predicting batch number 30 out of 109...\n",
      "Predicting batch number 31 out of 109...\n",
      "Predicting batch number 32 out of 109...\n",
      "Predicting batch number 33 out of 109...\n",
      "Predicting batch number 34 out of 109...\n",
      "Predicting batch number 35 out of 109...\n",
      "Predicting batch number 36 out of 109...\n",
      "Predicting batch number 37 out of 109...\n",
      "Predicting batch number 38 out of 109...\n",
      "Predicting batch number 39 out of 109...\n",
      "Predicting batch number 40 out of 109...\n",
      "Predicting batch number 41 out of 109...\n",
      "Predicting batch number 42 out of 109...\n",
      "Predicting batch number 43 out of 109...\n",
      "Predicting batch number 44 out of 109...\n",
      "Predicting batch number 45 out of 109...\n",
      "Predicting batch number 46 out of 109...\n",
      "Predicting batch number 47 out of 109...\n",
      "Predicting batch number 48 out of 109...\n",
      "Predicting batch number 49 out of 109...\n",
      "Predicting batch number 50 out of 109...\n",
      "Predicting batch number 51 out of 109...\n",
      "Predicting batch number 52 out of 109...\n",
      "Predicting batch number 53 out of 109...\n",
      "Predicting batch number 54 out of 109...\n",
      "Predicting batch number 55 out of 109...\n",
      "Predicting batch number 56 out of 109...\n",
      "Predicting batch number 57 out of 109...\n",
      "Predicting batch number 58 out of 109...\n",
      "Predicting batch number 59 out of 109...\n",
      "Predicting batch number 60 out of 109...\n",
      "Predicting batch number 61 out of 109...\n",
      "Predicting batch number 62 out of 109...\n",
      "Predicting batch number 63 out of 109...\n",
      "Predicting batch number 64 out of 109...\n",
      "Predicting batch number 65 out of 109...\n",
      "Predicting batch number 66 out of 109...\n",
      "Predicting batch number 67 out of 109...\n",
      "Predicting batch number 68 out of 109...\n",
      "Predicting batch number 69 out of 109...\n",
      "Predicting batch number 70 out of 109...\n",
      "Predicting batch number 71 out of 109...\n",
      "Predicting batch number 72 out of 109...\n",
      "Predicting batch number 73 out of 109...\n",
      "Predicting batch number 74 out of 109...\n",
      "Predicting batch number 75 out of 109...\n",
      "Predicting batch number 76 out of 109...\n",
      "Predicting batch number 77 out of 109...\n",
      "Predicting batch number 78 out of 109...\n",
      "Predicting batch number 79 out of 109...\n",
      "Predicting batch number 80 out of 109...\n",
      "Predicting batch number 81 out of 109...\n",
      "Predicting batch number 82 out of 109...\n",
      "Predicting batch number 83 out of 109...\n",
      "Predicting batch number 84 out of 109...\n",
      "Predicting batch number 85 out of 109...\n",
      "Predicting batch number 86 out of 109...\n",
      "Predicting batch number 87 out of 109...\n",
      "Predicting batch number 88 out of 109...\n",
      "Predicting batch number 89 out of 109...\n",
      "Predicting batch number 90 out of 109...\n",
      "Predicting batch number 91 out of 109...\n",
      "Predicting batch number 92 out of 109...\n",
      "Predicting batch number 93 out of 109...\n",
      "Predicting batch number 94 out of 109...\n",
      "Predicting batch number 95 out of 109...\n",
      "Predicting batch number 96 out of 109...\n",
      "Predicting batch number 97 out of 109...\n",
      "Predicting batch number 98 out of 109...\n",
      "Predicting batch number 99 out of 109...\n",
      "Predicting batch number 100 out of 109...\n",
      "Predicting batch number 101 out of 109...\n",
      "Predicting batch number 102 out of 109...\n",
      "Predicting batch number 103 out of 109...\n",
      "Predicting batch number 104 out of 109...\n",
      "Predicting batch number 105 out of 109...\n",
      "Predicting batch number 106 out of 109...\n",
      "Predicting batch number 107 out of 109...\n",
      "Predicting batch number 108 out of 109...\n",
      "Predicting batch number 109 out of 109...\n",
      "\n",
      "All predictions are drawn.\n"
     ]
    }
   ],
   "source": [
    "# b. Socio-Cultural / Non-Socio-Cultural\n",
    "\n",
    "counter = 0 # I create a counter to keep the user updated during the loop\n",
    "predictions_sc = [] # I create an empty list where I store the batches of predictions\n",
    "\n",
    "# I do not want to train the model - i.e., update the model's parameters - therefore\n",
    "# I call Torch's \"no_grad()\" method, which allows me to disable gradient calculation\n",
    "# to reduce the memory usage and speed up computations.\n",
    "\n",
    "with torch.no_grad():\n",
    "\n",
    "    # I loop over every batch in the \"dl_sc\" DataLoader object\n",
    "    for batch in dl_sc:\n",
    "\n",
    "        # I retrieve the required input tensors from the given batch and I send them to the GPU\n",
    "        input_ids = batch[\"input_ids\"].to(device_name)\n",
    "        attention_mask = batch[\"attention_mask\"].to(device_name)\n",
    "        token_type_ids = batch[\"token_type_ids\"].to(device_name)\n",
    "\n",
    "        counter += 1 # I update the counter to update the user on the loop's completion\n",
    "\n",
    "        # I print a message that serves to inform the user on the loop's completion\n",
    "        print(f\"Predicting batch number {counter} out of {total_batches_sc}...\")\n",
    "\n",
    "        # I get the predictions from the model by feeding it the required input tensors\n",
    "        # I select the first element from the output, which is the logit that I need\n",
    "        logits_sc = model_sc(input_ids, attention_mask = attention_mask, token_type_ids = token_type_ids)[0]\n",
    "\n",
    "        # I convert the logits into a one-dimensional integer (0 or 1) that signals the predicted class\n",
    "        predictions_sc_num = torch.argmax(logits_sc, dim = 1)\n",
    "\n",
    "        # I convert the predicted labels to the actual labels by using the label mapping I set up beforehand\n",
    "        # I use a list comprehension by looping over the \"predictions_sc_num\" object while converting it into a list\n",
    "        # For each label in the list, I apply the dictionary for re-mapping\n",
    "        predictions_sc_lab = [id2label_sc[lab] for lab in predictions_sc_num.tolist()]\n",
    "\n",
    "        # I append the predictions in the character format to the originally empty \"predictions_sc\" list\n",
    "        predictions_sc.append(predictions_sc_lab)\n",
    "\n",
    "print(\"\\nAll predictions are drawn.\")"
   ]
  },
  {
   "cell_type": "markdown",
   "id": "S6S8cQfp4PB2",
   "metadata": {
    "id": "S6S8cQfp4PB2"
   },
   "source": [
    "Shots fired! I now check whether the loop functioned correctly."
   ]
  },
  {
   "cell_type": "code",
   "execution_count": 31,
   "id": "diezA9dWSjUU",
   "metadata": {
    "colab": {
     "base_uri": "https://localhost:8080/"
    },
    "id": "diezA9dWSjUU",
    "outputId": "9bf5a5f9-044a-4407-ab43-876d35bb032d"
   },
   "outputs": [
    {
     "name": "stdout",
     "output_type": "stream",
     "text": [
      "109\n"
     ]
    }
   ],
   "source": [
    "# I check whether the \"predictions_sc\" list of list's length is 109, equal to the total number of batches\n",
    "print(len(predictions_sc))"
   ]
  },
  {
   "cell_type": "markdown",
   "id": "43ZVlAvy4Y0l",
   "metadata": {
    "id": "43ZVlAvy4Y0l"
   },
   "source": [
    "I must now flatten the list of lists, unpacking the sublists, to get the predictions for the 19620 unlabelled documents into a format that can be easily and orderly saved within a `DataFrame` object."
   ]
  },
  {
   "cell_type": "code",
   "execution_count": 32,
   "id": "hOaj6RWkS2hY",
   "metadata": {
    "id": "hOaj6RWkS2hY"
   },
   "outputs": [],
   "source": [
    "# I design a list comprehension to loop over all the sublists, and the values within the sublists.\n",
    "# This list comprehension helps me flatten the original lists of lists!\n",
    "\n",
    "predictions_sc_flat = [val for sublist in predictions_sc for val in sublist]"
   ]
  },
  {
   "cell_type": "code",
   "execution_count": 33,
   "id": "ND1lfuYkfoQ8",
   "metadata": {
    "colab": {
     "base_uri": "https://localhost:8080/"
    },
    "id": "ND1lfuYkfoQ8",
    "outputId": "221569dd-bbe9-4727-b3c2-9b2dcf9ea24e"
   },
   "outputs": [
    {
     "name": "stdout",
     "output_type": "stream",
     "text": [
      "19620\n"
     ]
    }
   ],
   "source": [
    "# I check whether the \"predictions_sc_flat\" list's length is 19620, equal to the total number of unlabelled documents\n",
    "print(len(predictions_sc_flat))"
   ]
  },
  {
   "cell_type": "code",
   "execution_count": 34,
   "id": "U4wVAAbZfrQ-",
   "metadata": {
    "colab": {
     "base_uri": "https://localhost:8080/"
    },
    "id": "U4wVAAbZfrQ-",
    "outputId": "c2e0df68-2a6c-444e-8153-d44b36ed5543"
   },
   "outputs": [
    {
     "name": "stdout",
     "output_type": "stream",
     "text": [
      "['Non-Socio-Cultural', 'Socio-Cultural', 'Socio-Cultural', 'Non-Socio-Cultural', 'Socio-Cultural']\n"
     ]
    }
   ],
   "source": [
    "# I check whether the \"predictions_sc_flat\" list contains \"Socio-Cultural\" and \"Non-Socio-Cultural\" labels.\n",
    "\n",
    "print(predictions_sc_flat[:5])"
   ]
  },
  {
   "cell_type": "markdown",
   "id": "SbMxK0d-6Mza",
   "metadata": {
    "id": "SbMxK0d-6Mza"
   },
   "source": [
    "Everything seems to have gone smoothly! Before moving on to save the predictions into the final `unlabelled.csv`dataset, I want to get the total number of documents that were classified as either Socio-Cultural, or Non-Socio-Cultural. I do this by implementing the efficient `Counter` function. This solution was inspired by `Vidul`'s response to [this](https://stackoverflow.com/questions/69820318/predicting-sentiment-of-raw-text-using-trained-bert-model-hugging-face) StackOverflow thread. I must greatly thank this user for introducing me to this very useful tool."
   ]
  },
  {
   "cell_type": "code",
   "execution_count": 35,
   "id": "YYuzr0Wrfzzy",
   "metadata": {
    "colab": {
     "base_uri": "https://localhost:8080/"
    },
    "id": "YYuzr0Wrfzzy",
    "outputId": "c743a0dd-4d8a-4c6b-8ce3-ddf43b191076"
   },
   "outputs": [
    {
     "name": "stdout",
     "output_type": "stream",
     "text": [
      "Non-Socio-Cultural: 6022\n",
      "Socio-Cultural: 13598\n"
     ]
    }
   ],
   "source": [
    "from collections import Counter\n",
    "\n",
    "# I count the occurrences of each label in the list with the \"Counter\" function...\n",
    "counterattack_sc = Counter(predictions_sc_flat)\n",
    "\n",
    "# ...and I print them by looping over the \"counterattack_sc\" dictionary\n",
    "for label, count in counterattack_sc.items():\n",
    "    print(f\"{label}: {count}\")"
   ]
  },
  {
   "cell_type": "markdown",
   "id": "DW5AmSyx6aOD",
   "metadata": {
    "id": "DW5AmSyx6aOD"
   },
   "source": [
    "The relative numbers of Socio-Cultural / Non-Socio-Cultural classifications are quite believable. A sharp majority of documents in the `labelled.csv` dataset were coded as \"Socio-Cultural\", even though the model is probably slightly inflating their number. However, I expected this to happen, as all the tested models had somewhat of a problem with artificially inflating positive labels."
   ]
  },
  {
   "cell_type": "markdown",
   "id": "-oeuEajZ6zcb",
   "metadata": {
    "id": "-oeuEajZ6zcb"
   },
   "source": [
    "## **7. Wrapping Up**\n",
    "\n",
    "Now that the predictions have been generated, it is time to orderly save them in the new `unlabelled.csv` dataset, which I will subsequently join with the `labelled.csv` dataset and the US bill summary metadata in the script for metadata cleaning, obtaining the final version of my dataset."
   ]
  },
  {
   "cell_type": "code",
   "execution_count": 36,
   "id": "YQ45BlXO7PMF",
   "metadata": {
    "id": "YQ45BlXO7PMF"
   },
   "outputs": [],
   "source": [
    "# I generate two new empty colums in the unlabelled dataset, with names that mirror the ones of the labelled dataset\n",
    "d[\"economic\"] = None # Economic / Non-Economic\n",
    "d[\"socio_cultural\"] = None # Socio-Cultural / Non-Socio-Cultural\n",
    "\n",
    "# I now assign the respective lists of labels to their corresponding column in the unlabelled dataset\n",
    "d[\"economic\"] = predictions_econ_flat # Economic / Non-Economic\n",
    "d[\"socio_cultural\"] = predictions_sc_flat # Socio-Cultural / Non-Socio-Cultural"
   ]
  },
  {
   "cell_type": "code",
   "execution_count": 37,
   "id": "7RrtpiAe7yNJ",
   "metadata": {
    "colab": {
     "base_uri": "https://localhost:8080/",
     "height": 206
    },
    "id": "7RrtpiAe7yNJ",
    "outputId": "b63820eb-d25a-4278-a496-12e1749d6531"
   },
   "outputs": [
    {
     "data": {
      "text/html": [
       "\n",
       "  <div id=\"df-9c127469-64b6-410f-b19e-08b92aab03b8\">\n",
       "    <div class=\"colab-df-container\">\n",
       "      <div>\n",
       "<style scoped>\n",
       "    .dataframe tbody tr th:only-of-type {\n",
       "        vertical-align: middle;\n",
       "    }\n",
       "\n",
       "    .dataframe tbody tr th {\n",
       "        vertical-align: top;\n",
       "    }\n",
       "\n",
       "    .dataframe thead th {\n",
       "        text-align: right;\n",
       "    }\n",
       "</style>\n",
       "<table border=\"1\" class=\"dataframe\">\n",
       "  <thead>\n",
       "    <tr style=\"text-align: right;\">\n",
       "      <th></th>\n",
       "      <th>congress</th>\n",
       "      <th>bill_number</th>\n",
       "      <th>bill_type</th>\n",
       "      <th>text</th>\n",
       "      <th>economic</th>\n",
       "      <th>socio_cultural</th>\n",
       "    </tr>\n",
       "  </thead>\n",
       "  <tbody>\n",
       "    <tr>\n",
       "      <th>0</th>\n",
       "      <td>115</td>\n",
       "      <td>5405</td>\n",
       "      <td>hr</td>\n",
       "      <td>This bill amends the Agricultural Act of 201...</td>\n",
       "      <td>Economic</td>\n",
       "      <td>Non-Socio-Cultural</td>\n",
       "    </tr>\n",
       "    <tr>\n",
       "      <th>1</th>\n",
       "      <td>115</td>\n",
       "      <td>1980</td>\n",
       "      <td>s</td>\n",
       "      <td>Renewable Chemicals Act of 2017    This bil...</td>\n",
       "      <td>Economic</td>\n",
       "      <td>Socio-Cultural</td>\n",
       "    </tr>\n",
       "    <tr>\n",
       "      <th>2</th>\n",
       "      <td>115</td>\n",
       "      <td>4769</td>\n",
       "      <td>hr</td>\n",
       "      <td>Helping Americans Seek Treatment Act of 201...</td>\n",
       "      <td>Non-Economic</td>\n",
       "      <td>Socio-Cultural</td>\n",
       "    </tr>\n",
       "    <tr>\n",
       "      <th>3</th>\n",
       "      <td>111</td>\n",
       "      <td>1558</td>\n",
       "      <td>s</td>\n",
       "      <td>Travel Reimbursement for Inactive Duty Trai...</td>\n",
       "      <td>Economic</td>\n",
       "      <td>Non-Socio-Cultural</td>\n",
       "    </tr>\n",
       "    <tr>\n",
       "      <th>4</th>\n",
       "      <td>115</td>\n",
       "      <td>3932</td>\n",
       "      <td>hr</td>\n",
       "      <td>Healthcare Expenditures for Low-income Popu...</td>\n",
       "      <td>Economic</td>\n",
       "      <td>Socio-Cultural</td>\n",
       "    </tr>\n",
       "  </tbody>\n",
       "</table>\n",
       "</div>\n",
       "      <button class=\"colab-df-convert\" onclick=\"convertToInteractive('df-9c127469-64b6-410f-b19e-08b92aab03b8')\"\n",
       "              title=\"Convert this dataframe to an interactive table.\"\n",
       "              style=\"display:none;\">\n",
       "        \n",
       "  <svg xmlns=\"http://www.w3.org/2000/svg\" height=\"24px\"viewBox=\"0 0 24 24\"\n",
       "       width=\"24px\">\n",
       "    <path d=\"M0 0h24v24H0V0z\" fill=\"none\"/>\n",
       "    <path d=\"M18.56 5.44l.94 2.06.94-2.06 2.06-.94-2.06-.94-.94-2.06-.94 2.06-2.06.94zm-11 1L8.5 8.5l.94-2.06 2.06-.94-2.06-.94L8.5 2.5l-.94 2.06-2.06.94zm10 10l.94 2.06.94-2.06 2.06-.94-2.06-.94-.94-2.06-.94 2.06-2.06.94z\"/><path d=\"M17.41 7.96l-1.37-1.37c-.4-.4-.92-.59-1.43-.59-.52 0-1.04.2-1.43.59L10.3 9.45l-7.72 7.72c-.78.78-.78 2.05 0 2.83L4 21.41c.39.39.9.59 1.41.59.51 0 1.02-.2 1.41-.59l7.78-7.78 2.81-2.81c.8-.78.8-2.07 0-2.86zM5.41 20L4 18.59l7.72-7.72 1.47 1.35L5.41 20z\"/>\n",
       "  </svg>\n",
       "      </button>\n",
       "      \n",
       "  <style>\n",
       "    .colab-df-container {\n",
       "      display:flex;\n",
       "      flex-wrap:wrap;\n",
       "      gap: 12px;\n",
       "    }\n",
       "\n",
       "    .colab-df-convert {\n",
       "      background-color: #E8F0FE;\n",
       "      border: none;\n",
       "      border-radius: 50%;\n",
       "      cursor: pointer;\n",
       "      display: none;\n",
       "      fill: #1967D2;\n",
       "      height: 32px;\n",
       "      padding: 0 0 0 0;\n",
       "      width: 32px;\n",
       "    }\n",
       "\n",
       "    .colab-df-convert:hover {\n",
       "      background-color: #E2EBFA;\n",
       "      box-shadow: 0px 1px 2px rgba(60, 64, 67, 0.3), 0px 1px 3px 1px rgba(60, 64, 67, 0.15);\n",
       "      fill: #174EA6;\n",
       "    }\n",
       "\n",
       "    [theme=dark] .colab-df-convert {\n",
       "      background-color: #3B4455;\n",
       "      fill: #D2E3FC;\n",
       "    }\n",
       "\n",
       "    [theme=dark] .colab-df-convert:hover {\n",
       "      background-color: #434B5C;\n",
       "      box-shadow: 0px 1px 3px 1px rgba(0, 0, 0, 0.15);\n",
       "      filter: drop-shadow(0px 1px 2px rgba(0, 0, 0, 0.3));\n",
       "      fill: #FFFFFF;\n",
       "    }\n",
       "  </style>\n",
       "\n",
       "      <script>\n",
       "        const buttonEl =\n",
       "          document.querySelector('#df-9c127469-64b6-410f-b19e-08b92aab03b8 button.colab-df-convert');\n",
       "        buttonEl.style.display =\n",
       "          google.colab.kernel.accessAllowed ? 'block' : 'none';\n",
       "\n",
       "        async function convertToInteractive(key) {\n",
       "          const element = document.querySelector('#df-9c127469-64b6-410f-b19e-08b92aab03b8');\n",
       "          const dataTable =\n",
       "            await google.colab.kernel.invokeFunction('convertToInteractive',\n",
       "                                                     [key], {});\n",
       "          if (!dataTable) return;\n",
       "\n",
       "          const docLinkHtml = 'Like what you see? Visit the ' +\n",
       "            '<a target=\"_blank\" href=https://colab.research.google.com/notebooks/data_table.ipynb>data table notebook</a>'\n",
       "            + ' to learn more about interactive tables.';\n",
       "          element.innerHTML = '';\n",
       "          dataTable['output_type'] = 'display_data';\n",
       "          await google.colab.output.renderOutput(dataTable, element);\n",
       "          const docLink = document.createElement('div');\n",
       "          docLink.innerHTML = docLinkHtml;\n",
       "          element.appendChild(docLink);\n",
       "        }\n",
       "      </script>\n",
       "    </div>\n",
       "  </div>\n",
       "  "
      ],
      "text/plain": [
       "   congress  bill_number bill_type  \\\n",
       "0       115         5405        hr   \n",
       "1       115         1980         s   \n",
       "2       115         4769        hr   \n",
       "3       111         1558         s   \n",
       "4       115         3932        hr   \n",
       "\n",
       "                                                text      economic  \\\n",
       "0    This bill amends the Agricultural Act of 201...      Economic   \n",
       "1     Renewable Chemicals Act of 2017    This bil...      Economic   \n",
       "2     Helping Americans Seek Treatment Act of 201...  Non-Economic   \n",
       "3     Travel Reimbursement for Inactive Duty Trai...      Economic   \n",
       "4     Healthcare Expenditures for Low-income Popu...      Economic   \n",
       "\n",
       "       socio_cultural  \n",
       "0  Non-Socio-Cultural  \n",
       "1      Socio-Cultural  \n",
       "2      Socio-Cultural  \n",
       "3  Non-Socio-Cultural  \n",
       "4      Socio-Cultural  "
      ]
     },
     "execution_count": 37,
     "metadata": {},
     "output_type": "execute_result"
    }
   ],
   "source": [
    "# I check the first and last few lines of the DataFrame object to assess if the assignment worked smoothly\n",
    "d.head()"
   ]
  },
  {
   "cell_type": "code",
   "execution_count": 38,
   "id": "Emc31E6j79lU",
   "metadata": {
    "colab": {
     "base_uri": "https://localhost:8080/",
     "height": 206
    },
    "id": "Emc31E6j79lU",
    "outputId": "06bc6a87-b851-4454-8703-d52fe202716d"
   },
   "outputs": [
    {
     "data": {
      "text/html": [
       "\n",
       "  <div id=\"df-c3891d49-6fea-49ed-99f4-42b215c3bed3\">\n",
       "    <div class=\"colab-df-container\">\n",
       "      <div>\n",
       "<style scoped>\n",
       "    .dataframe tbody tr th:only-of-type {\n",
       "        vertical-align: middle;\n",
       "    }\n",
       "\n",
       "    .dataframe tbody tr th {\n",
       "        vertical-align: top;\n",
       "    }\n",
       "\n",
       "    .dataframe thead th {\n",
       "        text-align: right;\n",
       "    }\n",
       "</style>\n",
       "<table border=\"1\" class=\"dataframe\">\n",
       "  <thead>\n",
       "    <tr style=\"text-align: right;\">\n",
       "      <th></th>\n",
       "      <th>congress</th>\n",
       "      <th>bill_number</th>\n",
       "      <th>bill_type</th>\n",
       "      <th>text</th>\n",
       "      <th>economic</th>\n",
       "      <th>socio_cultural</th>\n",
       "    </tr>\n",
       "  </thead>\n",
       "  <tbody>\n",
       "    <tr>\n",
       "      <th>19615</th>\n",
       "      <td>111</td>\n",
       "      <td>1063</td>\n",
       "      <td>hr</td>\n",
       "      <td>Amends the Energy Independence and Security ...</td>\n",
       "      <td>Non-Economic</td>\n",
       "      <td>Socio-Cultural</td>\n",
       "    </tr>\n",
       "    <tr>\n",
       "      <th>19616</th>\n",
       "      <td>111</td>\n",
       "      <td>2839</td>\n",
       "      <td>s</td>\n",
       "      <td>Torture Victims Relief Reauthorization Act o...</td>\n",
       "      <td>Economic</td>\n",
       "      <td>Socio-Cultural</td>\n",
       "    </tr>\n",
       "    <tr>\n",
       "      <th>19617</th>\n",
       "      <td>111</td>\n",
       "      <td>834</td>\n",
       "      <td>hr</td>\n",
       "      <td>Ramos and Compean Justice Act of 2009 - Amen...</td>\n",
       "      <td>Non-Economic</td>\n",
       "      <td>Socio-Cultural</td>\n",
       "    </tr>\n",
       "    <tr>\n",
       "      <th>19618</th>\n",
       "      <td>115</td>\n",
       "      <td>1935</td>\n",
       "      <td>s</td>\n",
       "      <td>Tribal Tax and Investment Reform Act of 201...</td>\n",
       "      <td>Economic</td>\n",
       "      <td>Socio-Cultural</td>\n",
       "    </tr>\n",
       "    <tr>\n",
       "      <th>19619</th>\n",
       "      <td>111</td>\n",
       "      <td>1940</td>\n",
       "      <td>hr</td>\n",
       "      <td>Wellness Trust Act - Amends the Public Healt...</td>\n",
       "      <td>Economic</td>\n",
       "      <td>Socio-Cultural</td>\n",
       "    </tr>\n",
       "  </tbody>\n",
       "</table>\n",
       "</div>\n",
       "      <button class=\"colab-df-convert\" onclick=\"convertToInteractive('df-c3891d49-6fea-49ed-99f4-42b215c3bed3')\"\n",
       "              title=\"Convert this dataframe to an interactive table.\"\n",
       "              style=\"display:none;\">\n",
       "        \n",
       "  <svg xmlns=\"http://www.w3.org/2000/svg\" height=\"24px\"viewBox=\"0 0 24 24\"\n",
       "       width=\"24px\">\n",
       "    <path d=\"M0 0h24v24H0V0z\" fill=\"none\"/>\n",
       "    <path d=\"M18.56 5.44l.94 2.06.94-2.06 2.06-.94-2.06-.94-.94-2.06-.94 2.06-2.06.94zm-11 1L8.5 8.5l.94-2.06 2.06-.94-2.06-.94L8.5 2.5l-.94 2.06-2.06.94zm10 10l.94 2.06.94-2.06 2.06-.94-2.06-.94-.94-2.06-.94 2.06-2.06.94z\"/><path d=\"M17.41 7.96l-1.37-1.37c-.4-.4-.92-.59-1.43-.59-.52 0-1.04.2-1.43.59L10.3 9.45l-7.72 7.72c-.78.78-.78 2.05 0 2.83L4 21.41c.39.39.9.59 1.41.59.51 0 1.02-.2 1.41-.59l7.78-7.78 2.81-2.81c.8-.78.8-2.07 0-2.86zM5.41 20L4 18.59l7.72-7.72 1.47 1.35L5.41 20z\"/>\n",
       "  </svg>\n",
       "      </button>\n",
       "      \n",
       "  <style>\n",
       "    .colab-df-container {\n",
       "      display:flex;\n",
       "      flex-wrap:wrap;\n",
       "      gap: 12px;\n",
       "    }\n",
       "\n",
       "    .colab-df-convert {\n",
       "      background-color: #E8F0FE;\n",
       "      border: none;\n",
       "      border-radius: 50%;\n",
       "      cursor: pointer;\n",
       "      display: none;\n",
       "      fill: #1967D2;\n",
       "      height: 32px;\n",
       "      padding: 0 0 0 0;\n",
       "      width: 32px;\n",
       "    }\n",
       "\n",
       "    .colab-df-convert:hover {\n",
       "      background-color: #E2EBFA;\n",
       "      box-shadow: 0px 1px 2px rgba(60, 64, 67, 0.3), 0px 1px 3px 1px rgba(60, 64, 67, 0.15);\n",
       "      fill: #174EA6;\n",
       "    }\n",
       "\n",
       "    [theme=dark] .colab-df-convert {\n",
       "      background-color: #3B4455;\n",
       "      fill: #D2E3FC;\n",
       "    }\n",
       "\n",
       "    [theme=dark] .colab-df-convert:hover {\n",
       "      background-color: #434B5C;\n",
       "      box-shadow: 0px 1px 3px 1px rgba(0, 0, 0, 0.15);\n",
       "      filter: drop-shadow(0px 1px 2px rgba(0, 0, 0, 0.3));\n",
       "      fill: #FFFFFF;\n",
       "    }\n",
       "  </style>\n",
       "\n",
       "      <script>\n",
       "        const buttonEl =\n",
       "          document.querySelector('#df-c3891d49-6fea-49ed-99f4-42b215c3bed3 button.colab-df-convert');\n",
       "        buttonEl.style.display =\n",
       "          google.colab.kernel.accessAllowed ? 'block' : 'none';\n",
       "\n",
       "        async function convertToInteractive(key) {\n",
       "          const element = document.querySelector('#df-c3891d49-6fea-49ed-99f4-42b215c3bed3');\n",
       "          const dataTable =\n",
       "            await google.colab.kernel.invokeFunction('convertToInteractive',\n",
       "                                                     [key], {});\n",
       "          if (!dataTable) return;\n",
       "\n",
       "          const docLinkHtml = 'Like what you see? Visit the ' +\n",
       "            '<a target=\"_blank\" href=https://colab.research.google.com/notebooks/data_table.ipynb>data table notebook</a>'\n",
       "            + ' to learn more about interactive tables.';\n",
       "          element.innerHTML = '';\n",
       "          dataTable['output_type'] = 'display_data';\n",
       "          await google.colab.output.renderOutput(dataTable, element);\n",
       "          const docLink = document.createElement('div');\n",
       "          docLink.innerHTML = docLinkHtml;\n",
       "          element.appendChild(docLink);\n",
       "        }\n",
       "      </script>\n",
       "    </div>\n",
       "  </div>\n",
       "  "
      ],
      "text/plain": [
       "       congress  bill_number bill_type  \\\n",
       "19615       111         1063        hr   \n",
       "19616       111         2839         s   \n",
       "19617       111          834        hr   \n",
       "19618       115         1935         s   \n",
       "19619       111         1940        hr   \n",
       "\n",
       "                                                    text      economic  \\\n",
       "19615    Amends the Energy Independence and Security ...  Non-Economic   \n",
       "19616    Torture Victims Relief Reauthorization Act o...      Economic   \n",
       "19617    Ramos and Compean Justice Act of 2009 - Amen...  Non-Economic   \n",
       "19618     Tribal Tax and Investment Reform Act of 201...      Economic   \n",
       "19619    Wellness Trust Act - Amends the Public Healt...      Economic   \n",
       "\n",
       "       socio_cultural  \n",
       "19615  Socio-Cultural  \n",
       "19616  Socio-Cultural  \n",
       "19617  Socio-Cultural  \n",
       "19618  Socio-Cultural  \n",
       "19619  Socio-Cultural  "
      ]
     },
     "execution_count": 38,
     "metadata": {},
     "output_type": "execute_result"
    }
   ],
   "source": [
    "d.tail()"
   ]
  },
  {
   "cell_type": "markdown",
   "id": "REPFa6GQ8InB",
   "metadata": {
    "id": "REPFa6GQ8InB"
   },
   "source": [
    "19620 classified documents, the original four columns I retrieved from `api.congress.gov`, plus the two columns with the automatically classified labels. Everything seems perfect! I can now proceed to save the final version of this dataset."
   ]
  },
  {
   "cell_type": "code",
   "execution_count": 39,
   "id": "ZaLvq6ge8K9Y",
   "metadata": {
    "id": "ZaLvq6ge8K9Y"
   },
   "outputs": [],
   "source": [
    "# I save the DataFrame as \"unlabelled.csv\". I employ \"|\" as a separator to prevent the pd methods from confusing\n",
    "# colons or semi-colons within the texts with the actual separators. I set the \"index\" argument to false, because the indexes\n",
    "# are completely meaningless and do not need to be saved.\n",
    "\n",
    "d.to_csv(\"unlabelled.csv\", sep = \"|\", index = False)"
   ]
  },
  {
   "cell_type": "markdown",
   "id": "d61b1396",
   "metadata": {},
   "source": [
    "From a visual inspection in Notepad++, the predictions seem to be good! I can provide more detailed comments from the human coder perspective on the first few bill summaries, to demonstrate how powerful the models are:\n",
    "\n",
    "1. The first summary is about a bill that amends the Agricultural Act of 2014 to reform price loss coverage payments or agriculture risk coverage payments to producers. This bill is correctly coded as Economic, because it is a law that revises public welfare for farmers, and as Non-Socio-Cultural, because it does not involve a socio-cultural issue.\n",
    "\n",
    "2. The second summary is about a bill that amends the Internal Revenue Code to provide tax credits for investments in renewable and environmental-friendly chemicals. This bill is correctly coded as Economic and Socio-Cultural, because it involves a tax reform within the environmental policy framework.\n",
    "\n",
    "3. The third summary is about a bill that amends the Public Health Service Act to require the Substance Abuse and Mental Health Services Administration (SAMHSA) to conduct a national public awareness campaign regarding its substance abuse treatment referral routing programs. This bill is correctly coded as Non-Economic, because it does not imply any budgetary action by the United States Congress, and Socio-Cultural, because it refers to the very salient socio-cultural issue of substance abuse.\n",
    "\n",
    "4. The fourth summary is about a bill that authorises the Secretary of the military department concerned to reimburse a member of the reserves for certain types of transportation expenses. This bill is correctly coded as Economic, because it concerns public employees' reimbursement, and Non-Socio-Cultural, because even though the military is mentioned, this is not a law that responds to socio-cultural issues related to national security or international relations. This classification is very hard to make, proving that the models truly understand context.\n",
    "\n",
    "5. The fifth summary is about a bill that increases Medicaid funding for Puerto Rico through the Financial Year 2019. This bill is correctly coded as Economic, because it implies that the US Congress is taking action on Medicaid's funding, and Socio-Cultural, because it regards the very salient socio-cultural issue of public / private healthcare, and the socio-culturally conflictual status of Puerto Rico as an unincorporated territory of the United States. In other words, the island of Puerto Rico is neither a sovereign nation, nor an US state, reflecting its colonial past."
   ]
  }
 ],
 "metadata": {
  "accelerator": "GPU",
  "colab": {
   "gpuType": "T4",
   "provenance": []
  },
  "kernelspec": {
   "display_name": "Python 3 (ipykernel)",
   "language": "python",
   "name": "python3"
  },
  "language_info": {
   "codemirror_mode": {
    "name": "ipython",
    "version": 3
   },
   "file_extension": ".py",
   "mimetype": "text/x-python",
   "name": "python",
   "nbconvert_exporter": "python",
   "pygments_lexer": "ipython3",
   "version": "3.9.13"
  },
  "widgets": {
   "application/vnd.jupyter.widget-state+json": {
    "01cbfa8ab81d48f6a042490e1d367822": {
     "model_module": "@jupyter-widgets/controls",
     "model_module_version": "1.5.0",
     "model_name": "HBoxModel",
     "state": {
      "_dom_classes": [],
      "_model_module": "@jupyter-widgets/controls",
      "_model_module_version": "1.5.0",
      "_model_name": "HBoxModel",
      "_view_count": null,
      "_view_module": "@jupyter-widgets/controls",
      "_view_module_version": "1.5.0",
      "_view_name": "HBoxView",
      "box_style": "",
      "children": [
       "IPY_MODEL_140c8c9007184f4486f87620f85e32dd",
       "IPY_MODEL_18a9be576c7741b4b2adfbb10216220f",
       "IPY_MODEL_4fbe92f2036546fca01b8ed5f58d8b1f"
      ],
      "layout": "IPY_MODEL_2ca8e236b4674e9298359c8e2822f1ff"
     }
    },
    "01f8d2fd819c4361abea2bfe7a272089": {
     "model_module": "@jupyter-widgets/base",
     "model_module_version": "1.2.0",
     "model_name": "LayoutModel",
     "state": {
      "_model_module": "@jupyter-widgets/base",
      "_model_module_version": "1.2.0",
      "_model_name": "LayoutModel",
      "_view_count": null,
      "_view_module": "@jupyter-widgets/base",
      "_view_module_version": "1.2.0",
      "_view_name": "LayoutView",
      "align_content": null,
      "align_items": null,
      "align_self": null,
      "border": null,
      "bottom": null,
      "display": null,
      "flex": null,
      "flex_flow": null,
      "grid_area": null,
      "grid_auto_columns": null,
      "grid_auto_flow": null,
      "grid_auto_rows": null,
      "grid_column": null,
      "grid_gap": null,
      "grid_row": null,
      "grid_template_areas": null,
      "grid_template_columns": null,
      "grid_template_rows": null,
      "height": null,
      "justify_content": null,
      "justify_items": null,
      "left": null,
      "margin": null,
      "max_height": null,
      "max_width": null,
      "min_height": null,
      "min_width": null,
      "object_fit": null,
      "object_position": null,
      "order": null,
      "overflow": null,
      "overflow_x": null,
      "overflow_y": null,
      "padding": null,
      "right": null,
      "top": null,
      "visibility": null,
      "width": null
     }
    },
    "0313182ff7354dba8d764752dc58fb99": {
     "model_module": "@jupyter-widgets/base",
     "model_module_version": "1.2.0",
     "model_name": "LayoutModel",
     "state": {
      "_model_module": "@jupyter-widgets/base",
      "_model_module_version": "1.2.0",
      "_model_name": "LayoutModel",
      "_view_count": null,
      "_view_module": "@jupyter-widgets/base",
      "_view_module_version": "1.2.0",
      "_view_name": "LayoutView",
      "align_content": null,
      "align_items": null,
      "align_self": null,
      "border": null,
      "bottom": null,
      "display": null,
      "flex": null,
      "flex_flow": null,
      "grid_area": null,
      "grid_auto_columns": null,
      "grid_auto_flow": null,
      "grid_auto_rows": null,
      "grid_column": null,
      "grid_gap": null,
      "grid_row": null,
      "grid_template_areas": null,
      "grid_template_columns": null,
      "grid_template_rows": null,
      "height": null,
      "justify_content": null,
      "justify_items": null,
      "left": null,
      "margin": null,
      "max_height": null,
      "max_width": null,
      "min_height": null,
      "min_width": null,
      "object_fit": null,
      "object_position": null,
      "order": null,
      "overflow": null,
      "overflow_x": null,
      "overflow_y": null,
      "padding": null,
      "right": null,
      "top": null,
      "visibility": null,
      "width": null
     }
    },
    "05e7bac060f54896a0bfdee7cf2cf88a": {
     "model_module": "@jupyter-widgets/controls",
     "model_module_version": "1.5.0",
     "model_name": "ProgressStyleModel",
     "state": {
      "_model_module": "@jupyter-widgets/controls",
      "_model_module_version": "1.5.0",
      "_model_name": "ProgressStyleModel",
      "_view_count": null,
      "_view_module": "@jupyter-widgets/base",
      "_view_module_version": "1.2.0",
      "_view_name": "StyleView",
      "bar_color": null,
      "description_width": ""
     }
    },
    "06c4f836af054c3a81854eb5979c5876": {
     "model_module": "@jupyter-widgets/controls",
     "model_module_version": "1.5.0",
     "model_name": "HBoxModel",
     "state": {
      "_dom_classes": [],
      "_model_module": "@jupyter-widgets/controls",
      "_model_module_version": "1.5.0",
      "_model_name": "HBoxModel",
      "_view_count": null,
      "_view_module": "@jupyter-widgets/controls",
      "_view_module_version": "1.5.0",
      "_view_name": "HBoxView",
      "box_style": "",
      "children": [
       "IPY_MODEL_74d2464ca472487fa4d49200f24f418c",
       "IPY_MODEL_3ad1bd7c2f4f43f9b38601e62577abf9",
       "IPY_MODEL_c04fbfa1dcfa4e3392aeed94b5cba1e9"
      ],
      "layout": "IPY_MODEL_2d73e2e053d5401da0f9e9b1ccd80489"
     }
    },
    "07577657c1bf465d8d392687dc584cd7": {
     "model_module": "@jupyter-widgets/controls",
     "model_module_version": "1.5.0",
     "model_name": "FloatProgressModel",
     "state": {
      "_dom_classes": [],
      "_model_module": "@jupyter-widgets/controls",
      "_model_module_version": "1.5.0",
      "_model_name": "FloatProgressModel",
      "_view_count": null,
      "_view_module": "@jupyter-widgets/controls",
      "_view_module_version": "1.5.0",
      "_view_name": "ProgressView",
      "bar_style": "success",
      "description": "",
      "description_tooltip": null,
      "layout": "IPY_MODEL_8c6e82b3d7734381bf4123919a82af84",
      "max": 221793,
      "min": 0,
      "orientation": "horizontal",
      "style": "IPY_MODEL_9e533ea056ff47bfac86d004fa49cbc3",
      "value": 221793
     }
    },
    "0885e4b581e644ebaf295e0ec75657d2": {
     "model_module": "@jupyter-widgets/controls",
     "model_module_version": "1.5.0",
     "model_name": "ProgressStyleModel",
     "state": {
      "_model_module": "@jupyter-widgets/controls",
      "_model_module_version": "1.5.0",
      "_model_name": "ProgressStyleModel",
      "_view_count": null,
      "_view_module": "@jupyter-widgets/base",
      "_view_module_version": "1.2.0",
      "_view_name": "StyleView",
      "bar_color": null,
      "description_width": ""
     }
    },
    "140c8c9007184f4486f87620f85e32dd": {
     "model_module": "@jupyter-widgets/controls",
     "model_module_version": "1.5.0",
     "model_name": "HTMLModel",
     "state": {
      "_dom_classes": [],
      "_model_module": "@jupyter-widgets/controls",
      "_model_module_version": "1.5.0",
      "_model_name": "HTMLModel",
      "_view_count": null,
      "_view_module": "@jupyter-widgets/controls",
      "_view_module_version": "1.5.0",
      "_view_name": "HTMLView",
      "description": "",
      "description_tooltip": null,
      "layout": "IPY_MODEL_9d894d51ccfb400e8aebe723640ff98d",
      "placeholder": "​",
      "style": "IPY_MODEL_5d01ece8770148de8ae687510d2170f4",
      "value": "Downloading (…)solve/main/vocab.txt: 100%"
     }
    },
    "1654e53b4c4d4ffc8198cd0bbb7d7b4d": {
     "model_module": "@jupyter-widgets/controls",
     "model_module_version": "1.5.0",
     "model_name": "DescriptionStyleModel",
     "state": {
      "_model_module": "@jupyter-widgets/controls",
      "_model_module_version": "1.5.0",
      "_model_name": "DescriptionStyleModel",
      "_view_count": null,
      "_view_module": "@jupyter-widgets/base",
      "_view_module_version": "1.2.0",
      "_view_name": "StyleView",
      "description_width": ""
     }
    },
    "185e202743f74559997461127fb83ed2": {
     "model_module": "@jupyter-widgets/controls",
     "model_module_version": "1.5.0",
     "model_name": "DescriptionStyleModel",
     "state": {
      "_model_module": "@jupyter-widgets/controls",
      "_model_module_version": "1.5.0",
      "_model_name": "DescriptionStyleModel",
      "_view_count": null,
      "_view_module": "@jupyter-widgets/base",
      "_view_module_version": "1.2.0",
      "_view_name": "StyleView",
      "description_width": ""
     }
    },
    "18a9be576c7741b4b2adfbb10216220f": {
     "model_module": "@jupyter-widgets/controls",
     "model_module_version": "1.5.0",
     "model_name": "FloatProgressModel",
     "state": {
      "_dom_classes": [],
      "_model_module": "@jupyter-widgets/controls",
      "_model_module_version": "1.5.0",
      "_model_name": "FloatProgressModel",
      "_view_count": null,
      "_view_module": "@jupyter-widgets/controls",
      "_view_module_version": "1.5.0",
      "_view_name": "ProgressView",
      "bar_style": "success",
      "description": "",
      "description_tooltip": null,
      "layout": "IPY_MODEL_58687549e2264ea8848130e2c23075a6",
      "max": 231508,
      "min": 0,
      "orientation": "horizontal",
      "style": "IPY_MODEL_c165a4d1b2cd429a994bcd7b5c7087d6",
      "value": 231508
     }
    },
    "1ae3b8bd44474b98af2aa5700373f745": {
     "model_module": "@jupyter-widgets/controls",
     "model_module_version": "1.5.0",
     "model_name": "HTMLModel",
     "state": {
      "_dom_classes": [],
      "_model_module": "@jupyter-widgets/controls",
      "_model_module_version": "1.5.0",
      "_model_name": "HTMLModel",
      "_view_count": null,
      "_view_module": "@jupyter-widgets/controls",
      "_view_module_version": "1.5.0",
      "_view_name": "HTMLView",
      "description": "",
      "description_tooltip": null,
      "layout": "IPY_MODEL_f2431a2d61054aa5a15a1b2ee62f8aaa",
      "placeholder": "​",
      "style": "IPY_MODEL_6fb8c79450df4101bf7b2cc6bf92c477",
      "value": "Downloading (…)lve/main/config.json: 100%"
     }
    },
    "1b01cb4274f94ddea529aee3504ceb8b": {
     "model_module": "@jupyter-widgets/controls",
     "model_module_version": "1.5.0",
     "model_name": "DescriptionStyleModel",
     "state": {
      "_model_module": "@jupyter-widgets/controls",
      "_model_module_version": "1.5.0",
      "_model_name": "DescriptionStyleModel",
      "_view_count": null,
      "_view_module": "@jupyter-widgets/base",
      "_view_module_version": "1.2.0",
      "_view_name": "StyleView",
      "description_width": ""
     }
    },
    "1c0ffd90c151445aa4b7acdff9f41ba4": {
     "model_module": "@jupyter-widgets/base",
     "model_module_version": "1.2.0",
     "model_name": "LayoutModel",
     "state": {
      "_model_module": "@jupyter-widgets/base",
      "_model_module_version": "1.2.0",
      "_model_name": "LayoutModel",
      "_view_count": null,
      "_view_module": "@jupyter-widgets/base",
      "_view_module_version": "1.2.0",
      "_view_name": "LayoutView",
      "align_content": null,
      "align_items": null,
      "align_self": null,
      "border": null,
      "bottom": null,
      "display": null,
      "flex": null,
      "flex_flow": null,
      "grid_area": null,
      "grid_auto_columns": null,
      "grid_auto_flow": null,
      "grid_auto_rows": null,
      "grid_column": null,
      "grid_gap": null,
      "grid_row": null,
      "grid_template_areas": null,
      "grid_template_columns": null,
      "grid_template_rows": null,
      "height": null,
      "justify_content": null,
      "justify_items": null,
      "left": null,
      "margin": null,
      "max_height": null,
      "max_width": null,
      "min_height": null,
      "min_width": null,
      "object_fit": null,
      "object_position": null,
      "order": null,
      "overflow": null,
      "overflow_x": null,
      "overflow_y": null,
      "padding": null,
      "right": null,
      "top": null,
      "visibility": null,
      "width": null
     }
    },
    "1cadb7cd857842a192701c7030e317b4": {
     "model_module": "@jupyter-widgets/controls",
     "model_module_version": "1.5.0",
     "model_name": "HTMLModel",
     "state": {
      "_dom_classes": [],
      "_model_module": "@jupyter-widgets/controls",
      "_model_module_version": "1.5.0",
      "_model_name": "HTMLModel",
      "_view_count": null,
      "_view_module": "@jupyter-widgets/controls",
      "_view_module_version": "1.5.0",
      "_view_name": "HTMLView",
      "description": "",
      "description_tooltip": null,
      "layout": "IPY_MODEL_f84d172142c94d4390b95757c3f8752a",
      "placeholder": "​",
      "style": "IPY_MODEL_ac871905ff2048e0a0005f74c0986e04",
      "value": " 1.02k/1.02k [00:00&lt;00:00, 24.3kB/s]"
     }
    },
    "21a99e7a211c43aea7a9a9dff9dd3521": {
     "model_module": "@jupyter-widgets/controls",
     "model_module_version": "1.5.0",
     "model_name": "HTMLModel",
     "state": {
      "_dom_classes": [],
      "_model_module": "@jupyter-widgets/controls",
      "_model_module_version": "1.5.0",
      "_model_name": "HTMLModel",
      "_view_count": null,
      "_view_module": "@jupyter-widgets/controls",
      "_view_module_version": "1.5.0",
      "_view_name": "HTMLView",
      "description": "",
      "description_tooltip": null,
      "layout": "IPY_MODEL_fd83704c8960452495aaf258442e2784",
      "placeholder": "​",
      "style": "IPY_MODEL_5c1e1dd9546142c6b1c83c4abf5a8a51",
      "value": "Downloading (…)okenizer_config.json: 100%"
     }
    },
    "287660c211e1482988580e07eb0f3f9a": {
     "model_module": "@jupyter-widgets/controls",
     "model_module_version": "1.5.0",
     "model_name": "DescriptionStyleModel",
     "state": {
      "_model_module": "@jupyter-widgets/controls",
      "_model_module_version": "1.5.0",
      "_model_name": "DescriptionStyleModel",
      "_view_count": null,
      "_view_module": "@jupyter-widgets/base",
      "_view_module_version": "1.2.0",
      "_view_name": "StyleView",
      "description_width": ""
     }
    },
    "2ca8e236b4674e9298359c8e2822f1ff": {
     "model_module": "@jupyter-widgets/base",
     "model_module_version": "1.2.0",
     "model_name": "LayoutModel",
     "state": {
      "_model_module": "@jupyter-widgets/base",
      "_model_module_version": "1.2.0",
      "_model_name": "LayoutModel",
      "_view_count": null,
      "_view_module": "@jupyter-widgets/base",
      "_view_module_version": "1.2.0",
      "_view_name": "LayoutView",
      "align_content": null,
      "align_items": null,
      "align_self": null,
      "border": null,
      "bottom": null,
      "display": null,
      "flex": null,
      "flex_flow": null,
      "grid_area": null,
      "grid_auto_columns": null,
      "grid_auto_flow": null,
      "grid_auto_rows": null,
      "grid_column": null,
      "grid_gap": null,
      "grid_row": null,
      "grid_template_areas": null,
      "grid_template_columns": null,
      "grid_template_rows": null,
      "height": null,
      "justify_content": null,
      "justify_items": null,
      "left": null,
      "margin": null,
      "max_height": null,
      "max_width": null,
      "min_height": null,
      "min_width": null,
      "object_fit": null,
      "object_position": null,
      "order": null,
      "overflow": null,
      "overflow_x": null,
      "overflow_y": null,
      "padding": null,
      "right": null,
      "top": null,
      "visibility": null,
      "width": null
     }
    },
    "2d73e2e053d5401da0f9e9b1ccd80489": {
     "model_module": "@jupyter-widgets/base",
     "model_module_version": "1.2.0",
     "model_name": "LayoutModel",
     "state": {
      "_model_module": "@jupyter-widgets/base",
      "_model_module_version": "1.2.0",
      "_model_name": "LayoutModel",
      "_view_count": null,
      "_view_module": "@jupyter-widgets/base",
      "_view_module_version": "1.2.0",
      "_view_name": "LayoutView",
      "align_content": null,
      "align_items": null,
      "align_self": null,
      "border": null,
      "bottom": null,
      "display": null,
      "flex": null,
      "flex_flow": null,
      "grid_area": null,
      "grid_auto_columns": null,
      "grid_auto_flow": null,
      "grid_auto_rows": null,
      "grid_column": null,
      "grid_gap": null,
      "grid_row": null,
      "grid_template_areas": null,
      "grid_template_columns": null,
      "grid_template_rows": null,
      "height": null,
      "justify_content": null,
      "justify_items": null,
      "left": null,
      "margin": null,
      "max_height": null,
      "max_width": null,
      "min_height": null,
      "min_width": null,
      "object_fit": null,
      "object_position": null,
      "order": null,
      "overflow": null,
      "overflow_x": null,
      "overflow_y": null,
      "padding": null,
      "right": null,
      "top": null,
      "visibility": null,
      "width": null
     }
    },
    "2dc6e052676e4ebc980c8b70510742bb": {
     "model_module": "@jupyter-widgets/base",
     "model_module_version": "1.2.0",
     "model_name": "LayoutModel",
     "state": {
      "_model_module": "@jupyter-widgets/base",
      "_model_module_version": "1.2.0",
      "_model_name": "LayoutModel",
      "_view_count": null,
      "_view_module": "@jupyter-widgets/base",
      "_view_module_version": "1.2.0",
      "_view_name": "LayoutView",
      "align_content": null,
      "align_items": null,
      "align_self": null,
      "border": null,
      "bottom": null,
      "display": null,
      "flex": null,
      "flex_flow": null,
      "grid_area": null,
      "grid_auto_columns": null,
      "grid_auto_flow": null,
      "grid_auto_rows": null,
      "grid_column": null,
      "grid_gap": null,
      "grid_row": null,
      "grid_template_areas": null,
      "grid_template_columns": null,
      "grid_template_rows": null,
      "height": null,
      "justify_content": null,
      "justify_items": null,
      "left": null,
      "margin": null,
      "max_height": null,
      "max_width": null,
      "min_height": null,
      "min_width": null,
      "object_fit": null,
      "object_position": null,
      "order": null,
      "overflow": null,
      "overflow_x": null,
      "overflow_y": null,
      "padding": null,
      "right": null,
      "top": null,
      "visibility": null,
      "width": null
     }
    },
    "36612be661cc4c2ab0e59b9e7efd091a": {
     "model_module": "@jupyter-widgets/controls",
     "model_module_version": "1.5.0",
     "model_name": "HBoxModel",
     "state": {
      "_dom_classes": [],
      "_model_module": "@jupyter-widgets/controls",
      "_model_module_version": "1.5.0",
      "_model_name": "HBoxModel",
      "_view_count": null,
      "_view_module": "@jupyter-widgets/controls",
      "_view_module_version": "1.5.0",
      "_view_name": "HBoxView",
      "box_style": "",
      "children": [
       "IPY_MODEL_ac4f7df790a84bb689e30779bb531928",
       "IPY_MODEL_8defffe4e4ab45e3b34d8c6b1efd7515",
       "IPY_MODEL_1cadb7cd857842a192701c7030e317b4"
      ],
      "layout": "IPY_MODEL_f86d4d7f0c5d45ed830dca10dac41c31"
     }
    },
    "38a196baafa847a290e6fb23c4ee7f0b": {
     "model_module": "@jupyter-widgets/controls",
     "model_module_version": "1.5.0",
     "model_name": "FloatProgressModel",
     "state": {
      "_dom_classes": [],
      "_model_module": "@jupyter-widgets/controls",
      "_model_module_version": "1.5.0",
      "_model_name": "FloatProgressModel",
      "_view_count": null,
      "_view_module": "@jupyter-widgets/controls",
      "_view_module_version": "1.5.0",
      "_view_name": "ProgressView",
      "bar_style": "success",
      "description": "",
      "description_tooltip": null,
      "layout": "IPY_MODEL_a6eaa257027444188ecc09b8114bbc03",
      "max": 28,
      "min": 0,
      "orientation": "horizontal",
      "style": "IPY_MODEL_82ba845f9bc648639e4e25f3675dc7e9",
      "value": 28
     }
    },
    "38bb75812d984e109005da56ea893cde": {
     "model_module": "@jupyter-widgets/base",
     "model_module_version": "1.2.0",
     "model_name": "LayoutModel",
     "state": {
      "_model_module": "@jupyter-widgets/base",
      "_model_module_version": "1.2.0",
      "_model_name": "LayoutModel",
      "_view_count": null,
      "_view_module": "@jupyter-widgets/base",
      "_view_module_version": "1.2.0",
      "_view_name": "LayoutView",
      "align_content": null,
      "align_items": null,
      "align_self": null,
      "border": null,
      "bottom": null,
      "display": null,
      "flex": null,
      "flex_flow": null,
      "grid_area": null,
      "grid_auto_columns": null,
      "grid_auto_flow": null,
      "grid_auto_rows": null,
      "grid_column": null,
      "grid_gap": null,
      "grid_row": null,
      "grid_template_areas": null,
      "grid_template_columns": null,
      "grid_template_rows": null,
      "height": null,
      "justify_content": null,
      "justify_items": null,
      "left": null,
      "margin": null,
      "max_height": null,
      "max_width": null,
      "min_height": null,
      "min_width": null,
      "object_fit": null,
      "object_position": null,
      "order": null,
      "overflow": null,
      "overflow_x": null,
      "overflow_y": null,
      "padding": null,
      "right": null,
      "top": null,
      "visibility": null,
      "width": null
     }
    },
    "3ad1bd7c2f4f43f9b38601e62577abf9": {
     "model_module": "@jupyter-widgets/controls",
     "model_module_version": "1.5.0",
     "model_name": "FloatProgressModel",
     "state": {
      "_dom_classes": [],
      "_model_module": "@jupyter-widgets/controls",
      "_model_module_version": "1.5.0",
      "_model_name": "FloatProgressModel",
      "_view_count": null,
      "_view_module": "@jupyter-widgets/controls",
      "_view_module_version": "1.5.0",
      "_view_name": "ProgressView",
      "bar_style": "success",
      "description": "",
      "description_tooltip": null,
      "layout": "IPY_MODEL_998ebd34d73a4f3c840f7f2e06c2b438",
      "max": 112,
      "min": 0,
      "orientation": "horizontal",
      "style": "IPY_MODEL_5c883247fb1749da8422ff51439bb965",
      "value": 112
     }
    },
    "4112821e9a8e48c1bedd07befa1cbea4": {
     "model_module": "@jupyter-widgets/base",
     "model_module_version": "1.2.0",
     "model_name": "LayoutModel",
     "state": {
      "_model_module": "@jupyter-widgets/base",
      "_model_module_version": "1.2.0",
      "_model_name": "LayoutModel",
      "_view_count": null,
      "_view_module": "@jupyter-widgets/base",
      "_view_module_version": "1.2.0",
      "_view_name": "LayoutView",
      "align_content": null,
      "align_items": null,
      "align_self": null,
      "border": null,
      "bottom": null,
      "display": null,
      "flex": null,
      "flex_flow": null,
      "grid_area": null,
      "grid_auto_columns": null,
      "grid_auto_flow": null,
      "grid_auto_rows": null,
      "grid_column": null,
      "grid_gap": null,
      "grid_row": null,
      "grid_template_areas": null,
      "grid_template_columns": null,
      "grid_template_rows": null,
      "height": null,
      "justify_content": null,
      "justify_items": null,
      "left": null,
      "margin": null,
      "max_height": null,
      "max_width": null,
      "min_height": null,
      "min_width": null,
      "object_fit": null,
      "object_position": null,
      "order": null,
      "overflow": null,
      "overflow_x": null,
      "overflow_y": null,
      "padding": null,
      "right": null,
      "top": null,
      "visibility": null,
      "width": null
     }
    },
    "4aaf2d28927f41e098601357c12e3bfb": {
     "model_module": "@jupyter-widgets/controls",
     "model_module_version": "1.5.0",
     "model_name": "DescriptionStyleModel",
     "state": {
      "_model_module": "@jupyter-widgets/controls",
      "_model_module_version": "1.5.0",
      "_model_name": "DescriptionStyleModel",
      "_view_count": null,
      "_view_module": "@jupyter-widgets/base",
      "_view_module_version": "1.2.0",
      "_view_name": "StyleView",
      "description_width": ""
     }
    },
    "4fbe92f2036546fca01b8ed5f58d8b1f": {
     "model_module": "@jupyter-widgets/controls",
     "model_module_version": "1.5.0",
     "model_name": "HTMLModel",
     "state": {
      "_dom_classes": [],
      "_model_module": "@jupyter-widgets/controls",
      "_model_module_version": "1.5.0",
      "_model_name": "HTMLModel",
      "_view_count": null,
      "_view_module": "@jupyter-widgets/controls",
      "_view_module_version": "1.5.0",
      "_view_name": "HTMLView",
      "description": "",
      "description_tooltip": null,
      "layout": "IPY_MODEL_01f8d2fd819c4361abea2bfe7a272089",
      "placeholder": "​",
      "style": "IPY_MODEL_81f792498bd34f888c45760215a75e6d",
      "value": " 232k/232k [00:00&lt;00:00, 5.30MB/s]"
     }
    },
    "51abab0df77b4339bef7efc63b321184": {
     "model_module": "@jupyter-widgets/controls",
     "model_module_version": "1.5.0",
     "model_name": "HBoxModel",
     "state": {
      "_dom_classes": [],
      "_model_module": "@jupyter-widgets/controls",
      "_model_module_version": "1.5.0",
      "_model_name": "HBoxModel",
      "_view_count": null,
      "_view_module": "@jupyter-widgets/controls",
      "_view_module_version": "1.5.0",
      "_view_name": "HBoxView",
      "box_style": "",
      "children": [
       "IPY_MODEL_5777ea6b68774032af25a85498b5f13c",
       "IPY_MODEL_07577657c1bf465d8d392687dc584cd7",
       "IPY_MODEL_d40305a8f6884811b00a262866939f05"
      ],
      "layout": "IPY_MODEL_a9a8d253642c4bc3a24c8a3b3219cc3c"
     }
    },
    "520cd7be78f14eab800beffc65b02241": {
     "model_module": "@jupyter-widgets/controls",
     "model_module_version": "1.5.0",
     "model_name": "HTMLModel",
     "state": {
      "_dom_classes": [],
      "_model_module": "@jupyter-widgets/controls",
      "_model_module_version": "1.5.0",
      "_model_name": "HTMLModel",
      "_view_count": null,
      "_view_module": "@jupyter-widgets/controls",
      "_view_module_version": "1.5.0",
      "_view_name": "HTMLView",
      "description": "",
      "description_tooltip": null,
      "layout": "IPY_MODEL_d56d39a21ceb45eab39707bf38e74bdf",
      "placeholder": "​",
      "style": "IPY_MODEL_68140af6ac1f45adbe8bf1a0f7baef94",
      "value": " 28.0/28.0 [00:00&lt;00:00, 559B/s]"
     }
    },
    "572d29b62fe546c1b4b4403bfdf10ed3": {
     "model_module": "@jupyter-widgets/base",
     "model_module_version": "1.2.0",
     "model_name": "LayoutModel",
     "state": {
      "_model_module": "@jupyter-widgets/base",
      "_model_module_version": "1.2.0",
      "_model_name": "LayoutModel",
      "_view_count": null,
      "_view_module": "@jupyter-widgets/base",
      "_view_module_version": "1.2.0",
      "_view_name": "LayoutView",
      "align_content": null,
      "align_items": null,
      "align_self": null,
      "border": null,
      "bottom": null,
      "display": null,
      "flex": null,
      "flex_flow": null,
      "grid_area": null,
      "grid_auto_columns": null,
      "grid_auto_flow": null,
      "grid_auto_rows": null,
      "grid_column": null,
      "grid_gap": null,
      "grid_row": null,
      "grid_template_areas": null,
      "grid_template_columns": null,
      "grid_template_rows": null,
      "height": null,
      "justify_content": null,
      "justify_items": null,
      "left": null,
      "margin": null,
      "max_height": null,
      "max_width": null,
      "min_height": null,
      "min_width": null,
      "object_fit": null,
      "object_position": null,
      "order": null,
      "overflow": null,
      "overflow_x": null,
      "overflow_y": null,
      "padding": null,
      "right": null,
      "top": null,
      "visibility": null,
      "width": null
     }
    },
    "5777ea6b68774032af25a85498b5f13c": {
     "model_module": "@jupyter-widgets/controls",
     "model_module_version": "1.5.0",
     "model_name": "HTMLModel",
     "state": {
      "_dom_classes": [],
      "_model_module": "@jupyter-widgets/controls",
      "_model_module_version": "1.5.0",
      "_model_name": "HTMLModel",
      "_view_count": null,
      "_view_module": "@jupyter-widgets/controls",
      "_view_module_version": "1.5.0",
      "_view_name": "HTMLView",
      "description": "",
      "description_tooltip": null,
      "layout": "IPY_MODEL_4112821e9a8e48c1bedd07befa1cbea4",
      "placeholder": "​",
      "style": "IPY_MODEL_1654e53b4c4d4ffc8198cd0bbb7d7b4d",
      "value": "Downloading (…)solve/main/vocab.txt: 100%"
     }
    },
    "58687549e2264ea8848130e2c23075a6": {
     "model_module": "@jupyter-widgets/base",
     "model_module_version": "1.2.0",
     "model_name": "LayoutModel",
     "state": {
      "_model_module": "@jupyter-widgets/base",
      "_model_module_version": "1.2.0",
      "_model_name": "LayoutModel",
      "_view_count": null,
      "_view_module": "@jupyter-widgets/base",
      "_view_module_version": "1.2.0",
      "_view_name": "LayoutView",
      "align_content": null,
      "align_items": null,
      "align_self": null,
      "border": null,
      "bottom": null,
      "display": null,
      "flex": null,
      "flex_flow": null,
      "grid_area": null,
      "grid_auto_columns": null,
      "grid_auto_flow": null,
      "grid_auto_rows": null,
      "grid_column": null,
      "grid_gap": null,
      "grid_row": null,
      "grid_template_areas": null,
      "grid_template_columns": null,
      "grid_template_rows": null,
      "height": null,
      "justify_content": null,
      "justify_items": null,
      "left": null,
      "margin": null,
      "max_height": null,
      "max_width": null,
      "min_height": null,
      "min_width": null,
      "object_fit": null,
      "object_position": null,
      "order": null,
      "overflow": null,
      "overflow_x": null,
      "overflow_y": null,
      "padding": null,
      "right": null,
      "top": null,
      "visibility": null,
      "width": null
     }
    },
    "5c1e1dd9546142c6b1c83c4abf5a8a51": {
     "model_module": "@jupyter-widgets/controls",
     "model_module_version": "1.5.0",
     "model_name": "DescriptionStyleModel",
     "state": {
      "_model_module": "@jupyter-widgets/controls",
      "_model_module_version": "1.5.0",
      "_model_name": "DescriptionStyleModel",
      "_view_count": null,
      "_view_module": "@jupyter-widgets/base",
      "_view_module_version": "1.2.0",
      "_view_name": "StyleView",
      "description_width": ""
     }
    },
    "5c883247fb1749da8422ff51439bb965": {
     "model_module": "@jupyter-widgets/controls",
     "model_module_version": "1.5.0",
     "model_name": "ProgressStyleModel",
     "state": {
      "_model_module": "@jupyter-widgets/controls",
      "_model_module_version": "1.5.0",
      "_model_name": "ProgressStyleModel",
      "_view_count": null,
      "_view_module": "@jupyter-widgets/base",
      "_view_module_version": "1.2.0",
      "_view_name": "StyleView",
      "bar_color": null,
      "description_width": ""
     }
    },
    "5d01ece8770148de8ae687510d2170f4": {
     "model_module": "@jupyter-widgets/controls",
     "model_module_version": "1.5.0",
     "model_name": "DescriptionStyleModel",
     "state": {
      "_model_module": "@jupyter-widgets/controls",
      "_model_module_version": "1.5.0",
      "_model_name": "DescriptionStyleModel",
      "_view_count": null,
      "_view_module": "@jupyter-widgets/base",
      "_view_module_version": "1.2.0",
      "_view_name": "StyleView",
      "description_width": ""
     }
    },
    "633f93f4f1ec4e578d412551a48815c2": {
     "model_module": "@jupyter-widgets/base",
     "model_module_version": "1.2.0",
     "model_name": "LayoutModel",
     "state": {
      "_model_module": "@jupyter-widgets/base",
      "_model_module_version": "1.2.0",
      "_model_name": "LayoutModel",
      "_view_count": null,
      "_view_module": "@jupyter-widgets/base",
      "_view_module_version": "1.2.0",
      "_view_name": "LayoutView",
      "align_content": null,
      "align_items": null,
      "align_self": null,
      "border": null,
      "bottom": null,
      "display": null,
      "flex": null,
      "flex_flow": null,
      "grid_area": null,
      "grid_auto_columns": null,
      "grid_auto_flow": null,
      "grid_auto_rows": null,
      "grid_column": null,
      "grid_gap": null,
      "grid_row": null,
      "grid_template_areas": null,
      "grid_template_columns": null,
      "grid_template_rows": null,
      "height": null,
      "justify_content": null,
      "justify_items": null,
      "left": null,
      "margin": null,
      "max_height": null,
      "max_width": null,
      "min_height": null,
      "min_width": null,
      "object_fit": null,
      "object_position": null,
      "order": null,
      "overflow": null,
      "overflow_x": null,
      "overflow_y": null,
      "padding": null,
      "right": null,
      "top": null,
      "visibility": null,
      "width": null
     }
    },
    "68140af6ac1f45adbe8bf1a0f7baef94": {
     "model_module": "@jupyter-widgets/controls",
     "model_module_version": "1.5.0",
     "model_name": "DescriptionStyleModel",
     "state": {
      "_model_module": "@jupyter-widgets/controls",
      "_model_module_version": "1.5.0",
      "_model_name": "DescriptionStyleModel",
      "_view_count": null,
      "_view_module": "@jupyter-widgets/base",
      "_view_module_version": "1.2.0",
      "_view_name": "StyleView",
      "description_width": ""
     }
    },
    "6f43efb45d134727a24c75fd96b50a80": {
     "model_module": "@jupyter-widgets/base",
     "model_module_version": "1.2.0",
     "model_name": "LayoutModel",
     "state": {
      "_model_module": "@jupyter-widgets/base",
      "_model_module_version": "1.2.0",
      "_model_name": "LayoutModel",
      "_view_count": null,
      "_view_module": "@jupyter-widgets/base",
      "_view_module_version": "1.2.0",
      "_view_name": "LayoutView",
      "align_content": null,
      "align_items": null,
      "align_self": null,
      "border": null,
      "bottom": null,
      "display": null,
      "flex": null,
      "flex_flow": null,
      "grid_area": null,
      "grid_auto_columns": null,
      "grid_auto_flow": null,
      "grid_auto_rows": null,
      "grid_column": null,
      "grid_gap": null,
      "grid_row": null,
      "grid_template_areas": null,
      "grid_template_columns": null,
      "grid_template_rows": null,
      "height": null,
      "justify_content": null,
      "justify_items": null,
      "left": null,
      "margin": null,
      "max_height": null,
      "max_width": null,
      "min_height": null,
      "min_width": null,
      "object_fit": null,
      "object_position": null,
      "order": null,
      "overflow": null,
      "overflow_x": null,
      "overflow_y": null,
      "padding": null,
      "right": null,
      "top": null,
      "visibility": null,
      "width": null
     }
    },
    "6fb8c79450df4101bf7b2cc6bf92c477": {
     "model_module": "@jupyter-widgets/controls",
     "model_module_version": "1.5.0",
     "model_name": "DescriptionStyleModel",
     "state": {
      "_model_module": "@jupyter-widgets/controls",
      "_model_module_version": "1.5.0",
      "_model_name": "DescriptionStyleModel",
      "_view_count": null,
      "_view_module": "@jupyter-widgets/base",
      "_view_module_version": "1.2.0",
      "_view_name": "StyleView",
      "description_width": ""
     }
    },
    "74d2464ca472487fa4d49200f24f418c": {
     "model_module": "@jupyter-widgets/controls",
     "model_module_version": "1.5.0",
     "model_name": "HTMLModel",
     "state": {
      "_dom_classes": [],
      "_model_module": "@jupyter-widgets/controls",
      "_model_module_version": "1.5.0",
      "_model_name": "HTMLModel",
      "_view_count": null,
      "_view_module": "@jupyter-widgets/controls",
      "_view_module_version": "1.5.0",
      "_view_name": "HTMLView",
      "description": "",
      "description_tooltip": null,
      "layout": "IPY_MODEL_c166106f049e49dd84a60fc97a88b2fd",
      "placeholder": "​",
      "style": "IPY_MODEL_9ff5fcd0a0ed4d7bb2281076a0742533",
      "value": "Downloading (…)cial_tokens_map.json: 100%"
     }
    },
    "7b032fea66794ed39afb1736f154cf3b": {
     "model_module": "@jupyter-widgets/controls",
     "model_module_version": "1.5.0",
     "model_name": "FloatProgressModel",
     "state": {
      "_dom_classes": [],
      "_model_module": "@jupyter-widgets/controls",
      "_model_module_version": "1.5.0",
      "_model_name": "FloatProgressModel",
      "_view_count": null,
      "_view_module": "@jupyter-widgets/controls",
      "_view_module_version": "1.5.0",
      "_view_name": "ProgressView",
      "bar_style": "success",
      "description": "",
      "description_tooltip": null,
      "layout": "IPY_MODEL_f7fbc3e0fd194d74907854cb10b5226b",
      "max": 48,
      "min": 0,
      "orientation": "horizontal",
      "style": "IPY_MODEL_ed56c4ed2e3f45fcb29f3c5bacbc142f",
      "value": 48
     }
    },
    "81f792498bd34f888c45760215a75e6d": {
     "model_module": "@jupyter-widgets/controls",
     "model_module_version": "1.5.0",
     "model_name": "DescriptionStyleModel",
     "state": {
      "_model_module": "@jupyter-widgets/controls",
      "_model_module_version": "1.5.0",
      "_model_name": "DescriptionStyleModel",
      "_view_count": null,
      "_view_module": "@jupyter-widgets/base",
      "_view_module_version": "1.2.0",
      "_view_name": "StyleView",
      "description_width": ""
     }
    },
    "82ba845f9bc648639e4e25f3675dc7e9": {
     "model_module": "@jupyter-widgets/controls",
     "model_module_version": "1.5.0",
     "model_name": "ProgressStyleModel",
     "state": {
      "_model_module": "@jupyter-widgets/controls",
      "_model_module_version": "1.5.0",
      "_model_name": "ProgressStyleModel",
      "_view_count": null,
      "_view_module": "@jupyter-widgets/base",
      "_view_module_version": "1.2.0",
      "_view_name": "StyleView",
      "bar_color": null,
      "description_width": ""
     }
    },
    "8c6e82b3d7734381bf4123919a82af84": {
     "model_module": "@jupyter-widgets/base",
     "model_module_version": "1.2.0",
     "model_name": "LayoutModel",
     "state": {
      "_model_module": "@jupyter-widgets/base",
      "_model_module_version": "1.2.0",
      "_model_name": "LayoutModel",
      "_view_count": null,
      "_view_module": "@jupyter-widgets/base",
      "_view_module_version": "1.2.0",
      "_view_name": "LayoutView",
      "align_content": null,
      "align_items": null,
      "align_self": null,
      "border": null,
      "bottom": null,
      "display": null,
      "flex": null,
      "flex_flow": null,
      "grid_area": null,
      "grid_auto_columns": null,
      "grid_auto_flow": null,
      "grid_auto_rows": null,
      "grid_column": null,
      "grid_gap": null,
      "grid_row": null,
      "grid_template_areas": null,
      "grid_template_columns": null,
      "grid_template_rows": null,
      "height": null,
      "justify_content": null,
      "justify_items": null,
      "left": null,
      "margin": null,
      "max_height": null,
      "max_width": null,
      "min_height": null,
      "min_width": null,
      "object_fit": null,
      "object_position": null,
      "order": null,
      "overflow": null,
      "overflow_x": null,
      "overflow_y": null,
      "padding": null,
      "right": null,
      "top": null,
      "visibility": null,
      "width": null
     }
    },
    "8defffe4e4ab45e3b34d8c6b1efd7515": {
     "model_module": "@jupyter-widgets/controls",
     "model_module_version": "1.5.0",
     "model_name": "FloatProgressModel",
     "state": {
      "_dom_classes": [],
      "_model_module": "@jupyter-widgets/controls",
      "_model_module_version": "1.5.0",
      "_model_name": "FloatProgressModel",
      "_view_count": null,
      "_view_module": "@jupyter-widgets/controls",
      "_view_module_version": "1.5.0",
      "_view_name": "ProgressView",
      "bar_style": "success",
      "description": "",
      "description_tooltip": null,
      "layout": "IPY_MODEL_c53cb4f0f2da425d9fbaf964d8e2a88d",
      "max": 1017,
      "min": 0,
      "orientation": "horizontal",
      "style": "IPY_MODEL_f7b2d085ea374972adb8a9cf1211632f",
      "value": 1017
     }
    },
    "8e6762a7eaa34bdc9ec70ed26bf70eaf": {
     "model_module": "@jupyter-widgets/controls",
     "model_module_version": "1.5.0",
     "model_name": "HTMLModel",
     "state": {
      "_dom_classes": [],
      "_model_module": "@jupyter-widgets/controls",
      "_model_module_version": "1.5.0",
      "_model_name": "HTMLModel",
      "_view_count": null,
      "_view_module": "@jupyter-widgets/controls",
      "_view_module_version": "1.5.0",
      "_view_name": "HTMLView",
      "description": "",
      "description_tooltip": null,
      "layout": "IPY_MODEL_f2bb35b7a44a43d28c216887e14aba9d",
      "placeholder": "​",
      "style": "IPY_MODEL_287660c211e1482988580e07eb0f3f9a",
      "value": "Downloading (…)/main/tokenizer.json: 100%"
     }
    },
    "9578ec5bc6574b3e84dbc81bc24f29e2": {
     "model_module": "@jupyter-widgets/base",
     "model_module_version": "1.2.0",
     "model_name": "LayoutModel",
     "state": {
      "_model_module": "@jupyter-widgets/base",
      "_model_module_version": "1.2.0",
      "_model_name": "LayoutModel",
      "_view_count": null,
      "_view_module": "@jupyter-widgets/base",
      "_view_module_version": "1.2.0",
      "_view_name": "LayoutView",
      "align_content": null,
      "align_items": null,
      "align_self": null,
      "border": null,
      "bottom": null,
      "display": null,
      "flex": null,
      "flex_flow": null,
      "grid_area": null,
      "grid_auto_columns": null,
      "grid_auto_flow": null,
      "grid_auto_rows": null,
      "grid_column": null,
      "grid_gap": null,
      "grid_row": null,
      "grid_template_areas": null,
      "grid_template_columns": null,
      "grid_template_rows": null,
      "height": null,
      "justify_content": null,
      "justify_items": null,
      "left": null,
      "margin": null,
      "max_height": null,
      "max_width": null,
      "min_height": null,
      "min_width": null,
      "object_fit": null,
      "object_position": null,
      "order": null,
      "overflow": null,
      "overflow_x": null,
      "overflow_y": null,
      "padding": null,
      "right": null,
      "top": null,
      "visibility": null,
      "width": null
     }
    },
    "998ebd34d73a4f3c840f7f2e06c2b438": {
     "model_module": "@jupyter-widgets/base",
     "model_module_version": "1.2.0",
     "model_name": "LayoutModel",
     "state": {
      "_model_module": "@jupyter-widgets/base",
      "_model_module_version": "1.2.0",
      "_model_name": "LayoutModel",
      "_view_count": null,
      "_view_module": "@jupyter-widgets/base",
      "_view_module_version": "1.2.0",
      "_view_name": "LayoutView",
      "align_content": null,
      "align_items": null,
      "align_self": null,
      "border": null,
      "bottom": null,
      "display": null,
      "flex": null,
      "flex_flow": null,
      "grid_area": null,
      "grid_auto_columns": null,
      "grid_auto_flow": null,
      "grid_auto_rows": null,
      "grid_column": null,
      "grid_gap": null,
      "grid_row": null,
      "grid_template_areas": null,
      "grid_template_columns": null,
      "grid_template_rows": null,
      "height": null,
      "justify_content": null,
      "justify_items": null,
      "left": null,
      "margin": null,
      "max_height": null,
      "max_width": null,
      "min_height": null,
      "min_width": null,
      "object_fit": null,
      "object_position": null,
      "order": null,
      "overflow": null,
      "overflow_x": null,
      "overflow_y": null,
      "padding": null,
      "right": null,
      "top": null,
      "visibility": null,
      "width": null
     }
    },
    "99b86566430840e0a98f0588fc970a60": {
     "model_module": "@jupyter-widgets/controls",
     "model_module_version": "1.5.0",
     "model_name": "DescriptionStyleModel",
     "state": {
      "_model_module": "@jupyter-widgets/controls",
      "_model_module_version": "1.5.0",
      "_model_name": "DescriptionStyleModel",
      "_view_count": null,
      "_view_module": "@jupyter-widgets/base",
      "_view_module_version": "1.2.0",
      "_view_name": "StyleView",
      "description_width": ""
     }
    },
    "9d894d51ccfb400e8aebe723640ff98d": {
     "model_module": "@jupyter-widgets/base",
     "model_module_version": "1.2.0",
     "model_name": "LayoutModel",
     "state": {
      "_model_module": "@jupyter-widgets/base",
      "_model_module_version": "1.2.0",
      "_model_name": "LayoutModel",
      "_view_count": null,
      "_view_module": "@jupyter-widgets/base",
      "_view_module_version": "1.2.0",
      "_view_name": "LayoutView",
      "align_content": null,
      "align_items": null,
      "align_self": null,
      "border": null,
      "bottom": null,
      "display": null,
      "flex": null,
      "flex_flow": null,
      "grid_area": null,
      "grid_auto_columns": null,
      "grid_auto_flow": null,
      "grid_auto_rows": null,
      "grid_column": null,
      "grid_gap": null,
      "grid_row": null,
      "grid_template_areas": null,
      "grid_template_columns": null,
      "grid_template_rows": null,
      "height": null,
      "justify_content": null,
      "justify_items": null,
      "left": null,
      "margin": null,
      "max_height": null,
      "max_width": null,
      "min_height": null,
      "min_width": null,
      "object_fit": null,
      "object_position": null,
      "order": null,
      "overflow": null,
      "overflow_x": null,
      "overflow_y": null,
      "padding": null,
      "right": null,
      "top": null,
      "visibility": null,
      "width": null
     }
    },
    "9e533ea056ff47bfac86d004fa49cbc3": {
     "model_module": "@jupyter-widgets/controls",
     "model_module_version": "1.5.0",
     "model_name": "ProgressStyleModel",
     "state": {
      "_model_module": "@jupyter-widgets/controls",
      "_model_module_version": "1.5.0",
      "_model_name": "ProgressStyleModel",
      "_view_count": null,
      "_view_module": "@jupyter-widgets/base",
      "_view_module_version": "1.2.0",
      "_view_name": "StyleView",
      "bar_color": null,
      "description_width": ""
     }
    },
    "9e7a8ed1fd454ea09063ac85a41b29ea": {
     "model_module": "@jupyter-widgets/controls",
     "model_module_version": "1.5.0",
     "model_name": "DescriptionStyleModel",
     "state": {
      "_model_module": "@jupyter-widgets/controls",
      "_model_module_version": "1.5.0",
      "_model_name": "DescriptionStyleModel",
      "_view_count": null,
      "_view_module": "@jupyter-widgets/base",
      "_view_module_version": "1.2.0",
      "_view_name": "StyleView",
      "description_width": ""
     }
    },
    "9ff5fcd0a0ed4d7bb2281076a0742533": {
     "model_module": "@jupyter-widgets/controls",
     "model_module_version": "1.5.0",
     "model_name": "DescriptionStyleModel",
     "state": {
      "_model_module": "@jupyter-widgets/controls",
      "_model_module_version": "1.5.0",
      "_model_name": "DescriptionStyleModel",
      "_view_count": null,
      "_view_module": "@jupyter-widgets/base",
      "_view_module_version": "1.2.0",
      "_view_name": "StyleView",
      "description_width": ""
     }
    },
    "a3eed9fd8f764e8fa7f235d97557444e": {
     "model_module": "@jupyter-widgets/controls",
     "model_module_version": "1.5.0",
     "model_name": "HBoxModel",
     "state": {
      "_dom_classes": [],
      "_model_module": "@jupyter-widgets/controls",
      "_model_module_version": "1.5.0",
      "_model_name": "HBoxModel",
      "_view_count": null,
      "_view_module": "@jupyter-widgets/controls",
      "_view_module_version": "1.5.0",
      "_view_name": "HBoxView",
      "box_style": "",
      "children": [
       "IPY_MODEL_a7eccda897fb4ee8a7f03ea163b417a0",
       "IPY_MODEL_7b032fea66794ed39afb1736f154cf3b",
       "IPY_MODEL_fbb3840876264e2e93b4084a43c5bbf3"
      ],
      "layout": "IPY_MODEL_2dc6e052676e4ebc980c8b70510742bb"
     }
    },
    "a6eaa257027444188ecc09b8114bbc03": {
     "model_module": "@jupyter-widgets/base",
     "model_module_version": "1.2.0",
     "model_name": "LayoutModel",
     "state": {
      "_model_module": "@jupyter-widgets/base",
      "_model_module_version": "1.2.0",
      "_model_name": "LayoutModel",
      "_view_count": null,
      "_view_module": "@jupyter-widgets/base",
      "_view_module_version": "1.2.0",
      "_view_name": "LayoutView",
      "align_content": null,
      "align_items": null,
      "align_self": null,
      "border": null,
      "bottom": null,
      "display": null,
      "flex": null,
      "flex_flow": null,
      "grid_area": null,
      "grid_auto_columns": null,
      "grid_auto_flow": null,
      "grid_auto_rows": null,
      "grid_column": null,
      "grid_gap": null,
      "grid_row": null,
      "grid_template_areas": null,
      "grid_template_columns": null,
      "grid_template_rows": null,
      "height": null,
      "justify_content": null,
      "justify_items": null,
      "left": null,
      "margin": null,
      "max_height": null,
      "max_width": null,
      "min_height": null,
      "min_width": null,
      "object_fit": null,
      "object_position": null,
      "order": null,
      "overflow": null,
      "overflow_x": null,
      "overflow_y": null,
      "padding": null,
      "right": null,
      "top": null,
      "visibility": null,
      "width": null
     }
    },
    "a7eccda897fb4ee8a7f03ea163b417a0": {
     "model_module": "@jupyter-widgets/controls",
     "model_module_version": "1.5.0",
     "model_name": "HTMLModel",
     "state": {
      "_dom_classes": [],
      "_model_module": "@jupyter-widgets/controls",
      "_model_module_version": "1.5.0",
      "_model_name": "HTMLModel",
      "_view_count": null,
      "_view_module": "@jupyter-widgets/controls",
      "_view_module_version": "1.5.0",
      "_view_name": "HTMLView",
      "description": "",
      "description_tooltip": null,
      "layout": "IPY_MODEL_1c0ffd90c151445aa4b7acdff9f41ba4",
      "placeholder": "​",
      "style": "IPY_MODEL_d508dd3894f64d008c04eae1bdba6cd9",
      "value": "Downloading (…)okenizer_config.json: 100%"
     }
    },
    "a933e0b58c0b441b8f0eeb41aade071c": {
     "model_module": "@jupyter-widgets/base",
     "model_module_version": "1.2.0",
     "model_name": "LayoutModel",
     "state": {
      "_model_module": "@jupyter-widgets/base",
      "_model_module_version": "1.2.0",
      "_model_name": "LayoutModel",
      "_view_count": null,
      "_view_module": "@jupyter-widgets/base",
      "_view_module_version": "1.2.0",
      "_view_name": "LayoutView",
      "align_content": null,
      "align_items": null,
      "align_self": null,
      "border": null,
      "bottom": null,
      "display": null,
      "flex": null,
      "flex_flow": null,
      "grid_area": null,
      "grid_auto_columns": null,
      "grid_auto_flow": null,
      "grid_auto_rows": null,
      "grid_column": null,
      "grid_gap": null,
      "grid_row": null,
      "grid_template_areas": null,
      "grid_template_columns": null,
      "grid_template_rows": null,
      "height": null,
      "justify_content": null,
      "justify_items": null,
      "left": null,
      "margin": null,
      "max_height": null,
      "max_width": null,
      "min_height": null,
      "min_width": null,
      "object_fit": null,
      "object_position": null,
      "order": null,
      "overflow": null,
      "overflow_x": null,
      "overflow_y": null,
      "padding": null,
      "right": null,
      "top": null,
      "visibility": null,
      "width": null
     }
    },
    "a9a8d253642c4bc3a24c8a3b3219cc3c": {
     "model_module": "@jupyter-widgets/base",
     "model_module_version": "1.2.0",
     "model_name": "LayoutModel",
     "state": {
      "_model_module": "@jupyter-widgets/base",
      "_model_module_version": "1.2.0",
      "_model_name": "LayoutModel",
      "_view_count": null,
      "_view_module": "@jupyter-widgets/base",
      "_view_module_version": "1.2.0",
      "_view_name": "LayoutView",
      "align_content": null,
      "align_items": null,
      "align_self": null,
      "border": null,
      "bottom": null,
      "display": null,
      "flex": null,
      "flex_flow": null,
      "grid_area": null,
      "grid_auto_columns": null,
      "grid_auto_flow": null,
      "grid_auto_rows": null,
      "grid_column": null,
      "grid_gap": null,
      "grid_row": null,
      "grid_template_areas": null,
      "grid_template_columns": null,
      "grid_template_rows": null,
      "height": null,
      "justify_content": null,
      "justify_items": null,
      "left": null,
      "margin": null,
      "max_height": null,
      "max_width": null,
      "min_height": null,
      "min_width": null,
      "object_fit": null,
      "object_position": null,
      "order": null,
      "overflow": null,
      "overflow_x": null,
      "overflow_y": null,
      "padding": null,
      "right": null,
      "top": null,
      "visibility": null,
      "width": null
     }
    },
    "ac4f7df790a84bb689e30779bb531928": {
     "model_module": "@jupyter-widgets/controls",
     "model_module_version": "1.5.0",
     "model_name": "HTMLModel",
     "state": {
      "_dom_classes": [],
      "_model_module": "@jupyter-widgets/controls",
      "_model_module_version": "1.5.0",
      "_model_name": "HTMLModel",
      "_view_count": null,
      "_view_module": "@jupyter-widgets/controls",
      "_view_module_version": "1.5.0",
      "_view_name": "HTMLView",
      "description": "",
      "description_tooltip": null,
      "layout": "IPY_MODEL_0313182ff7354dba8d764752dc58fb99",
      "placeholder": "​",
      "style": "IPY_MODEL_185e202743f74559997461127fb83ed2",
      "value": "Downloading (…)lve/main/config.json: 100%"
     }
    },
    "ac871905ff2048e0a0005f74c0986e04": {
     "model_module": "@jupyter-widgets/controls",
     "model_module_version": "1.5.0",
     "model_name": "DescriptionStyleModel",
     "state": {
      "_model_module": "@jupyter-widgets/controls",
      "_model_module_version": "1.5.0",
      "_model_name": "DescriptionStyleModel",
      "_view_count": null,
      "_view_module": "@jupyter-widgets/base",
      "_view_module_version": "1.2.0",
      "_view_name": "StyleView",
      "description_width": ""
     }
    },
    "c04fbfa1dcfa4e3392aeed94b5cba1e9": {
     "model_module": "@jupyter-widgets/controls",
     "model_module_version": "1.5.0",
     "model_name": "HTMLModel",
     "state": {
      "_dom_classes": [],
      "_model_module": "@jupyter-widgets/controls",
      "_model_module_version": "1.5.0",
      "_model_name": "HTMLModel",
      "_view_count": null,
      "_view_module": "@jupyter-widgets/controls",
      "_view_module_version": "1.5.0",
      "_view_name": "HTMLView",
      "description": "",
      "description_tooltip": null,
      "layout": "IPY_MODEL_a933e0b58c0b441b8f0eeb41aade071c",
      "placeholder": "​",
      "style": "IPY_MODEL_1b01cb4274f94ddea529aee3504ceb8b",
      "value": " 112/112 [00:00&lt;00:00, 2.25kB/s]"
     }
    },
    "c0b99278042c4a40b5fa1bfa8a425f72": {
     "model_module": "@jupyter-widgets/controls",
     "model_module_version": "1.5.0",
     "model_name": "HTMLModel",
     "state": {
      "_dom_classes": [],
      "_model_module": "@jupyter-widgets/controls",
      "_model_module_version": "1.5.0",
      "_model_name": "HTMLModel",
      "_view_count": null,
      "_view_module": "@jupyter-widgets/controls",
      "_view_module_version": "1.5.0",
      "_view_name": "HTMLView",
      "description": "",
      "description_tooltip": null,
      "layout": "IPY_MODEL_38bb75812d984e109005da56ea893cde",
      "placeholder": "​",
      "style": "IPY_MODEL_99b86566430840e0a98f0588fc970a60",
      "value": " 466k/466k [00:00&lt;00:00, 9.01MB/s]"
     }
    },
    "c165a4d1b2cd429a994bcd7b5c7087d6": {
     "model_module": "@jupyter-widgets/controls",
     "model_module_version": "1.5.0",
     "model_name": "ProgressStyleModel",
     "state": {
      "_model_module": "@jupyter-widgets/controls",
      "_model_module_version": "1.5.0",
      "_model_name": "ProgressStyleModel",
      "_view_count": null,
      "_view_module": "@jupyter-widgets/base",
      "_view_module_version": "1.2.0",
      "_view_name": "StyleView",
      "bar_color": null,
      "description_width": ""
     }
    },
    "c166106f049e49dd84a60fc97a88b2fd": {
     "model_module": "@jupyter-widgets/base",
     "model_module_version": "1.2.0",
     "model_name": "LayoutModel",
     "state": {
      "_model_module": "@jupyter-widgets/base",
      "_model_module_version": "1.2.0",
      "_model_name": "LayoutModel",
      "_view_count": null,
      "_view_module": "@jupyter-widgets/base",
      "_view_module_version": "1.2.0",
      "_view_name": "LayoutView",
      "align_content": null,
      "align_items": null,
      "align_self": null,
      "border": null,
      "bottom": null,
      "display": null,
      "flex": null,
      "flex_flow": null,
      "grid_area": null,
      "grid_auto_columns": null,
      "grid_auto_flow": null,
      "grid_auto_rows": null,
      "grid_column": null,
      "grid_gap": null,
      "grid_row": null,
      "grid_template_areas": null,
      "grid_template_columns": null,
      "grid_template_rows": null,
      "height": null,
      "justify_content": null,
      "justify_items": null,
      "left": null,
      "margin": null,
      "max_height": null,
      "max_width": null,
      "min_height": null,
      "min_width": null,
      "object_fit": null,
      "object_position": null,
      "order": null,
      "overflow": null,
      "overflow_x": null,
      "overflow_y": null,
      "padding": null,
      "right": null,
      "top": null,
      "visibility": null,
      "width": null
     }
    },
    "c53cb4f0f2da425d9fbaf964d8e2a88d": {
     "model_module": "@jupyter-widgets/base",
     "model_module_version": "1.2.0",
     "model_name": "LayoutModel",
     "state": {
      "_model_module": "@jupyter-widgets/base",
      "_model_module_version": "1.2.0",
      "_model_name": "LayoutModel",
      "_view_count": null,
      "_view_module": "@jupyter-widgets/base",
      "_view_module_version": "1.2.0",
      "_view_name": "LayoutView",
      "align_content": null,
      "align_items": null,
      "align_self": null,
      "border": null,
      "bottom": null,
      "display": null,
      "flex": null,
      "flex_flow": null,
      "grid_area": null,
      "grid_auto_columns": null,
      "grid_auto_flow": null,
      "grid_auto_rows": null,
      "grid_column": null,
      "grid_gap": null,
      "grid_row": null,
      "grid_template_areas": null,
      "grid_template_columns": null,
      "grid_template_rows": null,
      "height": null,
      "justify_content": null,
      "justify_items": null,
      "left": null,
      "margin": null,
      "max_height": null,
      "max_width": null,
      "min_height": null,
      "min_width": null,
      "object_fit": null,
      "object_position": null,
      "order": null,
      "overflow": null,
      "overflow_x": null,
      "overflow_y": null,
      "padding": null,
      "right": null,
      "top": null,
      "visibility": null,
      "width": null
     }
    },
    "cc60d04485d94ef7ac743b7718d732f7": {
     "model_module": "@jupyter-widgets/base",
     "model_module_version": "1.2.0",
     "model_name": "LayoutModel",
     "state": {
      "_model_module": "@jupyter-widgets/base",
      "_model_module_version": "1.2.0",
      "_model_name": "LayoutModel",
      "_view_count": null,
      "_view_module": "@jupyter-widgets/base",
      "_view_module_version": "1.2.0",
      "_view_name": "LayoutView",
      "align_content": null,
      "align_items": null,
      "align_self": null,
      "border": null,
      "bottom": null,
      "display": null,
      "flex": null,
      "flex_flow": null,
      "grid_area": null,
      "grid_auto_columns": null,
      "grid_auto_flow": null,
      "grid_auto_rows": null,
      "grid_column": null,
      "grid_gap": null,
      "grid_row": null,
      "grid_template_areas": null,
      "grid_template_columns": null,
      "grid_template_rows": null,
      "height": null,
      "justify_content": null,
      "justify_items": null,
      "left": null,
      "margin": null,
      "max_height": null,
      "max_width": null,
      "min_height": null,
      "min_width": null,
      "object_fit": null,
      "object_position": null,
      "order": null,
      "overflow": null,
      "overflow_x": null,
      "overflow_y": null,
      "padding": null,
      "right": null,
      "top": null,
      "visibility": null,
      "width": null
     }
    },
    "cdf1d89b0d724a44a14d4c323e8ce8d7": {
     "model_module": "@jupyter-widgets/controls",
     "model_module_version": "1.5.0",
     "model_name": "FloatProgressModel",
     "state": {
      "_dom_classes": [],
      "_model_module": "@jupyter-widgets/controls",
      "_model_module_version": "1.5.0",
      "_model_name": "FloatProgressModel",
      "_view_count": null,
      "_view_module": "@jupyter-widgets/controls",
      "_view_module_version": "1.5.0",
      "_view_name": "ProgressView",
      "bar_style": "success",
      "description": "",
      "description_tooltip": null,
      "layout": "IPY_MODEL_6f43efb45d134727a24c75fd96b50a80",
      "max": 570,
      "min": 0,
      "orientation": "horizontal",
      "style": "IPY_MODEL_05e7bac060f54896a0bfdee7cf2cf88a",
      "value": 570
     }
    },
    "ce282ecf2a3e4726ae71224c7f5a9c37": {
     "model_module": "@jupyter-widgets/controls",
     "model_module_version": "1.5.0",
     "model_name": "FloatProgressModel",
     "state": {
      "_dom_classes": [],
      "_model_module": "@jupyter-widgets/controls",
      "_model_module_version": "1.5.0",
      "_model_name": "FloatProgressModel",
      "_view_count": null,
      "_view_module": "@jupyter-widgets/controls",
      "_view_module_version": "1.5.0",
      "_view_name": "ProgressView",
      "bar_style": "success",
      "description": "",
      "description_tooltip": null,
      "layout": "IPY_MODEL_cc60d04485d94ef7ac743b7718d732f7",
      "max": 466062,
      "min": 0,
      "orientation": "horizontal",
      "style": "IPY_MODEL_0885e4b581e644ebaf295e0ec75657d2",
      "value": 466062
     }
    },
    "d2b1f27a806b498997832659930eaccf": {
     "model_module": "@jupyter-widgets/controls",
     "model_module_version": "1.5.0",
     "model_name": "DescriptionStyleModel",
     "state": {
      "_model_module": "@jupyter-widgets/controls",
      "_model_module_version": "1.5.0",
      "_model_name": "DescriptionStyleModel",
      "_view_count": null,
      "_view_module": "@jupyter-widgets/base",
      "_view_module_version": "1.2.0",
      "_view_name": "StyleView",
      "description_width": ""
     }
    },
    "d2bda1fac8a54aeba8cea4be477b1de3": {
     "model_module": "@jupyter-widgets/base",
     "model_module_version": "1.2.0",
     "model_name": "LayoutModel",
     "state": {
      "_model_module": "@jupyter-widgets/base",
      "_model_module_version": "1.2.0",
      "_model_name": "LayoutModel",
      "_view_count": null,
      "_view_module": "@jupyter-widgets/base",
      "_view_module_version": "1.2.0",
      "_view_name": "LayoutView",
      "align_content": null,
      "align_items": null,
      "align_self": null,
      "border": null,
      "bottom": null,
      "display": null,
      "flex": null,
      "flex_flow": null,
      "grid_area": null,
      "grid_auto_columns": null,
      "grid_auto_flow": null,
      "grid_auto_rows": null,
      "grid_column": null,
      "grid_gap": null,
      "grid_row": null,
      "grid_template_areas": null,
      "grid_template_columns": null,
      "grid_template_rows": null,
      "height": null,
      "justify_content": null,
      "justify_items": null,
      "left": null,
      "margin": null,
      "max_height": null,
      "max_width": null,
      "min_height": null,
      "min_width": null,
      "object_fit": null,
      "object_position": null,
      "order": null,
      "overflow": null,
      "overflow_x": null,
      "overflow_y": null,
      "padding": null,
      "right": null,
      "top": null,
      "visibility": null,
      "width": null
     }
    },
    "d40305a8f6884811b00a262866939f05": {
     "model_module": "@jupyter-widgets/controls",
     "model_module_version": "1.5.0",
     "model_name": "HTMLModel",
     "state": {
      "_dom_classes": [],
      "_model_module": "@jupyter-widgets/controls",
      "_model_module_version": "1.5.0",
      "_model_name": "HTMLModel",
      "_view_count": null,
      "_view_module": "@jupyter-widgets/controls",
      "_view_module_version": "1.5.0",
      "_view_name": "HTMLView",
      "description": "",
      "description_tooltip": null,
      "layout": "IPY_MODEL_fb2f017f418f4c5b9f5b6e7d178721fe",
      "placeholder": "​",
      "style": "IPY_MODEL_d2b1f27a806b498997832659930eaccf",
      "value": " 222k/222k [00:00&lt;00:00, 6.71MB/s]"
     }
    },
    "d508dd3894f64d008c04eae1bdba6cd9": {
     "model_module": "@jupyter-widgets/controls",
     "model_module_version": "1.5.0",
     "model_name": "DescriptionStyleModel",
     "state": {
      "_model_module": "@jupyter-widgets/controls",
      "_model_module_version": "1.5.0",
      "_model_name": "DescriptionStyleModel",
      "_view_count": null,
      "_view_module": "@jupyter-widgets/base",
      "_view_module_version": "1.2.0",
      "_view_name": "StyleView",
      "description_width": ""
     }
    },
    "d56d39a21ceb45eab39707bf38e74bdf": {
     "model_module": "@jupyter-widgets/base",
     "model_module_version": "1.2.0",
     "model_name": "LayoutModel",
     "state": {
      "_model_module": "@jupyter-widgets/base",
      "_model_module_version": "1.2.0",
      "_model_name": "LayoutModel",
      "_view_count": null,
      "_view_module": "@jupyter-widgets/base",
      "_view_module_version": "1.2.0",
      "_view_name": "LayoutView",
      "align_content": null,
      "align_items": null,
      "align_self": null,
      "border": null,
      "bottom": null,
      "display": null,
      "flex": null,
      "flex_flow": null,
      "grid_area": null,
      "grid_auto_columns": null,
      "grid_auto_flow": null,
      "grid_auto_rows": null,
      "grid_column": null,
      "grid_gap": null,
      "grid_row": null,
      "grid_template_areas": null,
      "grid_template_columns": null,
      "grid_template_rows": null,
      "height": null,
      "justify_content": null,
      "justify_items": null,
      "left": null,
      "margin": null,
      "max_height": null,
      "max_width": null,
      "min_height": null,
      "min_width": null,
      "object_fit": null,
      "object_position": null,
      "order": null,
      "overflow": null,
      "overflow_x": null,
      "overflow_y": null,
      "padding": null,
      "right": null,
      "top": null,
      "visibility": null,
      "width": null
     }
    },
    "df2b32d01fa7438f8fc94fad27291920": {
     "model_module": "@jupyter-widgets/controls",
     "model_module_version": "1.5.0",
     "model_name": "HBoxModel",
     "state": {
      "_dom_classes": [],
      "_model_module": "@jupyter-widgets/controls",
      "_model_module_version": "1.5.0",
      "_model_name": "HBoxModel",
      "_view_count": null,
      "_view_module": "@jupyter-widgets/controls",
      "_view_module_version": "1.5.0",
      "_view_name": "HBoxView",
      "box_style": "",
      "children": [
       "IPY_MODEL_8e6762a7eaa34bdc9ec70ed26bf70eaf",
       "IPY_MODEL_ce282ecf2a3e4726ae71224c7f5a9c37",
       "IPY_MODEL_c0b99278042c4a40b5fa1bfa8a425f72"
      ],
      "layout": "IPY_MODEL_ead59df7dcf14a87a83a18856852ab88"
     }
    },
    "ead59df7dcf14a87a83a18856852ab88": {
     "model_module": "@jupyter-widgets/base",
     "model_module_version": "1.2.0",
     "model_name": "LayoutModel",
     "state": {
      "_model_module": "@jupyter-widgets/base",
      "_model_module_version": "1.2.0",
      "_model_name": "LayoutModel",
      "_view_count": null,
      "_view_module": "@jupyter-widgets/base",
      "_view_module_version": "1.2.0",
      "_view_name": "LayoutView",
      "align_content": null,
      "align_items": null,
      "align_self": null,
      "border": null,
      "bottom": null,
      "display": null,
      "flex": null,
      "flex_flow": null,
      "grid_area": null,
      "grid_auto_columns": null,
      "grid_auto_flow": null,
      "grid_auto_rows": null,
      "grid_column": null,
      "grid_gap": null,
      "grid_row": null,
      "grid_template_areas": null,
      "grid_template_columns": null,
      "grid_template_rows": null,
      "height": null,
      "justify_content": null,
      "justify_items": null,
      "left": null,
      "margin": null,
      "max_height": null,
      "max_width": null,
      "min_height": null,
      "min_width": null,
      "object_fit": null,
      "object_position": null,
      "order": null,
      "overflow": null,
      "overflow_x": null,
      "overflow_y": null,
      "padding": null,
      "right": null,
      "top": null,
      "visibility": null,
      "width": null
     }
    },
    "ed56c4ed2e3f45fcb29f3c5bacbc142f": {
     "model_module": "@jupyter-widgets/controls",
     "model_module_version": "1.5.0",
     "model_name": "ProgressStyleModel",
     "state": {
      "_model_module": "@jupyter-widgets/controls",
      "_model_module_version": "1.5.0",
      "_model_name": "ProgressStyleModel",
      "_view_count": null,
      "_view_module": "@jupyter-widgets/base",
      "_view_module_version": "1.2.0",
      "_view_name": "StyleView",
      "bar_color": null,
      "description_width": ""
     }
    },
    "eef09d4f7fe84c4d8223d932d36c93a1": {
     "model_module": "@jupyter-widgets/controls",
     "model_module_version": "1.5.0",
     "model_name": "HBoxModel",
     "state": {
      "_dom_classes": [],
      "_model_module": "@jupyter-widgets/controls",
      "_model_module_version": "1.5.0",
      "_model_name": "HBoxModel",
      "_view_count": null,
      "_view_module": "@jupyter-widgets/controls",
      "_view_module_version": "1.5.0",
      "_view_name": "HBoxView",
      "box_style": "",
      "children": [
       "IPY_MODEL_21a99e7a211c43aea7a9a9dff9dd3521",
       "IPY_MODEL_38a196baafa847a290e6fb23c4ee7f0b",
       "IPY_MODEL_520cd7be78f14eab800beffc65b02241"
      ],
      "layout": "IPY_MODEL_9578ec5bc6574b3e84dbc81bc24f29e2"
     }
    },
    "f0d433b1d9884456a8b997f0b5f22697": {
     "model_module": "@jupyter-widgets/controls",
     "model_module_version": "1.5.0",
     "model_name": "HTMLModel",
     "state": {
      "_dom_classes": [],
      "_model_module": "@jupyter-widgets/controls",
      "_model_module_version": "1.5.0",
      "_model_name": "HTMLModel",
      "_view_count": null,
      "_view_module": "@jupyter-widgets/controls",
      "_view_module_version": "1.5.0",
      "_view_name": "HTMLView",
      "description": "",
      "description_tooltip": null,
      "layout": "IPY_MODEL_d2bda1fac8a54aeba8cea4be477b1de3",
      "placeholder": "​",
      "style": "IPY_MODEL_4aaf2d28927f41e098601357c12e3bfb",
      "value": " 570/570 [00:00&lt;00:00, 12.8kB/s]"
     }
    },
    "f2431a2d61054aa5a15a1b2ee62f8aaa": {
     "model_module": "@jupyter-widgets/base",
     "model_module_version": "1.2.0",
     "model_name": "LayoutModel",
     "state": {
      "_model_module": "@jupyter-widgets/base",
      "_model_module_version": "1.2.0",
      "_model_name": "LayoutModel",
      "_view_count": null,
      "_view_module": "@jupyter-widgets/base",
      "_view_module_version": "1.2.0",
      "_view_name": "LayoutView",
      "align_content": null,
      "align_items": null,
      "align_self": null,
      "border": null,
      "bottom": null,
      "display": null,
      "flex": null,
      "flex_flow": null,
      "grid_area": null,
      "grid_auto_columns": null,
      "grid_auto_flow": null,
      "grid_auto_rows": null,
      "grid_column": null,
      "grid_gap": null,
      "grid_row": null,
      "grid_template_areas": null,
      "grid_template_columns": null,
      "grid_template_rows": null,
      "height": null,
      "justify_content": null,
      "justify_items": null,
      "left": null,
      "margin": null,
      "max_height": null,
      "max_width": null,
      "min_height": null,
      "min_width": null,
      "object_fit": null,
      "object_position": null,
      "order": null,
      "overflow": null,
      "overflow_x": null,
      "overflow_y": null,
      "padding": null,
      "right": null,
      "top": null,
      "visibility": null,
      "width": null
     }
    },
    "f2755ee64b264c5389979ab69f0a20ba": {
     "model_module": "@jupyter-widgets/controls",
     "model_module_version": "1.5.0",
     "model_name": "HBoxModel",
     "state": {
      "_dom_classes": [],
      "_model_module": "@jupyter-widgets/controls",
      "_model_module_version": "1.5.0",
      "_model_name": "HBoxModel",
      "_view_count": null,
      "_view_module": "@jupyter-widgets/controls",
      "_view_module_version": "1.5.0",
      "_view_name": "HBoxView",
      "box_style": "",
      "children": [
       "IPY_MODEL_1ae3b8bd44474b98af2aa5700373f745",
       "IPY_MODEL_cdf1d89b0d724a44a14d4c323e8ce8d7",
       "IPY_MODEL_f0d433b1d9884456a8b997f0b5f22697"
      ],
      "layout": "IPY_MODEL_572d29b62fe546c1b4b4403bfdf10ed3"
     }
    },
    "f2bb35b7a44a43d28c216887e14aba9d": {
     "model_module": "@jupyter-widgets/base",
     "model_module_version": "1.2.0",
     "model_name": "LayoutModel",
     "state": {
      "_model_module": "@jupyter-widgets/base",
      "_model_module_version": "1.2.0",
      "_model_name": "LayoutModel",
      "_view_count": null,
      "_view_module": "@jupyter-widgets/base",
      "_view_module_version": "1.2.0",
      "_view_name": "LayoutView",
      "align_content": null,
      "align_items": null,
      "align_self": null,
      "border": null,
      "bottom": null,
      "display": null,
      "flex": null,
      "flex_flow": null,
      "grid_area": null,
      "grid_auto_columns": null,
      "grid_auto_flow": null,
      "grid_auto_rows": null,
      "grid_column": null,
      "grid_gap": null,
      "grid_row": null,
      "grid_template_areas": null,
      "grid_template_columns": null,
      "grid_template_rows": null,
      "height": null,
      "justify_content": null,
      "justify_items": null,
      "left": null,
      "margin": null,
      "max_height": null,
      "max_width": null,
      "min_height": null,
      "min_width": null,
      "object_fit": null,
      "object_position": null,
      "order": null,
      "overflow": null,
      "overflow_x": null,
      "overflow_y": null,
      "padding": null,
      "right": null,
      "top": null,
      "visibility": null,
      "width": null
     }
    },
    "f7b2d085ea374972adb8a9cf1211632f": {
     "model_module": "@jupyter-widgets/controls",
     "model_module_version": "1.5.0",
     "model_name": "ProgressStyleModel",
     "state": {
      "_model_module": "@jupyter-widgets/controls",
      "_model_module_version": "1.5.0",
      "_model_name": "ProgressStyleModel",
      "_view_count": null,
      "_view_module": "@jupyter-widgets/base",
      "_view_module_version": "1.2.0",
      "_view_name": "StyleView",
      "bar_color": null,
      "description_width": ""
     }
    },
    "f7fbc3e0fd194d74907854cb10b5226b": {
     "model_module": "@jupyter-widgets/base",
     "model_module_version": "1.2.0",
     "model_name": "LayoutModel",
     "state": {
      "_model_module": "@jupyter-widgets/base",
      "_model_module_version": "1.2.0",
      "_model_name": "LayoutModel",
      "_view_count": null,
      "_view_module": "@jupyter-widgets/base",
      "_view_module_version": "1.2.0",
      "_view_name": "LayoutView",
      "align_content": null,
      "align_items": null,
      "align_self": null,
      "border": null,
      "bottom": null,
      "display": null,
      "flex": null,
      "flex_flow": null,
      "grid_area": null,
      "grid_auto_columns": null,
      "grid_auto_flow": null,
      "grid_auto_rows": null,
      "grid_column": null,
      "grid_gap": null,
      "grid_row": null,
      "grid_template_areas": null,
      "grid_template_columns": null,
      "grid_template_rows": null,
      "height": null,
      "justify_content": null,
      "justify_items": null,
      "left": null,
      "margin": null,
      "max_height": null,
      "max_width": null,
      "min_height": null,
      "min_width": null,
      "object_fit": null,
      "object_position": null,
      "order": null,
      "overflow": null,
      "overflow_x": null,
      "overflow_y": null,
      "padding": null,
      "right": null,
      "top": null,
      "visibility": null,
      "width": null
     }
    },
    "f84d172142c94d4390b95757c3f8752a": {
     "model_module": "@jupyter-widgets/base",
     "model_module_version": "1.2.0",
     "model_name": "LayoutModel",
     "state": {
      "_model_module": "@jupyter-widgets/base",
      "_model_module_version": "1.2.0",
      "_model_name": "LayoutModel",
      "_view_count": null,
      "_view_module": "@jupyter-widgets/base",
      "_view_module_version": "1.2.0",
      "_view_name": "LayoutView",
      "align_content": null,
      "align_items": null,
      "align_self": null,
      "border": null,
      "bottom": null,
      "display": null,
      "flex": null,
      "flex_flow": null,
      "grid_area": null,
      "grid_auto_columns": null,
      "grid_auto_flow": null,
      "grid_auto_rows": null,
      "grid_column": null,
      "grid_gap": null,
      "grid_row": null,
      "grid_template_areas": null,
      "grid_template_columns": null,
      "grid_template_rows": null,
      "height": null,
      "justify_content": null,
      "justify_items": null,
      "left": null,
      "margin": null,
      "max_height": null,
      "max_width": null,
      "min_height": null,
      "min_width": null,
      "object_fit": null,
      "object_position": null,
      "order": null,
      "overflow": null,
      "overflow_x": null,
      "overflow_y": null,
      "padding": null,
      "right": null,
      "top": null,
      "visibility": null,
      "width": null
     }
    },
    "f86d4d7f0c5d45ed830dca10dac41c31": {
     "model_module": "@jupyter-widgets/base",
     "model_module_version": "1.2.0",
     "model_name": "LayoutModel",
     "state": {
      "_model_module": "@jupyter-widgets/base",
      "_model_module_version": "1.2.0",
      "_model_name": "LayoutModel",
      "_view_count": null,
      "_view_module": "@jupyter-widgets/base",
      "_view_module_version": "1.2.0",
      "_view_name": "LayoutView",
      "align_content": null,
      "align_items": null,
      "align_self": null,
      "border": null,
      "bottom": null,
      "display": null,
      "flex": null,
      "flex_flow": null,
      "grid_area": null,
      "grid_auto_columns": null,
      "grid_auto_flow": null,
      "grid_auto_rows": null,
      "grid_column": null,
      "grid_gap": null,
      "grid_row": null,
      "grid_template_areas": null,
      "grid_template_columns": null,
      "grid_template_rows": null,
      "height": null,
      "justify_content": null,
      "justify_items": null,
      "left": null,
      "margin": null,
      "max_height": null,
      "max_width": null,
      "min_height": null,
      "min_width": null,
      "object_fit": null,
      "object_position": null,
      "order": null,
      "overflow": null,
      "overflow_x": null,
      "overflow_y": null,
      "padding": null,
      "right": null,
      "top": null,
      "visibility": null,
      "width": null
     }
    },
    "fb2f017f418f4c5b9f5b6e7d178721fe": {
     "model_module": "@jupyter-widgets/base",
     "model_module_version": "1.2.0",
     "model_name": "LayoutModel",
     "state": {
      "_model_module": "@jupyter-widgets/base",
      "_model_module_version": "1.2.0",
      "_model_name": "LayoutModel",
      "_view_count": null,
      "_view_module": "@jupyter-widgets/base",
      "_view_module_version": "1.2.0",
      "_view_name": "LayoutView",
      "align_content": null,
      "align_items": null,
      "align_self": null,
      "border": null,
      "bottom": null,
      "display": null,
      "flex": null,
      "flex_flow": null,
      "grid_area": null,
      "grid_auto_columns": null,
      "grid_auto_flow": null,
      "grid_auto_rows": null,
      "grid_column": null,
      "grid_gap": null,
      "grid_row": null,
      "grid_template_areas": null,
      "grid_template_columns": null,
      "grid_template_rows": null,
      "height": null,
      "justify_content": null,
      "justify_items": null,
      "left": null,
      "margin": null,
      "max_height": null,
      "max_width": null,
      "min_height": null,
      "min_width": null,
      "object_fit": null,
      "object_position": null,
      "order": null,
      "overflow": null,
      "overflow_x": null,
      "overflow_y": null,
      "padding": null,
      "right": null,
      "top": null,
      "visibility": null,
      "width": null
     }
    },
    "fbb3840876264e2e93b4084a43c5bbf3": {
     "model_module": "@jupyter-widgets/controls",
     "model_module_version": "1.5.0",
     "model_name": "HTMLModel",
     "state": {
      "_dom_classes": [],
      "_model_module": "@jupyter-widgets/controls",
      "_model_module_version": "1.5.0",
      "_model_name": "HTMLModel",
      "_view_count": null,
      "_view_module": "@jupyter-widgets/controls",
      "_view_module_version": "1.5.0",
      "_view_name": "HTMLView",
      "description": "",
      "description_tooltip": null,
      "layout": "IPY_MODEL_633f93f4f1ec4e578d412551a48815c2",
      "placeholder": "​",
      "style": "IPY_MODEL_9e7a8ed1fd454ea09063ac85a41b29ea",
      "value": " 48.0/48.0 [00:00&lt;00:00, 1.58kB/s]"
     }
    },
    "fd83704c8960452495aaf258442e2784": {
     "model_module": "@jupyter-widgets/base",
     "model_module_version": "1.2.0",
     "model_name": "LayoutModel",
     "state": {
      "_model_module": "@jupyter-widgets/base",
      "_model_module_version": "1.2.0",
      "_model_name": "LayoutModel",
      "_view_count": null,
      "_view_module": "@jupyter-widgets/base",
      "_view_module_version": "1.2.0",
      "_view_name": "LayoutView",
      "align_content": null,
      "align_items": null,
      "align_self": null,
      "border": null,
      "bottom": null,
      "display": null,
      "flex": null,
      "flex_flow": null,
      "grid_area": null,
      "grid_auto_columns": null,
      "grid_auto_flow": null,
      "grid_auto_rows": null,
      "grid_column": null,
      "grid_gap": null,
      "grid_row": null,
      "grid_template_areas": null,
      "grid_template_columns": null,
      "grid_template_rows": null,
      "height": null,
      "justify_content": null,
      "justify_items": null,
      "left": null,
      "margin": null,
      "max_height": null,
      "max_width": null,
      "min_height": null,
      "min_width": null,
      "object_fit": null,
      "object_position": null,
      "order": null,
      "overflow": null,
      "overflow_x": null,
      "overflow_y": null,
      "padding": null,
      "right": null,
      "top": null,
      "visibility": null,
      "width": null
     }
    }
   }
  }
 },
 "nbformat": 4,
 "nbformat_minor": 5
}
