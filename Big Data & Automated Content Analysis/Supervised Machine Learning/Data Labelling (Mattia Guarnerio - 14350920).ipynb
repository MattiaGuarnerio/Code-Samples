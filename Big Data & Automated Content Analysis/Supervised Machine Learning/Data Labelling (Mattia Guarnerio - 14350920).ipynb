{
 "cells": [
  {
   "cell_type": "markdown",
   "id": "44f92998",
   "metadata": {},
   "source": [
    "# White Noise: Data Labelling\n",
    "\n",
    "## 1. Explaining the Problem\n",
    "\n",
    "I manually annotated 2200 bill summaries contained within the `summary_labelled.csv` file. The classification was based on each bill having an Economic (1) or Non-Economic (0) content - i.e., the bill realises its proponent's economic vision - and a Socio-Cultural (1) or Non-Socio-Cultural content (0) - i.e., the bill realises its proponent's socio-cultural vision. The two categories were conceived and treated as separate during the labelling process. Since I utilised numbers, and not character strings, to save the maximum amount of time when classifying the documents, I now wish to check that the labelling procedure went smoothly, and re-map all labels as character values."
   ]
  },
  {
   "cell_type": "code",
   "execution_count": 1,
   "id": "79ba3d92",
   "metadata": {},
   "outputs": [],
   "source": [
    "# In this script's context, I only need the pandas package for data wrangling \n",
    "import pandas as pd"
   ]
  },
  {
   "cell_type": "markdown",
   "id": "563d36cc",
   "metadata": {},
   "source": [
    "## 2. Safety Checks"
   ]
  },
  {
   "cell_type": "code",
   "execution_count": 2,
   "id": "404873b0",
   "metadata": {},
   "outputs": [],
   "source": [
    "# I import the annotated data set with the \"read_csv\" function, specifying that I used the \"|\" separator\n",
    "# This is crucial, because employing colons or semi-colons causes conflicts with the summaries' contents\n",
    "\n",
    "d = pd.read_csv(\"summary_labelled.csv\", sep = \"|\")"
   ]
  },
  {
   "cell_type": "code",
   "execution_count": 3,
   "id": "c822f4ed",
   "metadata": {},
   "outputs": [
    {
     "data": {
      "text/html": [
       "<div>\n",
       "<style scoped>\n",
       "    .dataframe tbody tr th:only-of-type {\n",
       "        vertical-align: middle;\n",
       "    }\n",
       "\n",
       "    .dataframe tbody tr th {\n",
       "        vertical-align: top;\n",
       "    }\n",
       "\n",
       "    .dataframe thead th {\n",
       "        text-align: right;\n",
       "    }\n",
       "</style>\n",
       "<table border=\"1\" class=\"dataframe\">\n",
       "  <thead>\n",
       "    <tr style=\"text-align: right;\">\n",
       "      <th></th>\n",
       "      <th>congress</th>\n",
       "      <th>bill_number</th>\n",
       "      <th>bill_type</th>\n",
       "      <th>text</th>\n",
       "      <th>economic</th>\n",
       "      <th>socio_cultural</th>\n",
       "    </tr>\n",
       "  </thead>\n",
       "  <tbody>\n",
       "    <tr>\n",
       "      <th>0</th>\n",
       "      <td>115</td>\n",
       "      <td>1308</td>\n",
       "      <td>hr</td>\n",
       "      <td>Frank and Jeanne Moore Wild Steelhead Speci...</td>\n",
       "      <td>0</td>\n",
       "      <td>1</td>\n",
       "    </tr>\n",
       "    <tr>\n",
       "      <th>1</th>\n",
       "      <td>115</td>\n",
       "      <td>4105</td>\n",
       "      <td>hr</td>\n",
       "      <td>This bill extends funding through FY2022 for...</td>\n",
       "      <td>1</td>\n",
       "      <td>0</td>\n",
       "    </tr>\n",
       "    <tr>\n",
       "      <th>2</th>\n",
       "      <td>115</td>\n",
       "      <td>3691</td>\n",
       "      <td>s</td>\n",
       "      <td>Expanding Transparency of Information and S...</td>\n",
       "      <td>0</td>\n",
       "      <td>1</td>\n",
       "    </tr>\n",
       "    <tr>\n",
       "      <th>3</th>\n",
       "      <td>111</td>\n",
       "      <td>1994</td>\n",
       "      <td>hr</td>\n",
       "      <td>Citizen Soldier Equality Act of 2009 - Requi...</td>\n",
       "      <td>1</td>\n",
       "      <td>1</td>\n",
       "    </tr>\n",
       "    <tr>\n",
       "      <th>4</th>\n",
       "      <td>111</td>\n",
       "      <td>883</td>\n",
       "      <td>hr</td>\n",
       "      <td>Amends the Internal Revenue Code to repeal, e...</td>\n",
       "      <td>1</td>\n",
       "      <td>1</td>\n",
       "    </tr>\n",
       "  </tbody>\n",
       "</table>\n",
       "</div>"
      ],
      "text/plain": [
       "   congress  bill_number bill_type  \\\n",
       "0       115         1308        hr   \n",
       "1       115         4105        hr   \n",
       "2       115         3691         s   \n",
       "3       111         1994        hr   \n",
       "4       111          883        hr   \n",
       "\n",
       "                                                text  economic  socio_cultural  \n",
       "0     Frank and Jeanne Moore Wild Steelhead Speci...         0               1  \n",
       "1    This bill extends funding through FY2022 for...         1               0  \n",
       "2     Expanding Transparency of Information and S...         0               1  \n",
       "3    Citizen Soldier Equality Act of 2009 - Requi...         1               1  \n",
       "4   Amends the Internal Revenue Code to repeal, e...         1               1  "
      ]
     },
     "execution_count": 3,
     "metadata": {},
     "output_type": "execute_result"
    }
   ],
   "source": [
    "# I check the first few lines of the DataFrame object to assess if the \"read_csv\" command worked smoothly\n",
    "\n",
    "d.head()"
   ]
  },
  {
   "cell_type": "code",
   "execution_count": 4,
   "id": "fd7f68e3",
   "metadata": {},
   "outputs": [
    {
     "data": {
      "text/plain": [
       "(2200, 6)"
      ]
     },
     "execution_count": 4,
     "metadata": {},
     "output_type": "execute_result"
    }
   ],
   "source": [
    "# I check the shape of the DataFrame object to assess if the \"read_csv\" command worked smoothly\n",
    "\n",
    "d.shape"
   ]
  },
  {
   "cell_type": "markdown",
   "id": "bda2c1e0",
   "metadata": {},
   "source": [
    "2200 classified documents, six columns - i.e., the original four columns I retrieved from `api.congress.gov`, plus the two columns that contain the categories I manually annotated. Everything seems perfect! Now, I check if there were any typos or misses during the labelling procedure, and count the number of positive and negative labels for each category."
   ]
  },
  {
   "cell_type": "code",
   "execution_count": 5,
   "id": "d353a909",
   "metadata": {},
   "outputs": [
    {
     "name": "stdout",
     "output_type": "stream",
     "text": [
      "Unique values for the 'economic' category: [0 1]\n",
      "Value counts for the 'economic' category: 1    1233\n",
      "0     967\n",
      "Name: economic, dtype: int64\n"
     ]
    }
   ],
   "source": [
    "# There should only be two values - i.e., \"0\" and \"1\" - if no typos happened during the labelling process.\n",
    "econ_unique = d[\"economic\"].unique()\n",
    "print(\"Unique values for the 'economic' category:\", econ_unique)\n",
    "\n",
    "# I count the number of positive and negative labels for the \"economic\" category\n",
    "econ_count = d[\"economic\"].value_counts()\n",
    "print(\"Value counts for the 'economic' category:\", econ_count)"
   ]
  },
  {
   "cell_type": "code",
   "execution_count": 6,
   "id": "68c17746",
   "metadata": {},
   "outputs": [
    {
     "name": "stdout",
     "output_type": "stream",
     "text": [
      "Unique values for the 'socio-cultural' category: [1 0]\n",
      "Value counts for the 'socio-cultural' category: 1    1371\n",
      "0     829\n",
      "Name: socio_cultural, dtype: int64\n"
     ]
    }
   ],
   "source": [
    "# There should only be two values - i.e., \"0\" and \"1\" - if no typos happened during the labelling process.\n",
    "sc_unique = d[\"socio_cultural\"].unique()\n",
    "print(\"Unique values for the 'socio-cultural' category:\", sc_unique)\n",
    "\n",
    "# I count the number of positive and negative labels for the \"socio_cultural\" category\n",
    "sc_count = d[\"socio_cultural\"].value_counts()\n",
    "print(\"Value counts for the 'socio-cultural' category:\", sc_count)"
   ]
  },
  {
   "cell_type": "markdown",
   "id": "3af90f40",
   "metadata": {},
   "source": [
    "It appears that no incorrect values were typed, and that many documents have a positive label for at least one of the classes. This makes sense, since my categories are pretty broad and generic in nature, as I will explain in the report. Next, I check whether there are some bill summaries that were not annotated at all."
   ]
  },
  {
   "cell_type": "code",
   "execution_count": 7,
   "id": "b3737b51",
   "metadata": {},
   "outputs": [
    {
     "name": "stdout",
     "output_type": "stream",
     "text": [
      "Missing values in the 'economic' category: 0\n",
      "Missing values in the 'socio-cultural' category: 0\n",
      "I appropriately coded 2200 documents as (non-)economic.\n",
      "I appropriately coded 2200 documents as (non-)socio-cultural.\n"
     ]
    }
   ],
   "source": [
    "# I calculate the number of missing values for the two categories of interest...\n",
    "econ_mv = d[\"economic\"].isnull().sum()\n",
    "sc_mv = d[\"socio_cultural\"].isnull().sum()\n",
    "\n",
    "# ...and I print the diagnostics to see whether I appropriately coded all summaries.\n",
    "print(\"Missing values in the 'economic' category:\", econ_mv)\n",
    "print(\"Missing values in the 'socio-cultural' category:\", sc_mv)\n",
    "\n",
    "print(f\"I appropriately coded {len(d['economic'])-econ_mv} documents as (non-)economic.\")\n",
    "print(f\"I appropriately coded {len(d['socio_cultural'])-sc_mv} documents as (non-)socio-cultural.\")"
   ]
  },
  {
   "cell_type": "markdown",
   "id": "ba414b89",
   "metadata": {},
   "source": [
    "Great! I now proceed to re-map all numeric labels as character values.\n",
    "\n",
    "## 3. Re-Mapping All Labels"
   ]
  },
  {
   "cell_type": "code",
   "execution_count": 8,
   "id": "5092e9b8",
   "metadata": {},
   "outputs": [],
   "source": [
    "# I define the new character labels in the \"re_map\" dictionary...\n",
    "\n",
    "re_map = {\n",
    "    \"economic\": {1: \"Economic\", 0: \"Non-Economic\"},\n",
    "    \"socio_cultural\": {1: \"Socio-Cultural\", 0: \"Non-Socio-Cultural\"}\n",
    "}\n",
    "\n",
    "# ...and I feed the dictionary as the only argument of the \".map\" method provided by the pandas package,\n",
    "# selecting only the appropriate key for its corresponding column.\n",
    "\n",
    "d[\"economic\"] = d[\"economic\"].map(re_map[\"economic\"]) # The \"economic\" column...\n",
    "d[\"socio_cultural\"] = d[\"socio_cultural\"].map(re_map[\"socio_cultural\"]) # ...and the \"socio_cultural\" column."
   ]
  },
  {
   "cell_type": "code",
   "execution_count": 9,
   "id": "12d406d4",
   "metadata": {
    "scrolled": true
   },
   "outputs": [
    {
     "data": {
      "text/html": [
       "<div>\n",
       "<style scoped>\n",
       "    .dataframe tbody tr th:only-of-type {\n",
       "        vertical-align: middle;\n",
       "    }\n",
       "\n",
       "    .dataframe tbody tr th {\n",
       "        vertical-align: top;\n",
       "    }\n",
       "\n",
       "    .dataframe thead th {\n",
       "        text-align: right;\n",
       "    }\n",
       "</style>\n",
       "<table border=\"1\" class=\"dataframe\">\n",
       "  <thead>\n",
       "    <tr style=\"text-align: right;\">\n",
       "      <th></th>\n",
       "      <th>congress</th>\n",
       "      <th>bill_number</th>\n",
       "      <th>bill_type</th>\n",
       "      <th>text</th>\n",
       "      <th>economic</th>\n",
       "      <th>socio_cultural</th>\n",
       "    </tr>\n",
       "  </thead>\n",
       "  <tbody>\n",
       "    <tr>\n",
       "      <th>0</th>\n",
       "      <td>115</td>\n",
       "      <td>1308</td>\n",
       "      <td>hr</td>\n",
       "      <td>Frank and Jeanne Moore Wild Steelhead Speci...</td>\n",
       "      <td>Non-Economic</td>\n",
       "      <td>Socio-Cultural</td>\n",
       "    </tr>\n",
       "    <tr>\n",
       "      <th>1</th>\n",
       "      <td>115</td>\n",
       "      <td>4105</td>\n",
       "      <td>hr</td>\n",
       "      <td>This bill extends funding through FY2022 for...</td>\n",
       "      <td>Economic</td>\n",
       "      <td>Non-Socio-Cultural</td>\n",
       "    </tr>\n",
       "    <tr>\n",
       "      <th>2</th>\n",
       "      <td>115</td>\n",
       "      <td>3691</td>\n",
       "      <td>s</td>\n",
       "      <td>Expanding Transparency of Information and S...</td>\n",
       "      <td>Non-Economic</td>\n",
       "      <td>Socio-Cultural</td>\n",
       "    </tr>\n",
       "    <tr>\n",
       "      <th>3</th>\n",
       "      <td>111</td>\n",
       "      <td>1994</td>\n",
       "      <td>hr</td>\n",
       "      <td>Citizen Soldier Equality Act of 2009 - Requi...</td>\n",
       "      <td>Economic</td>\n",
       "      <td>Socio-Cultural</td>\n",
       "    </tr>\n",
       "    <tr>\n",
       "      <th>4</th>\n",
       "      <td>111</td>\n",
       "      <td>883</td>\n",
       "      <td>hr</td>\n",
       "      <td>Amends the Internal Revenue Code to repeal, e...</td>\n",
       "      <td>Economic</td>\n",
       "      <td>Socio-Cultural</td>\n",
       "    </tr>\n",
       "  </tbody>\n",
       "</table>\n",
       "</div>"
      ],
      "text/plain": [
       "   congress  bill_number bill_type  \\\n",
       "0       115         1308        hr   \n",
       "1       115         4105        hr   \n",
       "2       115         3691         s   \n",
       "3       111         1994        hr   \n",
       "4       111          883        hr   \n",
       "\n",
       "                                                text      economic  \\\n",
       "0     Frank and Jeanne Moore Wild Steelhead Speci...  Non-Economic   \n",
       "1    This bill extends funding through FY2022 for...      Economic   \n",
       "2     Expanding Transparency of Information and S...  Non-Economic   \n",
       "3    Citizen Soldier Equality Act of 2009 - Requi...      Economic   \n",
       "4   Amends the Internal Revenue Code to repeal, e...      Economic   \n",
       "\n",
       "       socio_cultural  \n",
       "0      Socio-Cultural  \n",
       "1  Non-Socio-Cultural  \n",
       "2      Socio-Cultural  \n",
       "3      Socio-Cultural  \n",
       "4      Socio-Cultural  "
      ]
     },
     "execution_count": 9,
     "metadata": {},
     "output_type": "execute_result"
    }
   ],
   "source": [
    "# I check the first few lines of the DataFrame object to assess if the \".map\" method worked smoothly.\n",
    "\n",
    "d.head()"
   ]
  },
  {
   "cell_type": "code",
   "execution_count": 10,
   "id": "342dfa0b",
   "metadata": {},
   "outputs": [
    {
     "name": "stdout",
     "output_type": "stream",
     "text": [
      "Unique values for the 'economic' category: ['Non-Economic' 'Economic']\n",
      "Value counts for the 'economic' category: Economic        1233\n",
      "Non-Economic     967\n",
      "Name: economic, dtype: int64\n"
     ]
    }
   ],
   "source": [
    "# There should only be two values - i.e., \"Non-Economic\" and \"Economic\" - if no errors happened during the re-mapping process.\n",
    "econ_unique = d[\"economic\"].unique()\n",
    "print(\"Unique values for the 'economic' category:\", econ_unique)\n",
    "\n",
    "# I count the number of positive and negative labels for the \"economic\" category\n",
    "econ_count = d[\"economic\"].value_counts()\n",
    "print(\"Value counts for the 'economic' category:\", econ_count)"
   ]
  },
  {
   "cell_type": "code",
   "execution_count": 11,
   "id": "238ad873",
   "metadata": {},
   "outputs": [
    {
     "name": "stdout",
     "output_type": "stream",
     "text": [
      "Unique values for the 'socio-cultural' category: ['Socio-Cultural' 'Non-Socio-Cultural']\n",
      "Value counts for the 'socio-cultural' category: Socio-Cultural        1371\n",
      "Non-Socio-Cultural     829\n",
      "Name: socio_cultural, dtype: int64\n"
     ]
    }
   ],
   "source": [
    "# There should only be two values - i.e., \"Non-Socio-Cultural\" and \"Socio-Cultural\" -\n",
    "# if no errors happened during the re-mapping process.\n",
    "sc_unique = d[\"socio_cultural\"].unique()\n",
    "print(\"Unique values for the 'socio-cultural' category:\", sc_unique)\n",
    "\n",
    "# I count the number of positive and negative labels for the \"socio_cultural\" category\n",
    "sc_count = d[\"socio_cultural\"].value_counts()\n",
    "print(\"Value counts for the 'socio-cultural' category:\", sc_count)"
   ]
  },
  {
   "cell_type": "markdown",
   "id": "65b60fc4",
   "metadata": {},
   "source": [
    "The only unique values within the two columns of interest are the ones resulting from the re-mapping procedure, and the numbers of positive and negative labels for both categories are unchanged! In other words, everything went smoothly. I can finally save the data set's definitive version as `labelled.csv`."
   ]
  },
  {
   "cell_type": "code",
   "execution_count": 12,
   "id": "4761bb1a",
   "metadata": {},
   "outputs": [],
   "source": [
    "# I save the DataFrame object's definitive version as \"labelled.csv\".\n",
    "# I employ \"|\" as a separator to prevent the pd methods from confusing colons or semi-colons within the texts with actual\n",
    "# separators. I set the \"index\" argument to false, because the indexes are completely meaningless and do not need to be saved.\n",
    "\n",
    "d.to_csv(\"labelled.csv\", sep = \"|\", index = False)"
   ]
  },
  {
   "cell_type": "markdown",
   "id": "b2902c49",
   "metadata": {},
   "source": [
    "# 4. Wrapping Up\n",
    "\n",
    "I am now ready to design a Supervised Machine Learning pipeline. I will first follow a more \"classic\" perspective, training a classifier with the Bag-Of-Words approach, and then move towards the state-of-the-art technique of fine-tuning a BERT transformer. I will carry out training procedures in two separate scripts. I do not wish to mount my \"classic\" SML pipeline on Google CoLab, as I prefer to program in the safest conditions possible when fine-tuning my BERT models on Google's GPUs - i.e., I want to take extreme caution in avoiding session time-outs while working within the the platform."
   ]
  }
 ],
 "metadata": {
  "kernelspec": {
   "display_name": "Python 3 (ipykernel)",
   "language": "python",
   "name": "python3"
  },
  "language_info": {
   "codemirror_mode": {
    "name": "ipython",
    "version": 3
   },
   "file_extension": ".py",
   "mimetype": "text/x-python",
   "name": "python",
   "nbconvert_exporter": "python",
   "pygments_lexer": "ipython3",
   "version": "3.9.13"
  }
 },
 "nbformat": 4,
 "nbformat_minor": 5
}
