{
 "cells": [
  {
   "cell_type": "markdown",
   "metadata": {
    "id": "N9p0R9_aMtXa"
   },
   "source": [
    "# **White Noise: LEGAL-BERT Fine-Tuning**\n",
    "## **1. Explaining the Problem**\n",
    "\n",
    "The vectorizer + classifier combinations I fine-tuned with grid-searches, following the \"classic\" approach to Supervised Machine Learning, is a good benchmark, but there is a lot of room for improvement. The accuracy of the best solutions for the classification tasks I must solve - i.e., labelling a US Congress bill summary as Economic / Non-Economic, and Socio-Cultural / Non-Socio-Cultural in its content -  hovers around the 80% mark, which is pretty satisfactory. However, I find a recurring and underlying bias of the vectorizer + classifier combination towards the positive labels. The most flexible and powerful solution to transcend the Bag-Of-Words technique and try tackling this issue is to fine-tune a BERT transformer specifically trained on legal text in English, to ensure that the pre-training phase is consistent with my domain of interest - i.e., US Congress bills. However, this necessitates a great deal of supplementary computational effort, to the extent that I am forced to load this script on Google CoLab, in order to employ Google's GPUs.\n",
    "\n",
    "My plan is to download the pre-trained `nlpaueb/legal-bert-base-uncased`, a BERT model from the `HuggingFace` library, created by the Athens University of Economics and Business's Natural Language Processing Group. The `LEGAL-BERT` model is pre-trained on a corpora of EU legislation, UK legislation, US contracts from the US Securities and Exchange Commission (SECOM), and cases from the European Court of Justice (ECJ), European Court of Human Rights (ECHR), and various courts across the USA. It is available at https://huggingface.co/nlpaueb/legal-bert-base-uncased. I expect that fine-tuning this transformer for my specific downstream tasks will lead to superior performances, ultimately yielding more nuanced predictions that take context and temporality into account.\n",
    "\n",
    "This notebook is heavily inspired by Anne Kroon's [version](https://github.com/uvacw/teaching-bdaca/blob/main/modules/machinelearning-text-exercises/transformers_bert_classification.ipynb) of the [the BERT for Humanists Fine-Tuning for a Classification task tutorial](https://colab.research.google.com/drive/19jDqa5D5XfxPU6NQef17BC07xQdRnaKU?usp=sharing), designed by Maria Antoniak, Melanie Walsh, and the [BERT for Humanists](https://melaniewalsh.github.io/BERT-for-Humanists/) Team.\n",
    "\n",
    "These are the steps involved in using BERT and HuggingFace:\n",
    "\n",
    "    1. Split the labelled dataset into training, validation, and testing subsets.\n",
    "    2. Convert the data into a format that BERT can process.\n",
    "    3. Create dataset objects by joining the textual data and labels.\n",
    "    4. Load the pre-trained BERT model.\n",
    "    5. Refine the model by training it on the training set.\n",
    "    6. Use the model to make predictions and assess its performance on your test data."
   ]
  },
  {
   "cell_type": "code",
   "execution_count": null,
   "metadata": {
    "colab": {
     "base_uri": "https://localhost:8080/"
    },
    "id": "YPXGBC1P6lR2",
    "outputId": "b55c74bf-49b6-4ae6-846a-35758be97767"
   },
   "outputs": [
    {
     "name": "stdout",
     "output_type": "stream",
     "text": [
      "Looking in indexes: https://pypi.org/simple, https://us-python.pkg.dev/colab-wheels/public/simple/\n",
      "Collecting transformers==4.28.0\n",
      "  Downloading transformers-4.28.0-py3-none-any.whl (7.0 MB)\n",
      "\u001b[2K     \u001b[90m━━━━━━━━━━━━━━━━━━━━━━━━━━━━━━━━━━━━━━━━\u001b[0m \u001b[32m7.0/7.0 MB\u001b[0m \u001b[31m63.9 MB/s\u001b[0m eta \u001b[36m0:00:00\u001b[0m\n",
      "\u001b[?25hRequirement already satisfied: filelock in /usr/local/lib/python3.10/dist-packages (from transformers==4.28.0) (3.12.0)\n",
      "Collecting huggingface-hub<1.0,>=0.11.0 (from transformers==4.28.0)\n",
      "  Downloading huggingface_hub-0.14.1-py3-none-any.whl (224 kB)\n",
      "\u001b[2K     \u001b[90m━━━━━━━━━━━━━━━━━━━━━━━━━━━━━━━━━━━━━━\u001b[0m \u001b[32m224.5/224.5 kB\u001b[0m \u001b[31m21.8 MB/s\u001b[0m eta \u001b[36m0:00:00\u001b[0m\n",
      "\u001b[?25hRequirement already satisfied: numpy>=1.17 in /usr/local/lib/python3.10/dist-packages (from transformers==4.28.0) (1.22.4)\n",
      "Requirement already satisfied: packaging>=20.0 in /usr/local/lib/python3.10/dist-packages (from transformers==4.28.0) (23.1)\n",
      "Requirement already satisfied: pyyaml>=5.1 in /usr/local/lib/python3.10/dist-packages (from transformers==4.28.0) (6.0)\n",
      "Requirement already satisfied: regex!=2019.12.17 in /usr/local/lib/python3.10/dist-packages (from transformers==4.28.0) (2022.10.31)\n",
      "Requirement already satisfied: requests in /usr/local/lib/python3.10/dist-packages (from transformers==4.28.0) (2.27.1)\n",
      "Collecting tokenizers!=0.11.3,<0.14,>=0.11.1 (from transformers==4.28.0)\n",
      "  Downloading tokenizers-0.13.3-cp310-cp310-manylinux_2_17_x86_64.manylinux2014_x86_64.whl (7.8 MB)\n",
      "\u001b[2K     \u001b[90m━━━━━━━━━━━━━━━━━━━━━━━━━━━━━━━━━━━━━━━━\u001b[0m \u001b[32m7.8/7.8 MB\u001b[0m \u001b[31m83.3 MB/s\u001b[0m eta \u001b[36m0:00:00\u001b[0m\n",
      "\u001b[?25hRequirement already satisfied: tqdm>=4.27 in /usr/local/lib/python3.10/dist-packages (from transformers==4.28.0) (4.65.0)\n",
      "Requirement already satisfied: fsspec in /usr/local/lib/python3.10/dist-packages (from huggingface-hub<1.0,>=0.11.0->transformers==4.28.0) (2023.4.0)\n",
      "Requirement already satisfied: typing-extensions>=3.7.4.3 in /usr/local/lib/python3.10/dist-packages (from huggingface-hub<1.0,>=0.11.0->transformers==4.28.0) (4.5.0)\n",
      "Requirement already satisfied: urllib3<1.27,>=1.21.1 in /usr/local/lib/python3.10/dist-packages (from requests->transformers==4.28.0) (1.26.15)\n",
      "Requirement already satisfied: certifi>=2017.4.17 in /usr/local/lib/python3.10/dist-packages (from requests->transformers==4.28.0) (2022.12.7)\n",
      "Requirement already satisfied: charset-normalizer~=2.0.0 in /usr/local/lib/python3.10/dist-packages (from requests->transformers==4.28.0) (2.0.12)\n",
      "Requirement already satisfied: idna<4,>=2.5 in /usr/local/lib/python3.10/dist-packages (from requests->transformers==4.28.0) (3.4)\n",
      "Installing collected packages: tokenizers, huggingface-hub, transformers\n",
      "Successfully installed huggingface-hub-0.14.1 tokenizers-0.13.3 transformers-4.28.0\n"
     ]
    }
   ],
   "source": [
    "# Installing the \"transformers\" package, in an older version (4.28.0)\n",
    "!pip3 install transformers==4.28.0"
   ]
  },
  {
   "cell_type": "markdown",
   "metadata": {
    "id": "BO5iLCtlb_Mk"
   },
   "source": [
    "I employ an older version of the `transformers` package because in the recent `4.29.0` release the function or method `PartialState` is not defined, leading to a `NameError` when trying to initialise the training parameters within the `Trainer` object. I must greatly thank the user `amyeroberts` who suggested to downgrade the `transformers` package within the following thread: https://github.com/huggingface/transformers/issues/22816."
   ]
  },
  {
   "cell_type": "code",
   "execution_count": null,
   "metadata": {
    "id": "XbktqVncNFfS"
   },
   "outputs": [],
   "source": [
    "# General packages\n",
    "import gzip\n",
    "import json\n",
    "import pickle\n",
    "import random\n",
    "import sys\n",
    "import csv\n",
    "from collections import defaultdict\n",
    "\n",
    "# Packages for data handling and cleaning\n",
    "import numpy as np\n",
    "import pandas as pd\n",
    "\n",
    "# Packages for SML and Transformer fine-tuning\n",
    "from sklearn import metrics\n",
    "from sklearn.metrics import accuracy_score, precision_recall_fscore_support, classification_report\n",
    "from sklearn.model_selection import train_test_split, ParameterGrid\n",
    "from sklearn.utils import compute_sample_weight\n",
    "from sklearn.metrics import f1_score\n",
    "import torch\n",
    "from transformers import Trainer, TrainingArguments"
   ]
  },
  {
   "cell_type": "code",
   "execution_count": null,
   "metadata": {
    "colab": {
     "base_uri": "https://localhost:8080/"
    },
    "id": "z__WcEQ0Ng87",
    "outputId": "e51508c4-117e-41ea-f778-ff77bb2761cc"
   },
   "outputs": [
    {
     "name": "stdout",
     "output_type": "stream",
     "text": [
      "Mounted at /content/drive\n"
     ]
    }
   ],
   "source": [
    "# Packages for mounting Drive and setting the working directory\n",
    "import os\n",
    "from google.colab import drive\n",
    "\n",
    "# Mounting my Drive on Google Colab\n",
    "drive.mount('/content/drive')\n",
    "\n",
    "# Setting the working directory\n",
    "os.chdir(r\"/content/drive/My Drive/Colab Notebooks/\")"
   ]
  },
  {
   "cell_type": "markdown",
   "metadata": {
    "id": "wMyfGvsG7UOd"
   },
   "source": [
    "## **1. Unpacking the data, and splitting it into Training, Validation, and Test sets**"
   ]
  },
  {
   "cell_type": "code",
   "execution_count": null,
   "metadata": {
    "id": "OqusMaWU686o"
   },
   "outputs": [],
   "source": [
    "# I start by importing the \"labelled.csv\" data set as a DataFrame object within the CoLab environment.\n",
    "# I crucially specify the \"|\" separator, because employing colons or semi-colons causes conflicts with the summaries' contents.\n",
    "\n",
    "d = pd.read_csv(\"labelled.csv\", sep = \"|\")"
   ]
  },
  {
   "cell_type": "code",
   "execution_count": null,
   "metadata": {
    "colab": {
     "base_uri": "https://localhost:8080/",
     "height": 206
    },
    "id": "ca7cqu1U7CVM",
    "outputId": "9ca1af8a-244a-4ce6-e736-1871fa5bf24c"
   },
   "outputs": [
    {
     "data": {
      "text/html": [
       "\n",
       "  <div id=\"df-9bdc4d70-fb7d-4ca9-9290-41e438a33609\">\n",
       "    <div class=\"colab-df-container\">\n",
       "      <div>\n",
       "<style scoped>\n",
       "    .dataframe tbody tr th:only-of-type {\n",
       "        vertical-align: middle;\n",
       "    }\n",
       "\n",
       "    .dataframe tbody tr th {\n",
       "        vertical-align: top;\n",
       "    }\n",
       "\n",
       "    .dataframe thead th {\n",
       "        text-align: right;\n",
       "    }\n",
       "</style>\n",
       "<table border=\"1\" class=\"dataframe\">\n",
       "  <thead>\n",
       "    <tr style=\"text-align: right;\">\n",
       "      <th></th>\n",
       "      <th>congress</th>\n",
       "      <th>bill_number</th>\n",
       "      <th>bill_type</th>\n",
       "      <th>text</th>\n",
       "      <th>economic</th>\n",
       "      <th>socio_cultural</th>\n",
       "    </tr>\n",
       "  </thead>\n",
       "  <tbody>\n",
       "    <tr>\n",
       "      <th>0</th>\n",
       "      <td>115</td>\n",
       "      <td>1308</td>\n",
       "      <td>hr</td>\n",
       "      <td>Frank and Jeanne Moore Wild Steelhead Speci...</td>\n",
       "      <td>Non-Economic</td>\n",
       "      <td>Socio-Cultural</td>\n",
       "    </tr>\n",
       "    <tr>\n",
       "      <th>1</th>\n",
       "      <td>115</td>\n",
       "      <td>4105</td>\n",
       "      <td>hr</td>\n",
       "      <td>This bill extends funding through FY2022 for...</td>\n",
       "      <td>Economic</td>\n",
       "      <td>Non-Socio-Cultural</td>\n",
       "    </tr>\n",
       "    <tr>\n",
       "      <th>2</th>\n",
       "      <td>115</td>\n",
       "      <td>3691</td>\n",
       "      <td>s</td>\n",
       "      <td>Expanding Transparency of Information and S...</td>\n",
       "      <td>Non-Economic</td>\n",
       "      <td>Socio-Cultural</td>\n",
       "    </tr>\n",
       "    <tr>\n",
       "      <th>3</th>\n",
       "      <td>111</td>\n",
       "      <td>1994</td>\n",
       "      <td>hr</td>\n",
       "      <td>Citizen Soldier Equality Act of 2009 - Requi...</td>\n",
       "      <td>Economic</td>\n",
       "      <td>Socio-Cultural</td>\n",
       "    </tr>\n",
       "    <tr>\n",
       "      <th>4</th>\n",
       "      <td>111</td>\n",
       "      <td>883</td>\n",
       "      <td>hr</td>\n",
       "      <td>Amends the Internal Revenue Code to repeal, e...</td>\n",
       "      <td>Economic</td>\n",
       "      <td>Socio-Cultural</td>\n",
       "    </tr>\n",
       "  </tbody>\n",
       "</table>\n",
       "</div>\n",
       "      <button class=\"colab-df-convert\" onclick=\"convertToInteractive('df-9bdc4d70-fb7d-4ca9-9290-41e438a33609')\"\n",
       "              title=\"Convert this dataframe to an interactive table.\"\n",
       "              style=\"display:none;\">\n",
       "        \n",
       "  <svg xmlns=\"http://www.w3.org/2000/svg\" height=\"24px\"viewBox=\"0 0 24 24\"\n",
       "       width=\"24px\">\n",
       "    <path d=\"M0 0h24v24H0V0z\" fill=\"none\"/>\n",
       "    <path d=\"M18.56 5.44l.94 2.06.94-2.06 2.06-.94-2.06-.94-.94-2.06-.94 2.06-2.06.94zm-11 1L8.5 8.5l.94-2.06 2.06-.94-2.06-.94L8.5 2.5l-.94 2.06-2.06.94zm10 10l.94 2.06.94-2.06 2.06-.94-2.06-.94-.94-2.06-.94 2.06-2.06.94z\"/><path d=\"M17.41 7.96l-1.37-1.37c-.4-.4-.92-.59-1.43-.59-.52 0-1.04.2-1.43.59L10.3 9.45l-7.72 7.72c-.78.78-.78 2.05 0 2.83L4 21.41c.39.39.9.59 1.41.59.51 0 1.02-.2 1.41-.59l7.78-7.78 2.81-2.81c.8-.78.8-2.07 0-2.86zM5.41 20L4 18.59l7.72-7.72 1.47 1.35L5.41 20z\"/>\n",
       "  </svg>\n",
       "      </button>\n",
       "      \n",
       "  <style>\n",
       "    .colab-df-container {\n",
       "      display:flex;\n",
       "      flex-wrap:wrap;\n",
       "      gap: 12px;\n",
       "    }\n",
       "\n",
       "    .colab-df-convert {\n",
       "      background-color: #E8F0FE;\n",
       "      border: none;\n",
       "      border-radius: 50%;\n",
       "      cursor: pointer;\n",
       "      display: none;\n",
       "      fill: #1967D2;\n",
       "      height: 32px;\n",
       "      padding: 0 0 0 0;\n",
       "      width: 32px;\n",
       "    }\n",
       "\n",
       "    .colab-df-convert:hover {\n",
       "      background-color: #E2EBFA;\n",
       "      box-shadow: 0px 1px 2px rgba(60, 64, 67, 0.3), 0px 1px 3px 1px rgba(60, 64, 67, 0.15);\n",
       "      fill: #174EA6;\n",
       "    }\n",
       "\n",
       "    [theme=dark] .colab-df-convert {\n",
       "      background-color: #3B4455;\n",
       "      fill: #D2E3FC;\n",
       "    }\n",
       "\n",
       "    [theme=dark] .colab-df-convert:hover {\n",
       "      background-color: #434B5C;\n",
       "      box-shadow: 0px 1px 3px 1px rgba(0, 0, 0, 0.15);\n",
       "      filter: drop-shadow(0px 1px 2px rgba(0, 0, 0, 0.3));\n",
       "      fill: #FFFFFF;\n",
       "    }\n",
       "  </style>\n",
       "\n",
       "      <script>\n",
       "        const buttonEl =\n",
       "          document.querySelector('#df-9bdc4d70-fb7d-4ca9-9290-41e438a33609 button.colab-df-convert');\n",
       "        buttonEl.style.display =\n",
       "          google.colab.kernel.accessAllowed ? 'block' : 'none';\n",
       "\n",
       "        async function convertToInteractive(key) {\n",
       "          const element = document.querySelector('#df-9bdc4d70-fb7d-4ca9-9290-41e438a33609');\n",
       "          const dataTable =\n",
       "            await google.colab.kernel.invokeFunction('convertToInteractive',\n",
       "                                                     [key], {});\n",
       "          if (!dataTable) return;\n",
       "\n",
       "          const docLinkHtml = 'Like what you see? Visit the ' +\n",
       "            '<a target=\"_blank\" href=https://colab.research.google.com/notebooks/data_table.ipynb>data table notebook</a>'\n",
       "            + ' to learn more about interactive tables.';\n",
       "          element.innerHTML = '';\n",
       "          dataTable['output_type'] = 'display_data';\n",
       "          await google.colab.output.renderOutput(dataTable, element);\n",
       "          const docLink = document.createElement('div');\n",
       "          docLink.innerHTML = docLinkHtml;\n",
       "          element.appendChild(docLink);\n",
       "        }\n",
       "      </script>\n",
       "    </div>\n",
       "  </div>\n",
       "  "
      ],
      "text/plain": [
       "   congress  bill_number bill_type  \\\n",
       "0       115         1308        hr   \n",
       "1       115         4105        hr   \n",
       "2       115         3691         s   \n",
       "3       111         1994        hr   \n",
       "4       111          883        hr   \n",
       "\n",
       "                                                text      economic  \\\n",
       "0     Frank and Jeanne Moore Wild Steelhead Speci...  Non-Economic   \n",
       "1    This bill extends funding through FY2022 for...      Economic   \n",
       "2     Expanding Transparency of Information and S...  Non-Economic   \n",
       "3    Citizen Soldier Equality Act of 2009 - Requi...      Economic   \n",
       "4   Amends the Internal Revenue Code to repeal, e...      Economic   \n",
       "\n",
       "       socio_cultural  \n",
       "0      Socio-Cultural  \n",
       "1  Non-Socio-Cultural  \n",
       "2      Socio-Cultural  \n",
       "3      Socio-Cultural  \n",
       "4      Socio-Cultural  "
      ]
     },
     "execution_count": 5,
     "metadata": {},
     "output_type": "execute_result"
    }
   ],
   "source": [
    "# I check the first few lines of the DataFrame object to assess if the \"read_csv\" command worked smoothly\n",
    "\n",
    "d.head()"
   ]
  },
  {
   "cell_type": "code",
   "execution_count": null,
   "metadata": {
    "colab": {
     "base_uri": "https://localhost:8080/"
    },
    "id": "KaKXNQoI7E6a",
    "outputId": "44b4e500-eae3-49ea-d1fd-1bbb64d9f7e2"
   },
   "outputs": [
    {
     "data": {
      "text/plain": [
       "(2200, 6)"
      ]
     },
     "execution_count": 6,
     "metadata": {},
     "output_type": "execute_result"
    }
   ],
   "source": [
    "# I check the shape of the DataFrame object to assess if the \"read_csv\" command worked smoothly\n",
    "\n",
    "d.shape"
   ]
  },
  {
   "cell_type": "markdown",
   "metadata": {
    "id": "hZHxwRmC7Nx6"
   },
   "source": [
    "2200 classified documents, six columns - i.e., the original four columns I retrieved from `api.congress.gov`, plus the two columns that contain the categories I manually annotated. Everything seems perfect! I can now transform the columns where I respectively stored the textual data - i.e. `text` - the economic labels - i.e., `economic` - and the socio-cultural labels - i.e., `socio_cultural` - in three separate lists, which I subsequently split into suitable sets for training, validation, and testing.\n",
    "\n",
    "The following cell's code is inspired by the official documentation for the `tolist()` `pandas` method, available at https://pandas.pydata.org/docs/reference/api/pandas.Series.tolist.html."
   ]
  },
  {
   "cell_type": "code",
   "execution_count": null,
   "metadata": {
    "id": "00kW8FioffR3"
   },
   "outputs": [],
   "source": [
    "# I unpack the columns of interest into three separate lists with the .tolist() pandas method.\n",
    "\n",
    "text = d[\"text\"].tolist() # Textual data\n",
    "economic = d[\"economic\"].tolist() # Economic labels\n",
    "socio_cultural = d[\"socio_cultural\"].tolist() # Socio-cultural labels"
   ]
  },
  {
   "cell_type": "code",
   "execution_count": null,
   "metadata": {
    "colab": {
     "base_uri": "https://localhost:8080/"
    },
    "id": "lqhiJoJC08Zx",
    "outputId": "5535f205-f891-4454-e981-ea642f760fd5"
   },
   "outputs": [
    {
     "data": {
      "text/plain": [
       "['   Frank and Jeanne Moore Wild Steelhead Special Management Area Designation Act      This bill designates approximately 99,653 acres of Forest Service land in Oregon as the  Frank and Jeanne Moore Wild Steelhead Special Management Area.  ',\n",
       " '  This bill extends funding through FY2022 for the Department of Health and Human Services to award grants to states and certain other entities for demonstration projects that address health-professions workforce needs.  ',\n",
       " '   Expanding Transparency of Information and Safeguarding Toxics (EtO is Toxic) Act of 2018    This bill updates requirements for chemicals that pose an adverse public health risk. Specifically, the bill requires the Environmental Protection Agency (EPA) to publish an updated National Air Toxics Assessment once every two years. The assessment uses emissions data to estimate health risks from toxic air pollutants.    The bill also requires the EPA to use data from its Integrated Risk Information System when conducting rulemaking with respect to chemicals that have been assessed in the system. For chemicals that are found to pose an adverse health risk, the EPA shall identify and do additional review on facilities that are significant sources of the chemical to determine whether the facility poses an adverse public health risk.   Under the bill, chemicals identified as carcinogenic in the system must have a toxic chemical release form completed by the owner or operator of a facility.   The bill requires the Department of Health and Human Services (HHS) to consult with appropriate EPA offices regarding the future schedule of assessments of chemicals to be conducted under the system, the results or existing assessments, and concerns that may merit additional review. HHS must also administer personal exposure tests for chemicals that pose a new adverse public health risk to vulnerable populations, such as children. HHS must establish a Community Outreach Division to communicate risk assessments to affected communities. ',\n",
       " '  Citizen Soldier Equality Act of 2009 - Requires that, in the case of a member of the reserves who is retired or placed on the temporary disability retired list because of an incurred disability for which the member is awarded the Purple Heart, the member shall be credited with the number of years of service that would be counted under the computation of years of service for retired pay for non-regular service. ',\n",
       " ' Amends the Internal Revenue Code to repeal, effective January 1, 2009, the 1993 increase in income taxes on Social Security benefits.']"
      ]
     },
     "execution_count": 8,
     "metadata": {},
     "output_type": "execute_result"
    }
   ],
   "source": [
    "# I check the first 5 elements and overall lengths of the three lists to assess whether this data wrangling step went smoothly.\n",
    "\n",
    "text[:5]"
   ]
  },
  {
   "cell_type": "code",
   "execution_count": null,
   "metadata": {
    "colab": {
     "base_uri": "https://localhost:8080/"
    },
    "id": "7FBUu5xh0_NV",
    "outputId": "fca8ac0c-7ca9-4499-a0cd-687d636ca25d"
   },
   "outputs": [
    {
     "name": "stdout",
     "output_type": "stream",
     "text": [
      "The textual data list's total length is 2200.\n"
     ]
    }
   ],
   "source": [
    "print(f\"The textual data list's total length is {len(text)}.\")"
   ]
  },
  {
   "cell_type": "code",
   "execution_count": null,
   "metadata": {
    "colab": {
     "base_uri": "https://localhost:8080/"
    },
    "id": "fIvFzUBL1Dsh",
    "outputId": "50fc4f44-4115-49a4-bc2a-145f28ee0e7e"
   },
   "outputs": [
    {
     "data": {
      "text/plain": [
       "['Non-Economic', 'Economic', 'Non-Economic', 'Economic', 'Economic']"
      ]
     },
     "execution_count": 10,
     "metadata": {},
     "output_type": "execute_result"
    }
   ],
   "source": [
    "economic[:5]"
   ]
  },
  {
   "cell_type": "code",
   "execution_count": null,
   "metadata": {
    "colab": {
     "base_uri": "https://localhost:8080/"
    },
    "id": "KTj4TuT21Fxq",
    "outputId": "7754f07f-bd8f-4b17-8d7b-12cc22c50796"
   },
   "outputs": [
    {
     "name": "stdout",
     "output_type": "stream",
     "text": [
      "The economic label list's total length is 2200.\n"
     ]
    }
   ],
   "source": [
    "print(f\"The economic label list's total length is {len(economic)}.\")"
   ]
  },
  {
   "cell_type": "code",
   "execution_count": null,
   "metadata": {
    "colab": {
     "base_uri": "https://localhost:8080/"
    },
    "id": "ej09_rvZ1Hri",
    "outputId": "1c216510-2661-41df-ec19-a40ba9386926"
   },
   "outputs": [
    {
     "data": {
      "text/plain": [
       "['Socio-Cultural',\n",
       " 'Non-Socio-Cultural',\n",
       " 'Socio-Cultural',\n",
       " 'Socio-Cultural',\n",
       " 'Socio-Cultural']"
      ]
     },
     "execution_count": 12,
     "metadata": {},
     "output_type": "execute_result"
    }
   ],
   "source": [
    "socio_cultural[:5]"
   ]
  },
  {
   "cell_type": "code",
   "execution_count": null,
   "metadata": {
    "colab": {
     "base_uri": "https://localhost:8080/"
    },
    "id": "W-GGfysr1Jf5",
    "outputId": "3f16d6a1-a75d-464a-e7cb-653449170548"
   },
   "outputs": [
    {
     "name": "stdout",
     "output_type": "stream",
     "text": [
      "The socio-cultural label list's total length is 2200.\n"
     ]
    }
   ],
   "source": [
    "print(f\"The socio-cultural label list's total length is {len(socio_cultural)}.\")"
   ]
  },
  {
   "cell_type": "markdown",
   "metadata": {
    "id": "2syrwdpM1Rl0"
   },
   "source": [
    "All data was correctly dumped into separate lists. Now, I proceed to split them into suitable sets for training, validation, and testing with the `sklearn` `train_test_split` function."
   ]
  },
  {
   "cell_type": "code",
   "execution_count": null,
   "metadata": {
    "id": "qd8oBVcQ1TTc"
   },
   "outputs": [],
   "source": [
    "# I set a given random seed to make my work reproducible. For the record, the 27th of August is my birthday.\n",
    "my_seed = 27\n",
    "\n",
    "# Running the train vs test split with the standard 80% vs 20% ratio.\n",
    "text_train, text_test, econ_train, econ_test, sc_train, sc_test = train_test_split(\n",
    "    text, economic, socio_cultural, test_size = 0.2, random_state = my_seed)"
   ]
  },
  {
   "cell_type": "code",
   "execution_count": null,
   "metadata": {
    "colab": {
     "base_uri": "https://localhost:8080/"
    },
    "id": "Bq652RG31XiI",
    "outputId": "c6dda72f-af45-4309-d621-f509c111a1df"
   },
   "outputs": [
    {
     "name": "stdout",
     "output_type": "stream",
     "text": [
      "The text sets have 1760 training instances and 440 testing instances.\n"
     ]
    }
   ],
   "source": [
    "# Checking whether this splitting step went smoothly for the bill summaries...\n",
    "print(f\"The text sets have {len(text_train)} training instances and {len(text_test)} testing instances.\")"
   ]
  },
  {
   "cell_type": "code",
   "execution_count": null,
   "metadata": {
    "colab": {
     "base_uri": "https://localhost:8080/"
    },
    "id": "QQSW2vzK1Z6D",
    "outputId": "5f21b9b1-c0e8-43d1-cf0a-1ad2b9ecfe8e"
   },
   "outputs": [
    {
     "name": "stdout",
     "output_type": "stream",
     "text": [
      "The economic label sets have 1760 training instances and 440 testing instances.\n",
      "The socio-cultural label sets have 1760 training instances and 440 testing instances.\n"
     ]
    }
   ],
   "source": [
    "# ...and for their labels.\n",
    "print(f\"The economic label sets have {len(econ_train)} training instances and {len(econ_test)} testing instances.\")\n",
    "print(f\"The socio-cultural label sets have {len(sc_train)} training instances and {len(sc_test)} testing instances.\")"
   ]
  },
  {
   "cell_type": "markdown",
   "metadata": {
    "id": "gxIe43If1cCB"
   },
   "source": [
    "I further split the remaining data into training and validation sets. This time, I apply a 75% versus 25% split ratio, saving one fourth of the bill summaries and relative labels for validation purposes, because I want the number of instances for validation and testing to be as close as possible."
   ]
  },
  {
   "cell_type": "code",
   "execution_count": null,
   "metadata": {
    "id": "IgDh0bz01d5i"
   },
   "outputs": [],
   "source": [
    "# Running the train vs validate split with a 75% vs 25% ratio.\n",
    "text_train, text_valid, econ_train, econ_valid, sc_train, sc_valid = train_test_split(\n",
    "    text_train, econ_train, sc_train, test_size = 0.25, random_state = my_seed)"
   ]
  },
  {
   "cell_type": "code",
   "execution_count": null,
   "metadata": {
    "colab": {
     "base_uri": "https://localhost:8080/"
    },
    "id": "k2YAX5671g_v",
    "outputId": "2e039690-7dff-4444-e5ea-83c18168300a"
   },
   "outputs": [
    {
     "name": "stdout",
     "output_type": "stream",
     "text": [
      "The text sets have 1320 training instances and 440 validation instances.\n"
     ]
    }
   ],
   "source": [
    "# Checking whether this splitting step went smoothly for the bill summaries...\n",
    "print(f\"The text sets have {len(text_train)} training instances and {len(text_valid)} validation instances.\")"
   ]
  },
  {
   "cell_type": "code",
   "execution_count": null,
   "metadata": {
    "colab": {
     "base_uri": "https://localhost:8080/"
    },
    "id": "WWnAFi0p1jmc",
    "outputId": "f9d22d1e-2168-40cb-f4a0-dadd350244be"
   },
   "outputs": [
    {
     "name": "stdout",
     "output_type": "stream",
     "text": [
      "The economic label sets have 1320 training instances and 440 validation instances.\n",
      "The socio-cultural label sets have 1320 training instances and 440 validation instances.\n"
     ]
    }
   ],
   "source": [
    "# ...and for their labels.\n",
    "print(f\"The economic label sets have {len(econ_train)} training instances and {len(econ_valid)} validation instances.\")\n",
    "print(f\"The socio-cultural label sets have {len(sc_train)} training instances and {len(sc_valid)} validation instances.\")"
   ]
  },
  {
   "cell_type": "markdown",
   "metadata": {
    "id": "Mv4_8wzi2Cig"
   },
   "source": [
    "I now set some variables that will help me to avoid hard-coding some key values, such as the pre-trained BERT model's name, or the directories where I want to save my fine-tuned models."
   ]
  },
  {
   "cell_type": "code",
   "execution_count": null,
   "metadata": {
    "id": "pvRRW80S1snr"
   },
   "outputs": [],
   "source": [
    "# To import LEGAL-BERT in English, I refer to the \"nlpaueb/legal-bert-base-uncased\" transformer.\n",
    "model_name = \"nlpaueb/legal-bert-base-uncased\"\n",
    "\n",
    "# I will rune my code on NVIDIA GPUs using Google CoLab's program management system.\n",
    "device_name = \"cuda\"\n",
    "\n",
    "# I set the maximum number of tokens in each document to be 512, which is the maximum length for BERT models.\n",
    "max_length = 512\n",
    "\n",
    "# I define the directory where I'll save my fine-tuned model for the Economic / Non-Economic classification task.\n",
    "save_directory_econ = \"legal_bert_econ\"\n",
    "\n",
    "# I define the directory where I'll save my fine-tuned model for the Socio-Cultural / Non-Socio-Cultural classification task.\n",
    "save_directory_sc = \"legal_bert_sc\""
   ]
  },
  {
   "cell_type": "markdown",
   "metadata": {
    "id": "dAxOWLup4Shk"
   },
   "source": [
    "On a final note, I choose to fine-tune the base - i.e., general - LEGAL-BERT pre-trained model, and not its more specific variants, such as `CONTRACTS-BERT-BASE`, only trained on the US contracts sub-corpus, `EURLEX-BERT-BASE`, only trained on the EU legislation sub-corpus, and\n",
    "`ECHR-BERT-BASE`, only trained on the ECHR cases sub-corpus. This is because I do not want to lose the nuance provided by training on UK legislation, which I deem to be the corpora that is the closest to my domain - i.e, US legislation.\n",
    "\n",
    "<br>\n",
    "\n",
    "## **2. Encoding data for BERT**\n",
    "\n",
    "To prepare my data set for use with the pre-trained `LEGAL-BERT`, I need to encode the texts and labels in a way that the model can understand. Here are the steps I must follow:\n",
    "\n",
    "    1. Convert the labels from strings to integers.\n",
    "    2. Tokenize the texts, which involves breaking them up into individual words, and then convert the words into \"word pieces\" that can be matched with their corresponding embedding vectors.\n",
    "    3. Truncate texts that are longer than 512 tokens, or pad texts that are shorter than 512 tokens with a special padding token.\n",
    "    4. Add special tokens to the beginning and end of each document, including a start token, a separator between sentences, and a padding token as necessary."
   ]
  },
  {
   "cell_type": "code",
   "execution_count": null,
   "metadata": {
    "colab": {
     "base_uri": "https://localhost:8080/",
     "height": 145,
     "referenced_widgets": [
      "515748fed104409d935aa7b7902779b3",
      "3a35d5209b884fcc8aa38d79d6a58631",
      "cdada1126e91404ab75d3c2afca6ca63",
      "08d11dd9947645fc87217c1fd6a8bbf8",
      "678b18e7af9e4fb1a98e53e593f903d5",
      "7de8bd8832fe490f9377cc1e4fa09ae1",
      "504ed22650f84efaabef6bd9b0e0180e",
      "38c6e1be88bf47db80f9df3c82227329",
      "528013489a2c4c6dbd4ed7ada822e1b6",
      "229e1d06cfe748bd9426e2851ea18e84",
      "03015b3d480e4c1da07d71e3f65e4a93",
      "33d01e9764664f4cb04ec2b1d3d44aa1",
      "18f2d5791aeb42e09ade61e176eefb86",
      "c8956ecdee2b4722a6dd88a61650ccc6",
      "6ad73f6959074c348ad822e3eebeaffc",
      "2a16d4db7c6d44df947d83aa50bbd516",
      "6962fa4663934c6fa19424c97e5ef1e4",
      "5858c2850f18402f9f58cab789b30f76",
      "b57ac349781e46c991e6d98b934a19c6",
      "698da4a173574317a43a425151fe0cfe",
      "0752fd7c298e446b99af2f223dbf5044",
      "baf4088df450425fabab7fb948cd2b38",
      "22f27013ded24335b0bdd55b903521b9",
      "7587c654a2ab415384a2d3f402e1dbbc",
      "cfe0d226e3c74499a95639371c769aac",
      "d7f5c005a32f43c8be00ed9b87a70336",
      "7ca2ee45b3e2452c8595d0600e675f2a",
      "50cb5c0af7b14564ba56e8431cd825c1",
      "64ee8699aaae4bba81597a5e9f6d8359",
      "0e0e65ba40a5464b9afc36b2bd1412b7",
      "ab194f4861a04e37b99de4b2ce7e7933",
      "c6be6a4f47094d279bb9db6424c66da2",
      "1a64fc71db0e408fba7b5351362fc6bc",
      "5523667d8a4447eea343a9139521f7ea",
      "ca96f14d236a4e82bba9c5436e18d86c",
      "aed63917e1814af0bbfbb0a0a05d8326",
      "384e9bdef5f64a4e98b56bebcd4a6dad",
      "f0b1804134b24d71a2d6e40537a28810",
      "17314e33195c4c8bb4283d4c19ae74f9",
      "c54e901a0475485bb65bacbfbe829975",
      "fca35fdf1a1c4c5784e2c989a13d3914",
      "13d2661e99f244c4a0c5d9aa7dc87d2c",
      "e6aec2cc33524590a1d40049fe159bcc",
      "da756d28cd9f44fd8307e90c42bba71f"
     ]
    },
    "id": "9ksDM9Gp5poK",
    "outputId": "81d0a12c-761d-45ff-bf0f-5a7711c81609"
   },
   "outputs": [
    {
     "data": {
      "application/vnd.jupyter.widget-view+json": {
       "model_id": "515748fed104409d935aa7b7902779b3",
       "version_major": 2,
       "version_minor": 0
      },
      "text/plain": [
       "Downloading (…)okenizer_config.json:   0%|          | 0.00/48.0 [00:00<?, ?B/s]"
      ]
     },
     "metadata": {},
     "output_type": "display_data"
    },
    {
     "data": {
      "application/vnd.jupyter.widget-view+json": {
       "model_id": "33d01e9764664f4cb04ec2b1d3d44aa1",
       "version_major": 2,
       "version_minor": 0
      },
      "text/plain": [
       "Downloading (…)lve/main/config.json:   0%|          | 0.00/1.02k [00:00<?, ?B/s]"
      ]
     },
     "metadata": {},
     "output_type": "display_data"
    },
    {
     "data": {
      "application/vnd.jupyter.widget-view+json": {
       "model_id": "22f27013ded24335b0bdd55b903521b9",
       "version_major": 2,
       "version_minor": 0
      },
      "text/plain": [
       "Downloading (…)solve/main/vocab.txt:   0%|          | 0.00/222k [00:00<?, ?B/s]"
      ]
     },
     "metadata": {},
     "output_type": "display_data"
    },
    {
     "data": {
      "application/vnd.jupyter.widget-view+json": {
       "model_id": "5523667d8a4447eea343a9139521f7ea",
       "version_major": 2,
       "version_minor": 0
      },
      "text/plain": [
       "Downloading (…)cial_tokens_map.json:   0%|          | 0.00/112 [00:00<?, ?B/s]"
      ]
     },
     "metadata": {},
     "output_type": "display_data"
    }
   ],
   "source": [
    "# Package for automatic BERT tokenizing\n",
    "from transformers import AutoTokenizer\n",
    "\n",
    "# I import my automatic BERT tokenizer from the \"nlpaueb/legal-bert-base-uncased\" model\n",
    "tokenizer = AutoTokenizer.from_pretrained(model_name)"
   ]
  },
  {
   "cell_type": "markdown",
   "metadata": {
    "id": "ziWNvU198M5a"
   },
   "source": [
    "I now generate a mapping of my Economic / Non-Economic, and Socio-Cultural / Non-Socio-Cultural labels to integer keys. I begin by extracting the unique labels from my dataset and creating two dictionaries that associate each label with an integer."
   ]
  },
  {
   "cell_type": "code",
   "execution_count": null,
   "metadata": {
    "id": "Y5Jzy9iI8dv5"
   },
   "outputs": [],
   "source": [
    "# a. Economic / Non-Economic\n",
    "\n",
    "# I create a set called \"unique_labels_econ\" using a set comprehension.\n",
    "# I iterate over each label in the econ_train variable and add it to the set.\n",
    "# The end product of the loop is a set of all the unique labels in econ_train.\n",
    "unique_labels_econ = set(label for label in econ_train)\n",
    "\n",
    "# I now create a dictionary called \"label2id_econ\" using a dictionary comprehension,\n",
    "# by iterating over all labels in the unique_labels_econ set. For each label, I\n",
    "# generate a key-value pair in the dictionary where the key is the label and\n",
    "# the value is its corresponding integer ID, which is defined thanks to the\n",
    "# enumerate() function.\n",
    "label2id_econ = {label: id for id, label in enumerate(unique_labels_econ)}\n",
    "\n",
    "# I finally generate a dictionary called \"id2label_econ\" using another dictionary\n",
    "# comprehension. This time, I iterate over each key-value pair in the newly\n",
    "# created \"label2id_econ\" dictionary, and for each key-value pair, we set a new\n",
    "# key-value pair in the \"id2label_econ\" dictionary, where the key is the integer ID\n",
    "# and the value is the label.\n",
    "id2label_econ = {id: label for label, id in label2id_econ.items()}"
   ]
  },
  {
   "cell_type": "code",
   "execution_count": null,
   "metadata": {
    "colab": {
     "base_uri": "https://localhost:8080/"
    },
    "id": "QfSH9B4g-Ig3",
    "outputId": "8bffdf44-487d-4d97-e94f-355353e0f3ab"
   },
   "outputs": [
    {
     "data": {
      "text/plain": [
       "dict_keys(['Non-Economic', 'Economic'])"
      ]
     },
     "execution_count": 23,
     "metadata": {},
     "output_type": "execute_result"
    }
   ],
   "source": [
    "label2id_econ.keys() # I check the keys of the \"label2id_econ\" dictionary..."
   ]
  },
  {
   "cell_type": "code",
   "execution_count": null,
   "metadata": {
    "colab": {
     "base_uri": "https://localhost:8080/"
    },
    "id": "arC90MWm-LJE",
    "outputId": "3ac5c651-b227-4265-8601-5bf0d490ce77"
   },
   "outputs": [
    {
     "data": {
      "text/plain": [
       "dict_keys([0, 1])"
      ]
     },
     "execution_count": 24,
     "metadata": {},
     "output_type": "execute_result"
    }
   ],
   "source": [
    "id2label_econ.keys() # ...and the \"id2label_econ\" dictionary."
   ]
  },
  {
   "cell_type": "code",
   "execution_count": null,
   "metadata": {
    "id": "8NZ-U-AB-YiO"
   },
   "outputs": [],
   "source": [
    "# b. Socio-Cultural / Non-Socio-Cultural\n",
    "\n",
    "# I create a set called \"unique_labels_sc\" using a set comprehension.\n",
    "# I iterate over each label in the sc_train variable and add it to the set.\n",
    "# The end product of the loop is a set of all the unique labels in sc_train.\n",
    "unique_labels_sc = set(label for label in sc_train)\n",
    "\n",
    "# I now create a dictionary called \"label2id_sc\" using a dictionary comprehension,\n",
    "# by iterating over all labels in the unique_labels_sc set. For each label, I\n",
    "# generate a key-value pair in the dictionary where the key is the label and\n",
    "# the value is its corresponding integer ID, which is defined thanks to the\n",
    "# enumerate() function.\n",
    "label2id_sc = {label: id for id, label in enumerate(unique_labels_sc)}\n",
    "\n",
    "# I finally generate a dictionary called \"id2label_sc\" using another dictionary\n",
    "# comprehension. This time, I iterate over each key-value pair in the newly\n",
    "# created \"label2id_sc\" dictionary, and for each key-value pair, we set a new\n",
    "# key-value pair in the \"id2label_sc\" dictionary, where the key is the integer ID\n",
    "# and the value is the label.\n",
    "id2label_sc = {id: label for label, id in label2id_sc.items()}"
   ]
  },
  {
   "cell_type": "code",
   "execution_count": null,
   "metadata": {
    "colab": {
     "base_uri": "https://localhost:8080/"
    },
    "id": "Hr_8fCBZ_J-1",
    "outputId": "25748e19-5647-40ec-8a16-382484264afc"
   },
   "outputs": [
    {
     "data": {
      "text/plain": [
       "dict_keys(['Socio-Cultural', 'Non-Socio-Cultural'])"
      ]
     },
     "execution_count": 26,
     "metadata": {},
     "output_type": "execute_result"
    }
   ],
   "source": [
    "label2id_sc.keys() # I check the keys of the \"label2id_sc\" dictionary..."
   ]
  },
  {
   "cell_type": "code",
   "execution_count": null,
   "metadata": {
    "colab": {
     "base_uri": "https://localhost:8080/"
    },
    "id": "ukoLtNzh_QY0",
    "outputId": "a77542b4-4e03-484d-8d72-fc6459c24d4d"
   },
   "outputs": [
    {
     "data": {
      "text/plain": [
       "dict_keys([0, 1])"
      ]
     },
     "execution_count": 27,
     "metadata": {},
     "output_type": "execute_result"
    }
   ],
   "source": [
    "id2label_sc.keys() # ...and the \"id2label_sc\" dictionary."
   ]
  },
  {
   "cell_type": "markdown",
   "metadata": {
    "id": "HbQxivFg_f8y"
   },
   "source": [
    "Next, I respectively tokenize and encode all bill summaries and labels."
   ]
  },
  {
   "cell_type": "code",
   "execution_count": null,
   "metadata": {
    "id": "6Cb1pCp-_xxi"
   },
   "outputs": [],
   "source": [
    "# I first encode the bill summaries for training, validation, and testing with the\n",
    "# pre-trained AutoTokenizer from the HuggingFace library. The truncation,\n",
    "# padding, and \"max_length\" parameters are set to ensure that all the tokenized\n",
    "# sequences are of the same length.\n",
    "\n",
    "# 1. The truncation parameter ensures that any sequences longer than \"max_length\" (512)\n",
    "# are truncated to the specified maximum length.\n",
    "\n",
    "# 2. The padding parameter ensures that any sequences shorter than \"max_length\" (512)\n",
    "# are padded with special tokens to the specified maximum length.\n",
    "\n",
    "# 3. The \"max_length\" parameter specifies the maximum length of the tokenized sequences - i.e., 512.\n",
    "\n",
    "train_encodings = tokenizer(text_train, truncation = True, padding = True, max_length = max_length)\n",
    "valid_encodings = tokenizer(text_valid, truncation = True, padding = True, max_length = max_length)\n",
    "test_encodings = tokenizer(text_test, truncation = True, padding = True, max_length = max_length)\n",
    "\n",
    "# I then encode my labels by iterating over the training, validation, and\n",
    "# testing datasets, and mapping each label to its corresponding integer ID,\n",
    "# respectively using the \"label2id_econ\" and \"label2id_sc\" dictionaries.\n",
    "# I store the resulting integer IDs into new \"_encoded\" lists.\n",
    "\n",
    "# a. Economic / Non-Economic\n",
    "econ_train_encoded = [label2id_econ[lab] for lab in econ_train]\n",
    "econ_valid_encoded = [label2id_econ[lab] for lab in econ_valid]\n",
    "econ_test_encoded = [label2id_econ[lab] for lab in econ_test]\n",
    "\n",
    "# b. Socio-Cultural / Non-Socio-Cultural\n",
    "sc_train_encoded = [label2id_sc[lab] for lab in sc_train]\n",
    "sc_valid_encoded = [label2id_sc[lab] for lab in sc_valid]\n",
    "sc_test_encoded = [label2id_sc[lab] for lab in sc_test]"
   ]
  },
  {
   "cell_type": "markdown",
   "metadata": {
    "id": "I5ZDwC58Cg3z"
   },
   "source": [
    "After the encoding procedure, I examine the newly created sets to check whether there are any issues. This is a bill summary in the training set after encoding:"
   ]
  },
  {
   "cell_type": "code",
   "execution_count": null,
   "metadata": {
    "colab": {
     "base_uri": "https://localhost:8080/",
     "height": 88
    },
    "id": "_yVECiI4CvvN",
    "outputId": "d1dae623-8d2c-42a5-f8c1-03faf09cee7c"
   },
   "outputs": [
    {
     "data": {
      "application/vnd.google.colaboratory.intrinsic+json": {
       "type": "string"
      },
      "text/plain": [
       "'[CLS] protect the homeland from north korea ##n and iranian ballistic missile ##s act - states the concern of congress over north korea ##n and iranian long - range ballistic missile technology and the spread of such technology . expresse ##s support for ballistic missile protection of u . s . allie ##s and forward deploy ##ed forces but also the belief that this should not come at the expense of u . s . homeland protection . direct ##s the secretary of defense to deploy specified numbers of ground - based intercept ##or ##s in alaska and california and'"
      ]
     },
     "execution_count": 29,
     "metadata": {},
     "output_type": "execute_result"
    }
   ],
   "source": [
    "# I take the first document in the \"train_encodings\" dataset, and I join its\n",
    "# first 100 tokens by a whitespace to get a sneak peek.\n",
    "\n",
    "\" \".join(train_encodings[0].tokens[0:100])"
   ]
  },
  {
   "cell_type": "markdown",
   "metadata": {
    "id": "2-BRZzyLDLZn"
   },
   "source": [
    "This is a bill summary in the validation set after encoding:"
   ]
  },
  {
   "cell_type": "code",
   "execution_count": null,
   "metadata": {
    "colab": {
     "base_uri": "https://localhost:8080/",
     "height": 88
    },
    "id": "29XiEWAoDOTr",
    "outputId": "c8c70546-724c-490a-8579-e8a09f117c42"
   },
   "outputs": [
    {
     "data": {
      "application/vnd.google.colaboratory.intrinsic+json": {
       "type": "string"
      },
      "text/plain": [
       "\"[CLS] continuation of useful resources to states act or courts act this bill extends and otherwise revise ##s funding for program ##s related to child welfare . specifically , the bill extends funding through f ##y ##202 ##2 for the promoting safe and stable families program ; extends funding through f ##y ##202 ##2 for , and otherwise revise ##s , the grant program for improving courts ' handling of foster - care and adoption proceedings ; and provides funding for the temporary assistance for need ##y families ( ta ##n ##f ) contingenc ##y fund for f ##y ##201\""
      ]
     },
     "execution_count": 30,
     "metadata": {},
     "output_type": "execute_result"
    }
   ],
   "source": [
    "# I take the first document in the \"valid_encodings\" dataset, and I join its\n",
    "# first 100 tokens by a whitespace to get a sneak peek.\n",
    "\n",
    "\" \".join(valid_encodings[0].tokens[0:100])"
   ]
  },
  {
   "cell_type": "markdown",
   "metadata": {
    "id": "5NSeWK28F9ac"
   },
   "source": [
    "This is a bill summary in the test set after encoding:"
   ]
  },
  {
   "cell_type": "code",
   "execution_count": null,
   "metadata": {
    "colab": {
     "base_uri": "https://localhost:8080/",
     "height": 106
    },
    "id": "tqYLnAU2GDX4",
    "outputId": "e41c78fc-faf0-46ca-a4f6-ea6eb29c3050"
   },
   "outputs": [
    {
     "data": {
      "application/vnd.google.colaboratory.intrinsic+json": {
       "type": "string"
      },
      "text/plain": [
       "'[CLS] national security commission artificial intelligence act of 2018 this bill establishe ##s , as an independent commission within the executive branch , the national security commission on artificial intelligence to review the advance ##s in artificial intelligence , related machine learning developments , and associated technologies . such commission shall consider the methods and means necessary to advance the development of artificial intelligence , machine learning , and associated technologies by the united states in order to comprehensive ##ly address national security needs , including economic risk , and any other needs of the department of defense or the'"
      ]
     },
     "execution_count": 31,
     "metadata": {},
     "output_type": "execute_result"
    }
   ],
   "source": [
    "# I take the first document in the \"test_encodings\" dataset, and I join its\n",
    "# first 100 tokens by a whitespace to get a sneak peek\n",
    "\n",
    "\" \".join(test_encodings[0].tokens[0:100])"
   ]
  },
  {
   "cell_type": "markdown",
   "metadata": {
    "id": "hNp9-ezaGQB2"
   },
   "source": [
    "These are the Economic / Non Economic, and Socio-Cultural / Non-Socio-Cultural labels for training:"
   ]
  },
  {
   "cell_type": "code",
   "execution_count": null,
   "metadata": {
    "colab": {
     "base_uri": "https://localhost:8080/"
    },
    "id": "HFk_aL0xGQuO",
    "outputId": "a3e4a91a-f330-48dd-8bb2-9aa22a63e198"
   },
   "outputs": [
    {
     "data": {
      "text/plain": [
       "{0, 1}"
      ]
     },
     "execution_count": 32,
     "metadata": {},
     "output_type": "execute_result"
    }
   ],
   "source": [
    "# I print the \"econ_train_encoded\" labels in the set format\n",
    "set(econ_train_encoded)"
   ]
  },
  {
   "cell_type": "code",
   "execution_count": null,
   "metadata": {
    "colab": {
     "base_uri": "https://localhost:8080/"
    },
    "id": "X73gZ_V9GoTI",
    "outputId": "1566a4c7-979f-4c22-ca12-a5638d2bdca3"
   },
   "outputs": [
    {
     "data": {
      "text/plain": [
       "{0, 1}"
      ]
     },
     "execution_count": 33,
     "metadata": {},
     "output_type": "execute_result"
    }
   ],
   "source": [
    "# I print the \"sc_train_encoded\" labels in the set format\n",
    "set(sc_train_encoded)"
   ]
  },
  {
   "cell_type": "markdown",
   "metadata": {
    "id": "Sqk9VxGdGupM"
   },
   "source": [
    "These are the Economic / Non Economic, and Socio-Cultural / Non-Socio-Cultural labels for validation:"
   ]
  },
  {
   "cell_type": "code",
   "execution_count": null,
   "metadata": {
    "colab": {
     "base_uri": "https://localhost:8080/"
    },
    "id": "zxSR0ospGyOy",
    "outputId": "452ef517-34a9-4a62-b8f2-2cc4bcd888cc"
   },
   "outputs": [
    {
     "data": {
      "text/plain": [
       "{0, 1}"
      ]
     },
     "execution_count": 34,
     "metadata": {},
     "output_type": "execute_result"
    }
   ],
   "source": [
    "# I print the \"econ_valid_encoded\" labels in the set format\n",
    "set(econ_valid_encoded)"
   ]
  },
  {
   "cell_type": "code",
   "execution_count": null,
   "metadata": {
    "colab": {
     "base_uri": "https://localhost:8080/"
    },
    "id": "CiK7sm9pG2q6",
    "outputId": "9d145a6e-f510-481e-cccf-f77911c64748"
   },
   "outputs": [
    {
     "data": {
      "text/plain": [
       "{0, 1}"
      ]
     },
     "execution_count": 35,
     "metadata": {},
     "output_type": "execute_result"
    }
   ],
   "source": [
    "# I print the \"sc_valid_encoded\" labels in the set format\n",
    "set(sc_valid_encoded)"
   ]
  },
  {
   "cell_type": "markdown",
   "metadata": {
    "id": "u6xLP4vCHODG"
   },
   "source": [
    "These are the Economic / Non Economic, and Socio-Cultural / Non-Socio-Cultural labels for testing:"
   ]
  },
  {
   "cell_type": "code",
   "execution_count": null,
   "metadata": {
    "colab": {
     "base_uri": "https://localhost:8080/"
    },
    "id": "c8tedj4BHRoj",
    "outputId": "bdd8b2a5-3694-4131-8412-9e1b17767d38"
   },
   "outputs": [
    {
     "data": {
      "text/plain": [
       "{0, 1}"
      ]
     },
     "execution_count": 36,
     "metadata": {},
     "output_type": "execute_result"
    }
   ],
   "source": [
    "# I print the \"econ_test_encoded\" labels in the set format\n",
    "set(econ_test_encoded)"
   ]
  },
  {
   "cell_type": "code",
   "execution_count": null,
   "metadata": {
    "colab": {
     "base_uri": "https://localhost:8080/"
    },
    "id": "rqFM4RmNHdQA",
    "outputId": "6df77d40-9d5c-4d5c-a579-6a3fdb6a51bf"
   },
   "outputs": [
    {
     "data": {
      "text/plain": [
       "{0, 1}"
      ]
     },
     "execution_count": 37,
     "metadata": {},
     "output_type": "execute_result"
    }
   ],
   "source": [
    "# I print the \"sc_test_encoded\" labels in the set format\n",
    "set(sc_test_encoded)"
   ]
  },
  {
   "cell_type": "markdown",
   "metadata": {
    "id": "k8VN1naiH5BN"
   },
   "source": [
    "## **3. Creating custom Torch datasets**\n",
    "\n",
    "I now combine the encoded labels and texts into two separate dataset objects. We use the custom Torch `MyDataSet` class to make a `train_dataset` object from the `train_encodings` and `train_encoded` sets for each type of label - i.e., Economic / Socio-Cultural. I also generate a `valid_dataset`, `test_dataset` object from the `test_encodings` and `valid_encodings`, and `valid_encoded` and `test_encoded`, following the same logic."
   ]
  },
  {
   "cell_type": "code",
   "execution_count": null,
   "metadata": {
    "id": "_N96zlDbIo_L"
   },
   "outputs": [],
   "source": [
    "# The MyDataset custom class uses PyTorch's Dataset class as its parent class. \n",
    "# It takes in tokenized text data and their corresponding integer-encoded labels\n",
    "# as inputs and returns these data points in a format suitable for use in PyTorch models.\n",
    "\n",
    "class MyDataset(torch.utils.data.Dataset):\n",
    "\n",
    "  # I define the __init__ method, which initializes the MyDataset object with\n",
    "  # two attributes: \"encodings\" and \"labels\".\n",
    "    def __init__(self, encodings, labels):\n",
    "        self.encodings = encodings # \"encodings\" is a dictionary containing the tokenized text data\n",
    "        self.labels = labels # labels is a list containing the integer-encoded labels\n",
    "\n",
    "  # I create the __getitem__ method, which defines how each data point is returned\n",
    "  # from the dataset. The \"idx\" parameter is used to index into the dataset to\n",
    "  # retrieve a specific data point.\n",
    "\n",
    "    def __getitem__(self, idx):\n",
    "        # The method initially generates a dictionary item that contains the tokenized\n",
    "        # text data for the corresponding idx index, along with the integer-encoded\n",
    "        # label for the same index.\n",
    "\n",
    "        item = {key: torch.tensor(val[idx]) for key, val in self.encodings.items()}\n",
    "        # The torch.tensor() function is used to convert the dictionary values to PyTorch tensors.\n",
    "        # The \"key\" variable contains the keys in the encodings dictionary, and \"val\"\n",
    "        # contains the corresponding values for the current idx index.\n",
    "\n",
    "        # I add the integer-encoded label to the dictionary, and I return the latter as the method's output.\n",
    "        item['labels'] = torch.tensor(self.labels[idx])\n",
    "        return item\n",
    "\n",
    "  # At last, I generate the \"__len__\" method, which returns the dataset's length as its output.\n",
    "  # The latter is equal to the length of the labels list.\n",
    "    def __len__(self):\n",
    "        return len(self.labels)"
   ]
  },
  {
   "cell_type": "code",
   "execution_count": null,
   "metadata": {
    "id": "vmEa1-wkJOv9"
   },
   "outputs": [],
   "source": [
    "# I now apply the MyDataset custom class to the textual and label encodings\n",
    "# for training, validation, and testing, returning them as custom Torch datasets.\n",
    "\n",
    "# a. Economic / Non-Economic\n",
    "train_dataset_econ = MyDataset(train_encodings, econ_train_encoded)\n",
    "valid_dataset_econ = MyDataset(valid_encodings, econ_valid_encoded)\n",
    "test_dataset_econ = MyDataset(test_encodings, econ_test_encoded)\n",
    "\n",
    "# b. Socio-Cultural / Non-Socio-Cultural\n",
    "train_dataset_sc = MyDataset(train_encodings, sc_train_encoded)\n",
    "valid_dataset_sc = MyDataset(valid_encodings, sc_valid_encoded)\n",
    "test_dataset_sc = MyDataset(test_encodings, sc_test_encoded)"
   ]
  },
  {
   "cell_type": "markdown",
   "metadata": {
    "id": "WoaKaO8ZKMuP"
   },
   "source": [
    "I inspect the newly created custom Torch datasets to check whether there are any issues. This is a bill summary in the Torch `train_dataset_econ` dataset after encoding:\n"
   ]
  },
  {
   "cell_type": "code",
   "execution_count": null,
   "metadata": {
    "colab": {
     "base_uri": "https://localhost:8080/",
     "height": 88
    },
    "id": "zju-U4GnKZFY",
    "outputId": "10955f91-38bf-4d93-cae0-7dff36079d41"
   },
   "outputs": [
    {
     "data": {
      "application/vnd.google.colaboratory.intrinsic+json": {
       "type": "string"
      },
      "text/plain": [
       "'[CLS] protect the homeland from north korea ##n and iranian ballistic missile ##s act - states the concern of congress over north korea ##n and iranian long - range ballistic missile technology and the spread of such technology . expresse ##s support for ballistic missile protection of u . s . allie ##s and forward deploy ##ed forces but also the belief that this should not come at the expense of u . s . homeland protection . direct ##s the secretary of defense to deploy specified numbers of ground - based intercept ##or ##s in alaska and california and'"
      ]
     },
     "execution_count": 40,
     "metadata": {},
     "output_type": "execute_result"
    }
   ],
   "source": [
    "# I take the first document in the \"train_dataset_econ\" dataset, and I join its\n",
    "# first 100 tokens by a whitespace to get a sneak peek.\n",
    "\n",
    "\" \".join(train_dataset_econ.encodings[0].tokens[0:100])"
   ]
  },
  {
   "cell_type": "markdown",
   "metadata": {
    "id": "B1qYZT4YKwDB"
   },
   "source": [
    "This is a bill summary in the Torch `train_dataset_sc` dataset after encoding:"
   ]
  },
  {
   "cell_type": "code",
   "execution_count": null,
   "metadata": {
    "colab": {
     "base_uri": "https://localhost:8080/",
     "height": 88
    },
    "id": "dRGXiKfzKyzy",
    "outputId": "3236cdc9-1a47-45e8-bd85-692b5ce6b8af"
   },
   "outputs": [
    {
     "data": {
      "application/vnd.google.colaboratory.intrinsic+json": {
       "type": "string"
      },
      "text/plain": [
       "'[CLS] protect the homeland from north korea ##n and iranian ballistic missile ##s act - states the concern of congress over north korea ##n and iranian long - range ballistic missile technology and the spread of such technology . expresse ##s support for ballistic missile protection of u . s . allie ##s and forward deploy ##ed forces but also the belief that this should not come at the expense of u . s . homeland protection . direct ##s the secretary of defense to deploy specified numbers of ground - based intercept ##or ##s in alaska and california and'"
      ]
     },
     "execution_count": 41,
     "metadata": {},
     "output_type": "execute_result"
    }
   ],
   "source": [
    "# I take the first document in the \"train_dataset_sc\" dataset, and I join its\n",
    "# first 100 tokens by a whitespace to get a sneak peek.\n",
    "\n",
    "\" \".join(train_dataset_sc.encodings[0].tokens[0:100])"
   ]
  },
  {
   "cell_type": "markdown",
   "metadata": {
    "id": "kplfSEaKOJET"
   },
   "source": [
    "This is a bill summary in the Torch `valid_dataset_econ` dataset after encoding:"
   ]
  },
  {
   "cell_type": "code",
   "execution_count": null,
   "metadata": {
    "colab": {
     "base_uri": "https://localhost:8080/",
     "height": 88
    },
    "id": "xkOM__7ZOuNn",
    "outputId": "a1100e4e-fac6-428f-f25f-16adb6468417"
   },
   "outputs": [
    {
     "data": {
      "application/vnd.google.colaboratory.intrinsic+json": {
       "type": "string"
      },
      "text/plain": [
       "\"[CLS] continuation of useful resources to states act or courts act this bill extends and otherwise revise ##s funding for program ##s related to child welfare . specifically , the bill extends funding through f ##y ##202 ##2 for the promoting safe and stable families program ; extends funding through f ##y ##202 ##2 for , and otherwise revise ##s , the grant program for improving courts ' handling of foster - care and adoption proceedings ; and provides funding for the temporary assistance for need ##y families ( ta ##n ##f ) contingenc ##y fund for f ##y ##201\""
      ]
     },
     "execution_count": 42,
     "metadata": {},
     "output_type": "execute_result"
    }
   ],
   "source": [
    "# I take the first document in the \"valid_dataset_econ\" dataset, and I join its\n",
    "# first 100 tokens by a whitespace to get a sneak peek.\n",
    "\n",
    "\" \".join(valid_dataset_econ.encodings[0].tokens[0:100])"
   ]
  },
  {
   "cell_type": "markdown",
   "metadata": {
    "id": "fdmSi_MYOOIZ"
   },
   "source": [
    "This is a bill summary in the Torch `valid_dataset_sc` dataset after encoding:\n"
   ]
  },
  {
   "cell_type": "code",
   "execution_count": null,
   "metadata": {
    "colab": {
     "base_uri": "https://localhost:8080/",
     "height": 88
    },
    "id": "6kIvPiSpOj4e",
    "outputId": "87fffd75-16c1-4023-e6f4-09049304f3cb"
   },
   "outputs": [
    {
     "data": {
      "application/vnd.google.colaboratory.intrinsic+json": {
       "type": "string"
      },
      "text/plain": [
       "\"[CLS] continuation of useful resources to states act or courts act this bill extends and otherwise revise ##s funding for program ##s related to child welfare . specifically , the bill extends funding through f ##y ##202 ##2 for the promoting safe and stable families program ; extends funding through f ##y ##202 ##2 for , and otherwise revise ##s , the grant program for improving courts ' handling of foster - care and adoption proceedings ; and provides funding for the temporary assistance for need ##y families ( ta ##n ##f ) contingenc ##y fund for f ##y ##201\""
      ]
     },
     "execution_count": 43,
     "metadata": {},
     "output_type": "execute_result"
    }
   ],
   "source": [
    "# I take the first document in the \"valid_dataset_sc\" dataset, and I join its\n",
    "# first 100 tokens by a whitespace to get a sneak peek.\n",
    "\n",
    "\" \".join(valid_dataset_sc.encodings[0].tokens[0:100])"
   ]
  },
  {
   "cell_type": "markdown",
   "metadata": {
    "id": "SnT0DhE-OThw"
   },
   "source": [
    "This is a bill summary in the Torch `test_dataset_econ` dataset after encoding:"
   ]
  },
  {
   "cell_type": "code",
   "execution_count": null,
   "metadata": {
    "colab": {
     "base_uri": "https://localhost:8080/",
     "height": 106
    },
    "id": "vdRuONhBOcrg",
    "outputId": "d595ca48-f711-4328-f7a5-1bdcc70aa0f8"
   },
   "outputs": [
    {
     "data": {
      "application/vnd.google.colaboratory.intrinsic+json": {
       "type": "string"
      },
      "text/plain": [
       "'[CLS] national security commission artificial intelligence act of 2018 this bill establishe ##s , as an independent commission within the executive branch , the national security commission on artificial intelligence to review the advance ##s in artificial intelligence , related machine learning developments , and associated technologies . such commission shall consider the methods and means necessary to advance the development of artificial intelligence , machine learning , and associated technologies by the united states in order to comprehensive ##ly address national security needs , including economic risk , and any other needs of the department of defense or the'"
      ]
     },
     "execution_count": 44,
     "metadata": {},
     "output_type": "execute_result"
    }
   ],
   "source": [
    "# I take the first document in the \"test_dataset_econ\" dataset, and I join its\n",
    "# first 100 tokens by a whitespace to get a sneak peek.\n",
    "\n",
    "\" \".join(test_dataset_econ.encodings[0].tokens[0:100])"
   ]
  },
  {
   "cell_type": "markdown",
   "metadata": {
    "id": "opcKNqulOWum"
   },
   "source": [
    "This is a bill summary in the Torch `test_dataset_sc` dataset after encoding:"
   ]
  },
  {
   "cell_type": "code",
   "execution_count": null,
   "metadata": {
    "colab": {
     "base_uri": "https://localhost:8080/",
     "height": 106
    },
    "id": "KlWyRx5jOgsP",
    "outputId": "6dfa3496-2828-4719-ef41-74bf916a04f8"
   },
   "outputs": [
    {
     "data": {
      "application/vnd.google.colaboratory.intrinsic+json": {
       "type": "string"
      },
      "text/plain": [
       "'[CLS] national security commission artificial intelligence act of 2018 this bill establishe ##s , as an independent commission within the executive branch , the national security commission on artificial intelligence to review the advance ##s in artificial intelligence , related machine learning developments , and associated technologies . such commission shall consider the methods and means necessary to advance the development of artificial intelligence , machine learning , and associated technologies by the united states in order to comprehensive ##ly address national security needs , including economic risk , and any other needs of the department of defense or the'"
      ]
     },
     "execution_count": 45,
     "metadata": {},
     "output_type": "execute_result"
    }
   ],
   "source": [
    "# I take the first document in the \"test_dataset_sc\" dataset, and I join its\n",
    "# first 100 tokens by a whitespace to get a sneak peek.\n",
    "\n",
    "\" \".join(test_dataset_sc.encodings[0].tokens[0:100])"
   ]
  },
  {
   "cell_type": "markdown",
   "metadata": {
    "id": "oSXxUedmPIng"
   },
   "source": [
    "The custom Torch datasets are appropriately set up. It is time to initialise the `LEGAL-BERT` pre-trained model and configure its parameters for fine-tuning.\n",
    "\n",
    "## **4. Initialising and configuring the LEGAL-BERT pre-trained model**\n",
    "I now load the pre-trained `LEGAL-BERT` model and transfer it to the Compute Unified Device Architecture (CUDA) for efficient GPU computation. I repeat the process for each classification task and custom Torch dataset. "
   ]
  },
  {
   "cell_type": "code",
   "execution_count": null,
   "metadata": {
    "colab": {
     "base_uri": "https://localhost:8080/",
     "height": 246,
     "referenced_widgets": [
      "604965f692a341e6854443e56d232e04",
      "0d5ab61d05b84afebe3ee23a8209985d",
      "1543d302ba64406f858c7456900c2253",
      "5b315251d37d4c87ba78dc5d1742cd2e",
      "62bab10ea10644f0a21d6f395934d294",
      "276e8538795e4fd29c6f7f9864a2af7f",
      "da58186338694aeb8d9d59b552ec890a",
      "5b3c818facaa43f6944754aa761b0af2",
      "48d29411ec1e44439b467e975aa06700",
      "3f06096d5d5d4bb39b091c5eebbdf54c",
      "dcd03a04f6bb4c97945f2adaa244dc03"
     ]
    },
    "id": "ZMBTo4XvSeOG",
    "outputId": "f010537f-7019-45b7-d42b-0535dadc7497"
   },
   "outputs": [
    {
     "data": {
      "application/vnd.jupyter.widget-view+json": {
       "model_id": "604965f692a341e6854443e56d232e04",
       "version_major": 2,
       "version_minor": 0
      },
      "text/plain": [
       "Downloading pytorch_model.bin:   0%|          | 0.00/440M [00:00<?, ?B/s]"
      ]
     },
     "metadata": {},
     "output_type": "display_data"
    },
    {
     "name": "stderr",
     "output_type": "stream",
     "text": [
      "Some weights of the model checkpoint at nlpaueb/legal-bert-base-uncased were not used when initializing BertForSequenceClassification: ['cls.predictions.decoder.bias', 'cls.seq_relationship.bias', 'cls.predictions.transform.dense.weight', 'cls.predictions.bias', 'cls.predictions.transform.dense.bias', 'cls.seq_relationship.weight', 'cls.predictions.transform.LayerNorm.weight', 'cls.predictions.decoder.weight', 'cls.predictions.transform.LayerNorm.bias']\n",
      "- This IS expected if you are initializing BertForSequenceClassification from the checkpoint of a model trained on another task or with another architecture (e.g. initializing a BertForSequenceClassification model from a BertForPreTraining model).\n",
      "- This IS NOT expected if you are initializing BertForSequenceClassification from the checkpoint of a model that you expect to be exactly identical (initializing a BertForSequenceClassification model from a BertForSequenceClassification model).\n",
      "Some weights of BertForSequenceClassification were not initialized from the model checkpoint at nlpaueb/legal-bert-base-uncased and are newly initialized: ['classifier.bias', 'classifier.weight']\n",
      "You should probably TRAIN this model on a down-stream task to be able to use it for predictions and inference.\n",
      "Some weights of the model checkpoint at nlpaueb/legal-bert-base-uncased were not used when initializing BertForSequenceClassification: ['cls.predictions.decoder.bias', 'cls.seq_relationship.bias', 'cls.predictions.transform.dense.weight', 'cls.predictions.bias', 'cls.predictions.transform.dense.bias', 'cls.seq_relationship.weight', 'cls.predictions.transform.LayerNorm.weight', 'cls.predictions.decoder.weight', 'cls.predictions.transform.LayerNorm.bias']\n",
      "- This IS expected if you are initializing BertForSequenceClassification from the checkpoint of a model trained on another task or with another architecture (e.g. initializing a BertForSequenceClassification model from a BertForPreTraining model).\n",
      "- This IS NOT expected if you are initializing BertForSequenceClassification from the checkpoint of a model that you expect to be exactly identical (initializing a BertForSequenceClassification model from a BertForSequenceClassification model).\n",
      "Some weights of BertForSequenceClassification were not initialized from the model checkpoint at nlpaueb/legal-bert-base-uncased and are newly initialized: ['classifier.bias', 'classifier.weight']\n",
      "You should probably TRAIN this model on a down-stream task to be able to use it for predictions and inference.\n"
     ]
    }
   ],
   "source": [
    "# I load the \"AutoModelForSequenceClassification\" class from the HuggingFace\n",
    "# \"transformers\" library, which is optimal for sequence classification tasks.\n",
    "from transformers import AutoModelForSequenceClassification\n",
    "\n",
    "# I initialize my pre-trained LEGAL-BERT model with the previously set \"model_name\" variable.\n",
    "\n",
    "# The \"num_labels\" parameter is set to the number of unique labels in the dataset,\n",
    "# which is determined by the length of either the \"id2label_econ\", or \"id2label_sc\"\n",
    "# dictionary. This specifies the model how many output labels there are to predict.\n",
    "\n",
    "# Finally, I indicate the device where the model will be stored during training,\n",
    "# which is a GPU device (\"cuda\"), with the \"to\" method.\n",
    "\n",
    "model_econ = AutoModelForSequenceClassification.from_pretrained(model_name, num_labels = len(id2label_econ)).to(device_name)\n",
    "model_sc = AutoModelForSequenceClassification.from_pretrained(model_name, num_labels = len(id2label_sc)).to(device_name)"
   ]
  },
  {
   "cell_type": "markdown",
   "metadata": {
    "id": "AO4YNxmhT8j2"
   },
   "source": [
    "I now configure the parameters required for fine-tuning the BERT model. These parameters are crucial for fine-tuning my BERT transformers and are specified in the HuggingFace `TrainingArguments` objects that I subsequently pass to the HuggingFace `Trainer` object. While there are numerous other arguments, I will focus on the fundamental ones."
   ]
  },
  {
   "cell_type": "markdown",
   "metadata": {
    "id": "q_kzUDFkAUlC"
   },
   "source": [
    "\n",
    "    | Parameter                   | Explanation                                                                                                                          \n",
    "    |-----------------------------|--------------------------------------------------------------------------------------------------------------------------------------\n",
    "    | num_train_epochs            | The total number of training epochs. This refers to how many times the entire dataset will be processed. Too many epochs can lead to overfitting.\n",
    "    | per_device_train_batch_size | The batch size per device during training.                                                                                           \n",
    "    | per_device_eval_batch_size  | The batch size for evaluation.                                                                                                      \n",
    "    | warmup_steps                | The number of warmup steps for the learning rate scheduler. A smaller value is recommended for small datasets.                         \n",
    "    | weight_decay                | The strength of weight decay, which reduces the size of weights, similar to regularization.                                          \n",
    "    | output_dir                  | The directory where the fine-tuned model and configuration files will be saved.                                                     \n",
    "    | logging_dir                 | The directory where logs will be stored.                                                                                            \n",
    "    | logging_steps               | How often to print logging output. This enables me to terminate training early if the loss is not decreasing.                        \n",
    "    | evaluation_strategy         | Evaluates while training so that I can monitor accuracy improvements.                                                              \n",
    "   "
   ]
  },
  {
   "cell_type": "markdown",
   "metadata": {
    "id": "g34xFClyWTbz"
   },
   "source": [
    "I continue by definining a custom evaluation function that returns the model's accuracy and macro-F1 score, since class imbalance is critical for both classification tasks - i.e., most models exhibit the tendency of artificially inflating the number of positive values."
   ]
  },
  {
   "cell_type": "code",
   "execution_count": null,
   "metadata": {
    "id": "U9FDAEuiWokn"
   },
   "outputs": [],
   "source": [
    "# I define a custom function that takes in the argument \"eval_pred\", which is a\n",
    "# tuple of the form (\"eval_output\", \"eval_dataset\"), containing the evaluation output\n",
    "# and the evaluation dataset.\n",
    "\n",
    "def compute_metrics(eval_pred):\n",
    "    labels = eval_pred.label_ids # Extracting the ground truth labels from the \"eval_pred\" output\n",
    "    preds = eval_pred.predictions.argmax(-1) # Extracting the predicted labels from the \"eval_pred\" output\n",
    "\n",
    "    # I compute the accuracy score thanks to the pre-defined function from the\n",
    "    # \"scikit-learn\" library. It takes in the labels and predictions as inputs and\n",
    "    # returns the accuracy as a float.\n",
    "    acc = accuracy_score(labels, preds)\n",
    "\n",
    "    # I follow the same procedure for calculating the macro F1-score. The \n",
    "    # \"sample_weight\" parameter is additionally set to the \"compute_sample_weight\"\n",
    "    # function from \"scikit-learn\" to calculate the sample weights for each class.\n",
    "    macro_f1 = f1_score(labels, preds, average = \"macro\", sample_weight = compute_sample_weight(\"balanced\", labels))\n",
    "\n",
    "    # I return a dictionary with the computed metrics under meaningful keys\n",
    "    return {\"accuracy\": acc, \"macro_f1\": macro_f1}"
   ]
  },
  {
   "cell_type": "markdown",
   "metadata": {
    "id": "lAUGFunhXFLm"
   },
   "source": [
    "I choose to optimise my models by maximising the macro F1-score, since class imbalance is critical for both classification tasks. Next, I configure the parameters I desire to utilise when fine-tuning the `LEGAL-BERT` transformer by instantiating a `TrainingArguments` object. I make an informed choice regarding all parameters, eventually modifying them if performances are unsatisfactory, or there are strong signs of overfitting.\n",
    "\n",
    "First, since my training dataset is moderately-sized, containing 1320 training instances, starting with 5 epochs seems reasonable in my perspective, as I want to avoid overfitting the training data. Second, I employ the standard batch size of 8 for both training and evaluation. I already tried bigger batch sizes of 16 and 32 for training purposes to potentially increase training efficiency, but I found out that this causes memory problems within the freely available CUDA, and I do not want to pay to win.\n",
    "\n",
    "Third, I set an initial learning rate of 5e-5, the standard for fine-tuning BERT models. I Fourth, I try to specify a small number of warmup steps (200), still adequate for my medium-sized training dataset, to allow the optimizer to gradually adjust the original learning rate. Fifth, I set the standard weight decay of 0.01, which hopefully will prevent overfitting. Lastly, I command that the training output is logged every 20 steps."
   ]
  },
  {
   "cell_type": "code",
   "execution_count": null,
   "metadata": {
    "id": "1qKDQHdKZNBs"
   },
   "outputs": [],
   "source": [
    "metric_name = \"macro_f1\" # I wish to optimise the macro-F1 performance metric"
   ]
  },
  {
   "cell_type": "code",
   "execution_count": null,
   "metadata": {
    "id": "4uVg-a_ubVqW"
   },
   "outputs": [],
   "source": [
    "# I instantiate an object of the TrainingArguments class, setting the aforementioned parameters:\n",
    "training_args = TrainingArguments(\n",
    "    \n",
    "    # Number of training epochs\n",
    "    num_train_epochs = 5,\n",
    "    \n",
    "    # Batch size for training\n",
    "    per_device_train_batch_size = 8,\n",
    "    \n",
    "    # Batch size for evaluation\n",
    "    per_device_eval_batch_size = 8,\n",
    "    \n",
    "    # Learning rate for optimization\n",
    "    learning_rate = 5e-5,\n",
    "    \n",
    "    # Load the best model at the end of training\n",
    "    load_best_model_at_end = True,\n",
    "    \n",
    "    # Metric used for selecting the best model (macro F1-score, in our case)\n",
    "    metric_for_best_model = metric_name,\n",
    "    \n",
    "    # Number of warmup steps for the optimizer\n",
    "    warmup_steps = 200,\n",
    "    \n",
    "    # L2 regularization weight decay\n",
    "    weight_decay = 0.01,\n",
    "    \n",
    "    # Directory to save the fine-tuned model and configuration files\n",
    "    output_dir = './results',\n",
    "    \n",
    "    # Directory to store logs\n",
    "    logging_dir = './logs',\n",
    "    \n",
    "    # Log results every n steps\n",
    "    logging_steps = 20,\n",
    "    \n",
    "    # Strategy for evaluating the model during training\n",
    "    evaluation_strategy = 'steps',\n",
    ")"
   ]
  },
  {
   "cell_type": "markdown",
   "metadata": {
    "id": "fHYiNimCdbzm"
   },
   "source": [
    "## **5. Fine-Tuning the LEGAL-BERT models**\n",
    "\n",
    "I now create two HuggingFace `Trainer` objects using the `TrainingArguments` object that I specified above. I also send my `compute_metrics` custom function to the `Trainer` objects, along with my custom Torch datasets for training and validation purposes. I repeat the fine-tuning procedure for both classification tasks. "
   ]
  },
  {
   "cell_type": "code",
   "execution_count": null,
   "metadata": {
    "id": "05sg475veFvA"
   },
   "outputs": [],
   "source": [
    "# a. Economic / Non-Economic\n",
    "\n",
    "trainer_econ = Trainer(\n",
    "    model = model_econ, # The instantiated HuggingFace transformer model to be trained\n",
    "    args = training_args, # The training arguments, which I defined above\n",
    "    train_dataset = train_dataset_econ, # The encoded PyTorch training dataset\n",
    "    eval_dataset = valid_dataset_econ, # The encoded PyTorch validation dataset\n",
    "    compute_metrics = compute_metrics # My custom evaluation function \n",
    ")"
   ]
  },
  {
   "cell_type": "code",
   "execution_count": null,
   "metadata": {
    "id": "puPdU3mieheW"
   },
   "outputs": [],
   "source": [
    "# b. Socio-Cultural / Non-Socio-Cultural\n",
    "\n",
    "trainer_sc = Trainer(\n",
    "    model = model_sc, # The instantiated HuggingFace transformer model to be trained\n",
    "    args = training_args, # The training arguments, which I defined above\n",
    "    train_dataset = train_dataset_sc, # The encoded PyTorch training dataset\n",
    "    eval_dataset = valid_dataset_sc, # The encoded PyTorch validation dataset\n",
    "    compute_metrics = compute_metrics # My custom evaluation function \n",
    ")"
   ]
  },
  {
   "cell_type": "markdown",
   "metadata": {
    "id": "KH8VcVU4ezLM"
   },
   "source": [
    "Time to finally fine-tune the models! I start with gearing `LEGAL-BERT` towards solving the Economic / Non-Economic classification task."
   ]
  },
  {
   "cell_type": "code",
   "execution_count": null,
   "metadata": {
    "colab": {
     "base_uri": "https://localhost:8080/",
     "height": 1000
    },
    "id": "UQIXlbCSe_Z_",
    "outputId": "ef2fc1d0-d0ee-44bb-f47a-e6b754ec05af"
   },
   "outputs": [
    {
     "name": "stderr",
     "output_type": "stream",
     "text": [
      "/usr/local/lib/python3.10/dist-packages/transformers/optimization.py:391: FutureWarning: This implementation of AdamW is deprecated and will be removed in a future version. Use the PyTorch implementation torch.optim.AdamW instead, or set `no_deprecation_warning=True` to disable this warning\n",
      "  warnings.warn(\n"
     ]
    },
    {
     "data": {
      "text/html": [
       "\n",
       "    <div>\n",
       "      \n",
       "      <progress value='825' max='825' style='width:300px; height:20px; vertical-align: middle;'></progress>\n",
       "      [825/825 20:28, Epoch 5/5]\n",
       "    </div>\n",
       "    <table border=\"1\" class=\"dataframe\">\n",
       "  <thead>\n",
       " <tr style=\"text-align: left;\">\n",
       "      <th>Step</th>\n",
       "      <th>Training Loss</th>\n",
       "      <th>Validation Loss</th>\n",
       "      <th>Accuracy</th>\n",
       "      <th>Macro F1</th>\n",
       "    </tr>\n",
       "  </thead>\n",
       "  <tbody>\n",
       "    <tr>\n",
       "      <td>20</td>\n",
       "      <td>0.690000</td>\n",
       "      <td>0.688904</td>\n",
       "      <td>0.586364</td>\n",
       "      <td>0.489799</td>\n",
       "    </tr>\n",
       "    <tr>\n",
       "      <td>40</td>\n",
       "      <td>0.683800</td>\n",
       "      <td>0.695772</td>\n",
       "      <td>0.527273</td>\n",
       "      <td>0.536662</td>\n",
       "    </tr>\n",
       "    <tr>\n",
       "      <td>60</td>\n",
       "      <td>0.683500</td>\n",
       "      <td>0.659121</td>\n",
       "      <td>0.590909</td>\n",
       "      <td>0.393514</td>\n",
       "    </tr>\n",
       "    <tr>\n",
       "      <td>80</td>\n",
       "      <td>0.637000</td>\n",
       "      <td>0.668581</td>\n",
       "      <td>0.615909</td>\n",
       "      <td>0.481863</td>\n",
       "    </tr>\n",
       "    <tr>\n",
       "      <td>100</td>\n",
       "      <td>0.700000</td>\n",
       "      <td>0.631711</td>\n",
       "      <td>0.643182</td>\n",
       "      <td>0.613059</td>\n",
       "    </tr>\n",
       "    <tr>\n",
       "      <td>120</td>\n",
       "      <td>0.659800</td>\n",
       "      <td>0.590638</td>\n",
       "      <td>0.661364</td>\n",
       "      <td>0.539369</td>\n",
       "    </tr>\n",
       "    <tr>\n",
       "      <td>140</td>\n",
       "      <td>0.576700</td>\n",
       "      <td>0.482750</td>\n",
       "      <td>0.743182</td>\n",
       "      <td>0.708821</td>\n",
       "    </tr>\n",
       "    <tr>\n",
       "      <td>160</td>\n",
       "      <td>0.498900</td>\n",
       "      <td>0.549003</td>\n",
       "      <td>0.704545</td>\n",
       "      <td>0.633798</td>\n",
       "    </tr>\n",
       "    <tr>\n",
       "      <td>180</td>\n",
       "      <td>0.418800</td>\n",
       "      <td>0.492229</td>\n",
       "      <td>0.806818</td>\n",
       "      <td>0.791339</td>\n",
       "    </tr>\n",
       "    <tr>\n",
       "      <td>200</td>\n",
       "      <td>0.463300</td>\n",
       "      <td>0.541395</td>\n",
       "      <td>0.786364</td>\n",
       "      <td>0.767090</td>\n",
       "    </tr>\n",
       "    <tr>\n",
       "      <td>220</td>\n",
       "      <td>0.589200</td>\n",
       "      <td>0.442317</td>\n",
       "      <td>0.797727</td>\n",
       "      <td>0.780223</td>\n",
       "    </tr>\n",
       "    <tr>\n",
       "      <td>240</td>\n",
       "      <td>0.383600</td>\n",
       "      <td>0.491606</td>\n",
       "      <td>0.802273</td>\n",
       "      <td>0.784941</td>\n",
       "    </tr>\n",
       "    <tr>\n",
       "      <td>260</td>\n",
       "      <td>0.560200</td>\n",
       "      <td>0.541482</td>\n",
       "      <td>0.734091</td>\n",
       "      <td>0.676270</td>\n",
       "    </tr>\n",
       "    <tr>\n",
       "      <td>280</td>\n",
       "      <td>0.451300</td>\n",
       "      <td>0.457463</td>\n",
       "      <td>0.809091</td>\n",
       "      <td>0.796523</td>\n",
       "    </tr>\n",
       "    <tr>\n",
       "      <td>300</td>\n",
       "      <td>0.425000</td>\n",
       "      <td>0.498410</td>\n",
       "      <td>0.809091</td>\n",
       "      <td>0.794920</td>\n",
       "    </tr>\n",
       "    <tr>\n",
       "      <td>320</td>\n",
       "      <td>0.557300</td>\n",
       "      <td>0.405975</td>\n",
       "      <td>0.802273</td>\n",
       "      <td>0.801999</td>\n",
       "    </tr>\n",
       "    <tr>\n",
       "      <td>340</td>\n",
       "      <td>0.413500</td>\n",
       "      <td>0.392872</td>\n",
       "      <td>0.829545</td>\n",
       "      <td>0.813214</td>\n",
       "    </tr>\n",
       "    <tr>\n",
       "      <td>360</td>\n",
       "      <td>0.312800</td>\n",
       "      <td>0.984505</td>\n",
       "      <td>0.772727</td>\n",
       "      <td>0.730485</td>\n",
       "    </tr>\n",
       "    <tr>\n",
       "      <td>380</td>\n",
       "      <td>0.451200</td>\n",
       "      <td>0.479518</td>\n",
       "      <td>0.820455</td>\n",
       "      <td>0.822384</td>\n",
       "    </tr>\n",
       "    <tr>\n",
       "      <td>400</td>\n",
       "      <td>0.282000</td>\n",
       "      <td>0.590846</td>\n",
       "      <td>0.825000</td>\n",
       "      <td>0.828804</td>\n",
       "    </tr>\n",
       "    <tr>\n",
       "      <td>420</td>\n",
       "      <td>0.188900</td>\n",
       "      <td>0.723678</td>\n",
       "      <td>0.811364</td>\n",
       "      <td>0.797670</td>\n",
       "    </tr>\n",
       "    <tr>\n",
       "      <td>440</td>\n",
       "      <td>0.323200</td>\n",
       "      <td>0.692936</td>\n",
       "      <td>0.802273</td>\n",
       "      <td>0.793737</td>\n",
       "    </tr>\n",
       "    <tr>\n",
       "      <td>460</td>\n",
       "      <td>0.504200</td>\n",
       "      <td>0.631908</td>\n",
       "      <td>0.790909</td>\n",
       "      <td>0.773580</td>\n",
       "    </tr>\n",
       "    <tr>\n",
       "      <td>480</td>\n",
       "      <td>0.334900</td>\n",
       "      <td>0.557177</td>\n",
       "      <td>0.802273</td>\n",
       "      <td>0.788285</td>\n",
       "    </tr>\n",
       "    <tr>\n",
       "      <td>500</td>\n",
       "      <td>0.246400</td>\n",
       "      <td>0.487641</td>\n",
       "      <td>0.825000</td>\n",
       "      <td>0.822578</td>\n",
       "    </tr>\n",
       "    <tr>\n",
       "      <td>520</td>\n",
       "      <td>0.202200</td>\n",
       "      <td>0.706675</td>\n",
       "      <td>0.813636</td>\n",
       "      <td>0.801207</td>\n",
       "    </tr>\n",
       "    <tr>\n",
       "      <td>540</td>\n",
       "      <td>0.105000</td>\n",
       "      <td>0.716649</td>\n",
       "      <td>0.806818</td>\n",
       "      <td>0.806631</td>\n",
       "    </tr>\n",
       "    <tr>\n",
       "      <td>560</td>\n",
       "      <td>0.211700</td>\n",
       "      <td>0.669063</td>\n",
       "      <td>0.834091</td>\n",
       "      <td>0.824157</td>\n",
       "    </tr>\n",
       "    <tr>\n",
       "      <td>580</td>\n",
       "      <td>0.130800</td>\n",
       "      <td>0.693355</td>\n",
       "      <td>0.831818</td>\n",
       "      <td>0.829203</td>\n",
       "    </tr>\n",
       "    <tr>\n",
       "      <td>600</td>\n",
       "      <td>0.208300</td>\n",
       "      <td>0.677758</td>\n",
       "      <td>0.831818</td>\n",
       "      <td>0.832418</td>\n",
       "    </tr>\n",
       "    <tr>\n",
       "      <td>620</td>\n",
       "      <td>0.205400</td>\n",
       "      <td>0.650601</td>\n",
       "      <td>0.831818</td>\n",
       "      <td>0.830511</td>\n",
       "    </tr>\n",
       "    <tr>\n",
       "      <td>640</td>\n",
       "      <td>0.267500</td>\n",
       "      <td>0.760280</td>\n",
       "      <td>0.815909</td>\n",
       "      <td>0.794753</td>\n",
       "    </tr>\n",
       "    <tr>\n",
       "      <td>660</td>\n",
       "      <td>0.201600</td>\n",
       "      <td>0.639870</td>\n",
       "      <td>0.825000</td>\n",
       "      <td>0.828804</td>\n",
       "    </tr>\n",
       "    <tr>\n",
       "      <td>680</td>\n",
       "      <td>0.098500</td>\n",
       "      <td>0.672300</td>\n",
       "      <td>0.827273</td>\n",
       "      <td>0.814474</td>\n",
       "    </tr>\n",
       "    <tr>\n",
       "      <td>700</td>\n",
       "      <td>0.116400</td>\n",
       "      <td>0.697444</td>\n",
       "      <td>0.822727</td>\n",
       "      <td>0.811343</td>\n",
       "    </tr>\n",
       "    <tr>\n",
       "      <td>720</td>\n",
       "      <td>0.075300</td>\n",
       "      <td>0.743142</td>\n",
       "      <td>0.825000</td>\n",
       "      <td>0.815568</td>\n",
       "    </tr>\n",
       "    <tr>\n",
       "      <td>740</td>\n",
       "      <td>0.091700</td>\n",
       "      <td>0.761047</td>\n",
       "      <td>0.822727</td>\n",
       "      <td>0.812107</td>\n",
       "    </tr>\n",
       "    <tr>\n",
       "      <td>760</td>\n",
       "      <td>0.092300</td>\n",
       "      <td>0.741458</td>\n",
       "      <td>0.827273</td>\n",
       "      <td>0.824566</td>\n",
       "    </tr>\n",
       "    <tr>\n",
       "      <td>780</td>\n",
       "      <td>0.052500</td>\n",
       "      <td>0.750529</td>\n",
       "      <td>0.836364</td>\n",
       "      <td>0.831142</td>\n",
       "    </tr>\n",
       "    <tr>\n",
       "      <td>800</td>\n",
       "      <td>0.056300</td>\n",
       "      <td>0.757575</td>\n",
       "      <td>0.836364</td>\n",
       "      <td>0.831142</td>\n",
       "    </tr>\n",
       "    <tr>\n",
       "      <td>820</td>\n",
       "      <td>0.089100</td>\n",
       "      <td>0.763225</td>\n",
       "      <td>0.831818</td>\n",
       "      <td>0.825800</td>\n",
       "    </tr>\n",
       "  </tbody>\n",
       "</table><p>"
      ],
      "text/plain": [
       "<IPython.core.display.HTML object>"
      ]
     },
     "metadata": {},
     "output_type": "display_data"
    },
    {
     "data": {
      "text/plain": [
       "TrainOutput(global_step=825, training_loss=0.3452735770290548, metrics={'train_runtime': 1229.9791, 'train_samples_per_second': 5.366, 'train_steps_per_second': 0.671, 'total_flos': 1736532965376000.0, 'train_loss': 0.3452735770290548, 'epoch': 5.0})"
      ]
     },
     "execution_count": 52,
     "metadata": {},
     "output_type": "execute_result"
    }
   ],
   "source": [
    "# a. Economic / Non Economic\n",
    "\n",
    "trainer_econ.train() # I instruct the GPU to train the model"
   ]
  },
  {
   "cell_type": "code",
   "execution_count": null,
   "metadata": {
    "colab": {
     "base_uri": "https://localhost:8080/",
     "height": 1000
    },
    "id": "6--tuJOvh25X",
    "outputId": "9cd38cd3-a160-4a96-8384-667a467f48f8"
   },
   "outputs": [
    {
     "name": "stderr",
     "output_type": "stream",
     "text": [
      "/usr/local/lib/python3.10/dist-packages/transformers/optimization.py:391: FutureWarning: This implementation of AdamW is deprecated and will be removed in a future version. Use the PyTorch implementation torch.optim.AdamW instead, or set `no_deprecation_warning=True` to disable this warning\n",
      "  warnings.warn(\n"
     ]
    },
    {
     "data": {
      "text/html": [
       "\n",
       "    <div>\n",
       "      \n",
       "      <progress value='825' max='825' style='width:300px; height:20px; vertical-align: middle;'></progress>\n",
       "      [825/825 20:14, Epoch 5/5]\n",
       "    </div>\n",
       "    <table border=\"1\" class=\"dataframe\">\n",
       "  <thead>\n",
       " <tr style=\"text-align: left;\">\n",
       "      <th>Step</th>\n",
       "      <th>Training Loss</th>\n",
       "      <th>Validation Loss</th>\n",
       "      <th>Accuracy</th>\n",
       "      <th>Macro F1</th>\n",
       "    </tr>\n",
       "  </thead>\n",
       "  <tbody>\n",
       "    <tr>\n",
       "      <td>20</td>\n",
       "      <td>0.685300</td>\n",
       "      <td>0.681111</td>\n",
       "      <td>0.577273</td>\n",
       "      <td>0.413337</td>\n",
       "    </tr>\n",
       "    <tr>\n",
       "      <td>40</td>\n",
       "      <td>0.666800</td>\n",
       "      <td>0.669108</td>\n",
       "      <td>0.611364</td>\n",
       "      <td>0.375599</td>\n",
       "    </tr>\n",
       "    <tr>\n",
       "      <td>60</td>\n",
       "      <td>0.655500</td>\n",
       "      <td>0.666176</td>\n",
       "      <td>0.595455</td>\n",
       "      <td>0.333333</td>\n",
       "    </tr>\n",
       "    <tr>\n",
       "      <td>80</td>\n",
       "      <td>0.644200</td>\n",
       "      <td>0.643100</td>\n",
       "      <td>0.595455</td>\n",
       "      <td>0.333333</td>\n",
       "    </tr>\n",
       "    <tr>\n",
       "      <td>100</td>\n",
       "      <td>0.609500</td>\n",
       "      <td>0.566355</td>\n",
       "      <td>0.745455</td>\n",
       "      <td>0.728741</td>\n",
       "    </tr>\n",
       "    <tr>\n",
       "      <td>120</td>\n",
       "      <td>0.542800</td>\n",
       "      <td>0.497316</td>\n",
       "      <td>0.754545</td>\n",
       "      <td>0.710593</td>\n",
       "    </tr>\n",
       "    <tr>\n",
       "      <td>140</td>\n",
       "      <td>0.520200</td>\n",
       "      <td>0.530167</td>\n",
       "      <td>0.738636</td>\n",
       "      <td>0.667623</td>\n",
       "    </tr>\n",
       "    <tr>\n",
       "      <td>160</td>\n",
       "      <td>0.448200</td>\n",
       "      <td>0.487352</td>\n",
       "      <td>0.800000</td>\n",
       "      <td>0.804050</td>\n",
       "    </tr>\n",
       "    <tr>\n",
       "      <td>180</td>\n",
       "      <td>0.431500</td>\n",
       "      <td>0.500489</td>\n",
       "      <td>0.806818</td>\n",
       "      <td>0.770783</td>\n",
       "    </tr>\n",
       "    <tr>\n",
       "      <td>200</td>\n",
       "      <td>0.421900</td>\n",
       "      <td>0.468441</td>\n",
       "      <td>0.815909</td>\n",
       "      <td>0.794729</td>\n",
       "    </tr>\n",
       "    <tr>\n",
       "      <td>220</td>\n",
       "      <td>0.427700</td>\n",
       "      <td>0.713674</td>\n",
       "      <td>0.795455</td>\n",
       "      <td>0.746880</td>\n",
       "    </tr>\n",
       "    <tr>\n",
       "      <td>240</td>\n",
       "      <td>0.432100</td>\n",
       "      <td>0.472432</td>\n",
       "      <td>0.802273</td>\n",
       "      <td>0.780311</td>\n",
       "    </tr>\n",
       "    <tr>\n",
       "      <td>260</td>\n",
       "      <td>0.421100</td>\n",
       "      <td>0.495045</td>\n",
       "      <td>0.804545</td>\n",
       "      <td>0.763756</td>\n",
       "    </tr>\n",
       "    <tr>\n",
       "      <td>280</td>\n",
       "      <td>0.348500</td>\n",
       "      <td>0.489146</td>\n",
       "      <td>0.800000</td>\n",
       "      <td>0.766600</td>\n",
       "    </tr>\n",
       "    <tr>\n",
       "      <td>300</td>\n",
       "      <td>0.334400</td>\n",
       "      <td>0.617603</td>\n",
       "      <td>0.797727</td>\n",
       "      <td>0.763525</td>\n",
       "    </tr>\n",
       "    <tr>\n",
       "      <td>320</td>\n",
       "      <td>0.310400</td>\n",
       "      <td>0.520510</td>\n",
       "      <td>0.809091</td>\n",
       "      <td>0.792427</td>\n",
       "    </tr>\n",
       "    <tr>\n",
       "      <td>340</td>\n",
       "      <td>0.224100</td>\n",
       "      <td>0.670959</td>\n",
       "      <td>0.831818</td>\n",
       "      <td>0.806542</td>\n",
       "    </tr>\n",
       "    <tr>\n",
       "      <td>360</td>\n",
       "      <td>0.245000</td>\n",
       "      <td>0.628860</td>\n",
       "      <td>0.825000</td>\n",
       "      <td>0.822401</td>\n",
       "    </tr>\n",
       "    <tr>\n",
       "      <td>380</td>\n",
       "      <td>0.140800</td>\n",
       "      <td>0.717745</td>\n",
       "      <td>0.831818</td>\n",
       "      <td>0.815254</td>\n",
       "    </tr>\n",
       "    <tr>\n",
       "      <td>400</td>\n",
       "      <td>0.146700</td>\n",
       "      <td>0.973366</td>\n",
       "      <td>0.800000</td>\n",
       "      <td>0.761467</td>\n",
       "    </tr>\n",
       "    <tr>\n",
       "      <td>420</td>\n",
       "      <td>0.316200</td>\n",
       "      <td>0.742155</td>\n",
       "      <td>0.831818</td>\n",
       "      <td>0.823333</td>\n",
       "    </tr>\n",
       "    <tr>\n",
       "      <td>440</td>\n",
       "      <td>0.235000</td>\n",
       "      <td>0.711633</td>\n",
       "      <td>0.818182</td>\n",
       "      <td>0.799851</td>\n",
       "    </tr>\n",
       "    <tr>\n",
       "      <td>460</td>\n",
       "      <td>0.193700</td>\n",
       "      <td>0.819395</td>\n",
       "      <td>0.811364</td>\n",
       "      <td>0.779422</td>\n",
       "    </tr>\n",
       "    <tr>\n",
       "      <td>480</td>\n",
       "      <td>0.230600</td>\n",
       "      <td>0.751915</td>\n",
       "      <td>0.822727</td>\n",
       "      <td>0.801381</td>\n",
       "    </tr>\n",
       "    <tr>\n",
       "      <td>500</td>\n",
       "      <td>0.214700</td>\n",
       "      <td>0.854789</td>\n",
       "      <td>0.811364</td>\n",
       "      <td>0.775687</td>\n",
       "    </tr>\n",
       "    <tr>\n",
       "      <td>520</td>\n",
       "      <td>0.136000</td>\n",
       "      <td>0.874136</td>\n",
       "      <td>0.822727</td>\n",
       "      <td>0.808830</td>\n",
       "    </tr>\n",
       "    <tr>\n",
       "      <td>540</td>\n",
       "      <td>0.251700</td>\n",
       "      <td>0.942899</td>\n",
       "      <td>0.818182</td>\n",
       "      <td>0.789719</td>\n",
       "    </tr>\n",
       "    <tr>\n",
       "      <td>560</td>\n",
       "      <td>0.037900</td>\n",
       "      <td>0.944757</td>\n",
       "      <td>0.806818</td>\n",
       "      <td>0.786232</td>\n",
       "    </tr>\n",
       "    <tr>\n",
       "      <td>580</td>\n",
       "      <td>0.185800</td>\n",
       "      <td>1.094583</td>\n",
       "      <td>0.815909</td>\n",
       "      <td>0.785504</td>\n",
       "    </tr>\n",
       "    <tr>\n",
       "      <td>600</td>\n",
       "      <td>0.211900</td>\n",
       "      <td>0.918895</td>\n",
       "      <td>0.822727</td>\n",
       "      <td>0.807797</td>\n",
       "    </tr>\n",
       "    <tr>\n",
       "      <td>620</td>\n",
       "      <td>0.102700</td>\n",
       "      <td>0.931876</td>\n",
       "      <td>0.815909</td>\n",
       "      <td>0.794729</td>\n",
       "    </tr>\n",
       "    <tr>\n",
       "      <td>640</td>\n",
       "      <td>0.144600</td>\n",
       "      <td>0.934155</td>\n",
       "      <td>0.818182</td>\n",
       "      <td>0.801980</td>\n",
       "    </tr>\n",
       "    <tr>\n",
       "      <td>660</td>\n",
       "      <td>0.118500</td>\n",
       "      <td>0.990228</td>\n",
       "      <td>0.811364</td>\n",
       "      <td>0.776946</td>\n",
       "    </tr>\n",
       "    <tr>\n",
       "      <td>680</td>\n",
       "      <td>0.050400</td>\n",
       "      <td>0.980880</td>\n",
       "      <td>0.818182</td>\n",
       "      <td>0.797679</td>\n",
       "    </tr>\n",
       "    <tr>\n",
       "      <td>700</td>\n",
       "      <td>0.038300</td>\n",
       "      <td>1.023840</td>\n",
       "      <td>0.813636</td>\n",
       "      <td>0.790651</td>\n",
       "    </tr>\n",
       "    <tr>\n",
       "      <td>720</td>\n",
       "      <td>0.210300</td>\n",
       "      <td>0.974268</td>\n",
       "      <td>0.811364</td>\n",
       "      <td>0.794283</td>\n",
       "    </tr>\n",
       "    <tr>\n",
       "      <td>740</td>\n",
       "      <td>0.100400</td>\n",
       "      <td>0.975935</td>\n",
       "      <td>0.813636</td>\n",
       "      <td>0.790651</td>\n",
       "    </tr>\n",
       "    <tr>\n",
       "      <td>760</td>\n",
       "      <td>0.035700</td>\n",
       "      <td>0.996482</td>\n",
       "      <td>0.815909</td>\n",
       "      <td>0.792494</td>\n",
       "    </tr>\n",
       "    <tr>\n",
       "      <td>780</td>\n",
       "      <td>0.003200</td>\n",
       "      <td>1.013183</td>\n",
       "      <td>0.813636</td>\n",
       "      <td>0.790651</td>\n",
       "    </tr>\n",
       "    <tr>\n",
       "      <td>800</td>\n",
       "      <td>0.099700</td>\n",
       "      <td>1.017330</td>\n",
       "      <td>0.815909</td>\n",
       "      <td>0.793617</td>\n",
       "    </tr>\n",
       "    <tr>\n",
       "      <td>820</td>\n",
       "      <td>0.005000</td>\n",
       "      <td>1.019697</td>\n",
       "      <td>0.813636</td>\n",
       "      <td>0.791771</td>\n",
       "    </tr>\n",
       "  </tbody>\n",
       "</table><p>"
      ],
      "text/plain": [
       "<IPython.core.display.HTML object>"
      ]
     },
     "metadata": {},
     "output_type": "display_data"
    },
    {
     "data": {
      "text/plain": [
       "TrainOutput(global_step=825, training_loss=0.2807153329806346, metrics={'train_runtime': 1215.3787, 'train_samples_per_second': 5.43, 'train_steps_per_second': 0.679, 'total_flos': 1736532965376000.0, 'train_loss': 0.2807153329806346, 'epoch': 5.0})"
      ]
     },
     "execution_count": 53,
     "metadata": {},
     "output_type": "execute_result"
    }
   ],
   "source": [
    "# b. Socio-Cultural / Non-Socio-Cultural\n",
    "\n",
    "trainer_sc.train() # I instruct the GPU to train the model"
   ]
  },
  {
   "cell_type": "markdown",
   "metadata": {
    "id": "xwCOdCpSDi9G"
   },
   "source": [
    "## **6. Evaluating and Testing the Fine-Tuned Models**\n",
    "\n",
    "After having trained the models, I wish to validate and test them on the respective sets. I call the `.evaluate` method of the `Trainer` object, which automatically runs the built-in validation procedure, referring to my custom `compute_metrics` function."
   ]
  },
  {
   "cell_type": "code",
   "execution_count": null,
   "metadata": {
    "colab": {
     "base_uri": "https://localhost:8080/",
     "height": 161
    },
    "id": "IgR3BEZpwJYT",
    "outputId": "75227e6f-96fe-4883-cb30-b3bb2f1e6cdb"
   },
   "outputs": [
    {
     "data": {
      "text/html": [
       "\n",
       "    <div>\n",
       "      \n",
       "      <progress value='55' max='55' style='width:300px; height:20px; vertical-align: middle;'></progress>\n",
       "      [55/55 00:14]\n",
       "    </div>\n",
       "    "
      ],
      "text/plain": [
       "<IPython.core.display.HTML object>"
      ]
     },
     "metadata": {},
     "output_type": "display_data"
    },
    {
     "data": {
      "text/plain": [
       "{'eval_loss': 0.4876410961151123,\n",
       " 'eval_accuracy': 0.825,\n",
       " 'eval_macro_f1': 0.8225780574804976,\n",
       " 'eval_runtime': 14.3387,\n",
       " 'eval_samples_per_second': 30.686,\n",
       " 'eval_steps_per_second': 3.836,\n",
       " 'epoch': 5.0}"
      ]
     },
     "execution_count": 54,
     "metadata": {},
     "output_type": "execute_result"
    }
   ],
   "source": [
    "# a. Economic / Non-Economic\n",
    "\n",
    "trainer_econ.evaluate() # I instruct the GPU to evaluate the model"
   ]
  },
  {
   "cell_type": "code",
   "execution_count": null,
   "metadata": {
    "colab": {
     "base_uri": "https://localhost:8080/",
     "height": 161
    },
    "id": "unFTTfWswKzo",
    "outputId": "1e194e99-e4f8-449f-ebd1-b44bacbc5355"
   },
   "outputs": [
    {
     "data": {
      "text/html": [
       "\n",
       "    <div>\n",
       "      \n",
       "      <progress value='55' max='55' style='width:300px; height:20px; vertical-align: middle;'></progress>\n",
       "      [55/55 00:14]\n",
       "    </div>\n",
       "    "
      ],
      "text/plain": [
       "<IPython.core.display.HTML object>"
      ]
     },
     "metadata": {},
     "output_type": "display_data"
    },
    {
     "data": {
      "text/plain": [
       "{'eval_loss': 0.8547890186309814,\n",
       " 'eval_accuracy': 0.8113636363636364,\n",
       " 'eval_macro_f1': 0.7756871719606064,\n",
       " 'eval_runtime': 14.3644,\n",
       " 'eval_samples_per_second': 30.631,\n",
       " 'eval_steps_per_second': 3.829,\n",
       " 'epoch': 5.0}"
      ]
     },
     "execution_count": 55,
     "metadata": {},
     "output_type": "execute_result"
    }
   ],
   "source": [
    "# b. Socio-Cultural / Non-Socio-Cultural\n",
    "\n",
    "trainer_sc.evaluate() # I instruct the GPU to evaluate the model"
   ]
  },
  {
   "cell_type": "markdown",
   "metadata": {
    "id": "GpEnxR8-EfaG"
   },
   "source": [
    "`LEGAL-BERT` appears to fare better than the model I fine-tuned with the more \"classic\" SML techniques in the Economic / Non-Economic classification task, as its accuracy (0.82) and macro-F1 score (0.82) are all higher than the **SVM classifier with the `linear` kernel trick and the `TfIdfVectorizer`**'s corresponding metrics.\n",
    "\n",
    "On the other hand, `LEGAL-BERT`'s performance with the Socio-Cultural / Non-Socio-Cultural classification is comparable with what should be a very computationally non-demanding baseline - i.e., a **Naive-Bayes classifier with the `CountVectorizer`**, which is quite concerning and leads me to believe that the extended version of the base English transformer, `Large BERT`, could be a better alternative. In other words, I suspect that within this specific task legal jargon is not as important to achieve state-of-the-art performance.\n",
    "\n",
    "To corroborate these findings, I wish to get a more detailed evaluation of the fine-tuned models, with precision and recall metrics for all categories, and to account for potential overfitting of the validation set. Hence, I extract the labels predicted from the test set and compare them with the \"ground truth\" labels."
   ]
  },
  {
   "cell_type": "code",
   "execution_count": null,
   "metadata": {
    "colab": {
     "base_uri": "https://localhost:8080/",
     "height": 17
    },
    "id": "ROyDKPh9E5xx",
    "outputId": "f24e8af4-a60c-471b-df13-d28143d88841"
   },
   "outputs": [
    {
     "data": {
      "text/html": [],
      "text/plain": [
       "<IPython.core.display.HTML object>"
      ]
     },
     "metadata": {},
     "output_type": "display_data"
    }
   ],
   "source": [
    "# a. Economic / Non-Economic\n",
    "\n",
    "# I call the predict() method to make the predictions on the PyTorch test set\n",
    "predicted_results_econ = trainer_econ.predict(test_dataset_econ)"
   ]
  },
  {
   "cell_type": "code",
   "execution_count": null,
   "metadata": {
    "colab": {
     "base_uri": "https://localhost:8080/"
    },
    "id": "dRCaVQ-vFKs-",
    "outputId": "3a2eb40d-17fe-455d-df24-6a4b33e3629e"
   },
   "outputs": [
    {
     "data": {
      "text/plain": [
       "(440, 2)"
      ]
     },
     "execution_count": 57,
     "metadata": {},
     "output_type": "execute_result"
    }
   ],
   "source": [
    "# The \"predicted_results_econ\" object is a 2D matrix with all the predicted\n",
    "# probabilities for the respective output labels, for each document contained in\n",
    "# the test set (440 in total).\n",
    "\n",
    "predicted_results_econ.predictions.shape "
   ]
  },
  {
   "cell_type": "code",
   "execution_count": null,
   "metadata": {
    "id": "S44qWOtAKrW5"
   },
   "outputs": [],
   "source": [
    "# I get the prediction with the highest probability\n",
    "predicted_labels_econ = predicted_results_econ.predictions.argmax(-1)\n",
    "\n",
    "# I flatten the predictions into a one-dimensional list object\n",
    "predicted_labels_econ = predicted_labels_econ.flatten().tolist()\n",
    "\n",
    "# I convert from integers back to strings for readability with my custom dictionary\n",
    "predicted_labels_econ = [id2label_econ[lab] for lab in predicted_labels_econ]"
   ]
  },
  {
   "cell_type": "code",
   "execution_count": null,
   "metadata": {
    "colab": {
     "base_uri": "https://localhost:8080/"
    },
    "id": "0y6chIyvLBlC",
    "outputId": "51b212ec-2496-4914-8c1b-926b08f167e1"
   },
   "outputs": [
    {
     "name": "stdout",
     "output_type": "stream",
     "text": [
      "              precision    recall  f1-score   support\n",
      "\n",
      "    Economic       0.84      0.80      0.82       222\n",
      "Non-Economic       0.80      0.84      0.82       218\n",
      "\n",
      "    accuracy                           0.82       440\n",
      "   macro avg       0.82      0.82      0.82       440\n",
      "weighted avg       0.82      0.82      0.82       440\n",
      "\n"
     ]
    }
   ],
   "source": [
    "# I compare the predictions against the \"ground truth\" labels with \"scikit-learn\"\n",
    "print(classification_report(econ_test, predicted_labels_econ))"
   ]
  },
  {
   "cell_type": "markdown",
   "metadata": {
    "id": "lgg_nNsMLI0W"
   },
   "source": [
    "The test's results corroborate the validation step's findings, although they must be taken with added caution since the test sample is almost perfectly balanced, whereas the overall sample is skewed towards the positive label. Nevertheless, the fine-tuned `LEGAL-BERT` achieves a performance that is very promising, with a 0.82 accuracy, and precisions and recalls never lower than 0.80 - i.e., very solid all across the board. This means that `LEGAL-BERT` is capable of classifying Economic / Non-Economic documents without yielding an inflated number of positive labels, unlike most of the classifiers I employed within the \"classic\" SML framework."
   ]
  },
  {
   "cell_type": "code",
   "execution_count": null,
   "metadata": {
    "colab": {
     "base_uri": "https://localhost:8080/",
     "height": 17
    },
    "id": "niA1DBwaLQUw",
    "outputId": "61f48674-ef8c-418a-91c5-bbc48356b21b"
   },
   "outputs": [
    {
     "data": {
      "text/html": [],
      "text/plain": [
       "<IPython.core.display.HTML object>"
      ]
     },
     "metadata": {},
     "output_type": "display_data"
    }
   ],
   "source": [
    "# b. Socio-Cultural / Non-Socio-Cultural\n",
    "\n",
    "# I call the predict() method to make the predictions on the PyTorch test set\n",
    "predicted_results_sc = trainer_sc.predict(test_dataset_sc)"
   ]
  },
  {
   "cell_type": "code",
   "execution_count": null,
   "metadata": {
    "colab": {
     "base_uri": "https://localhost:8080/"
    },
    "id": "hKtUUwEwLc3A",
    "outputId": "a08e5f24-3ba7-4eb9-a856-3c4d1ce52d86"
   },
   "outputs": [
    {
     "data": {
      "text/plain": [
       "(440, 2)"
      ]
     },
     "execution_count": 61,
     "metadata": {},
     "output_type": "execute_result"
    }
   ],
   "source": [
    "# The \"predicted_results_sc\" object is a 2D matrix with all the predicted\n",
    "# probabilities for the respective output labels, for each document contained in\n",
    "# the test set (440 in total).\n",
    "\n",
    "predicted_results_sc.predictions.shape "
   ]
  },
  {
   "cell_type": "code",
   "execution_count": null,
   "metadata": {
    "id": "qSLBj10gLnZi"
   },
   "outputs": [],
   "source": [
    "# I get the prediction with the highest probability\n",
    "predicted_labels_sc = predicted_results_sc.predictions.argmax(-1)\n",
    "\n",
    "# I flatten the predictions into a one-dimensional list object\n",
    "predicted_labels_sc = predicted_labels_sc.flatten().tolist()\n",
    "\n",
    "# I convert from integers back to strings for readability with my custom dictionary\n",
    "predicted_labels_sc = [id2label_sc[lab] for lab in predicted_labels_sc]"
   ]
  },
  {
   "cell_type": "code",
   "execution_count": null,
   "metadata": {
    "colab": {
     "base_uri": "https://localhost:8080/"
    },
    "id": "6v9I9G6vMMqz",
    "outputId": "6cbc27bd-f013-453c-d2c1-f44644d53866"
   },
   "outputs": [
    {
     "name": "stdout",
     "output_type": "stream",
     "text": [
      "                    precision    recall  f1-score   support\n",
      "\n",
      "Non-Socio-Cultural       0.91      0.69      0.79       157\n",
      "    Socio-Cultural       0.85      0.96      0.90       283\n",
      "\n",
      "          accuracy                           0.87       440\n",
      "         macro avg       0.88      0.83      0.84       440\n",
      "      weighted avg       0.87      0.87      0.86       440\n",
      "\n"
     ]
    }
   ],
   "source": [
    "# I compare the predictions against the \"ground truth\" labels with \"scikit-learn\"\n",
    "print(classification_report(sc_test, predicted_labels_sc))"
   ]
  },
  {
   "cell_type": "markdown",
   "metadata": {
    "id": "CWKzOtayMQVn"
   },
   "source": [
    "The test's results corroborate the validation step's findings, which were not promising at all. `LEGAL-BERT` shows very high accuracy (0.87) and precisions - i.e., respectively, 0.91, and 0.85 - but this performance is driven by the massive amount of positive labels predicted by the model, as the recall for the Non-Socio-Cultural category is only 0.69. This is not an acceptable metric when dealing with fine-tuning a transformer, because `LEGAL-BERT` does not solve the class imbalance issues I experienced with the **Naive-Bayes classifier with the `CountVectorizer`**, even when I experiment with different learning parameters in the background.\n",
    "\n",
    "## **7. Wrapping Up**\n",
    "\n",
    "On a final note, I must specify that I wished to run an explicit hyperparameter tuning script for the few `Trainer` object hyperparameters that could be improved - i.e, the number of training epochs (3, 5, or 7), the learning rate (1e-5, 5e-5, or 1e-4), and the number of warmup steps (100, 200, or 300).\n",
    "\n",
    "This could be done by creating a `ParameterGrid` object with the appropriate `sklearn` function, iterating over each hyperparameter combination within this object, and updating the `training_args` object by calling the `transformers` `update_from_dict` method within the loop. The model would be re-initialised at each iteration, so to ensure that each training iteration starts from an identical initial state, independently of the training executed during previous iterations. Another option would be looking into the `raytune` library, for achieving state-of-the-art hyperparameter tuning.\n",
    "\n",
    "However, the GPU from Google CoLab is giving me serious problems, and constantly kicks me out or does not let me connect to the backend. Furthermore, I continously run into memory / RAM allocation issues when trying more complex procedures - i.e., changing batch sizes to improve the training's efficiency - or pre-trained models. Therefore, after partially experimenting (and failing!) in the background, I deem this to be the best solution I can come up with in the current conditions. It is unlikely that trying combinations for three parameters only could have changed the results by much, so I believe this approximation is acceptable in my research's context.\n",
    "\n",
    "I decide to fine-tune the extended version of the base English transformer, `Large BERT`, to assess whether it is a better alternative, as within the specific Socio-Cultural / Non-Socio-Cultural classification task legal jargon may not be as relevant to achieve state-of-the-art performance. I reckon I will experience the same issues with the GPU backend, so I do not expect to be able to run hyperparameter tuning.\n",
    "\n",
    "To conclude, I save both models and their configuration files to their set directories within Google CoLab, to keep them for potential future use, with the `save_model` method."
   ]
  },
  {
   "cell_type": "code",
   "execution_count": null,
   "metadata": {
    "id": "log2RVwgMk01"
   },
   "outputs": [],
   "source": [
    "# a. Economic / Non-Economic\n",
    "\n",
    "trainer_econ.save_model(save_directory_econ)"
   ]
  },
  {
   "cell_type": "code",
   "execution_count": null,
   "metadata": {
    "id": "DZPFo0rXMld5"
   },
   "outputs": [],
   "source": [
    "# b Socio-Cultural / Non-Socio-Cultural\n",
    "\n",
    "trainer_sc.save_model(save_directory_sc)"
   ]
  }
 ],
 "metadata": {
  "accelerator": "GPU",
  "colab": {
   "gpuType": "T4",
   "provenance": []
  },
  "kernelspec": {
   "display_name": "Python 3 (ipykernel)",
   "language": "python",
   "name": "python3"
  },
  "language_info": {
   "codemirror_mode": {
    "name": "ipython",
    "version": 3
   },
   "file_extension": ".py",
   "mimetype": "text/x-python",
   "name": "python",
   "nbconvert_exporter": "python",
   "pygments_lexer": "ipython3",
   "version": "3.9.13"
  },
  "widgets": {
   "application/vnd.jupyter.widget-state+json": {
    "03015b3d480e4c1da07d71e3f65e4a93": {
     "model_module": "@jupyter-widgets/controls",
     "model_module_version": "1.5.0",
     "model_name": "DescriptionStyleModel",
     "state": {
      "_model_module": "@jupyter-widgets/controls",
      "_model_module_version": "1.5.0",
      "_model_name": "DescriptionStyleModel",
      "_view_count": null,
      "_view_module": "@jupyter-widgets/base",
      "_view_module_version": "1.2.0",
      "_view_name": "StyleView",
      "description_width": ""
     }
    },
    "0752fd7c298e446b99af2f223dbf5044": {
     "model_module": "@jupyter-widgets/base",
     "model_module_version": "1.2.0",
     "model_name": "LayoutModel",
     "state": {
      "_model_module": "@jupyter-widgets/base",
      "_model_module_version": "1.2.0",
      "_model_name": "LayoutModel",
      "_view_count": null,
      "_view_module": "@jupyter-widgets/base",
      "_view_module_version": "1.2.0",
      "_view_name": "LayoutView",
      "align_content": null,
      "align_items": null,
      "align_self": null,
      "border": null,
      "bottom": null,
      "display": null,
      "flex": null,
      "flex_flow": null,
      "grid_area": null,
      "grid_auto_columns": null,
      "grid_auto_flow": null,
      "grid_auto_rows": null,
      "grid_column": null,
      "grid_gap": null,
      "grid_row": null,
      "grid_template_areas": null,
      "grid_template_columns": null,
      "grid_template_rows": null,
      "height": null,
      "justify_content": null,
      "justify_items": null,
      "left": null,
      "margin": null,
      "max_height": null,
      "max_width": null,
      "min_height": null,
      "min_width": null,
      "object_fit": null,
      "object_position": null,
      "order": null,
      "overflow": null,
      "overflow_x": null,
      "overflow_y": null,
      "padding": null,
      "right": null,
      "top": null,
      "visibility": null,
      "width": null
     }
    },
    "08d11dd9947645fc87217c1fd6a8bbf8": {
     "model_module": "@jupyter-widgets/controls",
     "model_module_version": "1.5.0",
     "model_name": "HTMLModel",
     "state": {
      "_dom_classes": [],
      "_model_module": "@jupyter-widgets/controls",
      "_model_module_version": "1.5.0",
      "_model_name": "HTMLModel",
      "_view_count": null,
      "_view_module": "@jupyter-widgets/controls",
      "_view_module_version": "1.5.0",
      "_view_name": "HTMLView",
      "description": "",
      "description_tooltip": null,
      "layout": "IPY_MODEL_229e1d06cfe748bd9426e2851ea18e84",
      "placeholder": "​",
      "style": "IPY_MODEL_03015b3d480e4c1da07d71e3f65e4a93",
      "value": " 48.0/48.0 [00:00&lt;00:00, 1.35kB/s]"
     }
    },
    "0d5ab61d05b84afebe3ee23a8209985d": {
     "model_module": "@jupyter-widgets/controls",
     "model_module_version": "1.5.0",
     "model_name": "HTMLModel",
     "state": {
      "_dom_classes": [],
      "_model_module": "@jupyter-widgets/controls",
      "_model_module_version": "1.5.0",
      "_model_name": "HTMLModel",
      "_view_count": null,
      "_view_module": "@jupyter-widgets/controls",
      "_view_module_version": "1.5.0",
      "_view_name": "HTMLView",
      "description": "",
      "description_tooltip": null,
      "layout": "IPY_MODEL_276e8538795e4fd29c6f7f9864a2af7f",
      "placeholder": "​",
      "style": "IPY_MODEL_da58186338694aeb8d9d59b552ec890a",
      "value": "Downloading pytorch_model.bin: 100%"
     }
    },
    "0e0e65ba40a5464b9afc36b2bd1412b7": {
     "model_module": "@jupyter-widgets/base",
     "model_module_version": "1.2.0",
     "model_name": "LayoutModel",
     "state": {
      "_model_module": "@jupyter-widgets/base",
      "_model_module_version": "1.2.0",
      "_model_name": "LayoutModel",
      "_view_count": null,
      "_view_module": "@jupyter-widgets/base",
      "_view_module_version": "1.2.0",
      "_view_name": "LayoutView",
      "align_content": null,
      "align_items": null,
      "align_self": null,
      "border": null,
      "bottom": null,
      "display": null,
      "flex": null,
      "flex_flow": null,
      "grid_area": null,
      "grid_auto_columns": null,
      "grid_auto_flow": null,
      "grid_auto_rows": null,
      "grid_column": null,
      "grid_gap": null,
      "grid_row": null,
      "grid_template_areas": null,
      "grid_template_columns": null,
      "grid_template_rows": null,
      "height": null,
      "justify_content": null,
      "justify_items": null,
      "left": null,
      "margin": null,
      "max_height": null,
      "max_width": null,
      "min_height": null,
      "min_width": null,
      "object_fit": null,
      "object_position": null,
      "order": null,
      "overflow": null,
      "overflow_x": null,
      "overflow_y": null,
      "padding": null,
      "right": null,
      "top": null,
      "visibility": null,
      "width": null
     }
    },
    "13d2661e99f244c4a0c5d9aa7dc87d2c": {
     "model_module": "@jupyter-widgets/controls",
     "model_module_version": "1.5.0",
     "model_name": "ProgressStyleModel",
     "state": {
      "_model_module": "@jupyter-widgets/controls",
      "_model_module_version": "1.5.0",
      "_model_name": "ProgressStyleModel",
      "_view_count": null,
      "_view_module": "@jupyter-widgets/base",
      "_view_module_version": "1.2.0",
      "_view_name": "StyleView",
      "bar_color": null,
      "description_width": ""
     }
    },
    "1543d302ba64406f858c7456900c2253": {
     "model_module": "@jupyter-widgets/controls",
     "model_module_version": "1.5.0",
     "model_name": "FloatProgressModel",
     "state": {
      "_dom_classes": [],
      "_model_module": "@jupyter-widgets/controls",
      "_model_module_version": "1.5.0",
      "_model_name": "FloatProgressModel",
      "_view_count": null,
      "_view_module": "@jupyter-widgets/controls",
      "_view_module_version": "1.5.0",
      "_view_name": "ProgressView",
      "bar_style": "success",
      "description": "",
      "description_tooltip": null,
      "layout": "IPY_MODEL_5b3c818facaa43f6944754aa761b0af2",
      "max": 440474526,
      "min": 0,
      "orientation": "horizontal",
      "style": "IPY_MODEL_48d29411ec1e44439b467e975aa06700",
      "value": 440474526
     }
    },
    "17314e33195c4c8bb4283d4c19ae74f9": {
     "model_module": "@jupyter-widgets/base",
     "model_module_version": "1.2.0",
     "model_name": "LayoutModel",
     "state": {
      "_model_module": "@jupyter-widgets/base",
      "_model_module_version": "1.2.0",
      "_model_name": "LayoutModel",
      "_view_count": null,
      "_view_module": "@jupyter-widgets/base",
      "_view_module_version": "1.2.0",
      "_view_name": "LayoutView",
      "align_content": null,
      "align_items": null,
      "align_self": null,
      "border": null,
      "bottom": null,
      "display": null,
      "flex": null,
      "flex_flow": null,
      "grid_area": null,
      "grid_auto_columns": null,
      "grid_auto_flow": null,
      "grid_auto_rows": null,
      "grid_column": null,
      "grid_gap": null,
      "grid_row": null,
      "grid_template_areas": null,
      "grid_template_columns": null,
      "grid_template_rows": null,
      "height": null,
      "justify_content": null,
      "justify_items": null,
      "left": null,
      "margin": null,
      "max_height": null,
      "max_width": null,
      "min_height": null,
      "min_width": null,
      "object_fit": null,
      "object_position": null,
      "order": null,
      "overflow": null,
      "overflow_x": null,
      "overflow_y": null,
      "padding": null,
      "right": null,
      "top": null,
      "visibility": null,
      "width": null
     }
    },
    "18f2d5791aeb42e09ade61e176eefb86": {
     "model_module": "@jupyter-widgets/controls",
     "model_module_version": "1.5.0",
     "model_name": "HTMLModel",
     "state": {
      "_dom_classes": [],
      "_model_module": "@jupyter-widgets/controls",
      "_model_module_version": "1.5.0",
      "_model_name": "HTMLModel",
      "_view_count": null,
      "_view_module": "@jupyter-widgets/controls",
      "_view_module_version": "1.5.0",
      "_view_name": "HTMLView",
      "description": "",
      "description_tooltip": null,
      "layout": "IPY_MODEL_6962fa4663934c6fa19424c97e5ef1e4",
      "placeholder": "​",
      "style": "IPY_MODEL_5858c2850f18402f9f58cab789b30f76",
      "value": "Downloading (…)lve/main/config.json: 100%"
     }
    },
    "1a64fc71db0e408fba7b5351362fc6bc": {
     "model_module": "@jupyter-widgets/controls",
     "model_module_version": "1.5.0",
     "model_name": "DescriptionStyleModel",
     "state": {
      "_model_module": "@jupyter-widgets/controls",
      "_model_module_version": "1.5.0",
      "_model_name": "DescriptionStyleModel",
      "_view_count": null,
      "_view_module": "@jupyter-widgets/base",
      "_view_module_version": "1.2.0",
      "_view_name": "StyleView",
      "description_width": ""
     }
    },
    "229e1d06cfe748bd9426e2851ea18e84": {
     "model_module": "@jupyter-widgets/base",
     "model_module_version": "1.2.0",
     "model_name": "LayoutModel",
     "state": {
      "_model_module": "@jupyter-widgets/base",
      "_model_module_version": "1.2.0",
      "_model_name": "LayoutModel",
      "_view_count": null,
      "_view_module": "@jupyter-widgets/base",
      "_view_module_version": "1.2.0",
      "_view_name": "LayoutView",
      "align_content": null,
      "align_items": null,
      "align_self": null,
      "border": null,
      "bottom": null,
      "display": null,
      "flex": null,
      "flex_flow": null,
      "grid_area": null,
      "grid_auto_columns": null,
      "grid_auto_flow": null,
      "grid_auto_rows": null,
      "grid_column": null,
      "grid_gap": null,
      "grid_row": null,
      "grid_template_areas": null,
      "grid_template_columns": null,
      "grid_template_rows": null,
      "height": null,
      "justify_content": null,
      "justify_items": null,
      "left": null,
      "margin": null,
      "max_height": null,
      "max_width": null,
      "min_height": null,
      "min_width": null,
      "object_fit": null,
      "object_position": null,
      "order": null,
      "overflow": null,
      "overflow_x": null,
      "overflow_y": null,
      "padding": null,
      "right": null,
      "top": null,
      "visibility": null,
      "width": null
     }
    },
    "22f27013ded24335b0bdd55b903521b9": {
     "model_module": "@jupyter-widgets/controls",
     "model_module_version": "1.5.0",
     "model_name": "HBoxModel",
     "state": {
      "_dom_classes": [],
      "_model_module": "@jupyter-widgets/controls",
      "_model_module_version": "1.5.0",
      "_model_name": "HBoxModel",
      "_view_count": null,
      "_view_module": "@jupyter-widgets/controls",
      "_view_module_version": "1.5.0",
      "_view_name": "HBoxView",
      "box_style": "",
      "children": [
       "IPY_MODEL_7587c654a2ab415384a2d3f402e1dbbc",
       "IPY_MODEL_cfe0d226e3c74499a95639371c769aac",
       "IPY_MODEL_d7f5c005a32f43c8be00ed9b87a70336"
      ],
      "layout": "IPY_MODEL_7ca2ee45b3e2452c8595d0600e675f2a"
     }
    },
    "276e8538795e4fd29c6f7f9864a2af7f": {
     "model_module": "@jupyter-widgets/base",
     "model_module_version": "1.2.0",
     "model_name": "LayoutModel",
     "state": {
      "_model_module": "@jupyter-widgets/base",
      "_model_module_version": "1.2.0",
      "_model_name": "LayoutModel",
      "_view_count": null,
      "_view_module": "@jupyter-widgets/base",
      "_view_module_version": "1.2.0",
      "_view_name": "LayoutView",
      "align_content": null,
      "align_items": null,
      "align_self": null,
      "border": null,
      "bottom": null,
      "display": null,
      "flex": null,
      "flex_flow": null,
      "grid_area": null,
      "grid_auto_columns": null,
      "grid_auto_flow": null,
      "grid_auto_rows": null,
      "grid_column": null,
      "grid_gap": null,
      "grid_row": null,
      "grid_template_areas": null,
      "grid_template_columns": null,
      "grid_template_rows": null,
      "height": null,
      "justify_content": null,
      "justify_items": null,
      "left": null,
      "margin": null,
      "max_height": null,
      "max_width": null,
      "min_height": null,
      "min_width": null,
      "object_fit": null,
      "object_position": null,
      "order": null,
      "overflow": null,
      "overflow_x": null,
      "overflow_y": null,
      "padding": null,
      "right": null,
      "top": null,
      "visibility": null,
      "width": null
     }
    },
    "2a16d4db7c6d44df947d83aa50bbd516": {
     "model_module": "@jupyter-widgets/base",
     "model_module_version": "1.2.0",
     "model_name": "LayoutModel",
     "state": {
      "_model_module": "@jupyter-widgets/base",
      "_model_module_version": "1.2.0",
      "_model_name": "LayoutModel",
      "_view_count": null,
      "_view_module": "@jupyter-widgets/base",
      "_view_module_version": "1.2.0",
      "_view_name": "LayoutView",
      "align_content": null,
      "align_items": null,
      "align_self": null,
      "border": null,
      "bottom": null,
      "display": null,
      "flex": null,
      "flex_flow": null,
      "grid_area": null,
      "grid_auto_columns": null,
      "grid_auto_flow": null,
      "grid_auto_rows": null,
      "grid_column": null,
      "grid_gap": null,
      "grid_row": null,
      "grid_template_areas": null,
      "grid_template_columns": null,
      "grid_template_rows": null,
      "height": null,
      "justify_content": null,
      "justify_items": null,
      "left": null,
      "margin": null,
      "max_height": null,
      "max_width": null,
      "min_height": null,
      "min_width": null,
      "object_fit": null,
      "object_position": null,
      "order": null,
      "overflow": null,
      "overflow_x": null,
      "overflow_y": null,
      "padding": null,
      "right": null,
      "top": null,
      "visibility": null,
      "width": null
     }
    },
    "33d01e9764664f4cb04ec2b1d3d44aa1": {
     "model_module": "@jupyter-widgets/controls",
     "model_module_version": "1.5.0",
     "model_name": "HBoxModel",
     "state": {
      "_dom_classes": [],
      "_model_module": "@jupyter-widgets/controls",
      "_model_module_version": "1.5.0",
      "_model_name": "HBoxModel",
      "_view_count": null,
      "_view_module": "@jupyter-widgets/controls",
      "_view_module_version": "1.5.0",
      "_view_name": "HBoxView",
      "box_style": "",
      "children": [
       "IPY_MODEL_18f2d5791aeb42e09ade61e176eefb86",
       "IPY_MODEL_c8956ecdee2b4722a6dd88a61650ccc6",
       "IPY_MODEL_6ad73f6959074c348ad822e3eebeaffc"
      ],
      "layout": "IPY_MODEL_2a16d4db7c6d44df947d83aa50bbd516"
     }
    },
    "384e9bdef5f64a4e98b56bebcd4a6dad": {
     "model_module": "@jupyter-widgets/controls",
     "model_module_version": "1.5.0",
     "model_name": "HTMLModel",
     "state": {
      "_dom_classes": [],
      "_model_module": "@jupyter-widgets/controls",
      "_model_module_version": "1.5.0",
      "_model_name": "HTMLModel",
      "_view_count": null,
      "_view_module": "@jupyter-widgets/controls",
      "_view_module_version": "1.5.0",
      "_view_name": "HTMLView",
      "description": "",
      "description_tooltip": null,
      "layout": "IPY_MODEL_e6aec2cc33524590a1d40049fe159bcc",
      "placeholder": "​",
      "style": "IPY_MODEL_da756d28cd9f44fd8307e90c42bba71f",
      "value": " 112/112 [00:00&lt;00:00, 1.98kB/s]"
     }
    },
    "38c6e1be88bf47db80f9df3c82227329": {
     "model_module": "@jupyter-widgets/base",
     "model_module_version": "1.2.0",
     "model_name": "LayoutModel",
     "state": {
      "_model_module": "@jupyter-widgets/base",
      "_model_module_version": "1.2.0",
      "_model_name": "LayoutModel",
      "_view_count": null,
      "_view_module": "@jupyter-widgets/base",
      "_view_module_version": "1.2.0",
      "_view_name": "LayoutView",
      "align_content": null,
      "align_items": null,
      "align_self": null,
      "border": null,
      "bottom": null,
      "display": null,
      "flex": null,
      "flex_flow": null,
      "grid_area": null,
      "grid_auto_columns": null,
      "grid_auto_flow": null,
      "grid_auto_rows": null,
      "grid_column": null,
      "grid_gap": null,
      "grid_row": null,
      "grid_template_areas": null,
      "grid_template_columns": null,
      "grid_template_rows": null,
      "height": null,
      "justify_content": null,
      "justify_items": null,
      "left": null,
      "margin": null,
      "max_height": null,
      "max_width": null,
      "min_height": null,
      "min_width": null,
      "object_fit": null,
      "object_position": null,
      "order": null,
      "overflow": null,
      "overflow_x": null,
      "overflow_y": null,
      "padding": null,
      "right": null,
      "top": null,
      "visibility": null,
      "width": null
     }
    },
    "3a35d5209b884fcc8aa38d79d6a58631": {
     "model_module": "@jupyter-widgets/controls",
     "model_module_version": "1.5.0",
     "model_name": "HTMLModel",
     "state": {
      "_dom_classes": [],
      "_model_module": "@jupyter-widgets/controls",
      "_model_module_version": "1.5.0",
      "_model_name": "HTMLModel",
      "_view_count": null,
      "_view_module": "@jupyter-widgets/controls",
      "_view_module_version": "1.5.0",
      "_view_name": "HTMLView",
      "description": "",
      "description_tooltip": null,
      "layout": "IPY_MODEL_7de8bd8832fe490f9377cc1e4fa09ae1",
      "placeholder": "​",
      "style": "IPY_MODEL_504ed22650f84efaabef6bd9b0e0180e",
      "value": "Downloading (…)okenizer_config.json: 100%"
     }
    },
    "3f06096d5d5d4bb39b091c5eebbdf54c": {
     "model_module": "@jupyter-widgets/base",
     "model_module_version": "1.2.0",
     "model_name": "LayoutModel",
     "state": {
      "_model_module": "@jupyter-widgets/base",
      "_model_module_version": "1.2.0",
      "_model_name": "LayoutModel",
      "_view_count": null,
      "_view_module": "@jupyter-widgets/base",
      "_view_module_version": "1.2.0",
      "_view_name": "LayoutView",
      "align_content": null,
      "align_items": null,
      "align_self": null,
      "border": null,
      "bottom": null,
      "display": null,
      "flex": null,
      "flex_flow": null,
      "grid_area": null,
      "grid_auto_columns": null,
      "grid_auto_flow": null,
      "grid_auto_rows": null,
      "grid_column": null,
      "grid_gap": null,
      "grid_row": null,
      "grid_template_areas": null,
      "grid_template_columns": null,
      "grid_template_rows": null,
      "height": null,
      "justify_content": null,
      "justify_items": null,
      "left": null,
      "margin": null,
      "max_height": null,
      "max_width": null,
      "min_height": null,
      "min_width": null,
      "object_fit": null,
      "object_position": null,
      "order": null,
      "overflow": null,
      "overflow_x": null,
      "overflow_y": null,
      "padding": null,
      "right": null,
      "top": null,
      "visibility": null,
      "width": null
     }
    },
    "48d29411ec1e44439b467e975aa06700": {
     "model_module": "@jupyter-widgets/controls",
     "model_module_version": "1.5.0",
     "model_name": "ProgressStyleModel",
     "state": {
      "_model_module": "@jupyter-widgets/controls",
      "_model_module_version": "1.5.0",
      "_model_name": "ProgressStyleModel",
      "_view_count": null,
      "_view_module": "@jupyter-widgets/base",
      "_view_module_version": "1.2.0",
      "_view_name": "StyleView",
      "bar_color": null,
      "description_width": ""
     }
    },
    "504ed22650f84efaabef6bd9b0e0180e": {
     "model_module": "@jupyter-widgets/controls",
     "model_module_version": "1.5.0",
     "model_name": "DescriptionStyleModel",
     "state": {
      "_model_module": "@jupyter-widgets/controls",
      "_model_module_version": "1.5.0",
      "_model_name": "DescriptionStyleModel",
      "_view_count": null,
      "_view_module": "@jupyter-widgets/base",
      "_view_module_version": "1.2.0",
      "_view_name": "StyleView",
      "description_width": ""
     }
    },
    "50cb5c0af7b14564ba56e8431cd825c1": {
     "model_module": "@jupyter-widgets/base",
     "model_module_version": "1.2.0",
     "model_name": "LayoutModel",
     "state": {
      "_model_module": "@jupyter-widgets/base",
      "_model_module_version": "1.2.0",
      "_model_name": "LayoutModel",
      "_view_count": null,
      "_view_module": "@jupyter-widgets/base",
      "_view_module_version": "1.2.0",
      "_view_name": "LayoutView",
      "align_content": null,
      "align_items": null,
      "align_self": null,
      "border": null,
      "bottom": null,
      "display": null,
      "flex": null,
      "flex_flow": null,
      "grid_area": null,
      "grid_auto_columns": null,
      "grid_auto_flow": null,
      "grid_auto_rows": null,
      "grid_column": null,
      "grid_gap": null,
      "grid_row": null,
      "grid_template_areas": null,
      "grid_template_columns": null,
      "grid_template_rows": null,
      "height": null,
      "justify_content": null,
      "justify_items": null,
      "left": null,
      "margin": null,
      "max_height": null,
      "max_width": null,
      "min_height": null,
      "min_width": null,
      "object_fit": null,
      "object_position": null,
      "order": null,
      "overflow": null,
      "overflow_x": null,
      "overflow_y": null,
      "padding": null,
      "right": null,
      "top": null,
      "visibility": null,
      "width": null
     }
    },
    "515748fed104409d935aa7b7902779b3": {
     "model_module": "@jupyter-widgets/controls",
     "model_module_version": "1.5.0",
     "model_name": "HBoxModel",
     "state": {
      "_dom_classes": [],
      "_model_module": "@jupyter-widgets/controls",
      "_model_module_version": "1.5.0",
      "_model_name": "HBoxModel",
      "_view_count": null,
      "_view_module": "@jupyter-widgets/controls",
      "_view_module_version": "1.5.0",
      "_view_name": "HBoxView",
      "box_style": "",
      "children": [
       "IPY_MODEL_3a35d5209b884fcc8aa38d79d6a58631",
       "IPY_MODEL_cdada1126e91404ab75d3c2afca6ca63",
       "IPY_MODEL_08d11dd9947645fc87217c1fd6a8bbf8"
      ],
      "layout": "IPY_MODEL_678b18e7af9e4fb1a98e53e593f903d5"
     }
    },
    "528013489a2c4c6dbd4ed7ada822e1b6": {
     "model_module": "@jupyter-widgets/controls",
     "model_module_version": "1.5.0",
     "model_name": "ProgressStyleModel",
     "state": {
      "_model_module": "@jupyter-widgets/controls",
      "_model_module_version": "1.5.0",
      "_model_name": "ProgressStyleModel",
      "_view_count": null,
      "_view_module": "@jupyter-widgets/base",
      "_view_module_version": "1.2.0",
      "_view_name": "StyleView",
      "bar_color": null,
      "description_width": ""
     }
    },
    "5523667d8a4447eea343a9139521f7ea": {
     "model_module": "@jupyter-widgets/controls",
     "model_module_version": "1.5.0",
     "model_name": "HBoxModel",
     "state": {
      "_dom_classes": [],
      "_model_module": "@jupyter-widgets/controls",
      "_model_module_version": "1.5.0",
      "_model_name": "HBoxModel",
      "_view_count": null,
      "_view_module": "@jupyter-widgets/controls",
      "_view_module_version": "1.5.0",
      "_view_name": "HBoxView",
      "box_style": "",
      "children": [
       "IPY_MODEL_ca96f14d236a4e82bba9c5436e18d86c",
       "IPY_MODEL_aed63917e1814af0bbfbb0a0a05d8326",
       "IPY_MODEL_384e9bdef5f64a4e98b56bebcd4a6dad"
      ],
      "layout": "IPY_MODEL_f0b1804134b24d71a2d6e40537a28810"
     }
    },
    "5858c2850f18402f9f58cab789b30f76": {
     "model_module": "@jupyter-widgets/controls",
     "model_module_version": "1.5.0",
     "model_name": "DescriptionStyleModel",
     "state": {
      "_model_module": "@jupyter-widgets/controls",
      "_model_module_version": "1.5.0",
      "_model_name": "DescriptionStyleModel",
      "_view_count": null,
      "_view_module": "@jupyter-widgets/base",
      "_view_module_version": "1.2.0",
      "_view_name": "StyleView",
      "description_width": ""
     }
    },
    "5b315251d37d4c87ba78dc5d1742cd2e": {
     "model_module": "@jupyter-widgets/controls",
     "model_module_version": "1.5.0",
     "model_name": "HTMLModel",
     "state": {
      "_dom_classes": [],
      "_model_module": "@jupyter-widgets/controls",
      "_model_module_version": "1.5.0",
      "_model_name": "HTMLModel",
      "_view_count": null,
      "_view_module": "@jupyter-widgets/controls",
      "_view_module_version": "1.5.0",
      "_view_name": "HTMLView",
      "description": "",
      "description_tooltip": null,
      "layout": "IPY_MODEL_3f06096d5d5d4bb39b091c5eebbdf54c",
      "placeholder": "​",
      "style": "IPY_MODEL_dcd03a04f6bb4c97945f2adaa244dc03",
      "value": " 440M/440M [00:02&lt;00:00, 139MB/s]"
     }
    },
    "5b3c818facaa43f6944754aa761b0af2": {
     "model_module": "@jupyter-widgets/base",
     "model_module_version": "1.2.0",
     "model_name": "LayoutModel",
     "state": {
      "_model_module": "@jupyter-widgets/base",
      "_model_module_version": "1.2.0",
      "_model_name": "LayoutModel",
      "_view_count": null,
      "_view_module": "@jupyter-widgets/base",
      "_view_module_version": "1.2.0",
      "_view_name": "LayoutView",
      "align_content": null,
      "align_items": null,
      "align_self": null,
      "border": null,
      "bottom": null,
      "display": null,
      "flex": null,
      "flex_flow": null,
      "grid_area": null,
      "grid_auto_columns": null,
      "grid_auto_flow": null,
      "grid_auto_rows": null,
      "grid_column": null,
      "grid_gap": null,
      "grid_row": null,
      "grid_template_areas": null,
      "grid_template_columns": null,
      "grid_template_rows": null,
      "height": null,
      "justify_content": null,
      "justify_items": null,
      "left": null,
      "margin": null,
      "max_height": null,
      "max_width": null,
      "min_height": null,
      "min_width": null,
      "object_fit": null,
      "object_position": null,
      "order": null,
      "overflow": null,
      "overflow_x": null,
      "overflow_y": null,
      "padding": null,
      "right": null,
      "top": null,
      "visibility": null,
      "width": null
     }
    },
    "604965f692a341e6854443e56d232e04": {
     "model_module": "@jupyter-widgets/controls",
     "model_module_version": "1.5.0",
     "model_name": "HBoxModel",
     "state": {
      "_dom_classes": [],
      "_model_module": "@jupyter-widgets/controls",
      "_model_module_version": "1.5.0",
      "_model_name": "HBoxModel",
      "_view_count": null,
      "_view_module": "@jupyter-widgets/controls",
      "_view_module_version": "1.5.0",
      "_view_name": "HBoxView",
      "box_style": "",
      "children": [
       "IPY_MODEL_0d5ab61d05b84afebe3ee23a8209985d",
       "IPY_MODEL_1543d302ba64406f858c7456900c2253",
       "IPY_MODEL_5b315251d37d4c87ba78dc5d1742cd2e"
      ],
      "layout": "IPY_MODEL_62bab10ea10644f0a21d6f395934d294"
     }
    },
    "62bab10ea10644f0a21d6f395934d294": {
     "model_module": "@jupyter-widgets/base",
     "model_module_version": "1.2.0",
     "model_name": "LayoutModel",
     "state": {
      "_model_module": "@jupyter-widgets/base",
      "_model_module_version": "1.2.0",
      "_model_name": "LayoutModel",
      "_view_count": null,
      "_view_module": "@jupyter-widgets/base",
      "_view_module_version": "1.2.0",
      "_view_name": "LayoutView",
      "align_content": null,
      "align_items": null,
      "align_self": null,
      "border": null,
      "bottom": null,
      "display": null,
      "flex": null,
      "flex_flow": null,
      "grid_area": null,
      "grid_auto_columns": null,
      "grid_auto_flow": null,
      "grid_auto_rows": null,
      "grid_column": null,
      "grid_gap": null,
      "grid_row": null,
      "grid_template_areas": null,
      "grid_template_columns": null,
      "grid_template_rows": null,
      "height": null,
      "justify_content": null,
      "justify_items": null,
      "left": null,
      "margin": null,
      "max_height": null,
      "max_width": null,
      "min_height": null,
      "min_width": null,
      "object_fit": null,
      "object_position": null,
      "order": null,
      "overflow": null,
      "overflow_x": null,
      "overflow_y": null,
      "padding": null,
      "right": null,
      "top": null,
      "visibility": null,
      "width": null
     }
    },
    "64ee8699aaae4bba81597a5e9f6d8359": {
     "model_module": "@jupyter-widgets/controls",
     "model_module_version": "1.5.0",
     "model_name": "DescriptionStyleModel",
     "state": {
      "_model_module": "@jupyter-widgets/controls",
      "_model_module_version": "1.5.0",
      "_model_name": "DescriptionStyleModel",
      "_view_count": null,
      "_view_module": "@jupyter-widgets/base",
      "_view_module_version": "1.2.0",
      "_view_name": "StyleView",
      "description_width": ""
     }
    },
    "678b18e7af9e4fb1a98e53e593f903d5": {
     "model_module": "@jupyter-widgets/base",
     "model_module_version": "1.2.0",
     "model_name": "LayoutModel",
     "state": {
      "_model_module": "@jupyter-widgets/base",
      "_model_module_version": "1.2.0",
      "_model_name": "LayoutModel",
      "_view_count": null,
      "_view_module": "@jupyter-widgets/base",
      "_view_module_version": "1.2.0",
      "_view_name": "LayoutView",
      "align_content": null,
      "align_items": null,
      "align_self": null,
      "border": null,
      "bottom": null,
      "display": null,
      "flex": null,
      "flex_flow": null,
      "grid_area": null,
      "grid_auto_columns": null,
      "grid_auto_flow": null,
      "grid_auto_rows": null,
      "grid_column": null,
      "grid_gap": null,
      "grid_row": null,
      "grid_template_areas": null,
      "grid_template_columns": null,
      "grid_template_rows": null,
      "height": null,
      "justify_content": null,
      "justify_items": null,
      "left": null,
      "margin": null,
      "max_height": null,
      "max_width": null,
      "min_height": null,
      "min_width": null,
      "object_fit": null,
      "object_position": null,
      "order": null,
      "overflow": null,
      "overflow_x": null,
      "overflow_y": null,
      "padding": null,
      "right": null,
      "top": null,
      "visibility": null,
      "width": null
     }
    },
    "6962fa4663934c6fa19424c97e5ef1e4": {
     "model_module": "@jupyter-widgets/base",
     "model_module_version": "1.2.0",
     "model_name": "LayoutModel",
     "state": {
      "_model_module": "@jupyter-widgets/base",
      "_model_module_version": "1.2.0",
      "_model_name": "LayoutModel",
      "_view_count": null,
      "_view_module": "@jupyter-widgets/base",
      "_view_module_version": "1.2.0",
      "_view_name": "LayoutView",
      "align_content": null,
      "align_items": null,
      "align_self": null,
      "border": null,
      "bottom": null,
      "display": null,
      "flex": null,
      "flex_flow": null,
      "grid_area": null,
      "grid_auto_columns": null,
      "grid_auto_flow": null,
      "grid_auto_rows": null,
      "grid_column": null,
      "grid_gap": null,
      "grid_row": null,
      "grid_template_areas": null,
      "grid_template_columns": null,
      "grid_template_rows": null,
      "height": null,
      "justify_content": null,
      "justify_items": null,
      "left": null,
      "margin": null,
      "max_height": null,
      "max_width": null,
      "min_height": null,
      "min_width": null,
      "object_fit": null,
      "object_position": null,
      "order": null,
      "overflow": null,
      "overflow_x": null,
      "overflow_y": null,
      "padding": null,
      "right": null,
      "top": null,
      "visibility": null,
      "width": null
     }
    },
    "698da4a173574317a43a425151fe0cfe": {
     "model_module": "@jupyter-widgets/controls",
     "model_module_version": "1.5.0",
     "model_name": "ProgressStyleModel",
     "state": {
      "_model_module": "@jupyter-widgets/controls",
      "_model_module_version": "1.5.0",
      "_model_name": "ProgressStyleModel",
      "_view_count": null,
      "_view_module": "@jupyter-widgets/base",
      "_view_module_version": "1.2.0",
      "_view_name": "StyleView",
      "bar_color": null,
      "description_width": ""
     }
    },
    "6ad73f6959074c348ad822e3eebeaffc": {
     "model_module": "@jupyter-widgets/controls",
     "model_module_version": "1.5.0",
     "model_name": "HTMLModel",
     "state": {
      "_dom_classes": [],
      "_model_module": "@jupyter-widgets/controls",
      "_model_module_version": "1.5.0",
      "_model_name": "HTMLModel",
      "_view_count": null,
      "_view_module": "@jupyter-widgets/controls",
      "_view_module_version": "1.5.0",
      "_view_name": "HTMLView",
      "description": "",
      "description_tooltip": null,
      "layout": "IPY_MODEL_0752fd7c298e446b99af2f223dbf5044",
      "placeholder": "​",
      "style": "IPY_MODEL_baf4088df450425fabab7fb948cd2b38",
      "value": " 1.02k/1.02k [00:00&lt;00:00, 33.8kB/s]"
     }
    },
    "7587c654a2ab415384a2d3f402e1dbbc": {
     "model_module": "@jupyter-widgets/controls",
     "model_module_version": "1.5.0",
     "model_name": "HTMLModel",
     "state": {
      "_dom_classes": [],
      "_model_module": "@jupyter-widgets/controls",
      "_model_module_version": "1.5.0",
      "_model_name": "HTMLModel",
      "_view_count": null,
      "_view_module": "@jupyter-widgets/controls",
      "_view_module_version": "1.5.0",
      "_view_name": "HTMLView",
      "description": "",
      "description_tooltip": null,
      "layout": "IPY_MODEL_50cb5c0af7b14564ba56e8431cd825c1",
      "placeholder": "​",
      "style": "IPY_MODEL_64ee8699aaae4bba81597a5e9f6d8359",
      "value": "Downloading (…)solve/main/vocab.txt: 100%"
     }
    },
    "7ca2ee45b3e2452c8595d0600e675f2a": {
     "model_module": "@jupyter-widgets/base",
     "model_module_version": "1.2.0",
     "model_name": "LayoutModel",
     "state": {
      "_model_module": "@jupyter-widgets/base",
      "_model_module_version": "1.2.0",
      "_model_name": "LayoutModel",
      "_view_count": null,
      "_view_module": "@jupyter-widgets/base",
      "_view_module_version": "1.2.0",
      "_view_name": "LayoutView",
      "align_content": null,
      "align_items": null,
      "align_self": null,
      "border": null,
      "bottom": null,
      "display": null,
      "flex": null,
      "flex_flow": null,
      "grid_area": null,
      "grid_auto_columns": null,
      "grid_auto_flow": null,
      "grid_auto_rows": null,
      "grid_column": null,
      "grid_gap": null,
      "grid_row": null,
      "grid_template_areas": null,
      "grid_template_columns": null,
      "grid_template_rows": null,
      "height": null,
      "justify_content": null,
      "justify_items": null,
      "left": null,
      "margin": null,
      "max_height": null,
      "max_width": null,
      "min_height": null,
      "min_width": null,
      "object_fit": null,
      "object_position": null,
      "order": null,
      "overflow": null,
      "overflow_x": null,
      "overflow_y": null,
      "padding": null,
      "right": null,
      "top": null,
      "visibility": null,
      "width": null
     }
    },
    "7de8bd8832fe490f9377cc1e4fa09ae1": {
     "model_module": "@jupyter-widgets/base",
     "model_module_version": "1.2.0",
     "model_name": "LayoutModel",
     "state": {
      "_model_module": "@jupyter-widgets/base",
      "_model_module_version": "1.2.0",
      "_model_name": "LayoutModel",
      "_view_count": null,
      "_view_module": "@jupyter-widgets/base",
      "_view_module_version": "1.2.0",
      "_view_name": "LayoutView",
      "align_content": null,
      "align_items": null,
      "align_self": null,
      "border": null,
      "bottom": null,
      "display": null,
      "flex": null,
      "flex_flow": null,
      "grid_area": null,
      "grid_auto_columns": null,
      "grid_auto_flow": null,
      "grid_auto_rows": null,
      "grid_column": null,
      "grid_gap": null,
      "grid_row": null,
      "grid_template_areas": null,
      "grid_template_columns": null,
      "grid_template_rows": null,
      "height": null,
      "justify_content": null,
      "justify_items": null,
      "left": null,
      "margin": null,
      "max_height": null,
      "max_width": null,
      "min_height": null,
      "min_width": null,
      "object_fit": null,
      "object_position": null,
      "order": null,
      "overflow": null,
      "overflow_x": null,
      "overflow_y": null,
      "padding": null,
      "right": null,
      "top": null,
      "visibility": null,
      "width": null
     }
    },
    "ab194f4861a04e37b99de4b2ce7e7933": {
     "model_module": "@jupyter-widgets/controls",
     "model_module_version": "1.5.0",
     "model_name": "ProgressStyleModel",
     "state": {
      "_model_module": "@jupyter-widgets/controls",
      "_model_module_version": "1.5.0",
      "_model_name": "ProgressStyleModel",
      "_view_count": null,
      "_view_module": "@jupyter-widgets/base",
      "_view_module_version": "1.2.0",
      "_view_name": "StyleView",
      "bar_color": null,
      "description_width": ""
     }
    },
    "aed63917e1814af0bbfbb0a0a05d8326": {
     "model_module": "@jupyter-widgets/controls",
     "model_module_version": "1.5.0",
     "model_name": "FloatProgressModel",
     "state": {
      "_dom_classes": [],
      "_model_module": "@jupyter-widgets/controls",
      "_model_module_version": "1.5.0",
      "_model_name": "FloatProgressModel",
      "_view_count": null,
      "_view_module": "@jupyter-widgets/controls",
      "_view_module_version": "1.5.0",
      "_view_name": "ProgressView",
      "bar_style": "success",
      "description": "",
      "description_tooltip": null,
      "layout": "IPY_MODEL_fca35fdf1a1c4c5784e2c989a13d3914",
      "max": 112,
      "min": 0,
      "orientation": "horizontal",
      "style": "IPY_MODEL_13d2661e99f244c4a0c5d9aa7dc87d2c",
      "value": 112
     }
    },
    "b57ac349781e46c991e6d98b934a19c6": {
     "model_module": "@jupyter-widgets/base",
     "model_module_version": "1.2.0",
     "model_name": "LayoutModel",
     "state": {
      "_model_module": "@jupyter-widgets/base",
      "_model_module_version": "1.2.0",
      "_model_name": "LayoutModel",
      "_view_count": null,
      "_view_module": "@jupyter-widgets/base",
      "_view_module_version": "1.2.0",
      "_view_name": "LayoutView",
      "align_content": null,
      "align_items": null,
      "align_self": null,
      "border": null,
      "bottom": null,
      "display": null,
      "flex": null,
      "flex_flow": null,
      "grid_area": null,
      "grid_auto_columns": null,
      "grid_auto_flow": null,
      "grid_auto_rows": null,
      "grid_column": null,
      "grid_gap": null,
      "grid_row": null,
      "grid_template_areas": null,
      "grid_template_columns": null,
      "grid_template_rows": null,
      "height": null,
      "justify_content": null,
      "justify_items": null,
      "left": null,
      "margin": null,
      "max_height": null,
      "max_width": null,
      "min_height": null,
      "min_width": null,
      "object_fit": null,
      "object_position": null,
      "order": null,
      "overflow": null,
      "overflow_x": null,
      "overflow_y": null,
      "padding": null,
      "right": null,
      "top": null,
      "visibility": null,
      "width": null
     }
    },
    "baf4088df450425fabab7fb948cd2b38": {
     "model_module": "@jupyter-widgets/controls",
     "model_module_version": "1.5.0",
     "model_name": "DescriptionStyleModel",
     "state": {
      "_model_module": "@jupyter-widgets/controls",
      "_model_module_version": "1.5.0",
      "_model_name": "DescriptionStyleModel",
      "_view_count": null,
      "_view_module": "@jupyter-widgets/base",
      "_view_module_version": "1.2.0",
      "_view_name": "StyleView",
      "description_width": ""
     }
    },
    "c54e901a0475485bb65bacbfbe829975": {
     "model_module": "@jupyter-widgets/controls",
     "model_module_version": "1.5.0",
     "model_name": "DescriptionStyleModel",
     "state": {
      "_model_module": "@jupyter-widgets/controls",
      "_model_module_version": "1.5.0",
      "_model_name": "DescriptionStyleModel",
      "_view_count": null,
      "_view_module": "@jupyter-widgets/base",
      "_view_module_version": "1.2.0",
      "_view_name": "StyleView",
      "description_width": ""
     }
    },
    "c6be6a4f47094d279bb9db6424c66da2": {
     "model_module": "@jupyter-widgets/base",
     "model_module_version": "1.2.0",
     "model_name": "LayoutModel",
     "state": {
      "_model_module": "@jupyter-widgets/base",
      "_model_module_version": "1.2.0",
      "_model_name": "LayoutModel",
      "_view_count": null,
      "_view_module": "@jupyter-widgets/base",
      "_view_module_version": "1.2.0",
      "_view_name": "LayoutView",
      "align_content": null,
      "align_items": null,
      "align_self": null,
      "border": null,
      "bottom": null,
      "display": null,
      "flex": null,
      "flex_flow": null,
      "grid_area": null,
      "grid_auto_columns": null,
      "grid_auto_flow": null,
      "grid_auto_rows": null,
      "grid_column": null,
      "grid_gap": null,
      "grid_row": null,
      "grid_template_areas": null,
      "grid_template_columns": null,
      "grid_template_rows": null,
      "height": null,
      "justify_content": null,
      "justify_items": null,
      "left": null,
      "margin": null,
      "max_height": null,
      "max_width": null,
      "min_height": null,
      "min_width": null,
      "object_fit": null,
      "object_position": null,
      "order": null,
      "overflow": null,
      "overflow_x": null,
      "overflow_y": null,
      "padding": null,
      "right": null,
      "top": null,
      "visibility": null,
      "width": null
     }
    },
    "c8956ecdee2b4722a6dd88a61650ccc6": {
     "model_module": "@jupyter-widgets/controls",
     "model_module_version": "1.5.0",
     "model_name": "FloatProgressModel",
     "state": {
      "_dom_classes": [],
      "_model_module": "@jupyter-widgets/controls",
      "_model_module_version": "1.5.0",
      "_model_name": "FloatProgressModel",
      "_view_count": null,
      "_view_module": "@jupyter-widgets/controls",
      "_view_module_version": "1.5.0",
      "_view_name": "ProgressView",
      "bar_style": "success",
      "description": "",
      "description_tooltip": null,
      "layout": "IPY_MODEL_b57ac349781e46c991e6d98b934a19c6",
      "max": 1017,
      "min": 0,
      "orientation": "horizontal",
      "style": "IPY_MODEL_698da4a173574317a43a425151fe0cfe",
      "value": 1017
     }
    },
    "ca96f14d236a4e82bba9c5436e18d86c": {
     "model_module": "@jupyter-widgets/controls",
     "model_module_version": "1.5.0",
     "model_name": "HTMLModel",
     "state": {
      "_dom_classes": [],
      "_model_module": "@jupyter-widgets/controls",
      "_model_module_version": "1.5.0",
      "_model_name": "HTMLModel",
      "_view_count": null,
      "_view_module": "@jupyter-widgets/controls",
      "_view_module_version": "1.5.0",
      "_view_name": "HTMLView",
      "description": "",
      "description_tooltip": null,
      "layout": "IPY_MODEL_17314e33195c4c8bb4283d4c19ae74f9",
      "placeholder": "​",
      "style": "IPY_MODEL_c54e901a0475485bb65bacbfbe829975",
      "value": "Downloading (…)cial_tokens_map.json: 100%"
     }
    },
    "cdada1126e91404ab75d3c2afca6ca63": {
     "model_module": "@jupyter-widgets/controls",
     "model_module_version": "1.5.0",
     "model_name": "FloatProgressModel",
     "state": {
      "_dom_classes": [],
      "_model_module": "@jupyter-widgets/controls",
      "_model_module_version": "1.5.0",
      "_model_name": "FloatProgressModel",
      "_view_count": null,
      "_view_module": "@jupyter-widgets/controls",
      "_view_module_version": "1.5.0",
      "_view_name": "ProgressView",
      "bar_style": "success",
      "description": "",
      "description_tooltip": null,
      "layout": "IPY_MODEL_38c6e1be88bf47db80f9df3c82227329",
      "max": 48,
      "min": 0,
      "orientation": "horizontal",
      "style": "IPY_MODEL_528013489a2c4c6dbd4ed7ada822e1b6",
      "value": 48
     }
    },
    "cfe0d226e3c74499a95639371c769aac": {
     "model_module": "@jupyter-widgets/controls",
     "model_module_version": "1.5.0",
     "model_name": "FloatProgressModel",
     "state": {
      "_dom_classes": [],
      "_model_module": "@jupyter-widgets/controls",
      "_model_module_version": "1.5.0",
      "_model_name": "FloatProgressModel",
      "_view_count": null,
      "_view_module": "@jupyter-widgets/controls",
      "_view_module_version": "1.5.0",
      "_view_name": "ProgressView",
      "bar_style": "success",
      "description": "",
      "description_tooltip": null,
      "layout": "IPY_MODEL_0e0e65ba40a5464b9afc36b2bd1412b7",
      "max": 221793,
      "min": 0,
      "orientation": "horizontal",
      "style": "IPY_MODEL_ab194f4861a04e37b99de4b2ce7e7933",
      "value": 221793
     }
    },
    "d7f5c005a32f43c8be00ed9b87a70336": {
     "model_module": "@jupyter-widgets/controls",
     "model_module_version": "1.5.0",
     "model_name": "HTMLModel",
     "state": {
      "_dom_classes": [],
      "_model_module": "@jupyter-widgets/controls",
      "_model_module_version": "1.5.0",
      "_model_name": "HTMLModel",
      "_view_count": null,
      "_view_module": "@jupyter-widgets/controls",
      "_view_module_version": "1.5.0",
      "_view_name": "HTMLView",
      "description": "",
      "description_tooltip": null,
      "layout": "IPY_MODEL_c6be6a4f47094d279bb9db6424c66da2",
      "placeholder": "​",
      "style": "IPY_MODEL_1a64fc71db0e408fba7b5351362fc6bc",
      "value": " 222k/222k [00:00&lt;00:00, 1.70MB/s]"
     }
    },
    "da58186338694aeb8d9d59b552ec890a": {
     "model_module": "@jupyter-widgets/controls",
     "model_module_version": "1.5.0",
     "model_name": "DescriptionStyleModel",
     "state": {
      "_model_module": "@jupyter-widgets/controls",
      "_model_module_version": "1.5.0",
      "_model_name": "DescriptionStyleModel",
      "_view_count": null,
      "_view_module": "@jupyter-widgets/base",
      "_view_module_version": "1.2.0",
      "_view_name": "StyleView",
      "description_width": ""
     }
    },
    "da756d28cd9f44fd8307e90c42bba71f": {
     "model_module": "@jupyter-widgets/controls",
     "model_module_version": "1.5.0",
     "model_name": "DescriptionStyleModel",
     "state": {
      "_model_module": "@jupyter-widgets/controls",
      "_model_module_version": "1.5.0",
      "_model_name": "DescriptionStyleModel",
      "_view_count": null,
      "_view_module": "@jupyter-widgets/base",
      "_view_module_version": "1.2.0",
      "_view_name": "StyleView",
      "description_width": ""
     }
    },
    "dcd03a04f6bb4c97945f2adaa244dc03": {
     "model_module": "@jupyter-widgets/controls",
     "model_module_version": "1.5.0",
     "model_name": "DescriptionStyleModel",
     "state": {
      "_model_module": "@jupyter-widgets/controls",
      "_model_module_version": "1.5.0",
      "_model_name": "DescriptionStyleModel",
      "_view_count": null,
      "_view_module": "@jupyter-widgets/base",
      "_view_module_version": "1.2.0",
      "_view_name": "StyleView",
      "description_width": ""
     }
    },
    "e6aec2cc33524590a1d40049fe159bcc": {
     "model_module": "@jupyter-widgets/base",
     "model_module_version": "1.2.0",
     "model_name": "LayoutModel",
     "state": {
      "_model_module": "@jupyter-widgets/base",
      "_model_module_version": "1.2.0",
      "_model_name": "LayoutModel",
      "_view_count": null,
      "_view_module": "@jupyter-widgets/base",
      "_view_module_version": "1.2.0",
      "_view_name": "LayoutView",
      "align_content": null,
      "align_items": null,
      "align_self": null,
      "border": null,
      "bottom": null,
      "display": null,
      "flex": null,
      "flex_flow": null,
      "grid_area": null,
      "grid_auto_columns": null,
      "grid_auto_flow": null,
      "grid_auto_rows": null,
      "grid_column": null,
      "grid_gap": null,
      "grid_row": null,
      "grid_template_areas": null,
      "grid_template_columns": null,
      "grid_template_rows": null,
      "height": null,
      "justify_content": null,
      "justify_items": null,
      "left": null,
      "margin": null,
      "max_height": null,
      "max_width": null,
      "min_height": null,
      "min_width": null,
      "object_fit": null,
      "object_position": null,
      "order": null,
      "overflow": null,
      "overflow_x": null,
      "overflow_y": null,
      "padding": null,
      "right": null,
      "top": null,
      "visibility": null,
      "width": null
     }
    },
    "f0b1804134b24d71a2d6e40537a28810": {
     "model_module": "@jupyter-widgets/base",
     "model_module_version": "1.2.0",
     "model_name": "LayoutModel",
     "state": {
      "_model_module": "@jupyter-widgets/base",
      "_model_module_version": "1.2.0",
      "_model_name": "LayoutModel",
      "_view_count": null,
      "_view_module": "@jupyter-widgets/base",
      "_view_module_version": "1.2.0",
      "_view_name": "LayoutView",
      "align_content": null,
      "align_items": null,
      "align_self": null,
      "border": null,
      "bottom": null,
      "display": null,
      "flex": null,
      "flex_flow": null,
      "grid_area": null,
      "grid_auto_columns": null,
      "grid_auto_flow": null,
      "grid_auto_rows": null,
      "grid_column": null,
      "grid_gap": null,
      "grid_row": null,
      "grid_template_areas": null,
      "grid_template_columns": null,
      "grid_template_rows": null,
      "height": null,
      "justify_content": null,
      "justify_items": null,
      "left": null,
      "margin": null,
      "max_height": null,
      "max_width": null,
      "min_height": null,
      "min_width": null,
      "object_fit": null,
      "object_position": null,
      "order": null,
      "overflow": null,
      "overflow_x": null,
      "overflow_y": null,
      "padding": null,
      "right": null,
      "top": null,
      "visibility": null,
      "width": null
     }
    },
    "fca35fdf1a1c4c5784e2c989a13d3914": {
     "model_module": "@jupyter-widgets/base",
     "model_module_version": "1.2.0",
     "model_name": "LayoutModel",
     "state": {
      "_model_module": "@jupyter-widgets/base",
      "_model_module_version": "1.2.0",
      "_model_name": "LayoutModel",
      "_view_count": null,
      "_view_module": "@jupyter-widgets/base",
      "_view_module_version": "1.2.0",
      "_view_name": "LayoutView",
      "align_content": null,
      "align_items": null,
      "align_self": null,
      "border": null,
      "bottom": null,
      "display": null,
      "flex": null,
      "flex_flow": null,
      "grid_area": null,
      "grid_auto_columns": null,
      "grid_auto_flow": null,
      "grid_auto_rows": null,
      "grid_column": null,
      "grid_gap": null,
      "grid_row": null,
      "grid_template_areas": null,
      "grid_template_columns": null,
      "grid_template_rows": null,
      "height": null,
      "justify_content": null,
      "justify_items": null,
      "left": null,
      "margin": null,
      "max_height": null,
      "max_width": null,
      "min_height": null,
      "min_width": null,
      "object_fit": null,
      "object_position": null,
      "order": null,
      "overflow": null,
      "overflow_x": null,
      "overflow_y": null,
      "padding": null,
      "right": null,
      "top": null,
      "visibility": null,
      "width": null
     }
    }
   }
  }
 },
 "nbformat": 4,
 "nbformat_minor": 1
}
