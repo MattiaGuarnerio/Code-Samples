{
 "cells": [
  {
   "cell_type": "markdown",
   "id": "6d003f03",
   "metadata": {},
   "source": [
    "# White Noise: Metadata Diagnostics\n",
    "\n",
    "## 1. Explaining the problem\n",
    "\n",
    "The `Metadata Collection (Mattia Guarnerio - 14350920)` script executed a smooth, yet not perfect data collection process. The `bill_metadata_house.jsonl` and `bill_metadata_senate.jsonl` files do not contain metadata for all bills. In fact, the `metadata_diagnostics.jsonl` file shows that 76 documents were not correctly retrieved. I wish to take care of these rogue bills in this separate script."
   ]
  },
  {
   "cell_type": "code",
   "execution_count": 1,
   "id": "ea8e0100",
   "metadata": {},
   "outputs": [],
   "source": [
    "# Packages for handling APIs and .JSON files\n",
    "import os\n",
    "import requests\n",
    "import json\n",
    "\n",
    "# Package for data wrangling\n",
    "import pandas as pd\n",
    "\n",
    "# Packages for exercising the virtue of patience and monitoring loop completion\n",
    "import time\n",
    "from IPython.display import clear_output"
   ]
  },
  {
   "cell_type": "markdown",
   "id": "280d0dce",
   "metadata": {},
   "source": [
    "## 2. Unpacking Pandora's Box\n",
    "\n",
    "I start by re-structuring the `metadata_diagnostics.jsonl` file into three separate lists:\n",
    "1. `bill_numbers`, which contains the US bill numbers unique within each branch and mandate of Congress;\n",
    "2. `congress_numbers`, which encloses all US Congress mandates associated with each bill;\n",
    "3. `bill_type`, which indicates the branch of US Congress where the single bill was introduced."
   ]
  },
  {
   "cell_type": "code",
   "execution_count": 2,
   "id": "8c0b2f72",
   "metadata": {},
   "outputs": [],
   "source": [
    "# I first create the three empty list where I wish to store the data from the \"metadata_diagnostics.jsonl\" file\n",
    "\n",
    "bill_numbers = []\n",
    "congress_numbers = []\n",
    "bill_type = []\n",
    "\n",
    "# I open the .jsonl file, and read it with the following helper function\n",
    "with open(\"metadata_diagnostics.jsonl\", \"r\") as r:\n",
    "    \n",
    "    # I loop over each line...\n",
    "    for line in r:\n",
    "        \n",
    "        # ...and load the line into a temporary \"temp\" object\n",
    "        temp = json.loads(line)\n",
    "        \n",
    "        # I can now append the separate data to their corresponding list...\n",
    "        bill_numbers.append(temp[\"bill_number\"]) # Bill numbers\n",
    "        congress_numbers.append(temp[\"congress_number\"]) # Congress numbers\n",
    "        bill_type.append(temp[\"file_type\"]) # US Congress branches"
   ]
  },
  {
   "cell_type": "code",
   "execution_count": 3,
   "id": "1dad7a1d",
   "metadata": {},
   "outputs": [
    {
     "data": {
      "text/plain": [
       "['7162',\n",
       " '7134',\n",
       " '7135',\n",
       " '6895',\n",
       " '6829',\n",
       " '6257',\n",
       " '6218',\n",
       " '6191',\n",
       " '6171',\n",
       " '5623']"
      ]
     },
     "execution_count": 3,
     "metadata": {},
     "output_type": "execute_result"
    }
   ],
   "source": [
    "# I check the first 10 elements of each list to assess whether this data wrangling step went smoothly\n",
    "bill_numbers[:10]"
   ]
  },
  {
   "cell_type": "code",
   "execution_count": 4,
   "id": "52bbf6a1",
   "metadata": {},
   "outputs": [
    {
     "data": {
      "text/plain": [
       "['115', '115', '115', '115', '115', '115', '115', '115', '115', '115']"
      ]
     },
     "execution_count": 4,
     "metadata": {},
     "output_type": "execute_result"
    }
   ],
   "source": [
    "congress_numbers[:10]"
   ]
  },
  {
   "cell_type": "code",
   "execution_count": 5,
   "id": "763e6ab1",
   "metadata": {},
   "outputs": [
    {
     "data": {
      "text/plain": [
       "['hr', 'hr', 'hr', 'hr', 'hr', 'hr', 'hr', 'hr', 'hr', 'hr']"
      ]
     },
     "execution_count": 5,
     "metadata": {},
     "output_type": "execute_result"
    }
   ],
   "source": [
    "bill_type[:10]"
   ]
  },
  {
   "cell_type": "code",
   "execution_count": 6,
   "id": "db1d2201",
   "metadata": {},
   "outputs": [
    {
     "name": "stdout",
     "output_type": "stream",
     "text": [
      "I must still retrieve 76 bill numbers, associated with 76 bills.\n"
     ]
    }
   ],
   "source": [
    "# I check the total length of each list to assess whether this data wrangling step went smoothly\n",
    "print(f\"I must still retrieve {len(congress_numbers)} bill numbers, associated with {len(bill_numbers)} bills.\")"
   ]
  },
  {
   "cell_type": "code",
   "execution_count": 7,
   "id": "fdb7589f",
   "metadata": {},
   "outputs": [
    {
     "name": "stdout",
     "output_type": "stream",
     "text": [
      "Thus, I wish to contact api.congress.gov for 76 additional times.\n"
     ]
    }
   ],
   "source": [
    "print(f\"Thus, I wish to contact api.congress.gov for {len(bill_type)} additional times.\")"
   ]
  },
  {
   "cell_type": "code",
   "execution_count": 8,
   "id": "41098e46",
   "metadata": {},
   "outputs": [],
   "source": [
    "# Setting the API key as an environment variable\n",
    "os.environ[\"api_key\"] = \"I used to be an adventurer like you until I took an arrow to the knee.\"\n",
    "\n",
    "# Setting the base URL\n",
    "base_url = 'https://api.congress.gov'\n",
    "\n",
    "# Setting a delay of 4 seconds between API requests\n",
    "rate_limit_delay = 4"
   ]
  },
  {
   "cell_type": "markdown",
   "id": "89580143",
   "metadata": {},
   "source": [
    "## 3. Metadata Retrieval\n",
    "\n",
    "It's time to retrieve the rogue metadata. I design a data collection function that is analogous to the one I devised in the `Metadata Collection (Mattia Guarnerio - 14350920)` script. I visually inspect the URL endpoints of the missing metadata. It seems that the issue lies in the `policyArea` key - i.e., the bill's policy area label - which is not present in the specific bills that caused problems in Microsoft Azure ML. Thus, I must appropriately modify the data retrieval function to account for this missing value."
   ]
  },
  {
   "cell_type": "code",
   "execution_count": 9,
   "id": "58274d51",
   "metadata": {},
   "outputs": [],
   "source": [
    "def get_bill_metadata(congress_number, bill_type, bill_number, file_type):\n",
    "    \n",
    "    # I define the starting endpoint, which employs the function's arguments instead of hard-coding values.\n",
    "    endpoint = base_url + f\"/v3/bill/{congress_number}/{bill_type}/{bill_number}/?format={file_type}&api_key={os.environ.get('api_key')}\"\n",
    "    \n",
    "    # I define the file path for the .JSON lines diagnostics file, which will contain all bill numbers and congress numbers\n",
    "    # of all the metadata that could not be fetched\n",
    "    diagnostics_path = \"metadata_diagnostics_inception.jsonl\"\n",
    "\n",
    "    response = requests.get(endpoint)\n",
    "    \n",
    "    # I design a new \"bill_type_message\" string variable, which helps me to pretty print useful information for diagnostics.\n",
    "            \n",
    "    if bill_type == \"hr\":\n",
    "        bill_type_message = \"House of Representatives\"\n",
    "                \n",
    "    elif bill_type == \"s\":\n",
    "        bill_type_message = \"Senate\"\n",
    "\n",
    "    # In the API documentation at https://api.congress.gov, it is stated that if the response's status code is not 200,\n",
    "    # then there was an error in retrieving data. However, in this case I implement the check directly when I try to save\n",
    "    # the data into the \"metadata\" object. The reason is simple: even when the bill number is meaningless - i.e., 42424242 -\n",
    "    # the endpoint still returns a .JSON response, which does not contain the \"bill\" key. Thus, data regarding the \n",
    "    # API request in itself - i.e., the congress and bill number, and the bill type - is always present, whereas the\n",
    "    # metadata cannot be saved and the command yields a KeyError.\n",
    "        \n",
    "    # I do not need to print a message that keeps the user updated on the pagination script's status, since I prefer to do so\n",
    "    # by printing information on loop completion.\n",
    "\n",
    "    # I try to save the data I need for my analysis in the \"metadata\" dictionary\n",
    "    try:\n",
    "        # I save the .JSON response into a local variable - i.e., a dictionary\n",
    "        bill_metadata = response.json()\n",
    "    \n",
    "        metadata = {\n",
    "            \"congress\": bill_metadata[\"request\"][\"congress\"], # The congress number\n",
    "            \"bill_number\": bill_metadata[\"request\"][\"billNumber\"], # The bill number\n",
    "            \"bill_type\": bill_metadata[\"request\"][\"billType\"], # The bill type\n",
    "            \"sponsor_name\": bill_metadata[\"bill\"][\"sponsors\"][0][\"firstName\"], # The bill's main sponsor's name\n",
    "            \"sponsor_lastname\": bill_metadata[\"bill\"][\"sponsors\"][0][\"lastName\"], # The bill's main sponsor's surname\n",
    "            \"sponsor_state\": bill_metadata[\"bill\"][\"sponsors\"][0][\"state\"], # The bill's main sponsor's State of election\n",
    "            \"sponsor_party\": bill_metadata[\"bill\"][\"sponsors\"][0][\"party\"] # The bill's main sponsor's party belonging\n",
    "            \n",
    "            # The reason why I get metadata for the first sponsor - i.e., the main sponsor - only, and not of all the rest of\n",
    "            # the co-sponsors, is that I am substantively interested in the legislation introduced by a certain party in a given\n",
    "            # Congress branch, as I deem it to be the closest to what the party wants to approve, and thus to the latter's\n",
    "            # ideology regarding either the economy, or socio-cultural issues. Co-sponsors are usually not responsible of the\n",
    "            # legislative proposal and process, so it would not make sense to account for them in in my analysis.\n",
    "        }\n",
    "    \n",
    "    # If the metadata does not exist, the \"except\" clause is activated\n",
    "    except:\n",
    "        \n",
    "        # I first print an error message\n",
    "        print(f\"Error retrieving metadata for Bill number {bill_number} of the {congress_number}th {bill_type_message}.\")\n",
    "        \n",
    "        # The computer writes the bill numbers, congress numbers, and bill types of all the documents that did not get fetched\n",
    "        # into a .JSON lines file, which I can eventually inspect to second-check what happened\n",
    "        with open(diagnostics_path, mode = \"a\") as a:\n",
    "            diagnostic = {\n",
    "                \"bill_number\": bill_number,\n",
    "                \"congress_number\": congress_number,\n",
    "                \"file_type\": bill_type\n",
    "            }\n",
    "            \n",
    "            json.dump(diagnostic, a)\n",
    "            a.write(\"/n\")\n",
    "            return None\n",
    "\n",
    "    # I instruct the computer to take a 4 seconds break to avoid overshooting the limit of hourly requests.\n",
    "    time.sleep(rate_limit_delay)\n",
    "        \n",
    "    # The function returns a dictionary with all the required metadata\n",
    "    return metadata"
   ]
  },
  {
   "cell_type": "code",
   "execution_count": 10,
   "id": "3d1600e2",
   "metadata": {},
   "outputs": [
    {
     "name": "stdout",
     "output_type": "stream",
     "text": [
      "Catching rogue metadata for bill number 1 out of 76...\n",
      "Catching rogue metadata for bill number 2 out of 76...\n",
      "Catching rogue metadata for bill number 3 out of 76...\n",
      "Catching rogue metadata for bill number 4 out of 76...\n",
      "Catching rogue metadata for bill number 5 out of 76...\n",
      "Catching rogue metadata for bill number 6 out of 76...\n",
      "Catching rogue metadata for bill number 7 out of 76...\n",
      "Catching rogue metadata for bill number 8 out of 76...\n",
      "Catching rogue metadata for bill number 9 out of 76...\n",
      "Catching rogue metadata for bill number 10 out of 76...\n",
      "Catching rogue metadata for bill number 11 out of 76...\n",
      "Catching rogue metadata for bill number 12 out of 76...\n",
      "Catching rogue metadata for bill number 13 out of 76...\n",
      "Catching rogue metadata for bill number 14 out of 76...\n",
      "Catching rogue metadata for bill number 15 out of 76...\n",
      "Catching rogue metadata for bill number 16 out of 76...\n",
      "Catching rogue metadata for bill number 17 out of 76...\n",
      "Catching rogue metadata for bill number 18 out of 76...\n",
      "Catching rogue metadata for bill number 19 out of 76...\n",
      "Catching rogue metadata for bill number 20 out of 76...\n",
      "Catching rogue metadata for bill number 21 out of 76...\n",
      "Catching rogue metadata for bill number 22 out of 76...\n",
      "Catching rogue metadata for bill number 23 out of 76...\n",
      "Catching rogue metadata for bill number 24 out of 76...\n",
      "Catching rogue metadata for bill number 25 out of 76...\n",
      "Catching rogue metadata for bill number 26 out of 76...\n",
      "Catching rogue metadata for bill number 27 out of 76...\n",
      "Catching rogue metadata for bill number 28 out of 76...\n",
      "Catching rogue metadata for bill number 29 out of 76...\n",
      "Catching rogue metadata for bill number 30 out of 76...\n",
      "Catching rogue metadata for bill number 31 out of 76...\n",
      "Catching rogue metadata for bill number 32 out of 76...\n",
      "Catching rogue metadata for bill number 33 out of 76...\n",
      "Catching rogue metadata for bill number 34 out of 76...\n",
      "Catching rogue metadata for bill number 35 out of 76...\n",
      "Catching rogue metadata for bill number 36 out of 76...\n",
      "Catching rogue metadata for bill number 37 out of 76...\n",
      "Catching rogue metadata for bill number 38 out of 76...\n",
      "Catching rogue metadata for bill number 39 out of 76...\n",
      "Catching rogue metadata for bill number 40 out of 76...\n",
      "Catching rogue metadata for bill number 41 out of 76...\n",
      "Catching rogue metadata for bill number 42 out of 76...\n",
      "Catching rogue metadata for bill number 43 out of 76...\n",
      "Catching rogue metadata for bill number 44 out of 76...\n",
      "Catching rogue metadata for bill number 45 out of 76...\n",
      "Catching rogue metadata for bill number 46 out of 76...\n",
      "Catching rogue metadata for bill number 47 out of 76...\n",
      "Catching rogue metadata for bill number 48 out of 76...\n",
      "Catching rogue metadata for bill number 49 out of 76...\n",
      "Catching rogue metadata for bill number 50 out of 76...\n",
      "Catching rogue metadata for bill number 51 out of 76...\n",
      "Catching rogue metadata for bill number 52 out of 76...\n",
      "Catching rogue metadata for bill number 53 out of 76...\n",
      "Catching rogue metadata for bill number 54 out of 76...\n",
      "Catching rogue metadata for bill number 55 out of 76...\n",
      "Catching rogue metadata for bill number 56 out of 76...\n",
      "Catching rogue metadata for bill number 57 out of 76...\n",
      "Catching rogue metadata for bill number 58 out of 76...\n",
      "Catching rogue metadata for bill number 59 out of 76...\n",
      "Catching rogue metadata for bill number 60 out of 76...\n",
      "Catching rogue metadata for bill number 61 out of 76...\n",
      "Catching rogue metadata for bill number 62 out of 76...\n",
      "Catching rogue metadata for bill number 63 out of 76...\n",
      "Catching rogue metadata for bill number 64 out of 76...\n",
      "Catching rogue metadata for bill number 65 out of 76...\n",
      "Catching rogue metadata for bill number 66 out of 76...\n",
      "Catching rogue metadata for bill number 67 out of 76...\n",
      "Catching rogue metadata for bill number 68 out of 76...\n",
      "Catching rogue metadata for bill number 69 out of 76...\n",
      "Catching rogue metadata for bill number 70 out of 76...\n",
      "Catching rogue metadata for bill number 71 out of 76...\n",
      "Catching rogue metadata for bill number 72 out of 76...\n",
      "Catching rogue metadata for bill number 73 out of 76...\n",
      "Catching rogue metadata for bill number 74 out of 76...\n",
      "Catching rogue metadata for bill number 75 out of 76...\n",
      "Catching rogue metadata for bill number 76 out of 76...\n",
      "\n",
      "I finally caught all those pesky rogue bills!\n"
     ]
    }
   ],
   "source": [
    "total_number = len(bill_numbers) # Defining the total number of bills to be parsed to keep the user updated during the loop\n",
    "file_path = \"bill_metadata_rogue.jsonl\" # Defining the path to the .JSON lines output file for the rogue metadata\n",
    "bill_counter = 0 # Defining a counter which will keep the user updated during the loop.\n",
    "\n",
    "# I write the output of each single request into a .JSON lines file, to avoid losing data if something goes wrong.\n",
    "with open(file_path, mode = \"w\") as w:\n",
    "    \n",
    "    # I loop over all congress and bill numbers in the bill_numbers_house list I created\n",
    "    for congress, bill_number, branch in zip(congress_numbers, bill_numbers, bill_type):\n",
    "        \n",
    "        bill_counter += 1 # I update the bill counter\n",
    "        \n",
    "        # I do not need to clear the output to update the counter, because the files to retrieve are only 76!\n",
    "        \n",
    "        print(f\"Catching rogue metadata for bill number {bill_counter} out of {total_number}...\")\n",
    "        \n",
    "        # I get the output of my custom function into a temporary dictionary\n",
    "        metadata = get_bill_metadata(congress, branch, bill_number, \"json\")\n",
    "        \n",
    "        # If the \"metadata\" object is not empty, I write it into the .JSON lines output file.\n",
    "        if metadata is not None:\n",
    "            json.dump(metadata, w)\n",
    "            w.write('\\n')\n",
    "            \n",
    "        # Remember that if the custom function returns \"None\", there was an error, but I already saved the data that is\n",
    "        # necessary to second-check what happened.\n",
    "\n",
    "print(\"\\nI finally caught all those pesky rogue bills!\")"
   ]
  },
  {
   "cell_type": "markdown",
   "id": "1ce7f585",
   "metadata": {},
   "source": [
    "## 3. Wrapping Up\n",
    "\n",
    "The `bill_metadata_rogue.jsonl` file contains all the bills I was missing. The long data collection grind is over at last! When automatic content labelling with SML will be finished, I will combine this file with the `bill_metadata_house.jsonl` and `bill_metadata_senate.jsonl` documents into a single `DataFrame` object, saving it as a `.csv` file as a backup. Then, I will merge the metadata with the bill summaries and predicted labels to attain my final dataset."
   ]
  }
 ],
 "metadata": {
  "kernelspec": {
   "display_name": "Python 3 (ipykernel)",
   "language": "python",
   "name": "python3"
  },
  "language_info": {
   "codemirror_mode": {
    "name": "ipython",
    "version": 3
   },
   "file_extension": ".py",
   "mimetype": "text/x-python",
   "name": "python",
   "nbconvert_exporter": "python",
   "pygments_lexer": "ipython3",
   "version": "3.9.13"
  }
 },
 "nbformat": 4,
 "nbformat_minor": 5
}
