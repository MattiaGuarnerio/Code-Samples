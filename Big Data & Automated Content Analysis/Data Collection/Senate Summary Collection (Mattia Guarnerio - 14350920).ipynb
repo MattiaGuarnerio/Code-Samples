{
 "cells": [
  {
   "cell_type": "markdown",
   "id": "7d2a012a",
   "metadata": {},
   "source": [
    "# White Noise: Senate Summary Collection\n",
    "\n",
    "## 1. Explaining the problem\n",
    "\n",
    "Since the data gathering process takes a lot of time, I gather the Senate Summary Data in this separate script, which I will let run on Azure ML. This will allow me to optimise my working schedule, and help me avoiding connection issues. As I have saved the bill numbers for the House of Representatives and the Senate in the `bill_numbers_house.json` and `bill_numbers_senate.json` files, I will be able to make my requests without getting the unique bill identifiers again."
   ]
  },
  {
   "cell_type": "code",
   "execution_count": 1,
   "id": "eefe8b79",
   "metadata": {
    "gather": {
     "logged": 1685013133207
    }
   },
   "outputs": [],
   "source": [
    "# Packages for handling APIs and .JSON files\n",
    "import os\n",
    "import requests\n",
    "import json\n",
    "\n",
    "# Packages for exercising the virtue of patience and monitoring loop completion\n",
    "import time\n",
    "from IPython.display import clear_output"
   ]
  },
  {
   "cell_type": "markdown",
   "id": "e52fe8e2",
   "metadata": {},
   "source": [
    "## 2. Getting all the Summary Data"
   ]
  },
  {
   "cell_type": "code",
   "execution_count": 2,
   "id": "a29172d9",
   "metadata": {
    "gather": {
     "logged": 1685013133553
    }
   },
   "outputs": [],
   "source": [
    "# Loading bill numbers for the Senate\n",
    "with open(\"bill_numbers_senate.json\", \"r\") as r:\n",
    "    bill_numbers_senate = json.load(r)\n",
    "    \n",
    "# Setting the API key as an environment variable\n",
    "os.environ[\"api_key\"] = \"I used to be an adventurer like you until I took an arrow to the knee.\"\n",
    "\n",
    "# Setting the base URL\n",
    "base_url = 'https://api.congress.gov'\n",
    "\n",
    "# Setting a delay of 4 seconds between API requests\n",
    "rate_limit_delay = 4"
   ]
  },
  {
   "cell_type": "code",
   "execution_count": 3,
   "id": "ff09e429",
   "metadata": {
    "gather": {
     "logged": 1685013133913
    }
   },
   "outputs": [],
   "source": [
    "def get_bill_summaries(congress_number, bill_type, bill_number, file_type):\n",
    "    \n",
    "    # I define the starting endpoint, which employs the function's arguments instead of hard-coding values.\n",
    "    endpoint = base_url + f\"/v3/bill/{congress_number}/{bill_type}/{bill_number}/summaries?format={file_type}&api_key={os.environ.get('api_key')}\"\n",
    "    \n",
    "    # I define the file path for the .JSON lines diagnostics file, which will contain all bill numbers and congress numbers\n",
    "    # of all the summaries that could not be fetched\n",
    "    diagnostics_path = \"summary_diagnostics.jsonl\"\n",
    "    \n",
    "    print(\"Contacting the congress.gov API...\")\n",
    "    response = requests.get(endpoint)\n",
    "        \n",
    "    # I design a new \"bill_type_message\" string variable, which helps me to pretty print useful information for diagnostics.\n",
    "            \n",
    "    if bill_type == \"hr\":\n",
    "        bill_type_message = \"House of Representatives\"\n",
    "                \n",
    "    elif bill_type == \"s\":\n",
    "        bill_type_message = \"Senate\"\n",
    "\n",
    "    # In the API documentation at https://api.congress.gov, it is stated that if the response's status code is not 200,\n",
    "    # then there was an error in retrieving data. However, in this case I implement the check directly when I try to save\n",
    "    # the data into the \"summary\" object. The reason is simple: even when the bill number is meaningless - i.e., 42424242 -\n",
    "    # the endpoint still returns a .JSON response, which does not contain the \"summaries\" key. Thus, data regarding the \n",
    "    # API request in itself - i.e., the congress and bill number, and the bill type - is always present, whereas the summary\n",
    "    # text cannot be saved and the command yields a KeyError.\n",
    "        \n",
    "    # I do not need to print a message that keeps the user updated on the pagination script's status, since I prefer to do so\n",
    "    # by printing information on loop completion.   \n",
    "    \n",
    "    # I try to save the data I need for my analysis in the \"summary\" dictionary\n",
    "    try:\n",
    "    # I save the .JSON response into a local variable - i.e., a dictionary\n",
    "        summary_data = response.json()\n",
    "        \n",
    "        summary = {\n",
    "            \"congress\": summary_data[\"request\"][\"congress\"], # The congress number\n",
    "            \"bill_number\": summary_data[\"request\"][\"billNumber\"], # The bill number\n",
    "            \"bill_type\": summary_data[\"request\"][\"billType\"], # The bill type\n",
    "            \"text\": summary_data[\"summaries\"][0][\"text\"] # The first existing summary\n",
    "            \n",
    "            # The reason why I get the first existing summary is that I am substantively interested in the legislation first\n",
    "            # introduced by a certain party in a given Congress branch, as I deem it to be the closest to what the party wants\n",
    "            # to approve, and thus to the latter's ideology regarding either the economy, or socio-cultural issues. In other\n",
    "            # words, I do not want the text to be confounded by bipartisan negotiations.\n",
    "        }\n",
    "    \n",
    "    # If the summary does not exist, the \"except\" clause is activated\n",
    "    except:\n",
    "        \n",
    "        # I first print an error message\n",
    "        print(f\"Error retrieving data for Bill number {bill_number} of the {congress_number}th {bill_type_message}.\")\n",
    "\n",
    "        # The computer writes the bill numbers, congress numbers, and bill types of all the documents that did not get fetched\n",
    "        # into a .JSON lines file, which I can eventually inspect to second-check what happened\n",
    "        with open(diagnostics_path, mode = \"a\") as w:\n",
    "            diagnostic = {\n",
    "                \"bill_number\": bill_number,\n",
    "                \"congress_number\": congress_number,\n",
    "                \"file_type\": bill_type\n",
    "            }\n",
    "            \n",
    "            json.dump(diagnostic, w)\n",
    "            w.write(\"/n\")\n",
    "            return None\n",
    "\n",
    "    # I instruct the computer to take a 4 seconds break to avoid overshooting the limit of hourly requests.\n",
    "    time.sleep(rate_limit_delay)\n",
    "        \n",
    "    # The function returns a dictionary with all bill summaries from either the US House of Representative, or Senate, with\n",
    "    # the required information under the defined keys.\n",
    "    return summary"
   ]
  },
  {
   "cell_type": "code",
   "execution_count": 4,
   "id": "6f8c35d5",
   "metadata": {
    "gather": {
     "logged": 1685051461455
    }
   },
   "outputs": [
    {
     "name": "stdout",
     "output_type": "stream",
     "text": [
      "Getting summary number 7864 out of 7864\n",
      "Contacting the congress.gov API...\n"
     ]
    }
   ],
   "source": [
    "senate_number = 7864 # Defining the total number of bills to be parsed to keep the user updated during the loop\n",
    "file_path = \"bill_summaries_senate.jsonl\" # Defining the path to the .JSON lines output file for the Senate summaries\n",
    "bill_counter = 0 # Defining a counter which will keep the user updated during the loop.\n",
    "\n",
    "# I write the output of each single request into a .JSON lines file, to avoid losing data if something goes wrong.\n",
    "with open(file_path, mode = \"w\") as w:\n",
    "    \n",
    "    # I loop over all congress and bill numbers in the bill_numbers_house list I created\n",
    "    for congress, bill_numbers in bill_numbers_senate.items():\n",
    "        for bill_number in bill_numbers:\n",
    "\n",
    "            bill_counter += 1 # I update the bill counter\n",
    "            clear_output() # I clear the output, to update the counter\n",
    "            \n",
    "            print(f\"Getting summary number {bill_counter} out of {senate_number}\")\n",
    "        \n",
    "            # I get the output of my custom function into a temporary dictionary\n",
    "            summary = get_bill_summaries(congress, \"s\", bill_number, \"json\")\n",
    "            \n",
    "            # If the \"summary\" object is not empty, I write it into the .JSON lines output file.\n",
    "            \n",
    "            if summary is not None:\n",
    "                json.dump(summary, w)\n",
    "                w.write('\\n')\n",
    "            \n",
    "            # Remember that if the custom function returns \"None\", there was an error, but I already saved the data that is\n",
    "            # necessary to second-check what happened."
   ]
  },
  {
   "cell_type": "markdown",
   "id": "fdc2112f",
   "metadata": {},
   "source": [
    "## 3. Wrapping Up\n",
    "\n",
    "On a final note, one may observe that the `/summaries/{congress}/{billType}` API endpoint could have saved a lot of time, since I could have paginated over the .JSON responses, getting multiple bills per request, instead of fetching one bill per request. However, the endpoint does not work, and this forces me to go for the long and hard way. The reason why I used the `json`, and not the `jsonlines` library, is that the latter appears to be unavailable on Microsoft Azure ML, the environment on which I ran the script. There is no diagnostics file, and all data was retrieved! I now turn to data cleaning."
   ]
  }
 ],
 "metadata": {
  "kernelspec": {
   "display_name": "Python 3 (ipykernel)",
   "language": "python",
   "name": "python3"
  },
  "language_info": {
   "codemirror_mode": {
    "name": "ipython",
    "version": 3
   },
   "file_extension": ".py",
   "mimetype": "text/x-python",
   "name": "python",
   "nbconvert_exporter": "python",
   "pygments_lexer": "ipython3",
   "version": "3.9.13"
  },
  "microsoft": {
   "ms_spell_check": {
    "ms_spell_check_language": "en"
   }
  },
  "nteract": {
   "version": "nteract-front-end@1.0.0"
  }
 },
 "nbformat": 4,
 "nbformat_minor": 5
}
